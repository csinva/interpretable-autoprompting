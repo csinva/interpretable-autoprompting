{
 "cells": [
  {
   "cell_type": "code",
   "execution_count": 1,
   "metadata": {},
   "outputs": [],
   "source": [
    "import numpy as np\n",
    "import torch\n",
    "from torch import nn\n",
    "import matplotlib.pyplot as plt\n",
    "from copy import deepcopy\n",
    "import pandas as pd\n",
    "from tqdm import tqdm\n",
    "from collections import defaultdict\n",
    "from transformers import AutoTokenizer\n",
    "import pandas as pd\n",
    "from datasets import Dataset\n",
    "import data\n",
    "from os.path import join as oj\n",
    "import pickle as pkl\n",
    "import utils\n",
    "\n",
    "# load unembedding layer\n",
    "checkpoint = \"EleutherAI/gpt-neo-2.7B\"\n",
    "tokenizer = AutoTokenizer.from_pretrained(checkpoint)"
   ]
  },
  {
   "cell_type": "code",
   "execution_count": 6,
   "metadata": {},
   "outputs": [
    {
     "ename": "FileNotFoundError",
     "evalue": "[Errno 2] No such file or directory: '/home/chansingh/mntv1/sweep0/Sep_02_21_24_zjpbgvrtlohx/results_final.pkl'",
     "output_type": "error",
     "traceback": [
      "\u001b[0;31m---------------------------------------------------------------------------\u001b[0m",
      "\u001b[0;31mFileNotFoundError\u001b[0m                         Traceback (most recent call last)",
      "\u001b[1;32m/home/chansingh/auto-prompt-engineering/02_analyze_suffix.ipynb Cell 2\u001b[0m in \u001b[0;36m<cell line: 2>\u001b[0;34m()\u001b[0m\n\u001b[1;32m      <a href='vscode-notebook-cell://ssh-remote%2B10.8.112.209/home/chansingh/auto-prompt-engineering/02_analyze_suffix.ipynb#W1sdnNjb2RlLXJlbW90ZQ%3D%3D?line=0'>1</a>\u001b[0m results_dir \u001b[39m=\u001b[39m \u001b[39m'\u001b[39m\u001b[39m/home/chansingh/mntv1/sweep0/Sep_02_21_24_zjpbgvrtlohx\u001b[39m\u001b[39m'\u001b[39m\n\u001b[0;32m----> <a href='vscode-notebook-cell://ssh-remote%2B10.8.112.209/home/chansingh/auto-prompt-engineering/02_analyze_suffix.ipynb#W1sdnNjb2RlLXJlbW90ZQ%3D%3D?line=1'>2</a>\u001b[0m r \u001b[39m=\u001b[39m pkl\u001b[39m.\u001b[39mload(\u001b[39mopen\u001b[39;49m(oj(results_dir, \u001b[39m'\u001b[39;49m\u001b[39mresults_final.pkl\u001b[39;49m\u001b[39m'\u001b[39;49m), \u001b[39m'\u001b[39;49m\u001b[39mrb\u001b[39;49m\u001b[39m'\u001b[39;49m))\n",
      "\u001b[0;31mFileNotFoundError\u001b[0m: [Errno 2] No such file or directory: '/home/chansingh/mntv1/sweep0/Sep_02_21_24_zjpbgvrtlohx/results_final.pkl'"
     ]
    }
   ],
   "source": [
    "results_dir = '/home/chansingh/mntv1/sweep0/Sep_02_21_24_zjpbgvrtlohx'\n",
    "r = pkl.load(open(oj(results_dir, 'results_final.pkl'), 'rb'))"
   ]
  },
  {
   "cell_type": "code",
   "execution_count": 4,
   "metadata": {},
   "outputs": [
    {
     "data": {
      "text/html": [
       "<div>\n",
       "<style scoped>\n",
       "    .dataframe tbody tr th:only-of-type {\n",
       "        vertical-align: middle;\n",
       "    }\n",
       "\n",
       "    .dataframe tbody tr th {\n",
       "        vertical-align: top;\n",
       "    }\n",
       "\n",
       "    .dataframe thead th {\n",
       "        text-align: right;\n",
       "    }\n",
       "</style>\n",
       "<table border=\"1\" class=\"dataframe\">\n",
       "  <thead>\n",
       "    <tr style=\"text-align: right;\">\n",
       "      <th></th>\n",
       "      <th>max_digit</th>\n",
       "      <th>n_shots</th>\n",
       "      <th>task_name</th>\n",
       "      <th>checkpoint</th>\n",
       "      <th>prefix_or_suffix</th>\n",
       "      <th>max_num_tokens</th>\n",
       "      <th>lr_prefix</th>\n",
       "      <th>beam_width_suffix</th>\n",
       "      <th>batch_size</th>\n",
       "      <th>seed</th>\n",
       "      <th>...</th>\n",
       "      <th>suffix_str_init</th>\n",
       "      <th>len_suffix_str_init</th>\n",
       "      <th>suffix_str_full</th>\n",
       "      <th>suffix_str_added</th>\n",
       "      <th>correct</th>\n",
       "      <th>num_model_queries</th>\n",
       "      <th>decoded_token</th>\n",
       "      <th>top_decoded_tokens_dict</th>\n",
       "      <th>final_answer_full</th>\n",
       "      <th>final_answer_added</th>\n",
       "    </tr>\n",
       "  </thead>\n",
       "  <tbody>\n",
       "    <tr>\n",
       "      <th>0</th>\n",
       "      <td>10</td>\n",
       "      <td>1</td>\n",
       "      <td>add_two</td>\n",
       "      <td>gpt2-medium</td>\n",
       "      <td>suffix</td>\n",
       "      <td>4</td>\n",
       "      <td>0.0001</td>\n",
       "      <td>5</td>\n",
       "      <td>100</td>\n",
       "      <td>1</td>\n",
       "      <td>...</td>\n",
       "      <td>To get the answer, take the two inputs and</td>\n",
       "      <td>42</td>\n",
       "      <td>To get the answer, take the two inputs and</td>\n",
       "      <td></td>\n",
       "      <td>False</td>\n",
       "      <td>1</td>\n",
       "      <td>multiply</td>\n",
       "      <td>{' multiply': 0.0, ' divide': -0.36162108, ' a...</td>\n",
       "      <td>To get the answer, take the two inputs and add</td>\n",
       "      <td>add</td>\n",
       "    </tr>\n",
       "  </tbody>\n",
       "</table>\n",
       "<p>1 rows × 23 columns</p>\n",
       "</div>"
      ],
      "text/plain": [
       "   max_digit  n_shots task_name   checkpoint prefix_or_suffix  max_num_tokens  \\\n",
       "0         10        1   add_two  gpt2-medium           suffix               4   \n",
       "\n",
       "   lr_prefix  beam_width_suffix  batch_size  seed  ...  \\\n",
       "0     0.0001                  5         100     1  ...   \n",
       "\n",
       "                              suffix_str_init len_suffix_str_init  \\\n",
       "0  To get the answer, take the two inputs and                  42   \n",
       "\n",
       "                              suffix_str_full suffix_str_added  correct  \\\n",
       "0  To get the answer, take the two inputs and                     False   \n",
       "\n",
       "  num_model_queries decoded_token  \\\n",
       "0                 1      multiply   \n",
       "\n",
       "                             top_decoded_tokens_dict  \\\n",
       "0  {' multiply': 0.0, ' divide': -0.36162108, ' a...   \n",
       "\n",
       "                                final_answer_full final_answer_added  \n",
       "0  To get the answer, take the two inputs and add                add  \n",
       "\n",
       "[1 rows x 23 columns]"
      ]
     },
     "execution_count": 4,
     "metadata": {},
     "output_type": "execute_result"
    }
   ],
   "source": [
    "pd.DataFrame.from_dict(r)"
   ]
  },
  {
   "cell_type": "markdown",
   "metadata": {},
   "source": [
    "# suffix example results"
   ]
  },
  {
   "cell_type": "markdown",
   "metadata": {},
   "source": [
    "'The relationship between the numbers in the question and the answer is:' -> '  \\n\\n          '"
   ]
  },
  {
   "cell_type": "markdown",
   "metadata": {},
   "source": [
    "'To get the answer, take the two inputs and multiply them. The answer is the product of the two numbers.<|endoftext|>Q: What is the difference between a ...'"
   ]
  }
 ],
 "metadata": {
  "kernelspec": {
   "display_name": "Python 3.8.10 64-bit",
   "language": "python",
   "name": "python3"
  },
  "language_info": {
   "codemirror_mode": {
    "name": "ipython",
    "version": 3
   },
   "file_extension": ".py",
   "mimetype": "text/x-python",
   "name": "python",
   "nbconvert_exporter": "python",
   "pygments_lexer": "ipython3",
   "version": "3.8.10"
  },
  "orig_nbformat": 4,
  "vscode": {
   "interpreter": {
    "hash": "31f2aee4e71d21fbe5cf8b01ff0e069b9275f58929596ceb00d14d90e3e16cd6"
   }
  }
 },
 "nbformat": 4,
 "nbformat_minor": 2
}
