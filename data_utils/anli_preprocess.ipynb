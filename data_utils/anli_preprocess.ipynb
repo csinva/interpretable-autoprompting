{
 "cells": [
  {
   "cell_type": "markdown",
   "metadata": {},
   "source": [
    "Notebook for preprocessing anli datasets."
   ]
  },
  {
   "cell_type": "code",
   "execution_count": 2,
   "metadata": {},
   "outputs": [],
   "source": [
    "import os\n",
    "import json\n",
    "from os.path import join as oj\n",
    "import pandas as pd\n",
    "from tqdm import tqdm\n",
    "from collections import defaultdict"
   ]
  },
  {
   "cell_type": "markdown",
   "metadata": {},
   "source": [
    "Download the raw NLI data"
   ]
  },
  {
   "cell_type": "code",
   "execution_count": 1,
   "metadata": {},
   "outputs": [
    {
     "name": "stdout",
     "output_type": "stream",
     "text": [
      "fatal: destination path 'natural-instructions' already exists and is not an empty directory.\n"
     ]
    }
   ],
   "source": [
    "!git clone https://github.com/allenai/natural-instructions.git"
   ]
  },
  {
   "cell_type": "markdown",
   "metadata": {},
   "source": [
    "List of tasks is available here: https://github.com/allenai/natural-instructions/blob/master/tasks/README.md"
   ]
  },
  {
   "cell_type": "markdown",
   "metadata": {},
   "source": [
    "**Choose some tasks**\n",
    "- The ideal task for inverting has a description that isn't something generic like \"Answer the true or false question.\"\n",
    "- Example of nice tasks\n",
    "  - Given a country, return it's currency\n",
    "  - Given an item, check if it is edible or not\n",
    "- Constraints\n",
    "  - The task description (or atleast its keyword) should not be present in the examples (e.g. this is the case for `task109_smsspamcollection_spamsmsdetection`).\n",
    "  - If they are, then rename the labels in the output."
   ]
  },
  {
   "cell_type": "code",
   "execution_count": 7,
   "metadata": {},
   "outputs": [
    {
     "name": "stderr",
     "output_type": "stream",
     "text": [
      " 37%|███▋      | 7/19 [00:00<00:00, 69.60it/s]"
     ]
    },
    {
     "name": "stdout",
     "output_type": "stream",
     "text": [
      "task1146_country_capital \n",
      "In this task, you are given a country name and you need to return the capital city of the given country\n",
      "\n",
      "task1147_country_currency \n",
      "You are given a country name and you need to return the currency of the given country.\n",
      "\n",
      "task1321_country_continent \n",
      "In this task, you are given a country name and you need to return the continent to which the country belongs.\n",
      "\n",
      "task1149_item_check_edible \n",
      "In this task, you are given an item and you need to check whether it is edible or not, return 1 if it is edible, else return 2.\n",
      "\n",
      "task429_senteval_tense \n",
      "In this task you are given a sentence. You must judge whether the main verb of the sentence is in present or past tense. Label the instances as \"Present\" or \"Past\" based on your judgment. If there is no verb in the given text, answer \"Present\".\n",
      "\n",
      "task430_senteval_subject_count \n",
      "In this task you are given a sentence. You must judge whether subject of the main clause is singular or plural. Label the instances as \"Singular\" or \"Plural\" based on your judgment.\n",
      "\n",
      "task609_sbic_potentially_offense_binary_classification \n",
      "In this task, you are given a text from a social media post. Your task is to classify the given post into two categories: 1) yes if the given post is potentially offensive to anyone (i.e., a subset of people, any particular person, etc.), 2) no, otherwise. Note that potentially offensive posts can contain sexual, racial, religious biased or offensive language. Warning: the examples and instances may contain offensive language.\n",
      "\n",
      "task063_first_i_elements \n",
      "In this task, you are given inputs i and A, where i is an integer and A is a list. You need to output the first i elements of A, starting with the 1st element in A. i will always have a value less than the length of A\n",
      "\n",
      "task064_all_elements_except_first_i \n",
      "In this task, you are given inputs i and A, where i is an integer and A is a list. You need to list all the elements of A after the first i elements. i will always have a value less than the length of A.\n",
      "\n",
      "task088_identify_typo_verification \n",
      "The given sentence contains a typo which could be one of the following four types: (1) swapped letters of a word e.g. 'niec' is a typo of the word 'nice'. (2) missing letter in a word e.g. 'nic' is a typo of the word 'nice'. (3) extra letter in a word e.g. 'nicce' is a typo of the word 'nice'. (4) replaced letter in a word e.g 'nicr' is a typo of the word 'nice'. You need to identify the typo in the given sentence. To do this, answer with the word containing the typo.\n",
      "\n",
      "task092_check_prime_classification \n",
      "In this task, you need to output 'Yes' if the given number is a prime number otherwise output 'No'. A 'prime number' is a a whole number above 1 that can not be made by multiplying other whole numbers.\n",
      "\n",
      "task107_splash_question_to_sql \n",
      "In this task you are expected to write an SQL query that will return the data asked for in the question. An SQL query works by selecting data from a table where certain conditions apply. A table contains columns where every row in that table must have a value for each column. Every table has a primary key that uniquely identifies each row, usually an id. To choose which columns are returned you specify that after the \"SELECT\" statement. Next, you use a \"FROM\" statement to specify what tables you want to select the data from. When you specify a table you can rename it with the \"AS\" statement. You can reference that table by whatever name follows the \"AS\" statement. If you want to select data from multiple tables you need to use the \"JOIN\" statement. This will join the tables together by pairing a row in one table with every row in the other table (Cartesian Product). To limit the number of rows returned you should use the \"ON\" statement. This will only return rows where the condition specified after the statement is true, this is usually an equals operator with primary keys. You can also use the \"WHERE\" statement to specify that only rows with column values statisfying a certain condition, should be returned. The \"GROUP BY\" statement will group rows together that have equal column values for whatever columns follows the statement. The \"HAVING\" statement will return groups that statisfy whatever condition follows the statement. Any column(s) being returned from grouped rows must either be an aggregate function, (AVG, MAX, COUNT, SUM, ...) of a column, or the column(s) that the data was grouped by. To sort the returned data you can use the \"ORDER BY\" command which will order the data by whatever aggregate function or column follows the statement. The \"DESC\" statement will sort in descending order and the \"ASC\" statement will sort in ascending order. Finally, you can use the \"LIMIT\" statement to return a certain number of rows. When \"*\" is used in an SQL statement every column is returned. For example, SELECT * FROM table WHERE attribute = 1, will select every column from rows with the attribute column equal to 1.\n",
      "\n",
      "task114_is_the_given_word_longest \n",
      "In this task, you need to answer 'Yes' if the given word is the longest word (in terms of number of letters) in the given sentence, else answer 'No'. Note that there could be multiple longest words in a sentence as they can have the same length that is the largest across all words in that sentence.\n",
      "\n",
      "task123_conala_sort_dictionary \n",
      "In this task you will be given a list of dictionaries. A dictionary is a set of key-value pairs, where each key is unique and has a value associated with that key. You should sort the list of dictionaries from smallest to largest by their 'first' key. If there is two dictionaries with the same 'first' value then sort them by their 'second' key. Negative numbers should come before positive numbers.\n",
      "\n"
     ]
    },
    {
     "name": "stderr",
     "output_type": "stream",
     "text": [
      "100%|██████████| 19/19 [00:00<00:00, 39.83it/s]"
     ]
    },
    {
     "name": "stdout",
     "output_type": "stream",
     "text": [
      "task183_rhyme_generation \n",
      "Given an input word generate a word that rhymes exactly with the input word. If not rhyme is found return \"No\"\n",
      "\n",
      "task1191_food_veg_nonveg \n",
      "In this task, you are given the name of an Indian food dish. You need to return whether the dish is \"non vegetarian\" or \"vegetarian\". Do not answer with any words other than those two.\n",
      "\n",
      "task1336_peixian_equity_evaluation_corpus_gender_classifier \n",
      "You will be given a sentence containing a pronoun/person name and an emotion. From these implicit parameters, the main goal is to find the gender of the person (male / female).\n",
      "\n",
      "task1509_evalution_antonyms \n",
      "In this task, you are given an adjective, and your job is to generate its antonym. An antonym of a word is a word opposite in meaning to it.\n",
      "\n",
      "task1506_celebrity_minimal_dob_span \n",
      "Given a short bio of a person, find the minimal text span containing the date of birth of the person. The output must be the minimal text span that contains the birth date, month and year as long as they are present. For instance, given a bio like 'I was born on 27th of Decemeber 1990, and graduated high school on 23rd October 2008.' the output should be '27th of December 1990'.\n",
      "\n"
     ]
    },
    {
     "name": "stderr",
     "output_type": "stream",
     "text": [
      "\n"
     ]
    }
   ],
   "source": [
    "task_names = [\n",
    "    # nicest tasks\n",
    "    'task1146_country_capital',\n",
    "    'task1147_country_currency',\n",
    "    'task1321_country_continent', # Given a country name, return the continent name of the given country\n",
    "    'task1149_item_check_edible',\n",
    "    'task429_senteval_tense',\n",
    "    'task430_senteval_subject_count',\n",
    "    'task609_sbic_potentially_offense_binary_classification',\n",
    "    'task063_first_i_elements',\t# Given a list return the first i elements of the list\n",
    "    'task064_all_elements_except_first_i', # Given a list return all the elements of the list except the first i elements\t\n",
    "    'task088_identify_typo_verification', # Identify the typo in a sentence\n",
    "    'task092_check_prime_classification', # Identify whether the number is prime or not.\t\n",
    "    'task107_splash_question_to_sql', # Generate an SQL statement from a question asking for certain data.\n",
    "    'task114_is_the_given_word_longest', # Identify whether the word is the longest in the sentence.\n",
    "    'task123_conala_sort_dictionary', # Sort a list of dictionaries based on a given key.\t\n",
    "    'task183_rhyme_generation', # Given an input word, generate a list of words that rhyme exactly with the input.\t\n",
    "    'task1191_food_veg_nonveg', # Given the name of an indian dish, classify it as non vegetarian or a vegetarian dish\t\n",
    "    'task1336_peixian_equity_evaluation_corpus_gender_classifier', # Classifying gender of speaker of sentence\t   \n",
    "    'task1509_evalution_antonyms', # Given a word generate its antonym\t\n",
    "\n",
    "    # a little repetitive\n",
    "\n",
    "\n",
    "    # artificially easy (answers give some hint of the keyword)\n",
    "    'task1506_celebrity_minimal_dob_span', # Find the date of birth of a celebrity given a sentence bio\t\n",
    "]\n",
    "task_defs = {}\n",
    "metadata = defaultdict(list)\n",
    "nli_tasks_dir = '/home/chansingh/interpretable-autoprompting/data_utils/natural-instructions/tasks'\n",
    "out_dir = '/home/chansingh/interpretable-autoprompting/data_utils/anli_processed'\n",
    "os.makedirs(out_dir, exist_ok=True)\n",
    "for task_name in task_names:\n",
    "    task_json_file = oj(nli_tasks_dir, task_name + '.json')\n",
    "    task = json.load(open(task_json_file, 'r'))\n",
    "    task_def = task['Definition'][0]\n",
    "    df = pd.DataFrame.from_dict(task['Instances'])\n",
    "    df = df.drop(columns='id')\n",
    "    df['output'] = df['output'].apply(lambda x: x[0])\n",
    "    df['text'] = 'Input: ' + df['input'] + ' Answer: ' + df['output'] + '\\n'\n",
    "    print(task_name, '\\n' + task_def + '\\n')\n",
    "    task_defs[task_name] = task_def\n",
    "    df.to_csv(oj(out_dir, task_name + '.csv'), index=False)\n",
    "json.dump(task_defs, open(oj(out_dir, 'task_defs.json'), 'w'), indent=4)"
   ]
  },
  {
   "cell_type": "code",
   "execution_count": 7,
   "metadata": {},
   "outputs": [
    {
     "data": {
      "text/plain": [
       "0        No\n",
       "1       Yes\n",
       "2        No\n",
       "3       Yes\n",
       "4        No\n",
       "       ... \n",
       "2941    Yes\n",
       "2942     No\n",
       "2943    Yes\n",
       "2944     No\n",
       "2945    Yes\n",
       "Name: output, Length: 2946, dtype: object"
      ]
     },
     "execution_count": 7,
     "metadata": {},
     "output_type": "execute_result"
    }
   ],
   "source": [
    "def check_text(s):\n",
    "    return isinstance(s, str) and len(s) > 0\n",
    "df['text'].apply(check_text).all()\n",
    "df['output'].apply(check_text)"
   ]
  },
  {
   "cell_type": "markdown",
   "metadata": {},
   "source": [
    "# metadata"
   ]
  },
  {
   "cell_type": "code",
   "execution_count": 11,
   "metadata": {},
   "outputs": [],
   "source": [
    "tabs = pd.read_html('https://github.com/allenai/natural-instructions/blob/master/tasks/README.md')\n",
    "tab = tabs[0]"
   ]
  },
  {
   "cell_type": "code",
   "execution_count": 22,
   "metadata": {},
   "outputs": [],
   "source": [
    "task_defs_brief = {}\n",
    "for task_name in task_names:\n",
    "    row = tab[tab.Name == task_name]\n",
    "    # print(row)\n",
    "    task_defs_brief[task_name] = row.Summary.values[0]\n",
    "json.dump(task_defs_brief, open(oj(out_dir, 'task_defs_brief.json'), 'w'), indent=4)"
   ]
  }
 ],
 "metadata": {
  "kernelspec": {
   "display_name": "Python 3.8.10 ('.autoprompt': venv)",
   "language": "python",
   "name": "python3"
  },
  "language_info": {
   "codemirror_mode": {
    "name": "ipython",
    "version": 3
   },
   "file_extension": ".py",
   "mimetype": "text/x-python",
   "name": "python",
   "nbconvert_exporter": "python",
   "pygments_lexer": "ipython3",
   "version": "3.8.10"
  },
  "orig_nbformat": 4,
  "vscode": {
   "interpreter": {
    "hash": "14b67e045ab4e623bbd9f77d231431043e985fd8f169f266aea842e78b0c1086"
   }
  }
 },
 "nbformat": 4,
 "nbformat_minor": 2
}
