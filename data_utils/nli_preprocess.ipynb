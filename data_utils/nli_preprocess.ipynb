{
 "cells": [
  {
   "cell_type": "markdown",
   "metadata": {},
   "source": [
    "## Notebook for generating inverse-nli datasets"
   ]
  },
  {
   "cell_type": "code",
   "execution_count": 1,
   "metadata": {},
   "outputs": [],
   "source": [
    "import os\n",
    "import json\n",
    "from os.path import join as oj\n",
    "import pandas as pd\n",
    "from tqdm import tqdm\n",
    "from collections import defaultdict"
   ]
  },
  {
   "cell_type": "markdown",
   "metadata": {},
   "source": [
    "Download the raw NLI data"
   ]
  },
  {
   "cell_type": "code",
   "execution_count": 1,
   "metadata": {},
   "outputs": [
    {
     "name": "stdout",
     "output_type": "stream",
     "text": [
      "fatal: destination path 'natural-instructions' already exists and is not an empty directory.\n"
     ]
    }
   ],
   "source": [
    "!git clone https://github.com/allenai/natural-instructions.git"
   ]
  },
  {
   "cell_type": "markdown",
   "metadata": {},
   "source": [
    "List of tasks is available here: https://github.com/allenai/natural-instructions/blob/master/tasks/README.md"
   ]
  },
  {
   "cell_type": "markdown",
   "metadata": {},
   "source": [
    "# Get some tasks to invert"
   ]
  },
  {
   "cell_type": "markdown",
   "metadata": {},
   "source": [
    "- :\tGiven a sentence, specify the tense of the main verb.\tLinguistic Probing\tNarrative\tEnglish\tEnglish\n",
    "\tGiven a sentence, specify singularity or plurality of the subject.\n",
    "- : Given a country, return it's capital city\tMisc.\tCountries\tEnglish\tEnglish\n",
    "- task1147_country_currency: Given a country, return it's currency\n",
    "- task1149_item_check_edible; Given an item, check if it is edible or not"
   ]
  },
  {
   "cell_type": "code",
   "execution_count": 10,
   "metadata": {},
   "outputs": [
    {
     "name": "stderr",
     "output_type": "stream",
     "text": [
      "100%|██████████| 6/6 [00:00<00:00, 35.57it/s]"
     ]
    },
    {
     "name": "stdout",
     "output_type": "stream",
     "text": [
      "task1146_country_capital In this task, you are given a country name and you need to return the capital city of the given country\n",
      "task1147_country_currency You are given a country name and you need to return the currency of the given country.\n",
      "task1149_item_check_edible In this task, you are given an item and you need to check whether it is edible or not, return 1 if it is edible, else return 2.\n",
      "task429_senteval_tense In this task you are given a sentence. You must judge whether the main verb of the sentence is in present or past tense. Label the instances as \"Present\" or \"Past\" based on your judgment. If there is no verb in the given text, answer \"Present\".\n",
      "task430_senteval_subject_count In this task you are given a sentence. You must judge whether subject of the main clause is singular or plural. Label the instances as \"Singular\" or \"Plural\" based on your judgment.\n",
      "task609_sbic_potentially_offense_binary_classification In this task, you are given a text from a social media post. Your task is to classify the given post into two categories: 1) yes if the given post is potentially offensive to anyone (i.e., a subset of people, any particular person, etc.), 2) no, otherwise. Note that potentially offensive posts can contain sexual, racial, religious biased or offensive language. Warning: the examples and instances may contain offensive language.\n"
     ]
    },
    {
     "name": "stderr",
     "output_type": "stream",
     "text": [
      "\n"
     ]
    }
   ],
   "source": [
    "task_names = [\n",
    "    'task1146_country_capital',\n",
    "    'task1147_country_currency',\n",
    "    'task1149_item_check_edible',\n",
    "    'task429_senteval_tense',\n",
    "    'task430_senteval_subject_count',\n",
    "    'task609_sbic_potentially_offense_binary_classification'\n",
    "]\n",
    "task_defs = {}\n",
    "metadata = defaultdict(list)\n",
    "nli_tasks_dir = '/home/chansingh/interpretable-autoprompting/data_utils/natural-instructions/tasks'\n",
    "out_dir = '/home/chansingh/interpretable-autoprompting/data_utils/nli_processed'\n",
    "os.makedirs(out_dir, exist_ok=True)\n",
    "for task_name in tqdm(task_names):\n",
    "    task_json_file = oj(nli_tasks_dir, task_name + '.json')\n",
    "    task = json.load(open(task_json_file, 'r'))\n",
    "    task_def = task['Definition'][0]\n",
    "    df = pd.DataFrame.from_dict(task['Instances'])\n",
    "    df = df.drop(columns='id')\n",
    "    df['output'] = df['output'].apply(lambda x: x[0])\n",
    "    df['text'] = 'Input: ' + df['input'] + ' Answer: ' + df['output'] + '\\n'\n",
    "    print(task_name, task_def)\n",
    "    task_defs[task_name] = task_def\n",
    "    df.to_csv(oj(out_dir, task_name + '.csv'), index=False)\n",
    "json.dump(task_defs, open(oj(out_dir, 'task_defs.json'), 'w'), indent=4)"
   ]
  },
  {
   "cell_type": "markdown",
   "metadata": {},
   "source": [
    "# metadata"
   ]
  },
  {
   "cell_type": "code",
   "execution_count": 11,
   "metadata": {},
   "outputs": [],
   "source": [
    "tabs = pd.read_html('https://github.com/allenai/natural-instructions/blob/master/tasks/README.md')\n",
    "tab = tabs[0]"
   ]
  },
  {
   "cell_type": "code",
   "execution_count": 22,
   "metadata": {},
   "outputs": [],
   "source": [
    "task_defs_brief = {}\n",
    "for task_name in task_names:\n",
    "    row = tab[tab.Name == task_name]\n",
    "    # print(row)\n",
    "    task_defs_brief[task_name] = row.Summary.values[0]\n",
    "json.dump(task_defs_brief, open(oj(out_dir, 'task_defs_brief.json'), 'w'), indent=4)"
   ]
  }
 ],
 "metadata": {
  "kernelspec": {
   "display_name": "Python 3.8.10 ('.autoprompt': venv)",
   "language": "python",
   "name": "python3"
  },
  "language_info": {
   "codemirror_mode": {
    "name": "ipython",
    "version": 3
   },
   "file_extension": ".py",
   "mimetype": "text/x-python",
   "name": "python",
   "nbconvert_exporter": "python",
   "pygments_lexer": "ipython3",
   "version": "3.8.10"
  },
  "orig_nbformat": 4,
  "vscode": {
   "interpreter": {
    "hash": "14b67e045ab4e623bbd9f77d231431043e985fd8f169f266aea842e78b0c1086"
   }
  }
 },
 "nbformat": 4,
 "nbformat_minor": 2
}
