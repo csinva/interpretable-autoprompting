{
 "cells": [
  {
   "cell_type": "markdown",
   "metadata": {},
   "source": [
    "This data comes from the extremely hard work of wonderful scientists. It was ollected by Alex Huth and Wendy de Heer at the University of California, Berkeley. All work was supervised by professors Jack Gallant and Frederic Theunissen of the UC Berkeley Psychology Department. Please do not redistribute the code or data used here. Visualization is done using [pycortex](http://pycortex.org).\n",
    "\n",
    "#### Citation\n",
    "The analysis demonstrated in this tutorial forms the basis of this paper:\n",
    "[Huth, A. G. et al., \"Natural speech reveals the semantic maps that tile human cerebral cortex\" (2016) _Nature_.](https://www.nature.com/articles/nature17637)\n",
    "\n",
    "This data was retrieved following the tutorial at https://github.com/HuthLab/speechmodeltutorial then add the below cell to save out the outputs used here."
   ]
  },
  {
   "cell_type": "code",
   "execution_count": 1,
   "metadata": {},
   "outputs": [],
   "source": [
    "from cProfile import label\n",
    "import matplotlib.pyplot as plt\n",
    "from matplotlib.pyplot import cm\n",
    "import numpy as np\n",
    "from tqdm import tqdm\n",
    "import pickle as pkl\n",
    "import cortex # brain viz library\n",
    "import neuro\n",
    "\n",
    "def flatmap_quickshow(scores, mask, with_rois=True, with_labels=True,\n",
    "                      vmin=0, vmax=0.5, cmap=cm.hot):\n",
    "    \"\"\"\n",
    "    rois & labels require inkscape\n",
    "\n",
    "    # there's also a fancy web version\n",
    "    # cortex.webshow(corrvol, port=8889, open_browser=False)\n",
    "    \"\"\"\n",
    "\n",
    "    corrvol = cortex.Volume(scores, \"S1\", \"fullhead\",\n",
    "                            mask=mask, vmin=vmin, vmax=vmax, cmap=cmap)\n",
    "    cortex.quickshow(corrvol, with_rois=with_rois, with_labels=with_labels, colorbar_location='right')\n",
    "\n",
    "def plot_mosaic(scores, mask, vmin=0, vmax=0.5, cmap=cm.hot):\n",
    "    \"\"\"Plot mosaic of scores given a mask\n",
    "    \"\"\"\n",
    "    corrvolume = np.zeros(mask.shape)\n",
    "    corrvolume[mask>0] = scores\n",
    "\n",
    "    plt.figure(figsize=(10, 10))\n",
    "    cortex.mosaic(corrvolume, vmin=vmin, vmax=vmax, cmap=cmap);"
   ]
  },
  {
   "cell_type": "markdown",
   "metadata": {},
   "source": [
    "# Load the data"
   ]
  },
  {
   "cell_type": "markdown",
   "metadata": {},
   "source": [
    "For this to work, need to put the `best_voxels_top_words_10000.pkl` (results for the best 10000 voxels) and the `voxels_metadata.pkl` files into the neuro_processed directory."
   ]
  },
  {
   "cell_type": "code",
   "execution_count": 2,
   "metadata": {},
   "outputs": [],
   "source": [
    "meta = pkl.load(open('neuro_processed/voxels_metadata.pkl', 'rb'))\n",
    "top_words = pkl.load(open('neuro_processed/best_voxels_top_words_10000_voxels.pkl', 'rb'))"
   ]
  },
  {
   "cell_type": "markdown",
   "metadata": {},
   "source": [
    "# Exploring the top_words"
   ]
  },
  {
   "cell_type": "code",
   "execution_count": 6,
   "metadata": {},
   "outputs": [
    {
     "data": {
      "text/plain": [
       "Text(0, 0.5, 'num voxels')"
      ]
     },
     "execution_count": 6,
     "metadata": {},
     "output_type": "execute_result"
    },
    {
     "data": {
      "image/png": "[encoded data removed]",
      "text/plain": [
       "<Figure size 640x480 with 1 Axes>"
      ]
     },
     "metadata": {},
     "output_type": "display_data"
    }
   ],
   "source": [
    "plt.hist(meta['corr'][meta['corr'] > 0.2], cumulative=True, bins=1000)\n",
    "plt.xlabel('corr')\n",
    "plt.ylabel('num voxels')"
   ]
  },
  {
   "cell_type": "code",
   "execution_count": 7,
   "metadata": {},
   "outputs": [
    {
     "name": "stdout",
     "output_type": "stream",
     "text": [
      "['sheet' 'edges' 'diameter' 'strips' 'cardboard' 'copper' 'steel'\n",
      " 'colored' 'coloured' 'leaf' 'wire' 'cap' 'paper' 'shaped' 'tin' 'cloth'\n",
      " 'rubber' 'printed' 'vertical' 'green']\n",
      "['lighter' 'vertical' 'diameter' 'edges' 'horizontal' 'cap' 'rear'\n",
      " 'underneath' 'sheet' 'mounted' 'circular' 'cylinder' 'plate' 'mm'\n",
      " 'yellow' 'barrel' 'lined' 'red' 'onto' 'leaf']\n",
      "['cap' 'ink' 'lighter' 'colored' 'leather' 'strips' 'sheet' 'plastic'\n",
      " 'cardboard' 'powder' 'copper' 'leaf' 'thicker' 'rubber' 'cloth' 'paper'\n",
      " 'coloured' 'stripes' 'trim' 'yellow']\n",
      "['paper' 'cap' 'colored' 'printed' 'sheet' 'orange' 'yellow' 'cloth'\n",
      " 'coat' 'strips' 'green' 'tin' 'ink' 'red' 'coloured' 'cardboard' 'leaf'\n",
      " 'rubber' 'ribbon' 'powder']\n",
      "['edges' 'diameter' 'shapes' 'vertical' 'coloured' 'curved' 'layers' 'mm'\n",
      " 'shape' 'shaped' 'strips' 'leaf' 'circular' 'layer' 'sheet' 'horizontal'\n",
      " 'colour' 'colored' 'glossy' 'wide']\n"
     ]
    }
   ],
   "source": [
    "for i in range(5):\n",
    "    print(top_words['top_words'][i][:20])"
   ]
  },
  {
   "cell_type": "markdown",
   "metadata": {},
   "source": [
    "# Plotting prediction performance (correlations) of each voxel model\n",
    "Note: in order to plot need to map back to the ordering used by the mask and the corr (best_voxels are sorted in order of corrsort). Here, we show a couple different kind of plots."
   ]
  },
  {
   "cell_type": "markdown",
   "metadata": {},
   "source": [
    "### We can also plot the prediction performance of different voxels"
   ]
  },
  {
   "cell_type": "code",
   "execution_count": null,
   "metadata": {},
   "outputs": [],
   "source": [
    "flatmap_quickshow(scores=meta['corr'], mask=meta['mask'])\n",
    "plt.savefig('../results/fmri/flatmap_corr.pdf')"
   ]
  },
  {
   "cell_type": "code",
   "execution_count": null,
   "metadata": {},
   "outputs": [],
   "source": [
    "\n",
    "plot_mosaic(scores=meta['corr'], mask=meta['mask'])"
   ]
  },
  {
   "cell_type": "markdown",
   "metadata": {},
   "source": [
    "# Preprocessing reference\n",
    "\n",
    "Preprocess and load neuroscience data. Follow the tutorial at https://github.com/HuthLab/speechmodeltutorial then add the below cell to save out the outputs used here."
   ]
  },
  {
   "cell_type": "code",
   "execution_count": null,
   "metadata": {},
   "outputs": [],
   "source": [
    "# things to save: 37226 fit voxels\n",
    "# corr (37226,)\n",
    "# boolean mask (31, 100, 100) - 37226 True\n",
    "\n",
    "# need to calculate (indexed in order of corrsort)\n",
    "# corrsort (37226,) = np.argsort(corr)[::-1], best voxel index is corrsort[0]\n",
    "# top_words (37226, 200) # top words activating this voxel\n",
    "# top_word_scores (37226, 200) # score for each of top words activating this voxel\n",
    "\n",
    "# show example plot (need to map back to mask ordering before this)\n",
    "# Plot mosaic of correlations\n",
    "# corrvolume = np.zeros(mask.shape)\n",
    "# corrvolume[mask>0] = voxcorrs\n",
    "\n",
    "\"\"\"\n",
    "import pickle as pkl\n",
    "pkl.dump({\n",
    "    'corr': corr,\n",
    "    'mask': mask,\n",
    "    'corrsort': corrsort,\n",
    "},\n",
    "    open('voxels_metadata.pkl', 'wb'))\n",
    "\n",
    "N = mask.sum()\n",
    "N_WORDS = 200\n",
    "N_RESTART = 1000\n",
    "# top_words = [] # np.empty((N, N_WORDS), dtype='str')\n",
    "top_words = pkl.load(open(f'best_voxels_top_words_{N_RESTART - 1}.pkl', 'rb'))['top_words'].tolist()\n",
    "top_word_scores = np.empty((N, N_WORDS))\n",
    "\n",
    "for i in tqdm(range(N_RESTART, N)):\n",
    "    vox_num = corrsort[i]\n",
    "    voxwords = eng1000.find_words_like_vec(udwt[:, vox_num], n=N_WORDS)\n",
    "    top_word_scores[i, :] = [score for (score, word) in voxwords]\n",
    "    top_words.append([word for (score, word) in voxwords])\n",
    "\n",
    "    if i % 1000 == 999:\n",
    "        pkl.dump({\n",
    "            'top_word_scores': top_word_scores,\n",
    "            'top_words': np.array(top_words),\n",
    "        },\n",
    "            open(f'best_voxels_top_words_{i}.pkl', 'wb'))\n",
    "\"\"\""
   ]
  }
 ],
 "metadata": {
  "kernelspec": {
   "display_name": "Python 3.8.10 ('.autoprompt')",
   "language": "python",
   "name": "python3"
  },
  "language_info": {
   "codemirror_mode": {
    "name": "ipython",
    "version": 3
   },
   "file_extension": ".py",
   "mimetype": "text/x-python",
   "name": "python",
   "nbconvert_exporter": "python",
   "pygments_lexer": "ipython3",
   "version": "3.8.10"
  },
  "orig_nbformat": 4,
  "vscode": {
   "interpreter": {
    "hash": "14b67e045ab4e623bbd9f77d231431043e985fd8f169f266aea842e78b0c1086"
   }
  }
 },
 "nbformat": 4,
 "nbformat_minor": 2
}
