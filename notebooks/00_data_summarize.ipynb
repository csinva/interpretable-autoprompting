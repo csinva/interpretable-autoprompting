{
 "cells": [
  {
   "cell_type": "code",
   "execution_count": 8,
   "metadata": {},
   "outputs": [],
   "source": [
    "import os\n",
    "from os.path import dirname\n",
    "import sys\n",
    "from collections import defaultdict\n",
    "import pandas as pd\n",
    "from os.path import dirname\n",
    "from os.path import join as oj\n",
    "sys.path.append('..')\n",
    "from data_utils.anli import TASKS_ANLI\n",
    "from data import get_data\n",
    "from data_utils import data_funcs\n",
    "from data_utils.one_num import TASKS_ONE_NUM\n",
    "from data_utils.two_num import TASKS_TWO_NUMS\n",
    "from data_utils.anli import TASKS_ANLI\n",
    "from data import TASKS, get_init_suffix"
   ]
  },
  {
   "cell_type": "code",
   "execution_count": 12,
   "metadata": {},
   "outputs": [
    {
     "name": "stderr",
     "output_type": "stream",
     "text": [
      "/tmp/ipykernel_275778/1956591924.py:27: FutureWarning: In future versions `DataFrame.to_latex` is expected to utilise the base implementation of `Styler.to_latex` for formatting and rendering. The arguments signature may therefore change. It is recommended instead to use `DataFrame.style.to_latex` which also contains additional functionality.\n",
      "  s1 = df[['Task name', 'Samples', 'Description', 'Example']].to_latex(index=False)\n",
      "/tmp/ipykernel_275778/1956591924.py:29: FutureWarning: In future versions `DataFrame.to_latex` is expected to utilise the base implementation of `Styler.to_latex` for formatting and rendering. The arguments signature may therefore change. It is recommended instead to use `DataFrame.style.to_latex` which also contains additional functionality.\n",
      "  s2 = df[['Task name', 'Example', 'Query']].to_latex(index=False)\n"
     ]
    }
   ],
   "source": [
    "class fake_args:\n",
    "    template_num_task_phrasing = 0\n",
    "    template_num_init_string = 0\n",
    "    max_dset_size = 10000\n",
    "    max_digit = 10\n",
    "    task_name = 'multiply_two'\n",
    "args = fake_args()\n",
    "\n",
    "d = defaultdict(list)\n",
    "for task_name in TASKS:\n",
    "    if task_name == 'SUFFIXES':\n",
    "        continue\n",
    "    args.task_name = task_name\n",
    "    task = TASKS[task_name]\n",
    "    dset, check_answer_func, descr = get_data(\n",
    "        args, task_name=task_name, n_shots=1)\n",
    "    d['Task name'].append(task_name)\n",
    "    # d['Task type'].append('anli' if task_name in TASKS_ANLI else 'math')\n",
    "    d['Samples'].append(len(dset))\n",
    "    d['Description'].append(task['description'])\n",
    "    d['Example'].append(dset[0]['text'])\n",
    "    d['Query'].append(get_init_suffix(args))\n",
    "    \n",
    "df = pd.DataFrame.from_dict(d)\n",
    "df = df.sort_values(by='Samples')\n",
    "with pd.option_context(\"max_colwidth\", 1000):\n",
    "    s1 = df[['Task name', 'Samples', 'Description', 'Example']].to_latex(index=False)\n",
    "    s1 = s1.replace('\\_peixian\\_equity\\_evaluation\\_corpus', '')\n",
    "    s2 = df[['Task name', 'Example', 'Query']].to_latex(index=False)\n",
    "    s2 = s2.replace('\\_peixian\\_equity\\_evaluation\\_corpus', '') "
   ]
  },
  {
   "cell_type": "code",
   "execution_count": 14,
   "metadata": {},
   "outputs": [
    {
     "name": "stdout",
     "output_type": "stream",
     "text": [
      "\\begin{tabular}{lll}\n",
      "\\toprule\n",
      "                                                  Task name &                                                                                                                                                                                                                                     Example &                                                          Query \\\\\n",
      "\\midrule\n",
      "                                              fibonacci\\_one &                                                                                                                                                                                          Given the input x is 8, the output f(x) is 21.\\textbackslash n\\textbackslash n &  To compute the answer, take the input number x and return the \\\\\n",
      "                                                 double\\_one &                                                                                                                                                                                          Given the input x is 6, the output f(x) is 12.\\textbackslash n\\textbackslash n &               To compute the answer, take the input number and \\\\\n",
      "                                                    exp\\_one &                                                                                                                                                                                     Given the input x is 8, the output f(x) is 2980.96.\\textbackslash n\\textbackslash n &      To compute the answer, take the input number x and return \\\\\n",
      "                                                 square\\_one &                                                                                                                                                                                           Given the input x is 2, the output f(x) is 4.\\textbackslash n\\textbackslash n &               To compute the answer, take the input number and \\\\\n",
      "                                                  first\\_two &                                                                                                                                                                                       Given the input numbers 7 and 8, the answer is 7.\\textbackslash n\\textbackslash n &                              To compute the answer, return the \\\\\n",
      "                                                    add\\_two &                                                                                                                                                                                      Given the input numbers 9 and 7, the answer is 16.\\textbackslash n\\textbackslash n &              To compute the answer, take the input numbers and \\\\\n",
      "                                               subtract\\_two &                                                                                                                                                                                       Given the input numbers 5 and 4, the answer is 1.\\textbackslash n\\textbackslash n &              To compute the answer, take the input numbers and \\\\\n",
      "                                                 divide\\_two &                                                                                                                                                                                     Given the input numbers 2 and 7, the answer is 2/7.\\textbackslash n\\textbackslash n &              To compute the answer, take the input numbers and \\\\\n",
      "                                               multiply\\_two &                                                                                                                                                                                       Given the input numbers 3 and 3, the answer is 9.\\textbackslash n\\textbackslash n &              To compute the answer, take the input numbers and \\\\\n",
      "                                                    max\\_two &                                                                                                                                                                                       Given the input numbers 1 and 1, the answer is 1.\\textbackslash n\\textbackslash n & To compute the answer, take the input numbers and return their \\\\\n",
      "                                   task1191\\_food\\_veg\\_nonveg &                                                                                                                                                                                                                Input: Haq Maas Answer: no\\textbackslash n &            The answer takes the food and returns whether is is \\\\\n",
      "                                 task1149\\_item\\_check\\_edible &                                                                                                                                                                                                                    Input: vase Answer: no\\textbackslash n &                 The answer is whether or not the input item is \\\\\n",
      "                                   task1146\\_country\\_capital &                                                                                                                                                                                     Input: Saint Pierre and Miquelon Answer: Saint-Pierre\\textbackslash n &           Given the input country, the answer is the country's \\\\\n",
      "                                  task1147\\_country\\_currency &                                                                                                                                                                                                    Input: Senegal Answer: CFA Franc BCEAO\\textbackslash n &           Given the input country, the answer is the country's \\\\\n",
      "                                task1509\\_evalution\\_antonyms &                                                                                                                                                                                                              Input: paper Answer: scissor\\textbackslash n &                The answer takes the input word and returns its \\\\\n",
      "                                   task183\\_rhyme\\_generation &                                                                                                                                                                                                                 Input: think Answer: sync\\textbackslash n &                The answer takes the input word and returns its \\\\\n",
      "                             task107\\_splash\\_question\\_to\\_sql & Input: What are the order ids and customer ids for orders that have been Cancelled, sorted by their order dates? Answer: SELECT order\\_id ,  customer\\_id FROM customer\\_orders WHERE order\\_status\\_code  =   \"Cancelled\" ORDER BY order\\_date\\textbackslash n &            The answer takes the input word and returns it as a \\\\\n",
      "                         task088\\_identify\\_typo\\_verification &                                                                                                                                                                        Input: A laege display of apples, pears, and oranges Answer: laege\\textbackslash n &                  The answer is the word in the input that is a \\\\\n",
      "task1336\\_gender\\_classifier &                                                                                                                                                                                         Input: Justin made me feel discouraged. Answer: M\\textbackslash n &           The answer takes the input and returns the subject's \\\\\n",
      "                         task092\\_check\\_prime\\_classification &                                                                                                                                                                                                                   Input: 9319 Answer: Yes\\textbackslash n &    The answer takes the input number and returns whether it is \\\\\n",
      "\\bottomrule\n",
      "\\end{tabular}\n",
      "\n"
     ]
    }
   ],
   "source": [
    "print(s2)"
   ]
  },
  {
   "cell_type": "code",
   "execution_count": null,
   "metadata": {},
   "outputs": [],
   "source": []
  }
 ],
 "metadata": {
  "kernelspec": {
   "display_name": "Python 3.8.10 64-bit",
   "language": "python",
   "name": "python3"
  },
  "language_info": {
   "codemirror_mode": {
    "name": "ipython",
    "version": 3
   },
   "file_extension": ".py",
   "mimetype": "text/x-python",
   "name": "python",
   "nbconvert_exporter": "python",
   "pygments_lexer": "ipython3",
   "version": "3.8.10"
  },
  "orig_nbformat": 4,
  "vscode": {
   "interpreter": {
    "hash": "916dbcbb3f70747c44a77c7bcd40155683ae19c65e1c03b4aa3499c5328201f1"
   }
  }
 },
 "nbformat": 4,
 "nbformat_minor": 2
}
