{
 "cells": [
  {
   "cell_type": "code",
   "execution_count": 4,
   "metadata": {},
   "outputs": [],
   "source": [
    "import os\n",
    "from os.path import dirname\n",
    "import sys\n",
    "from collections import defaultdict\n",
    "import pandas as pd\n",
    "from os.path import dirname\n",
    "from os.path import join as oj\n",
    "sys.path.append('..')\n",
    "from data_utils.anli import TASKS_ANLI\n",
    "from data import get_data\n",
    "from data_utils import data_funcs\n",
    "from data_utils.one_num import TASKS_ONE_NUM\n",
    "from data_utils.two_num import TASKS_TWO_NUMS\n",
    "from data_utils.anli import TASKS_ANLI\n",
    "from data import TASKS"
   ]
  },
  {
   "cell_type": "code",
   "execution_count": 13,
   "metadata": {},
   "outputs": [
    {
     "name": "stdout",
     "output_type": "stream",
     "text": [
      "\\begin{tabular}{lrll}\n",
      "\\toprule\n",
      "                                         Task name &  Samples &                                        Description &                                            Example \\\\\n",
      "\\midrule\n",
      "                                           add\\_two &     6499 &                      Return the sum of the inputs. & Given the input numbers 5 and 9, the answer is ... \\\\\n",
      "                                      multiply\\_two &      100 &                  Return the product of the inputs. & Given the input numbers 8 and 5, the answer is ... \\\\\n",
      "                                        divide\\_two &      100 &                 Return the quotient of the inputs. & Given the input numbers 2 and 8, the answer is ... \\\\\n",
      "                                      subtract\\_two &      100 &               Return the difference of the inputs. & Given the input numbers 5 and 2, the answer is ... \\\\\n",
      "                                           max\\_two &      100 &                  Return the maximum of the inputs. & Given the input numbers 9 and 8, the answer is ... \\\\\n",
      "                                         first\\_two &      100 &                    Return the first of the inputs. & Given the input numbers 0 and 0, the answer is ... \\\\\n",
      "                                        square\\_one &      100 &                Square the input to get the output. &  Given the input x is 0, the output f(x) is 0.\\textbackslash n\\textbackslash n \\\\\n",
      "                                           exp\\_one &       10 &          Exponentiate the input to get the output. & Given the input x is 0, the output f(x) is 1.0.... \\\\\n",
      "                                         prime\\_one &       10 &     Given an input x, return the xth prime number. & Given the input x is 5, the output f(x) is 11.\\textbackslash n\\textbackslash n \\\\\n",
      "                                        double\\_one &       10 &                      Given an input x, return 2*x. & Given the input x is 6, the output f(x) is 12.\\textbackslash n\\textbackslash n \\\\\n",
      "                                     fibonacci\\_one &       10 & Given an input x, return the xth fibonacci number. & Given the input x is 9, the output f(x) is 34.\\textbackslash n\\textbackslash n \\\\\n",
      "                          task1146\\_country\\_capital &       10 & In this task, you are given a country name and ... &                    Input: Guinea Answer: Conakry\\textbackslash n \\\\\n",
      "                         task1147\\_country\\_currency &      231 & You are given a country name and you need to re... &           Input: Senegal Answer: CFA Franc BCEAO\\textbackslash n \\\\\n",
      "                        task1149\\_item\\_check\\_edible &      232 & Return whether the input item is edible (yes or... &                       Input: Almonds Answer: yes\\textbackslash n \\\\\n",
      "                       task1509\\_evalution\\_antonyms &      119 & In this task, you are given an adjective, and y... &                           Input: pan Answer: pot\\textbackslash n \\\\\n",
      "                          task183\\_rhyme\\_generation &      551 & Given an input word generate a word that rhymes... &                       Input: favor Answer: savor\\textbackslash n \\\\\n",
      "                          task1191\\_food\\_veg\\_nonveg &      999 & Return whether the input food dish is vegetaria... &                       Input: Kachori Answer: yes\\textbackslash n \\\\\n",
      "                task092\\_check\\_prime\\_classification &      101 & In this task, you need to output 'Yes' if the g... &                          Input: 21085 Answer: No\\textbackslash n \\\\\n",
      "                    task107\\_splash\\_question\\_to\\_sql &     6500 & In this task you are expected to write an SQL q... & Input: What are the names of the reviewers who ... \\\\\n",
      "task1336\\_peixian\\_equity\\_evaluation\\_corpus\\_gende... &     2031 & Return the gender of the person in the input se... & Input: Shaniqua found herself in a dreadful sit... \\\\\n",
      "                task088\\_identify\\_typo\\_verification &     6500 & The given sentence contains a typo which could ... & Input: two people riding a ramp with their snow... \\\\\n",
      "\\bottomrule\n",
      "\\end{tabular}\n",
      "\n"
     ]
    },
    {
     "name": "stderr",
     "output_type": "stream",
     "text": [
      "/tmp/ipykernel_2962593/684576170.py:23: FutureWarning: In future versions `DataFrame.to_latex` is expected to utilise the base implementation of `Styler.to_latex` for formatting and rendering. The arguments signature may therefore change. It is recommended instead to use `DataFrame.style.to_latex` which also contains additional functionality.\n",
      "  print(pd.DataFrame.from_dict(d).to_latex(index=False))\n"
     ]
    }
   ],
   "source": [
    "class fake_args:\n",
    "    template_num_task_phrasing = 0\n",
    "    max_dset_size = 10000\n",
    "    max_digit = 10\n",
    "    task_name = 'multiply_two'\n",
    "args = fake_args()\n",
    "\n",
    "d = defaultdict(list)\n",
    "for task_name in TASKS:\n",
    "    if task_name == 'SUFFIXES':\n",
    "        continue\n",
    "    task = TASKS[task_name]\n",
    "    d['Task name'].append(task_name)\n",
    "    # d['Task type'].append('anli' if task_name in TASKS_ANLI else 'math')\n",
    "    d['Samples'].append(len(dset))\n",
    "    d['Description'].append(task['description'])\n",
    "\n",
    "    dset, check_answer_func, descr = get_data(\n",
    "        args, task_name=task_name, n_shots=1)\n",
    "    d['Example'].append(dset[0]['text'])\n",
    "    \n",
    "\n",
    "print(pd.DataFrame.from_dict(d).to_latex(index=False))"
   ]
  },
  {
   "cell_type": "code",
   "execution_count": null,
   "metadata": {},
   "outputs": [],
   "source": [
    "print('\\n################Lots of available dsets############\\n')\n",
    "    for task_key in TASKS:\n",
    "        if not task_key == 'SUFFIXES':\n",
    "            # , TASKS[task_key]['description'])\n",
    "            print(task_key, '->', TASKS[task_key]['description'] + '\\n')\n",
    "\n",
    "    print('\\n\\n################Lets look at some examples############\\n')\n",
    "\n",
    "    class fake_args:\n",
    "        template_num_task_phrasing = 0\n",
    "        max_dset_size = 1000\n",
    "        max_digit = 10\n",
    "    task_name = 'multiply_two'\n",
    "\n",
    "    args = fake_args()\n",
    "    dset, check_answer_func, descr = get_data(\n",
    "        args, task_name=task_name, n_shots=1)\n",
    "    print('Example 1-shot (max_digit=10)', repr(dset[0]['text']))\n",
    "    print('\\tlen', len(dset))\n",
    "\n",
    "    dset, check_answer_func, descr = get_data(\n",
    "        args, task_name=task_name, n_shots=3)\n",
    "    print('Example 3-shot (max_digit=10)', repr(dset[0]['text']))\n",
    "    print('\\tlen', len(dset))\n",
    "\n",
    "    args.max_digit = 100\n",
    "    dset, check_answer_func, descr = get_data(\n",
    "        args, task_name=task_name, n_shots=1)\n",
    "    print('Example 1-shot (max_digit=100)', repr(dset[0]['text']))\n",
    "    print('\\tlen', len(dset))\n",
    "\n",
    "    dset, check_answer_func, descr = get_data(\n",
    "        args, task_name='fibonacci_one', n_shots=1)\n",
    "    print('Example fibonacci_one 1-shot (max_digit=10)',\n",
    "          repr(dset[0]['text']))\n",
    "    print('\\tlen', len(dset))\n",
    "\n",
    "    print('\\n\\n################Lets look at an ANLI dataset############\\n')\n",
    "    task_name = 'task1147_country_currency'\n",
    "    dset, check_answer_func, descr = get_data(\n",
    "        args, task_name=task_name, n_shots=1)\n",
    "    print(f'Example {task_name} 1-shot',\n",
    "          repr(dset[0]['text']))\n",
    "    print('\\tlen', len(dset))\n",
    "\n",
    "    dset, check_answer_func, descr = get_data(\n",
    "        args, task_name=task_name, n_shots=3)\n",
    "    print(f'Example {task_name} 3-shot',\n",
    "          repr(dset[0]['text']))\n",
    "    print('\\tlen', len(dset))\n",
    "\n",
    "    print('\\n\\n################Lets look at how answers are checked############\\n')\n",
    "    task_name = 'add_two'\n",
    "    task = TASKS[task_name]\n",
    "    _, check_answer_func, descr = get_data(args, task_name=task_name)\n",
    "    print('checking func', check_answer_func, 'for', task_name)\n",
    "    for s in ['add', 'take the nums and add', 'test', ' sum', 'Add']:\n",
    "        print(repr(s), check_answer_func(s))"
   ]
  },
  {
   "cell_type": "code",
   "execution_count": null,
   "metadata": {},
   "outputs": [],
   "source": []
  }
 ],
 "metadata": {
  "kernelspec": {
   "display_name": "Python 3.8.10 64-bit",
   "language": "python",
   "name": "python3"
  },
  "language_info": {
   "codemirror_mode": {
    "name": "ipython",
    "version": 3
   },
   "file_extension": ".py",
   "mimetype": "text/x-python",
   "name": "python",
   "nbconvert_exporter": "python",
   "pygments_lexer": "ipython3",
   "version": "3.8.10"
  },
  "orig_nbformat": 4,
  "vscode": {
   "interpreter": {
    "hash": "916dbcbb3f70747c44a77c7bcd40155683ae19c65e1c03b4aa3499c5328201f1"
   }
  }
 },
 "nbformat": 4,
 "nbformat_minor": 2
}
