{
 "cells": [
  {
   "cell_type": "code",
   "execution_count": 4,
   "id": "56174ca5-ddcd-4ab0-8c69-6549351b3367",
   "metadata": {},
   "outputs": [
    {
     "name": "stdout",
     "output_type": "stream",
     "text": [
      "dict_keys(['add_two', 'multiply_two', 'divide_two', 'subtract_two', 'max_two', 'first_two', 'SUFFIXES', 'square_one', 'exp_one', 'prime_one', 'double_one', 'fibonacci_one', 'task1146_country_capital', 'task1147_country_currency', 'task1149_item_check_edible', 'task429_senteval_tense', 'task430_senteval_subject_count', 'task609_sbic_potentially_offense_binary_classification'])\n"
     ]
    }
   ],
   "source": [
    "import sys\n",
    "sys.path.append('..')\n",
    "import argparse\n",
    "import seaborn as sns\n",
    "import datasets\n",
    "import numpy as np\n",
    "import torch\n",
    "import transformers\n",
    "from tqdm.notebook import tqdm, trange\n",
    "from data import get_data, TASKS\n",
    "\n",
    "\n",
    "args_dict = {\n",
    "    'max_dset_size': 10_000,\n",
    "    'template_num_task_phrasing': 0,\n",
    "    'n_shots': 1,\n",
    "    'max_digit': 10,\n",
    "}\n",
    "args = argparse.Namespace(**args_dict)\n",
    "\n",
    "task_names = TASKS.keys()\n",
    "device = torch.device('cuda' if torch.cuda.is_available() else 'cpu')\n",
    "# model_name = 'gpt2-medium'\n",
    "model_name = 'EleutherAI/gpt-neox-20b'\n",
    "batch_size = 5\n",
    "\n",
    "# load stuff\n",
    "model = transformers.AutoModelForCausalLM.from_pretrained(model_name, output_hidden_states=False)\n",
    "tokenizer = transformers.AutoTokenizer.from_pretrained(model_name, output_hidden_states=False)"
   ]
  },
  {
   "cell_type": "code",
   "execution_count": 5,
   "id": "21f1d09f-5288-44dd-9184-39c44f46d6cd",
   "metadata": {},
   "outputs": [],
   "source": [
    "def test_model_on_task_with_prefix(dset: datasets.Dataset, model: transformers.PreTrainedModel, tokenizer: transformers.PreTrainedTokenizer, prefix: str = '', batch_size: int = 32) -> float:\n",
    "    \"\"\"Tests a given language model on a dataset and returns {zero,few}-shot loss. \n",
    "    \n",
    "    Args:\n",
    "        dset (datasets.Dataset): dataset of examples \n",
    "        model (transformers.PreTrainedModel): language model for testing\n",
    "        tokenizer (transformers.PreTrainedModel): tokenizer to accompany `model`\n",
    "        prefix (str): Prefix that will be prepended to each example\n",
    "        batch_size (int): batch size for evaluation\n",
    "        \n",
    "    Returns:\n",
    "        loss (float): language modeling loss on examples in dataset\n",
    "    \"\"\"\n",
    "    np.random.seed(42)\n",
    "    torch.manual_seed(42)\n",
    "    \n",
    "    model.eval()\n",
    "    model.to(device)\n",
    "    \n",
    "    tokenizer.pad_token = tokenizer.eos_token\n",
    "    \n",
    "    dataloader = torch.utils.data.DataLoader(dset, batch_size=batch_size, shuffle=False, drop_last=False)\n",
    "    total_loss = 0.0\n",
    "    total_n = 0\n",
    "    total_n_correct = 0.0\n",
    "    \n",
    "    # Compute loss only over possible answers to make task easier\n",
    "    possible_answer_ids = []\n",
    "    for batch in dataloader:\n",
    "        y_text = [answer for answer in batch['output']]\n",
    "        y_tokenized = tokenizer(y_text, return_tensors='pt', padding='longest')\n",
    "        true_next_token_ids = y_tokenized['input_ids'][:, 0] # only test on the single next token\n",
    "        possible_answer_ids.extend(true_next_token_ids.tolist())\n",
    "    \n",
    "    assert len(possible_answer_ids) > 0, \"need multiple answers for multiple choice\"\n",
    "    \n",
    "    possible_answer_ids = torch.tensor(possible_answer_ids)\n",
    "    vocab_size = len(tokenizer.vocab)\n",
    "    possible_answer_mask = (\n",
    "        torch.arange(start=0, end=vocab_size)[:, None]\n",
    "        == \n",
    "        possible_answer_ids[None, :]\n",
    "    ).any(dim=1).to(device)\n",
    "        \n",
    "    \n",
    "    for idx, batch in enumerate(dataloader):\n",
    "        x_text = [(prefix + prompt) for prompt in batch['input']]\n",
    "        y_text = [answer for answer in batch['output']]\n",
    "        if idx == 0: print(list(zip(x_text[:2], y_text[:2])))\n",
    "        \n",
    "        x_tokenized = tokenizer(x_text, return_tensors='pt', padding='longest').to(device)\n",
    "        y_tokenized = tokenizer(y_text, return_tensors='pt', padding='longest').to(device)\n",
    "        \n",
    "        true_next_token_ids = y_tokenized['input_ids'][:, 0] # only test on the single next token\n",
    "        \n",
    "        with torch.no_grad():\n",
    "            all_token_logits = model(**x_tokenized)['logits']\n",
    "            pred_next_token_logits = all_token_logits[:, -1, :]\n",
    "            # import pdb; pdb.set_trace()\n",
    "            pred_next_token_logits = torch.where(\n",
    "                possible_answer_mask, pred_next_token_logits, torch.tensor(float('-inf')).to(device)\n",
    "            )\n",
    "            loss = torch.nn.functional.cross_entropy(input=pred_next_token_logits, target=true_next_token_ids, reduction='sum')\n",
    "        total_loss += loss.item()\n",
    "        total_n += len(x_text)\n",
    "        total_n_correct += (pred_next_token_logits.argmax(dim=-1) == true_next_token_ids.flatten()).int().sum().item()\n",
    "    \n",
    "    return (total_loss / total_n), (total_n_correct * 100.0 / total_n)\n",
    "                    "
   ]
  },
  {
   "cell_type": "markdown",
   "id": "1c9e4426",
   "metadata": {},
   "source": [
    "Do a simple test"
   ]
  },
  {
   "cell_type": "code",
   "execution_count": 6,
   "id": "b61efdd7-aa63-4fc8-81f7-c8f50e7ab2b4",
   "metadata": {},
   "outputs": [
    {
     "name": "stdout",
     "output_type": "stream",
     "text": [
      "10 max_digit 10 dset_size 10000 10\n"
     ]
    },
    {
     "ename": "RuntimeError",
     "evalue": "CUDA out of memory. Tried to allocate 576.00 MiB (GPU 0; 79.10 GiB total capacity; 68.26 GiB already allocated; 135.75 MiB free; 68.26 GiB reserved in total by PyTorch) If reserved memory is >> allocated memory try setting max_split_size_mb to avoid fragmentation.  See documentation for Memory Management and PYTORCH_CUDA_ALLOC_CONF",
     "output_type": "error",
     "traceback": [
      "\u001b[0;31m---------------------------------------------------------------------------\u001b[0m",
      "\u001b[0;31mRuntimeError\u001b[0m                              Traceback (most recent call last)",
      "\u001b[1;32m/home/chansingh/interpretable-autoprompting/notebooks/01_prompt_task_alignment.ipynb Cell 4\u001b[0m in \u001b[0;36m<cell line: 4>\u001b[0;34m()\u001b[0m\n\u001b[1;32m      <a href='vscode-notebook-cell://ssh-remote%2B10.8.112.209/home/chansingh/interpretable-autoprompting/notebooks/01_prompt_task_alignment.ipynb#W5sdnNjb2RlLXJlbW90ZQ%3D%3D?line=1'>2</a>\u001b[0m prefix \u001b[39m=\u001b[39m \u001b[39mf\u001b[39m\u001b[39m'\u001b[39m\u001b[39masldjfo the following numbers. \u001b[39m\u001b[39m'\u001b[39m\n\u001b[1;32m      <a href='vscode-notebook-cell://ssh-remote%2B10.8.112.209/home/chansingh/interpretable-autoprompting/notebooks/01_prompt_task_alignment.ipynb#W5sdnNjb2RlLXJlbW90ZQ%3D%3D?line=2'>3</a>\u001b[0m dset, check_answer_func, description \u001b[39m=\u001b[39m get_data(args\u001b[39m=\u001b[39margs, task_name\u001b[39m=\u001b[39mtask_name)\n\u001b[0;32m----> <a href='vscode-notebook-cell://ssh-remote%2B10.8.112.209/home/chansingh/interpretable-autoprompting/notebooks/01_prompt_task_alignment.ipynb#W5sdnNjb2RlLXJlbW90ZQ%3D%3D?line=3'>4</a>\u001b[0m test_model_on_task_with_prefix(dset\u001b[39m=\u001b[39;49mdset, model\u001b[39m=\u001b[39;49mmodel, tokenizer\u001b[39m=\u001b[39;49mtokenizer, prefix\u001b[39m=\u001b[39;49mprefix)\n",
      "\u001b[1;32m/home/chansingh/interpretable-autoprompting/notebooks/01_prompt_task_alignment.ipynb Cell 4\u001b[0m in \u001b[0;36mtest_model_on_task_with_prefix\u001b[0;34m(dset, model, tokenizer, prefix, batch_size)\u001b[0m\n\u001b[1;32m     <a href='vscode-notebook-cell://ssh-remote%2B10.8.112.209/home/chansingh/interpretable-autoprompting/notebooks/01_prompt_task_alignment.ipynb#W5sdnNjb2RlLXJlbW90ZQ%3D%3D?line=14'>15</a>\u001b[0m torch\u001b[39m.\u001b[39mmanual_seed(\u001b[39m42\u001b[39m)\n\u001b[1;32m     <a href='vscode-notebook-cell://ssh-remote%2B10.8.112.209/home/chansingh/interpretable-autoprompting/notebooks/01_prompt_task_alignment.ipynb#W5sdnNjb2RlLXJlbW90ZQ%3D%3D?line=16'>17</a>\u001b[0m model\u001b[39m.\u001b[39meval()\n\u001b[0;32m---> <a href='vscode-notebook-cell://ssh-remote%2B10.8.112.209/home/chansingh/interpretable-autoprompting/notebooks/01_prompt_task_alignment.ipynb#W5sdnNjb2RlLXJlbW90ZQ%3D%3D?line=17'>18</a>\u001b[0m model\u001b[39m.\u001b[39;49mto(device)\n\u001b[1;32m     <a href='vscode-notebook-cell://ssh-remote%2B10.8.112.209/home/chansingh/interpretable-autoprompting/notebooks/01_prompt_task_alignment.ipynb#W5sdnNjb2RlLXJlbW90ZQ%3D%3D?line=19'>20</a>\u001b[0m tokenizer\u001b[39m.\u001b[39mpad_token \u001b[39m=\u001b[39m tokenizer\u001b[39m.\u001b[39meos_token\n\u001b[1;32m     <a href='vscode-notebook-cell://ssh-remote%2B10.8.112.209/home/chansingh/interpretable-autoprompting/notebooks/01_prompt_task_alignment.ipynb#W5sdnNjb2RlLXJlbW90ZQ%3D%3D?line=21'>22</a>\u001b[0m dataloader \u001b[39m=\u001b[39m torch\u001b[39m.\u001b[39mutils\u001b[39m.\u001b[39mdata\u001b[39m.\u001b[39mDataLoader(dset, batch_size\u001b[39m=\u001b[39mbatch_size, shuffle\u001b[39m=\u001b[39m\u001b[39mFalse\u001b[39;00m, drop_last\u001b[39m=\u001b[39m\u001b[39mFalse\u001b[39;00m)\n",
      "File \u001b[0;32m~/.autoprompt/lib/python3.8/site-packages/torch/nn/modules/module.py:927\u001b[0m, in \u001b[0;36mModule.to\u001b[0;34m(self, *args, **kwargs)\u001b[0m\n\u001b[1;32m    923\u001b[0m         \u001b[39mreturn\u001b[39;00m t\u001b[39m.\u001b[39mto(device, dtype \u001b[39mif\u001b[39;00m t\u001b[39m.\u001b[39mis_floating_point() \u001b[39mor\u001b[39;00m t\u001b[39m.\u001b[39mis_complex() \u001b[39melse\u001b[39;00m \u001b[39mNone\u001b[39;00m,\n\u001b[1;32m    924\u001b[0m                     non_blocking, memory_format\u001b[39m=\u001b[39mconvert_to_format)\n\u001b[1;32m    925\u001b[0m     \u001b[39mreturn\u001b[39;00m t\u001b[39m.\u001b[39mto(device, dtype \u001b[39mif\u001b[39;00m t\u001b[39m.\u001b[39mis_floating_point() \u001b[39mor\u001b[39;00m t\u001b[39m.\u001b[39mis_complex() \u001b[39melse\u001b[39;00m \u001b[39mNone\u001b[39;00m, non_blocking)\n\u001b[0;32m--> 927\u001b[0m \u001b[39mreturn\u001b[39;00m \u001b[39mself\u001b[39;49m\u001b[39m.\u001b[39;49m_apply(convert)\n",
      "File \u001b[0;32m~/.autoprompt/lib/python3.8/site-packages/torch/nn/modules/module.py:579\u001b[0m, in \u001b[0;36mModule._apply\u001b[0;34m(self, fn)\u001b[0m\n\u001b[1;32m    577\u001b[0m \u001b[39mdef\u001b[39;00m \u001b[39m_apply\u001b[39m(\u001b[39mself\u001b[39m, fn):\n\u001b[1;32m    578\u001b[0m     \u001b[39mfor\u001b[39;00m module \u001b[39min\u001b[39;00m \u001b[39mself\u001b[39m\u001b[39m.\u001b[39mchildren():\n\u001b[0;32m--> 579\u001b[0m         module\u001b[39m.\u001b[39;49m_apply(fn)\n\u001b[1;32m    581\u001b[0m     \u001b[39mdef\u001b[39;00m \u001b[39mcompute_should_use_set_data\u001b[39m(tensor, tensor_applied):\n\u001b[1;32m    582\u001b[0m         \u001b[39mif\u001b[39;00m torch\u001b[39m.\u001b[39m_has_compatible_shallow_copy_type(tensor, tensor_applied):\n\u001b[1;32m    583\u001b[0m             \u001b[39m# If the new tensor has compatible tensor type as the existing tensor,\u001b[39;00m\n\u001b[1;32m    584\u001b[0m             \u001b[39m# the current behavior is to change the tensor in-place using `.data =`,\u001b[39;00m\n\u001b[0;32m   (...)\u001b[0m\n\u001b[1;32m    589\u001b[0m             \u001b[39m# global flag to let the user control whether they want the future\u001b[39;00m\n\u001b[1;32m    590\u001b[0m             \u001b[39m# behavior of overwriting the existing tensor or not.\u001b[39;00m\n",
      "File \u001b[0;32m~/.autoprompt/lib/python3.8/site-packages/torch/nn/modules/module.py:579\u001b[0m, in \u001b[0;36mModule._apply\u001b[0;34m(self, fn)\u001b[0m\n\u001b[1;32m    577\u001b[0m \u001b[39mdef\u001b[39;00m \u001b[39m_apply\u001b[39m(\u001b[39mself\u001b[39m, fn):\n\u001b[1;32m    578\u001b[0m     \u001b[39mfor\u001b[39;00m module \u001b[39min\u001b[39;00m \u001b[39mself\u001b[39m\u001b[39m.\u001b[39mchildren():\n\u001b[0;32m--> 579\u001b[0m         module\u001b[39m.\u001b[39;49m_apply(fn)\n\u001b[1;32m    581\u001b[0m     \u001b[39mdef\u001b[39;00m \u001b[39mcompute_should_use_set_data\u001b[39m(tensor, tensor_applied):\n\u001b[1;32m    582\u001b[0m         \u001b[39mif\u001b[39;00m torch\u001b[39m.\u001b[39m_has_compatible_shallow_copy_type(tensor, tensor_applied):\n\u001b[1;32m    583\u001b[0m             \u001b[39m# If the new tensor has compatible tensor type as the existing tensor,\u001b[39;00m\n\u001b[1;32m    584\u001b[0m             \u001b[39m# the current behavior is to change the tensor in-place using `.data =`,\u001b[39;00m\n\u001b[0;32m   (...)\u001b[0m\n\u001b[1;32m    589\u001b[0m             \u001b[39m# global flag to let the user control whether they want the future\u001b[39;00m\n\u001b[1;32m    590\u001b[0m             \u001b[39m# behavior of overwriting the existing tensor or not.\u001b[39;00m\n",
      "    \u001b[0;31m[... skipping similar frames: Module._apply at line 579 (2 times)]\u001b[0m\n",
      "File \u001b[0;32m~/.autoprompt/lib/python3.8/site-packages/torch/nn/modules/module.py:579\u001b[0m, in \u001b[0;36mModule._apply\u001b[0;34m(self, fn)\u001b[0m\n\u001b[1;32m    577\u001b[0m \u001b[39mdef\u001b[39;00m \u001b[39m_apply\u001b[39m(\u001b[39mself\u001b[39m, fn):\n\u001b[1;32m    578\u001b[0m     \u001b[39mfor\u001b[39;00m module \u001b[39min\u001b[39;00m \u001b[39mself\u001b[39m\u001b[39m.\u001b[39mchildren():\n\u001b[0;32m--> 579\u001b[0m         module\u001b[39m.\u001b[39;49m_apply(fn)\n\u001b[1;32m    581\u001b[0m     \u001b[39mdef\u001b[39;00m \u001b[39mcompute_should_use_set_data\u001b[39m(tensor, tensor_applied):\n\u001b[1;32m    582\u001b[0m         \u001b[39mif\u001b[39;00m torch\u001b[39m.\u001b[39m_has_compatible_shallow_copy_type(tensor, tensor_applied):\n\u001b[1;32m    583\u001b[0m             \u001b[39m# If the new tensor has compatible tensor type as the existing tensor,\u001b[39;00m\n\u001b[1;32m    584\u001b[0m             \u001b[39m# the current behavior is to change the tensor in-place using `.data =`,\u001b[39;00m\n\u001b[0;32m   (...)\u001b[0m\n\u001b[1;32m    589\u001b[0m             \u001b[39m# global flag to let the user control whether they want the future\u001b[39;00m\n\u001b[1;32m    590\u001b[0m             \u001b[39m# behavior of overwriting the existing tensor or not.\u001b[39;00m\n",
      "File \u001b[0;32m~/.autoprompt/lib/python3.8/site-packages/torch/nn/modules/module.py:602\u001b[0m, in \u001b[0;36mModule._apply\u001b[0;34m(self, fn)\u001b[0m\n\u001b[1;32m    598\u001b[0m \u001b[39m# Tensors stored in modules are graph leaves, and we don't want to\u001b[39;00m\n\u001b[1;32m    599\u001b[0m \u001b[39m# track autograd history of `param_applied`, so we have to use\u001b[39;00m\n\u001b[1;32m    600\u001b[0m \u001b[39m# `with torch.no_grad():`\u001b[39;00m\n\u001b[1;32m    601\u001b[0m \u001b[39mwith\u001b[39;00m torch\u001b[39m.\u001b[39mno_grad():\n\u001b[0;32m--> 602\u001b[0m     param_applied \u001b[39m=\u001b[39m fn(param)\n\u001b[1;32m    603\u001b[0m should_use_set_data \u001b[39m=\u001b[39m compute_should_use_set_data(param, param_applied)\n\u001b[1;32m    604\u001b[0m \u001b[39mif\u001b[39;00m should_use_set_data:\n",
      "File \u001b[0;32m~/.autoprompt/lib/python3.8/site-packages/torch/nn/modules/module.py:925\u001b[0m, in \u001b[0;36mModule.to.<locals>.convert\u001b[0;34m(t)\u001b[0m\n\u001b[1;32m    922\u001b[0m \u001b[39mif\u001b[39;00m convert_to_format \u001b[39mis\u001b[39;00m \u001b[39mnot\u001b[39;00m \u001b[39mNone\u001b[39;00m \u001b[39mand\u001b[39;00m t\u001b[39m.\u001b[39mdim() \u001b[39min\u001b[39;00m (\u001b[39m4\u001b[39m, \u001b[39m5\u001b[39m):\n\u001b[1;32m    923\u001b[0m     \u001b[39mreturn\u001b[39;00m t\u001b[39m.\u001b[39mto(device, dtype \u001b[39mif\u001b[39;00m t\u001b[39m.\u001b[39mis_floating_point() \u001b[39mor\u001b[39;00m t\u001b[39m.\u001b[39mis_complex() \u001b[39melse\u001b[39;00m \u001b[39mNone\u001b[39;00m,\n\u001b[1;32m    924\u001b[0m                 non_blocking, memory_format\u001b[39m=\u001b[39mconvert_to_format)\n\u001b[0;32m--> 925\u001b[0m \u001b[39mreturn\u001b[39;00m t\u001b[39m.\u001b[39;49mto(device, dtype \u001b[39mif\u001b[39;49;00m t\u001b[39m.\u001b[39;49mis_floating_point() \u001b[39mor\u001b[39;49;00m t\u001b[39m.\u001b[39;49mis_complex() \u001b[39melse\u001b[39;49;00m \u001b[39mNone\u001b[39;49;00m, non_blocking)\n",
      "\u001b[0;31mRuntimeError\u001b[0m: CUDA out of memory. Tried to allocate 576.00 MiB (GPU 0; 79.10 GiB total capacity; 68.26 GiB already allocated; 135.75 MiB free; 68.26 GiB reserved in total by PyTorch) If reserved memory is >> allocated memory try setting max_split_size_mb to avoid fragmentation.  See documentation for Memory Management and PYTORCH_CUDA_ALLOC_CONF"
     ]
    }
   ],
   "source": [
    "task_name = 'square_one'\n",
    "prefix = f'asldjfo the following numbers. '\n",
    "dset, check_answer_func, description = get_data(args=args, task_name=task_name)\n",
    "test_model_on_task_with_prefix(dset=dset, model=model, tokenizer=tokenizer, prefix=prefix)"
   ]
  },
  {
   "cell_type": "markdown",
   "id": "2100cf85",
   "metadata": {},
   "source": [
    "Loop and check the tasks"
   ]
  },
  {
   "cell_type": "code",
   "execution_count": 13,
   "id": "d45e67b2-83a9-4cb7-afc0-558c500c8186",
   "metadata": {},
   "outputs": [
    {
     "name": "stdout",
     "output_type": "stream",
     "text": [
      "100 max_digit 10 dset_size 10000 100\n",
      "<class 'str'>\n",
      "100 max_digit 10 dset_size 10000 100\n",
      "<class 'str'>\n",
      "100 max_digit 10 dset_size 10000 100\n",
      "<class 'str'>\n",
      "100 max_digit 10 dset_size 10000 100\n",
      "<class 'str'>\n",
      "100 max_digit 10 dset_size 10000 100\n",
      "<class 'str'>\n",
      "100 max_digit 10 dset_size 10000 100\n",
      "<class 'str'>\n"
     ]
    },
    {
     "data": {
      "text/plain": [
       "['Return the sum of the inputs.',\n",
       " 'Return the quotient of the inputs.',\n",
       " 'Return the maximum of the inputs.',\n",
       " 'Return the difference of the inputs.',\n",
       " 'Return the fist of the inputs.',\n",
       " 'Return the product of the inputs.']"
      ]
     },
     "execution_count": 13,
     "metadata": {},
     "output_type": "execute_result"
    }
   ],
   "source": [
    "task_information = {}\n",
    "task_descriptions = []\n",
    "task_names = ['add_two', 'divide_two', 'max_two', 'subtract_two', 'first_two', 'multiply_two']\n",
    "# task_names = ['add_two', 'multiply_two', 'divide_two', 'subtract_two', 'max_two', 'first_two', 'SUFFIXES', 'square_one', 'exp_one', 'prime_one', 'double_one', 'fibonacci_one']\n",
    "# task_names = list(set(TASKS.keys()) - {'SUFFIXES'})\n",
    "\n",
    "for name in task_names:\n",
    "    # print(name)\n",
    "    dset, check_answer_func, description = get_data(args=args, task_name=name)\n",
    "    task_descriptions.append(description)\n",
    "    \n",
    "task_descriptions"
   ]
  },
  {
   "cell_type": "markdown",
   "id": "be39d822",
   "metadata": {},
   "source": [
    "# actually compute losses / accs"
   ]
  },
  {
   "cell_type": "code",
   "execution_count": 17,
   "id": "b7f1c23c-648e-4f01-b7d2-3c5125fa3505",
   "metadata": {},
   "outputs": [
    {
     "data": {
      "application/vnd.jupyter.widget-view+json": {
       "model_id": "6071f35857db4b14932c02d411746ca5",
       "version_major": 2,
       "version_minor": 0
      },
      "text/plain": [
       "  0%|          | 0/6 [00:00<?, ?it/s]"
      ]
     },
     "metadata": {},
     "output_type": "display_data"
    },
    {
     "name": "stdout",
     "output_type": "stream",
     "text": [
      "100 max_digit 10 dset_size 10000 100\n",
      "<class 'str'>\n",
      "[('Return the sum of the inputs. Given the input numbers 8 and 3, the answer is', ' 11.\\n\\n'), ('Return the sum of the inputs. Given the input numbers 5 and 3, the answer is', ' 8.\\n\\n')]\n",
      "Task: add_two \t Prefix: Return the sum of the inputs. \t Loss: 3.19\n",
      "100 max_digit 10 dset_size 10000 100\n",
      "<class 'str'>\n",
      "[('Return the quotient of the inputs. Given the input numbers 8 and 3, the answer is', ' 11.\\n\\n'), ('Return the quotient of the inputs. Given the input numbers 5 and 3, the answer is', ' 8.\\n\\n')]\n",
      "Task: add_two \t Prefix: Return the quotient of the inputs. \t Loss: 3.23\n",
      "100 max_digit 10 dset_size 10000 100\n",
      "<class 'str'>\n",
      "[('Return the maximum of the inputs. Given the input numbers 8 and 3, the answer is', ' 11.\\n\\n'), ('Return the maximum of the inputs. Given the input numbers 5 and 3, the answer is', ' 8.\\n\\n')]\n",
      "Task: add_two \t Prefix: Return the maximum of the inputs. \t Loss: 3.14\n",
      "100 max_digit 10 dset_size 10000 100\n",
      "<class 'str'>\n",
      "[('Return the difference of the inputs. Given the input numbers 8 and 3, the answer is', ' 11.\\n\\n'), ('Return the difference of the inputs. Given the input numbers 5 and 3, the answer is', ' 8.\\n\\n')]\n",
      "Task: add_two \t Prefix: Return the difference of the inputs. \t Loss: 3.24\n",
      "100 max_digit 10 dset_size 10000 100\n",
      "<class 'str'>\n",
      "[('Return the fist of the inputs. Given the input numbers 8 and 3, the answer is', ' 11.\\n\\n'), ('Return the fist of the inputs. Given the input numbers 5 and 3, the answer is', ' 8.\\n\\n')]\n",
      "Task: add_two \t Prefix: Return the fist of the inputs. \t Loss: 3.31\n",
      "100 max_digit 10 dset_size 10000 100\n",
      "<class 'str'>\n",
      "[('Return the product of the inputs. Given the input numbers 8 and 3, the answer is', ' 11.\\n\\n'), ('Return the product of the inputs. Given the input numbers 5 and 3, the answer is', ' 8.\\n\\n')]\n",
      "Task: add_two \t Prefix: Return the product of the inputs. \t Loss: 3.26\n",
      "100 max_digit 10 dset_size 10000 100\n",
      "<class 'str'>\n",
      "[('Return the sum of the inputs. Given the input numbers 8 and 3, the answer is', ' 8/3.\\n\\n'), ('Return the sum of the inputs. Given the input numbers 5 and 3, the answer is', ' 5/3.\\n\\n')]\n",
      "Task: divide_two \t Prefix: Return the sum of the inputs. \t Loss: 1.51\n",
      "100 max_digit 10 dset_size 10000 100\n",
      "<class 'str'>\n",
      "[('Return the quotient of the inputs. Given the input numbers 8 and 3, the answer is', ' 8/3.\\n\\n'), ('Return the quotient of the inputs. Given the input numbers 5 and 3, the answer is', ' 5/3.\\n\\n')]\n",
      "Task: divide_two \t Prefix: Return the quotient of the inputs. \t Loss: 1.45\n",
      "100 max_digit 10 dset_size 10000 100\n",
      "<class 'str'>\n",
      "[('Return the maximum of the inputs. Given the input numbers 8 and 3, the answer is', ' 8/3.\\n\\n'), ('Return the maximum of the inputs. Given the input numbers 5 and 3, the answer is', ' 5/3.\\n\\n')]\n",
      "Task: divide_two \t Prefix: Return the maximum of the inputs. \t Loss: 1.46\n",
      "100 max_digit 10 dset_size 10000 100\n",
      "<class 'str'>\n",
      "[('Return the difference of the inputs. Given the input numbers 8 and 3, the answer is', ' 8/3.\\n\\n'), ('Return the difference of the inputs. Given the input numbers 5 and 3, the answer is', ' 5/3.\\n\\n')]\n",
      "Task: divide_two \t Prefix: Return the difference of the inputs. \t Loss: 1.51\n",
      "100 max_digit 10 dset_size 10000 100\n",
      "<class 'str'>\n",
      "[('Return the fist of the inputs. Given the input numbers 8 and 3, the answer is', ' 8/3.\\n\\n'), ('Return the fist of the inputs. Given the input numbers 5 and 3, the answer is', ' 5/3.\\n\\n')]\n",
      "Task: divide_two \t Prefix: Return the fist of the inputs. \t Loss: 1.39\n",
      "100 max_digit 10 dset_size 10000 100\n",
      "<class 'str'>\n",
      "[('Return the product of the inputs. Given the input numbers 8 and 3, the answer is', ' 8/3.\\n\\n'), ('Return the product of the inputs. Given the input numbers 5 and 3, the answer is', ' 5/3.\\n\\n')]\n",
      "Task: divide_two \t Prefix: Return the product of the inputs. \t Loss: 1.56\n",
      "100 max_digit 10 dset_size 10000 100\n",
      "<class 'str'>\n",
      "[('Return the sum of the inputs. Given the input numbers 8 and 3, the answer is', ' 8.\\n\\n'), ('Return the sum of the inputs. Given the input numbers 5 and 3, the answer is', ' 5.\\n\\n')]\n",
      "Task: max_two \t Prefix: Return the sum of the inputs. \t Loss: 1.76\n",
      "100 max_digit 10 dset_size 10000 100\n",
      "<class 'str'>\n",
      "[('Return the quotient of the inputs. Given the input numbers 8 and 3, the answer is', ' 8.\\n\\n'), ('Return the quotient of the inputs. Given the input numbers 5 and 3, the answer is', ' 5.\\n\\n')]\n",
      "Task: max_two \t Prefix: Return the quotient of the inputs. \t Loss: 1.72\n",
      "100 max_digit 10 dset_size 10000 100\n",
      "<class 'str'>\n",
      "[('Return the maximum of the inputs. Given the input numbers 8 and 3, the answer is', ' 8.\\n\\n'), ('Return the maximum of the inputs. Given the input numbers 5 and 3, the answer is', ' 5.\\n\\n')]\n",
      "Task: max_two \t Prefix: Return the maximum of the inputs. \t Loss: 1.70\n",
      "100 max_digit 10 dset_size 10000 100\n",
      "<class 'str'>\n",
      "[('Return the difference of the inputs. Given the input numbers 8 and 3, the answer is', ' 8.\\n\\n'), ('Return the difference of the inputs. Given the input numbers 5 and 3, the answer is', ' 5.\\n\\n')]\n",
      "Task: max_two \t Prefix: Return the difference of the inputs. \t Loss: 1.79\n",
      "100 max_digit 10 dset_size 10000 100\n",
      "<class 'str'>\n",
      "[('Return the fist of the inputs. Given the input numbers 8 and 3, the answer is', ' 8.\\n\\n'), ('Return the fist of the inputs. Given the input numbers 5 and 3, the answer is', ' 5.\\n\\n')]\n",
      "Task: max_two \t Prefix: Return the fist of the inputs. \t Loss: 1.75\n",
      "100 max_digit 10 dset_size 10000 100\n",
      "<class 'str'>\n",
      "[('Return the product of the inputs. Given the input numbers 8 and 3, the answer is', ' 8.\\n\\n'), ('Return the product of the inputs. Given the input numbers 5 and 3, the answer is', ' 5.\\n\\n')]\n",
      "Task: max_two \t Prefix: Return the product of the inputs. \t Loss: 1.93\n",
      "100 max_digit 10 dset_size 10000 100\n",
      "<class 'str'>\n",
      "[('Return the sum of the inputs. Given the input numbers 8 and 3, the answer is', ' 5.\\n\\n'), ('Return the sum of the inputs. Given the input numbers 5 and 3, the answer is', ' 2.\\n\\n')]\n",
      "Task: subtract_two \t Prefix: Return the sum of the inputs. \t Loss: 3.21\n",
      "100 max_digit 10 dset_size 10000 100\n",
      "<class 'str'>\n",
      "[('Return the quotient of the inputs. Given the input numbers 8 and 3, the answer is', ' 5.\\n\\n'), ('Return the quotient of the inputs. Given the input numbers 5 and 3, the answer is', ' 2.\\n\\n')]\n",
      "Task: subtract_two \t Prefix: Return the quotient of the inputs. \t Loss: 3.16\n",
      "100 max_digit 10 dset_size 10000 100\n",
      "<class 'str'>\n",
      "[('Return the maximum of the inputs. Given the input numbers 8 and 3, the answer is', ' 5.\\n\\n'), ('Return the maximum of the inputs. Given the input numbers 5 and 3, the answer is', ' 2.\\n\\n')]\n",
      "Task: subtract_two \t Prefix: Return the maximum of the inputs. \t Loss: 3.15\n",
      "100 max_digit 10 dset_size 10000 100\n",
      "<class 'str'>\n",
      "[('Return the difference of the inputs. Given the input numbers 8 and 3, the answer is', ' 5.\\n\\n'), ('Return the difference of the inputs. Given the input numbers 5 and 3, the answer is', ' 2.\\n\\n')]\n",
      "Task: subtract_two \t Prefix: Return the difference of the inputs. \t Loss: 3.13\n",
      "100 max_digit 10 dset_size 10000 100\n",
      "<class 'str'>\n",
      "[('Return the fist of the inputs. Given the input numbers 8 and 3, the answer is', ' 5.\\n\\n'), ('Return the fist of the inputs. Given the input numbers 5 and 3, the answer is', ' 2.\\n\\n')]\n",
      "Task: subtract_two \t Prefix: Return the fist of the inputs. \t Loss: 3.12\n",
      "100 max_digit 10 dset_size 10000 100\n",
      "<class 'str'>\n",
      "[('Return the product of the inputs. Given the input numbers 8 and 3, the answer is', ' 5.\\n\\n'), ('Return the product of the inputs. Given the input numbers 5 and 3, the answer is', ' 2.\\n\\n')]\n",
      "Task: subtract_two \t Prefix: Return the product of the inputs. \t Loss: 3.21\n",
      "100 max_digit 10 dset_size 10000 100\n",
      "<class 'str'>\n",
      "[('Return the sum of the inputs. Given the input numbers 8 and 3, the answer is', ' 8.\\n\\n'), ('Return the sum of the inputs. Given the input numbers 5 and 3, the answer is', ' 5.\\n\\n')]\n",
      "Task: first_two \t Prefix: Return the sum of the inputs. \t Loss: 1.51\n",
      "100 max_digit 10 dset_size 10000 100\n",
      "<class 'str'>\n",
      "[('Return the quotient of the inputs. Given the input numbers 8 and 3, the answer is', ' 8.\\n\\n'), ('Return the quotient of the inputs. Given the input numbers 5 and 3, the answer is', ' 5.\\n\\n')]\n",
      "Task: first_two \t Prefix: Return the quotient of the inputs. \t Loss: 1.45\n",
      "100 max_digit 10 dset_size 10000 100\n",
      "<class 'str'>\n",
      "[('Return the maximum of the inputs. Given the input numbers 8 and 3, the answer is', ' 8.\\n\\n'), ('Return the maximum of the inputs. Given the input numbers 5 and 3, the answer is', ' 5.\\n\\n')]\n",
      "Task: first_two \t Prefix: Return the maximum of the inputs. \t Loss: 1.46\n",
      "100 max_digit 10 dset_size 10000 100\n",
      "<class 'str'>\n",
      "[('Return the difference of the inputs. Given the input numbers 8 and 3, the answer is', ' 8.\\n\\n'), ('Return the difference of the inputs. Given the input numbers 5 and 3, the answer is', ' 5.\\n\\n')]\n",
      "Task: first_two \t Prefix: Return the difference of the inputs. \t Loss: 1.51\n",
      "100 max_digit 10 dset_size 10000 100\n",
      "<class 'str'>\n",
      "[('Return the fist of the inputs. Given the input numbers 8 and 3, the answer is', ' 8.\\n\\n'), ('Return the fist of the inputs. Given the input numbers 5 and 3, the answer is', ' 5.\\n\\n')]\n",
      "Task: first_two \t Prefix: Return the fist of the inputs. \t Loss: 1.39\n",
      "100 max_digit 10 dset_size 10000 100\n",
      "<class 'str'>\n",
      "[('Return the product of the inputs. Given the input numbers 8 and 3, the answer is', ' 8.\\n\\n'), ('Return the product of the inputs. Given the input numbers 5 and 3, the answer is', ' 5.\\n\\n')]\n",
      "Task: first_two \t Prefix: Return the product of the inputs. \t Loss: 1.56\n",
      "100 max_digit 10 dset_size 10000 100\n",
      "<class 'str'>\n",
      "[('Return the sum of the inputs. Given the input numbers 8 and 3, the answer is', ' 24.\\n\\n'), ('Return the sum of the inputs. Given the input numbers 5 and 3, the answer is', ' 15.\\n\\n')]\n",
      "Task: multiply_two \t Prefix: Return the sum of the inputs. \t Loss: 3.94\n",
      "100 max_digit 10 dset_size 10000 100\n",
      "<class 'str'>\n",
      "[('Return the quotient of the inputs. Given the input numbers 8 and 3, the answer is', ' 24.\\n\\n'), ('Return the quotient of the inputs. Given the input numbers 5 and 3, the answer is', ' 15.\\n\\n')]\n",
      "Task: multiply_two \t Prefix: Return the quotient of the inputs. \t Loss: 3.96\n",
      "100 max_digit 10 dset_size 10000 100\n",
      "<class 'str'>\n",
      "[('Return the maximum of the inputs. Given the input numbers 8 and 3, the answer is', ' 24.\\n\\n'), ('Return the maximum of the inputs. Given the input numbers 5 and 3, the answer is', ' 15.\\n\\n')]\n",
      "Task: multiply_two \t Prefix: Return the maximum of the inputs. \t Loss: 3.84\n",
      "100 max_digit 10 dset_size 10000 100\n",
      "<class 'str'>\n",
      "[('Return the difference of the inputs. Given the input numbers 8 and 3, the answer is', ' 24.\\n\\n'), ('Return the difference of the inputs. Given the input numbers 5 and 3, the answer is', ' 15.\\n\\n')]\n",
      "Task: multiply_two \t Prefix: Return the difference of the inputs. \t Loss: 3.94\n",
      "100 max_digit 10 dset_size 10000 100\n",
      "<class 'str'>\n",
      "[('Return the fist of the inputs. Given the input numbers 8 and 3, the answer is', ' 24.\\n\\n'), ('Return the fist of the inputs. Given the input numbers 5 and 3, the answer is', ' 15.\\n\\n')]\n",
      "Task: multiply_two \t Prefix: Return the fist of the inputs. \t Loss: 4.06\n",
      "100 max_digit 10 dset_size 10000 100\n",
      "<class 'str'>\n",
      "[('Return the product of the inputs. Given the input numbers 8 and 3, the answer is', ' 24.\\n\\n'), ('Return the product of the inputs. Given the input numbers 5 and 3, the answer is', ' 15.\\n\\n')]\n",
      "Task: multiply_two \t Prefix: Return the product of the inputs. \t Loss: 3.95\n"
     ]
    }
   ],
   "source": [
    "# TODO incorporate check_answer_func... And use huggingface decoding for that?\n",
    "losses = np.zeros((len(task_names), len(task_descriptions)))\n",
    "accuracies = np.zeros((len(task_names), len(task_descriptions)))\n",
    "\n",
    "for i in trange(len(task_names), colour='red'):\n",
    "    name = task_names[i]\n",
    "    for j in range(len(task_descriptions)):\n",
    "        description = task_descriptions[j]\n",
    "        #\n",
    "        dset, check_answer_func, __this_task_description = get_data(args=args, task_name=name)\n",
    "        loss, acc = test_model_on_task_with_prefix(dset=dset, model=model, tokenizer=tokenizer, prefix=f'{description} ')\n",
    "        losses[i][j] += loss\n",
    "        accuracies[i][j] += acc\n",
    "        print(f'Task: {name} \\t Prefix: {description} \\t Loss: {loss:.2f}')"
   ]
  },
  {
   "cell_type": "markdown",
   "id": "2b339578",
   "metadata": {},
   "source": [
    "# visualize"
   ]
  },
  {
   "cell_type": "code",
   "execution_count": 31,
   "id": "4f28746a-371b-4b5e-aeba-caea074c3293",
   "metadata": {},
   "outputs": [
    {
     "data": {
      "text/plain": [
       "array([[3.19265242, 3.23083025, 3.1357052 , 3.235571  , 3.31267116,\n",
       "        3.26168505],\n",
       "       [1.51109893, 1.44633002, 1.45601496, 1.51155993, 1.39497642,\n",
       "        1.55795818],\n",
       "       [1.75977096, 1.72360866, 1.69920325, 1.79153757, 1.74525687,\n",
       "        1.92807514],\n",
       "       [3.20729408, 3.16238117, 3.1465535 , 3.13167665, 3.12276737,\n",
       "        3.20558901],\n",
       "       [1.51109893, 1.44633002, 1.45601496, 1.51155993, 1.39497642,\n",
       "        1.55795818],\n",
       "       [3.94299762, 3.95671725, 3.84400537, 3.93672501, 4.05881489,\n",
       "        3.95234875]])"
      ]
     },
     "execution_count": 31,
     "metadata": {},
     "output_type": "execute_result"
    }
   ],
   "source": [
    "losses"
   ]
  },
  {
   "cell_type": "code",
   "execution_count": 28,
   "id": "267bc948-79ec-44e1-b09b-1a84db2f6b7e",
   "metadata": {},
   "outputs": [
    {
     "data": {
      "text/plain": [
       "<AxesSubplot:>"
      ]
     },
     "execution_count": 28,
     "metadata": {},
     "output_type": "execute_result"
    },
    {
     "data": {
      "image/png": "[encoded data removed]",
      "text/plain": [
       "<Figure size 432x288 with 2 Axes>"
      ]
     },
     "metadata": {},
     "output_type": "display_data"
    }
   ],
   "source": [
    "sns.set()\n",
    "\n",
    "sns.heatmap(torch.tensor(losses).softmax(dim=1), yticklabels=task_names, xticklabels=task_descriptions)"
   ]
  },
  {
   "cell_type": "code",
   "execution_count": 30,
   "id": "63274e48-4915-4e70-a21e-beb3dbd25cc0",
   "metadata": {},
   "outputs": [
    {
     "data": {
      "text/plain": [
       "<AxesSubplot:>"
      ]
     },
     "execution_count": 30,
     "metadata": {},
     "output_type": "execute_result"
    },
    {
     "data": {
      "image/png": "[encoded data removed]",
      "text/plain": [
       "<Figure size 432x288 with 2 Axes>"
      ]
     },
     "metadata": {},
     "output_type": "display_data"
    }
   ],
   "source": [
    "sns.set()\n",
    "\n",
    "sns.heatmap(torch.tensor(accuracies).softmax(dim=1), yticklabels=task_names, xticklabels=task_descriptions)"
   ]
  }
 ],
 "metadata": {
  "kernelspec": {
   "display_name": "Python 3.8.10 ('.autoprompt')",
   "language": "python",
   "name": "python3"
  },
  "language_info": {
   "codemirror_mode": {
    "name": "ipython",
    "version": 3
   },
   "file_extension": ".py",
   "mimetype": "text/x-python",
   "name": "python",
   "nbconvert_exporter": "python",
   "pygments_lexer": "ipython3",
   "version": "3.8.10"
  },
  "vscode": {
   "interpreter": {
    "hash": "14b67e045ab4e623bbd9f77d231431043e985fd8f169f266aea842e78b0c1086"
   }
  }
 },
 "nbformat": 4,
 "nbformat_minor": 5
}
