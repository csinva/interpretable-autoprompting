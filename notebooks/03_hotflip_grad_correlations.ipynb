{
 "cells": [
  {
   "cell_type": "code",
   "execution_count": 6,
   "id": "c1c794e1-fadd-43d8-85d2-b86ef6acfd03",
   "metadata": {},
   "outputs": [],
   "source": [
    "import os\n",
    "import pickle\n",
    "\n",
    "root_dir = '/home/jxm3/random/interpretable-autoprompting/'\n",
    "\n",
    "hotflip_indices = pickle.load(open(os.path.join(root_dir, 'hotflip_grad_indices.p'), 'rb'))\n",
    "hotflip_values = pickle.load(open(os.path.join(root_dir, 'hotflip_grad_values.p'), 'rb'))\n",
    "hotflip_losses = pickle.load(open(os.path.join(root_dir, 'hotflip_losses.p'), 'rb'))"
   ]
  },
  {
   "cell_type": "code",
   "execution_count": 9,
   "id": "18b8ff59-8476-4997-8b6b-06051180cb63",
   "metadata": {},
   "outputs": [
    {
     "data": {
      "text/html": [
       "<div>\n",
       "<style scoped>\n",
       "    .dataframe tbody tr th:only-of-type {\n",
       "        vertical-align: middle;\n",
       "    }\n",
       "\n",
       "    .dataframe tbody tr th {\n",
       "        vertical-align: top;\n",
       "    }\n",
       "\n",
       "    .dataframe thead th {\n",
       "        text-align: right;\n",
       "    }\n",
       "</style>\n",
       "<table border=\"1\" class=\"dataframe\">\n",
       "  <thead>\n",
       "    <tr style=\"text-align: right;\">\n",
       "      <th></th>\n",
       "      <th>token_idx</th>\n",
       "      <th>grad_value</th>\n",
       "      <th>loss</th>\n",
       "    </tr>\n",
       "  </thead>\n",
       "  <tbody>\n",
       "    <tr>\n",
       "      <th>0</th>\n",
       "      <td>37633</td>\n",
       "      <td>-0.759008</td>\n",
       "      <td>28.759841</td>\n",
       "    </tr>\n",
       "    <tr>\n",
       "      <th>1</th>\n",
       "      <td>19510</td>\n",
       "      <td>-0.713214</td>\n",
       "      <td>28.386833</td>\n",
       "    </tr>\n",
       "    <tr>\n",
       "      <th>2</th>\n",
       "      <td>861</td>\n",
       "      <td>-0.693773</td>\n",
       "      <td>28.453197</td>\n",
       "    </tr>\n",
       "    <tr>\n",
       "      <th>3</th>\n",
       "      <td>33096</td>\n",
       "      <td>-0.663077</td>\n",
       "      <td>28.686625</td>\n",
       "    </tr>\n",
       "    <tr>\n",
       "      <th>4</th>\n",
       "      <td>41359</td>\n",
       "      <td>-0.643015</td>\n",
       "      <td>28.380645</td>\n",
       "    </tr>\n",
       "  </tbody>\n",
       "</table>\n",
       "</div>"
      ],
      "text/plain": [
       "   token_idx  grad_value       loss\n",
       "0      37633   -0.759008  28.759841\n",
       "1      19510   -0.713214  28.386833\n",
       "2        861   -0.693773  28.453197\n",
       "3      33096   -0.663077  28.686625\n",
       "4      41359   -0.643015  28.380645"
      ]
     },
     "execution_count": 9,
     "metadata": {},
     "output_type": "execute_result"
    }
   ],
   "source": [
    "import pandas as pd\n",
    "\n",
    "df = pd.DataFrame(zip(hotflip_indices, hotflip_values, hotflip_losses), columns=['token_idx', 'grad_value', 'loss'])\n",
    "df.head()"
   ]
  },
  {
   "cell_type": "code",
   "execution_count": 25,
   "id": "16e14393-e6d6-4e2d-b612-cf2700f8ef61",
   "metadata": {},
   "outputs": [
    {
     "data": {
      "text/plain": [
       "[Text(0.5, 0, 'gradient wrt word'),\n",
       " Text(0, 0.5, 'actual loss when word is substituted')]"
      ]
     },
     "execution_count": 25,
     "metadata": {},
     "output_type": "execute_result"
    },
    {
     "data": {
      "image/png": "[encoded data removed]",
      "text/plain": [
       "<Figure size 432x288 with 1 Axes>"
      ]
     },
     "metadata": {
      "needs_background": "light"
     },
     "output_type": "display_data"
    }
   ],
   "source": [
    "import math\n",
    "\n",
    "df['loss_scaled'] = df['loss'] / 10\n",
    "ax = df.plot(x='grad_value', y='loss_scaled', kind='scatter', logx=False, logy=False)\n",
    "ax.set(xlabel=\"gradient wrt word\", ylabel=\"actual loss when word is substituted\")"
   ]
  },
  {
   "cell_type": "code",
   "execution_count": 1,
   "id": "7967e354-7d54-4ee6-9d4d-c6560390a8e5",
   "metadata": {},
   "outputs": [],
   "source": [
    "import glob"
   ]
  },
  {
   "cell_type": "code",
   "execution_count": 4,
   "id": "28a1d45d-71b8-4420-a46d-4cb79108d46b",
   "metadata": {},
   "outputs": [
    {
     "data": {
      "text/plain": [
       "['../hotflip_grads_data_yes_preprefix.p', '../hotflip_grads_data.p']"
      ]
     },
     "execution_count": 4,
     "metadata": {},
     "output_type": "execute_result"
    }
   ],
   "source": [
    "glob.glob('../*.p')"
   ]
  },
  {
   "cell_type": "code",
   "execution_count": 16,
   "id": "2e2ff2ad-7b02-40ce-a59a-215e8996f463",
   "metadata": {},
   "outputs": [],
   "source": [
    "import pandas as pd\n",
    "import pickle\n",
    "\n",
    "data_raw = (\n",
    "    pickle.load(open('../hotflip_grads_data_yes_preprefix.p', 'rb'))\n",
    ")\n",
    "data = []\n",
    "epoch = -1\n",
    "rank = 0\n",
    "for d in data_raw:\n",
    "    if d[0] == 0:\n",
    "        epoch += 1\n",
    "        rank = 0\n",
    "    data.append((epoch, rank, *d[1:]))\n",
    "    rank += 1\n",
    "df = pd.DataFrame(data, columns=['epoch', 'rank', 'token', 'grad', 'n_correct'])"
   ]
  },
  {
   "cell_type": "code",
   "execution_count": 20,
   "id": "ac7a498e-954a-49ae-abad-cfe534eff440",
   "metadata": {},
   "outputs": [
    {
     "data": {
      "text/plain": [
       "<AxesSubplot:xlabel='rank', ylabel='grad'>"
      ]
     },
     "execution_count": 20,
     "metadata": {},
     "output_type": "execute_result"
    },
    {
     "data": {
      "image/png": "[encoded data removed]",
      "text/plain": [
       "<Figure size 432x288 with 1 Axes>"
      ]
     },
     "metadata": {
      "needs_background": "light"
     },
     "output_type": "display_data"
    }
   ],
   "source": [
    "import seaborn as sns\n",
    "sns.scat(kind='scatter', x='rank', y='grad')"
   ]
  },
  {
   "cell_type": "code",
   "execution_count": 11,
   "id": "ac5b7726-6fd8-4245-a957-4704d8363488",
   "metadata": {},
   "outputs": [
    {
     "data": {
      "text/plain": [
       "[]"
      ]
     },
     "execution_count": 11,
     "metadata": {},
     "output_type": "execute_result"
    }
   ],
   "source": [
    "data"
   ]
  },
  {
   "cell_type": "code",
   "execution_count": null,
   "id": "6e7adc37-7152-4fca-8dba-f6289b8cffc4",
   "metadata": {},
   "outputs": [],
   "source": []
  }
 ],
 "metadata": {
  "kernelspec": {
   "display_name": "Python 3 (ipykernel)",
   "language": "python",
   "name": "python3"
  },
  "language_info": {
   "codemirror_mode": {
    "name": "ipython",
    "version": 3
   },
   "file_extension": ".py",
   "mimetype": "text/x-python",
   "name": "python",
   "nbconvert_exporter": "python",
   "pygments_lexer": "ipython3",
   "version": "3.9.7"
  }
 },
 "nbformat": 4,
 "nbformat_minor": 5
}
