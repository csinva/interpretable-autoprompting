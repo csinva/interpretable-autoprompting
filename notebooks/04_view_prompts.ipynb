{
 "cells": [
  {
   "cell_type": "code",
   "execution_count": 40,
   "id": "1813f150-d26e-4d76-9d74-d54b56b7f524",
   "metadata": {},
   "outputs": [
    {
     "name": "stdout",
     "output_type": "stream",
     "text": [
      "The autoreload extension is already loaded. To reload it, use:\n",
      "  %reload_ext autoreload\n"
     ]
    }
   ],
   "source": [
    "%load_ext autoreload\n",
    "%autoreload 2\n",
    "import numpy as np\n",
    "import torch\n",
    "from torch import nn\n",
    "import matplotlib.pyplot as plt\n",
    "from copy import deepcopy\n",
    "import pandas as pd\n",
    "from tqdm import tqdm\n",
    "from collections import defaultdict\n",
    "from transformers import AutoTokenizer\n",
    "import pandas as pd\n",
    "import seaborn as sns\n",
    "from datasets import Dataset\n",
    "from os.path import join as oj\n",
    "import pickle as pkl\n",
    "import os\n",
    "import analyze_utils\n",
    "import dvu\n",
    "import re\n",
    "dvu.set_style()"
   ]
  },
  {
   "cell_type": "code",
   "execution_count": 4,
   "id": "9372f59f",
   "metadata": {},
   "outputs": [],
   "source": [
    "prompts_file = '../results/generalization_acc/math_prompts_with_accs_EleutherAI__gpt-j-6B.pkl'\n",
    "df = pkl.load(open(prompts_file, 'rb'))"
   ]
  },
  {
   "cell_type": "code",
   "execution_count": 24,
   "id": "50d0c5e8",
   "metadata": {},
   "outputs": [
    {
     "data": {
      "text/plain": [
       "array(['No prompt', 'Human-written prompt', 'AutoPrompt (6 tokens)',\n",
       "       'iPrompt (6 tokens)'], dtype=object)"
      ]
     },
     "execution_count": 24,
     "metadata": {},
     "output_type": "execute_result"
    }
   ],
   "source": [
    "df.legend.unique()"
   ]
  },
  {
   "cell_type": "code",
   "execution_count": 36,
   "id": "33dc2099",
   "metadata": {},
   "outputs": [],
   "source": [
    "d = df\n",
    "task_names = d.task_name.unique()\n",
    "r = defaultdict(list)\n",
    "for task_name in task_names:\n",
    "    d = df\n",
    "    d1 = d[d['legend'] == 'Human-written prompt']\n",
    "    r['Human-written prompt'].append(d1[d1.task_name == task_name].iloc[0]['prompt_actual'])\n",
    "\n",
    "\n",
    "    d = df[(df['legend'] == 'iPrompt (6 tokens)')]\n",
    "    d = d[(d.n_shots == 1) * (d.max_digit==10) * (d.model_name == 'model_6b')]\n",
    "    r['iPrompt (6 tokens)'].append(d[d.task_name == task_name].iloc[0]['prefixes'])\n",
    "\n",
    "    d = df[(df['legend'] == 'AutoPrompt (6 tokens)')]\n",
    "    d = d[(d.n_shots == 1) * (d.max_digit==10) * (d.model_name == 'model_6b')]\n",
    "    r['AutoPrompt (6 tokens)'].append(d[d.task_name == task_name].iloc[0]['prefixes'])\n",
    "\n",
    "    d"
   ]
  },
  {
   "cell_type": "code",
   "execution_count": 37,
   "id": "43b38577",
   "metadata": {},
   "outputs": [
    {
     "data": {
      "text/html": [
       "<div>\n",
       "<style scoped>\n",
       "    .dataframe tbody tr th:only-of-type {\n",
       "        vertical-align: middle;\n",
       "    }\n",
       "\n",
       "    .dataframe tbody tr th {\n",
       "        vertical-align: top;\n",
       "    }\n",
       "\n",
       "    .dataframe thead th {\n",
       "        text-align: right;\n",
       "    }\n",
       "</style>\n",
       "<table border=\"1\" class=\"dataframe\">\n",
       "  <thead>\n",
       "    <tr style=\"text-align: right;\">\n",
       "      <th></th>\n",
       "      <th>Human-written prompt</th>\n",
       "      <th>iPrompt (6 tokens)</th>\n",
       "      <th>AutoPrompt (6 tokens)</th>\n",
       "    </tr>\n",
       "  </thead>\n",
       "  <tbody>\n",
       "    <tr>\n",
       "      <th>add_two</th>\n",
       "      <td>Return the sum of the inputs.</td>\n",
       "      <td>Write a function int add(</td>\n",
       "      <td>addedthe +the use worked</td>\n",
       "    </tr>\n",
       "    <tr>\n",
       "      <th>multiply_two</th>\n",
       "      <td>Return the product of the inputs.</td>\n",
       "      <td>When you multiply two (</td>\n",
       "      <td>multiplythethe �the Multiple</td>\n",
       "    </tr>\n",
       "    <tr>\n",
       "      <th>divide_two</th>\n",
       "      <td>Return the quotient of the inputs.</td>\n",
       "      <td>n / N,where we</td>\n",
       "      <td>Kaplan MAG comprisingthe quarterly disproportion</td>\n",
       "    </tr>\n",
       "    <tr>\n",
       "      <th>subtract_two</th>\n",
       "      <td>Return the difference of the inputs.</td>\n",
       "      <td>If n &gt; m then subtract</td>\n",
       "      <td>opposably exactly subtractFor YEAR</td>\n",
       "    </tr>\n",
       "    <tr>\n",
       "      <th>max_two</th>\n",
       "      <td>Return the maximum of the inputs.</td>\n",
       "      <td>Which number has a bigger value</td>\n",
       "      <td>NumberthetheJusticeJaDefault</td>\n",
       "    </tr>\n",
       "    <tr>\n",
       "      <th>first_two</th>\n",
       "      <td>Return the first of the inputs.</td>\n",
       "      <td>The first digit of both values</td>\n",
       "      <td>greater name sorting indiscrim to numbers</td>\n",
       "    </tr>\n",
       "    <tr>\n",
       "      <th>square_one</th>\n",
       "      <td>Square the input to get the output.</td>\n",
       "      <td>Write a function that calculates square</td>\n",
       "      <td>multiplythe hypot Norttheirl</td>\n",
       "    </tr>\n",
       "    <tr>\n",
       "      <th>exp_one</th>\n",
       "      <td>Exponentiate the input to get the output.</td>\n",
       "      <td>Use BigInteger and double (</td>\n",
       "      <td>Smythe webpage fle clin McA</td>\n",
       "    </tr>\n",
       "    <tr>\n",
       "      <th>double_one</th>\n",
       "      <td>Given an input x, return 2*x.</td>\n",
       "      <td>write a function called double that</td>\n",
       "      <td>ADDthe introducedpareat contraceptives</td>\n",
       "    </tr>\n",
       "    <tr>\n",
       "      <th>fibonacci_one</th>\n",
       "      <td>Given an input x, return the xth fibonacci num...</td>\n",
       "      <td>how to prove an algorithm correctness</td>\n",
       "      <td>betweenthe made one uped</td>\n",
       "    </tr>\n",
       "  </tbody>\n",
       "</table>\n",
       "</div>"
      ],
      "text/plain": [
       "                                            Human-written prompt  \\\n",
       "add_two                           Return the sum of the inputs.    \n",
       "multiply_two                  Return the product of the inputs.    \n",
       "divide_two                   Return the quotient of the inputs.    \n",
       "subtract_two               Return the difference of the inputs.    \n",
       "max_two                       Return the maximum of the inputs.    \n",
       "first_two                       Return the first of the inputs.    \n",
       "square_one                  Square the input to get the output.    \n",
       "exp_one               Exponentiate the input to get the output.    \n",
       "double_one                        Given an input x, return 2*x.    \n",
       "fibonacci_one  Given an input x, return the xth fibonacci num...   \n",
       "\n",
       "                                     iPrompt (6 tokens)  \\\n",
       "add_two                       Write a function int add(   \n",
       "multiply_two                    When you multiply two (   \n",
       "divide_two                               n / N,where we   \n",
       "subtract_two                     If n > m then subtract   \n",
       "max_two                 Which number has a bigger value   \n",
       "first_two                The first digit of both values   \n",
       "square_one      Write a function that calculates square   \n",
       "exp_one                     Use BigInteger and double (   \n",
       "double_one          write a function called double that   \n",
       "fibonacci_one     how to prove an algorithm correctness   \n",
       "\n",
       "                                           AutoPrompt (6 tokens)  \n",
       "add_two                                 addedthe +the use worked  \n",
       "multiply_two                        multiplythethe �the Multiple  \n",
       "divide_two      Kaplan MAG comprisingthe quarterly disproportion  \n",
       "subtract_two                  opposably exactly subtractFor YEAR  \n",
       "max_two                             NumberthetheJusticeJaDefault  \n",
       "first_two              greater name sorting indiscrim to numbers  \n",
       "square_one                          multiplythe hypot Norttheirl  \n",
       "exp_one                              Smythe webpage fle clin McA  \n",
       "double_one                ADDthe introducedpareat contraceptives  \n",
       "fibonacci_one                           betweenthe made one uped  "
      ]
     },
     "execution_count": 37,
     "metadata": {},
     "output_type": "execute_result"
    }
   ],
   "source": [
    "rf = pd.DataFrame.from_dict(r) #, index=task_names)\n",
    "rf.index = task_names\n",
    "rf"
   ]
  },
  {
   "cell_type": "code",
   "execution_count": null,
   "id": "0d61a66d",
   "metadata": {},
   "outputs": [],
   "source": [
    "s = rf.to_latex()\n",
    "# print(s)\n",
    "import re\n",
    "text = 'datagy -- is. great!'\n",
    "# print(re.sub(r\"[^a-zA-Z0-9 ]\", \"\", s)) # remove special chars\n",
    "print(s)"
   ]
  },
  {
   "cell_type": "code",
   "execution_count": null,
   "id": "692cb362",
   "metadata": {},
   "outputs": [],
   "source": []
  }
 ],
 "metadata": {
  "kernelspec": {
   "display_name": "Python 3 (ipykernel)",
   "language": "python",
   "name": "python3"
  },
  "language_info": {
   "codemirror_mode": {
    "name": "ipython",
    "version": 3
   },
   "file_extension": ".py",
   "mimetype": "text/x-python",
   "name": "python",
   "nbconvert_exporter": "python",
   "pygments_lexer": "ipython3",
   "version": "3.8.10"
  },
  "vscode": {
   "interpreter": {
    "hash": "14b67e045ab4e623bbd9f77d231431043e985fd8f169f266aea842e78b0c1086"
   }
  }
 },
 "nbformat": 4,
 "nbformat_minor": 5
}
