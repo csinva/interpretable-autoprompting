{
 "cells": [
  {
   "cell_type": "markdown",
   "metadata": {},
   "source": [
    "In this file, we first load the fMRI data for each voxel we want to prediction.\n",
    "- We then calculate a text description for each voxel, which we hope will corresponding to a semantic concept\n",
    "- Next, we visualize these concepts and select a couple best ones\n",
    "- We visualize the best ones\n",
    "- We then validate that the best ones are spatially close together"
   ]
  },
  {
   "cell_type": "code",
   "execution_count": 1,
   "metadata": {},
   "outputs": [],
   "source": [
    "%load_ext autoreload\n",
    "%autoreload 2\n",
    "import sys\n",
    "import matplotlib.pyplot as plt\n",
    "from matplotlib.pyplot import cm\n",
    "import numpy as np\n",
    "from tqdm import tqdm\n",
    "import pickle as pkl\n",
    "import scipy\n",
    "import random\n",
    "import os\n",
    "from os.path import join as oj\n",
    "import cortex # brain viz library\n",
    "from transformers import AutoModel, AutoModelForCausalLM, AutoTokenizer\n",
    "from iprompt import suffix\n",
    "from iprompt.data_utils import neuro\n",
    "import pandas as pd\n",
    "import string\n",
    "from collections import defaultdict\n",
    "from matplotlib.pyplot import cm\n",
    "import dvu\n",
    "from datasets import Dataset\n",
    "dvu.set_style()\n",
    "from copy import deepcopy\n",
    "\n",
    "# initial set up\n",
    "checkpoint = 'EleutherAI/gpt-neox-20b'\n",
    "save_dir = f'/home/chansingh/results_fast/fmri/{checkpoint.replace(\"/\", \"___\")}/logits'\n",
    "# save_dir = f'/home/chansingh/mntv1/fmri/20B/logits_{checkpoint}'\n",
    "tokenizer = AutoTokenizer.from_pretrained(checkpoint)\n",
    "tokenizer.pad_token = tokenizer.eos_token\n",
    "word_lists = neuro.fetch_data(n_words=15)"
   ]
  },
  {
   "cell_type": "markdown",
   "metadata": {},
   "source": [
    "**merge logits**"
   ]
  },
  {
   "cell_type": "code",
   "execution_count": 8,
   "metadata": {},
   "outputs": [],
   "source": [
    "seeds = range(1, 3)\n",
    "for seed in seeds:\n",
    "    if seed == 1: \n",
    "        all_logits = pkl.load(open(oj(save_dir, f'all_logits_seed={seed}.pkl'), 'rb'))\n",
    "    else:\n",
    "        all_logits += pkl.load(open(oj(save_dir, f'all_logits_seed={seed}.pkl'), 'rb'))\n",
    "all_logits /= len(seeds)\n",
    "pkl.dump(all_logits, open(oj(save_dir, f'all_logits_avg.pkl'), 'wb'))"
   ]
  },
  {
   "cell_type": "markdown",
   "metadata": {},
   "source": [
    "# Decode top tokens"
   ]
  },
  {
   "cell_type": "code",
   "execution_count": 2,
   "metadata": {},
   "outputs": [
    {
     "name": "stderr",
     "output_type": "stream",
     "text": [
      "[nltk_data] Downloading package stopwords to\n",
      "[nltk_data]     /home/chansingh/nltk_data...\n",
      "[nltk_data]   Package stopwords is already up-to-date!\n"
     ]
    }
   ],
   "source": [
    "all_logits = pkl.load(open(oj(save_dir, 'all_logits_avg.pkl'), 'rb'))\n",
    "STOPWORDS = suffix.get_stopwords()"
   ]
  },
  {
   "cell_type": "code",
   "execution_count": 3,
   "metadata": {},
   "outputs": [
    {
     "name": "stdout",
     "output_type": "stream",
     "text": [
      "sheet, edges, diameter, strips, cardboard, copper, steel, colored, coloured, leaf, wire, cap, paper, shaped, tin\n",
      "\t metal,  material,  shape,  container,  thin,  metallic,  metals,  Metal,  materials,  flat,  named,  thing,  packaging,  containers,  stuff,  metall,  category,  shapes,  rectangular,  Material\n",
      "\n",
      "lighter, vertical, diameter, edges, horizontal, cap, rear, underneath, sheet, mounted, circular, cylinder, plate, mm, yellow\n",
      "\t shape,  cylinder,  plate,  circular,  container,  size,  measurement,  circle,  surface,  cylindrical,  part,  geometric,  light,  material,  vertical,  lighting,  thing,  round,  flat,  geometrical\n",
      "\n",
      "cap, ink, lighter, colored, leather, strips, sheet, plastic, cardboard, powder, copper, leaf, thicker, rubber, cloth\n",
      "\t material,  plastic,  clothing,  fabric,  plastics,  materials,  clothes,  stuff,  substance,  thing,  container,  rubber,  texture,  color,  text,  textile,  household,  cloth,  thin,  product\n",
      "\n",
      "paper, cap, colored, printed, sheet, orange, yellow, cloth, coat, strips, green, tin, ink, red, coloured\n",
      "\t clothing,  clothes,  color,  garment,  textile,  printed,  text,  fabric,  material,  cloth,  printing,  colour,  print,  shirt,  yellow,  ink,  Col,  thing,  named,  colors\n",
      "\n",
      "edges, diameter, shapes, vertical, coloured, curved, layers, mm, shape, shaped, strips, leaf, circular, layer, sheet\n",
      "\t shape,  shapes,  curved,  Shape,  geometric,  circular,  curve,  surface,  plant,  part,  tree,  material,  geometry,  circle,  leaves,  flat,  rectangular,  geometrical,  circles,  layers\n",
      "\n"
     ]
    }
   ],
   "source": [
    "def get_top_decoded_tokens(next_token_logits, top_k=20):\n",
    "    # decode top tokens\n",
    "    top_k_inds = np.arange(next_token_logits.size)\n",
    "    top_k_inds = top_k_inds[np.argsort(next_token_logits[top_k_inds])][::-1]\n",
    "    top_decoded_tokens = np.array(\n",
    "        [tokenizer.decode(ind) for ind in top_k_inds])\n",
    "\n",
    "    # remove nonsense\n",
    "    STOPWORDS_PHRASING = ['called', 'simply', 'either', 'probably']\n",
    "    STOPWORDS_EXTRA = ['something', 'things', 'type', 'object', 'objects']    \n",
    "    disallowed_idxs = np.array([\n",
    "        # general\n",
    "        s.isspace() # space\n",
    "        or all(c in string.punctuation for c in s.strip()) # punc\n",
    "        or len(s) <= 3 # length\n",
    "        or s == s.upper() # all CAPS tokens\n",
    "\n",
    "        # keywords\n",
    "        or s.lower().strip() in STOPWORDS # stopwords \n",
    "        or s.lower().strip() in STOPWORDS_PHRASING # stopwords  \n",
    "        or s.lower().strip() in STOPWORDS_EXTRA # stopwords  \n",
    "\n",
    "        # check if it is one of the inputs\n",
    "        or s.strip().lower() in word_lists[0] # not one of the inputs\n",
    "        or s.strip().lower() + 's' in word_lists[0] # plural not in inputs\n",
    "        or s.strip().lower() in [word + 's' for word in word_lists[0]] # singular not in inputs\n",
    "        for s in top_decoded_tokens],\n",
    "        dtype=bool)\n",
    "    top_k_inds = top_k_inds[~disallowed_idxs]\n",
    "    top_decoded_tokens = top_decoded_tokens[~disallowed_idxs]\n",
    "    return top_decoded_tokens[:top_k]\n",
    "\n",
    "# Let's look at some example\n",
    "for i in range(5):\n",
    "    # print(make_prompt_from_word_list(word_lists[i]))\n",
    "    print(', '.join(word_lists[i]))\n",
    "    print('\\t' + ', '.join(get_top_decoded_tokens(all_logits[i])))\n",
    "    print()"
   ]
  },
  {
   "cell_type": "code",
   "execution_count": 5,
   "metadata": {},
   "outputs": [
    {
     "name": "stdout",
     "output_type": "stream",
     "text": [
      "looping over 20 voxels\n"
     ]
    },
    {
     "name": "stderr",
     "output_type": "stream",
     "text": [
      "100%|██████████| 20/20 [00:15<00:00,  1.31it/s]"
     ]
    },
    {
     "name": "stdout",
     "output_type": "stream",
     "text": [
      "' material' 17\n",
      "' clothing' 11\n",
      "' fabric' 10\n",
      "' color' 10\n",
      "' text' 10\n",
      "' clothes' 9\n",
      "' textile' 9\n",
      "' materials' 8\n",
      "' cloth' 8\n",
      "' garment' 8\n"
     ]
    },
    {
     "name": "stderr",
     "output_type": "stream",
     "text": [
      "\n"
     ]
    }
   ],
   "source": [
    "# look at recurring words over the top voxels\n",
    "n_top_voxels = 20\n",
    "decoded_token_counts = defaultdict(int)\n",
    "print('looping over', n_top_voxels, 'voxels')\n",
    "for i in tqdm(range(n_top_voxels)):\n",
    "    top_decoded_tokens = get_top_decoded_tokens(all_logits[i], top_k=20)\n",
    "    for tok in top_decoded_tokens:\n",
    "        decoded_token_counts[tok] += 1\n",
    "for k, v in sorted(decoded_token_counts.items(), key=lambda x: x[1], reverse=True)[:10]:\n",
    "    print(repr(k), v)"
   ]
  },
  {
   "cell_type": "code",
   "execution_count": 6,
   "metadata": {},
   "outputs": [],
   "source": [
    "# select a couple\n",
    "concepts = [' material', ' color', ' fabric', ' text', ' surface']\n",
    "concept_ids = [tokenizer.encode(concepts[i])[0] for i in range(len(concepts))]\n",
    "scores_list = [all_logits[:, concept_ids[i]] for i in range(len(concepts))]\n",
    "# all_probs = scipy.special.softmax(all_logits, axis=-1)\n",
    "# probs_list = [all_probs[:, concept_ids[i]] for i in range(len(concepts))]"
   ]
  },
  {
   "cell_type": "markdown",
   "metadata": {},
   "source": [
    "# Show that scores are spatially clustered"
   ]
  },
  {
   "cell_type": "code",
   "execution_count": null,
   "metadata": {},
   "outputs": [],
   "source": [
    "meta = neuro.fetch_meta()\n",
    "def deltas(idx, delta=1, dim_size=100):\n",
    "    return max(0, idx - delta), min(idx + delta, dim_size)\n",
    "\n",
    "\n",
    "def compute_avg_std(scores, meta):\n",
    "    s = np.zeros(meta['mask'].shape)\n",
    "    s[meta['mask'] > 0] = neuro.remap_scores_best_to_scores_all(\n",
    "        scores, meta['corrsort'])\n",
    "    num_blocks = 0\n",
    "    stds = []\n",
    "    for x in range(s.shape[0]):\n",
    "        for y in range(s.shape[1]):\n",
    "            for z in range(s.shape[2]):\n",
    "                if s[x, y, z]:\n",
    "                    xmin, xmax = deltas(x, dim_size=s.shape[0])\n",
    "                    ymin, ymax = deltas(y, dim_size=s.shape[1])\n",
    "                    zmin, zmax = deltas(z, dim_size=s.shape[2])\n",
    "                    \n",
    "                    neighbors_mask = meta['mask'][xmin: xmax, ymin: ymax, zmin: zmax]\n",
    "                    # print(neighbors_mask.sum())\n",
    "                    if neighbors_mask.sum() > 2:\n",
    "                        num_blocks += 1\n",
    "                        neighbors = s[xmin: xmax, ymin: ymax, zmin: zmax]\n",
    "                        neighbors = neighbors[neighbors > 0]\n",
    "                        # print(neighbors_mask.sum(), (neighbors>0).sum()) # note, neighbors has more zeros than mask, only 10k out of the total 310k\n",
    "                        # print(neighbors)\n",
    "                        stds.append(np.std(neighbors))\n",
    "    return np.mean(stds)\n",
    "\n",
    "# metric: variance in value among neighbors (actual vs randomized)\n",
    "num_rand_repeats = 5\n",
    "llm_avg = []\n",
    "rand_avg = []\n",
    "rand_std = []\n",
    "for i, concept_id in enumerate(concept_ids):\n",
    "    scores = deepcopy(all_logits[:, concept_id].squeeze())\n",
    "    llm_avg.append(compute_avg_std(scores, meta))\n",
    "    rands = []\n",
    "    for i in range(num_rand_repeats):\n",
    "        np.random.shuffle(scores)\n",
    "        rands.append(compute_avg_std(scores, meta))\n",
    "    rand_avg.append(np.mean(rands))\n",
    "    rand_std.append(np.std(rands) / np.sqrt(len(rands)))\n"
   ]
  },
  {
   "cell_type": "code",
   "execution_count": 20,
   "metadata": {},
   "outputs": [
    {
     "data": {
      "image/png": "[encoded data removed]",
      "text/plain": [
       "<Figure size 400x300 with 1 Axes>"
      ]
     },
     "metadata": {},
     "output_type": "display_data"
    }
   ],
   "source": [
    "plt.figure(figsize=(4, 3))\n",
    "xticks = np.arange(len(concept_ids))\n",
    "plt.errorbar(xticks, rand_avg, yerr=rand_std, ls='none', marker='.', label='Shuffled scores')\n",
    "plt.plot(xticks, llm_avg, ls='none', marker='.', label='Actual scores')\n",
    "ax = plt.gca()\n",
    "ax.spines['right'].set_visible(False)\n",
    "ax.spines['top'].set_visible(False)\n",
    "plt.xticks(xticks, labels=concepts)\n",
    "plt.ylabel('Variance between\\nneighboring voxel scores')\n",
    "plt.xlabel('Concept')\n",
    "plt.legend(bbox_to_anchor=(1, 0.8))\n",
    "plt.savefig('results/fmri/concepts_clustered.pdf', bbox_inches='tight')"
   ]
  },
  {
   "cell_type": "markdown",
   "metadata": {},
   "source": [
    "# Visualize scores"
   ]
  },
  {
   "cell_type": "code",
   "execution_count": null,
   "metadata": {},
   "outputs": [],
   "source": [
    "import cortex\n",
    "meta = neuro.fetch_meta()\n",
    "\n",
    "def flatmap_quickshow(scores, mask, corrsort,\n",
    "                      with_rois=True, with_labels=True,\n",
    "                      vmin=None, vmax=None, cmap=cm.hot):\n",
    "    \"\"\"\n",
    "    rois & labels require inkscape\n",
    "\n",
    "    # there's also a fancy web version\n",
    "    # cortex.webshow(corrvol, port=8889, open_browser=False)\n",
    "    \"\"\"\n",
    "    if vmin is None:\n",
    "        vmin = scores.min()\n",
    "    if vmax is None:\n",
    "        vmax = scores.max()\n",
    "    scores_reshaped = neuro.remap_scores_best_to_scores_all(scores, corrsort)\n",
    "    corrvol = cortex.Volume(scores_reshaped, \"S1\", \"fullhead\",\n",
    "                            mask=mask, vmin=vmin, vmax=vmax, cmap=cmap)\n",
    "    cortex.quickshow(corrvol, with_rois=with_rois,\n",
    "                     with_labels=with_labels, colorbar_location='right')\n",
    "\n",
    "def flatmap_quickshow_2d(scores1, scores2, mask, corrsort,\n",
    "                      with_rois=True, with_labels=True,\n",
    "                      cmap=cm.hot):\n",
    "    \"\"\"\n",
    "    rois & labels require inkscape\n",
    "\n",
    "    # there's also a fancy web version\n",
    "    # cortex.webshow(corrvol, port=8889, open_browser=False)\n",
    "    \"\"\"\n",
    "    s1 = np.zeros(mask.shape)\n",
    "    s1[mask > 0] = neuro.remap_scores_best_to_scores_all(scores1, corrsort)\n",
    "\n",
    "\n",
    "    s2 = np.zeros(mask.shape)\n",
    "    s2[mask > 0] = neuro.remap_scores_best_to_scores_all(scores2, corrsort)\n",
    "    # scores_reshaped = neuro.remap_scores_best_to_scores_all(scores, corrsort)\n",
    "    # corrvol = cortex.Volume(scores_reshaped, \"S1\", \"fullhead\",\n",
    "    #                         mask=mask, vmin=vmin, vmax=vmax, cmap=cmap)\n",
    "\n",
    "    vol_data = cortex.Volume2D(s1, s2, \"S1\", \"fullhead\",\n",
    "                           mask=meta['mask'],\n",
    "                           vmin=np.min(s1), vmax=np.max(s1),\n",
    "                           vmin2=np.min(s2), vmax2=np.max(s2),\n",
    "                        #    cmap='BuOr_2D'\n",
    "                            cmap='PU_RdBu_covar',\n",
    "                           )\n",
    "    cortex.quickshow(vol_data, with_colorbar=True, colorbar_location='right')\n",
    "    # cortex.quickshow(corrvol, with_rois=with_rois,\n",
    "                    #  with_labels=with_labels, colorbar_location='right')\n",
    "    # print(plt.gca().xticks([0, 3]))\n",
    "\n",
    "flatmap_quickshow_2d(scores_list[0], scores_list[1], meta['mask'], meta['corrsort'], )\n",
    "plt.savefig('flatmap.pdf')\n",
    "# note x-axis of 2d colorbar represents the first scores\n",
    "# flatmap_quickshow_2d(probs_list[0], probs_list[1], meta['mask'], meta['corrsort'])"
   ]
  },
  {
   "cell_type": "code",
   "execution_count": null,
   "metadata": {},
   "outputs": [],
   "source": [
    "flatmap_quickshow(scores_list[0] - scores_list[1], meta['mask'], meta['corrsort'],\n",
    "                  with_rois=True, with_labels=True)\n",
    "plt.show()"
   ]
  },
  {
   "cell_type": "code",
   "execution_count": null,
   "metadata": {},
   "outputs": [],
   "source": [
    "scores = scores_list[1]\n",
    "flatmap_quickshow(scores, meta['mask'], meta['corrsort'],\n",
    "                  with_rois=True, with_labels=True, vmin=scores.min(), vmax=scores.max())"
   ]
  }
 ],
 "metadata": {
  "kernelspec": {
   "display_name": "Python 3.8.10 ('.autoprompt')",
   "language": "python",
   "name": "python3"
  },
  "language_info": {
   "codemirror_mode": {
    "name": "ipython",
    "version": 3
   },
   "file_extension": ".py",
   "mimetype": "text/x-python",
   "name": "python",
   "nbconvert_exporter": "python",
   "pygments_lexer": "ipython3",
   "version": "3.8.10"
  },
  "orig_nbformat": 4,
  "vscode": {
   "interpreter": {
    "hash": "14b67e045ab4e623bbd9f77d231431043e985fd8f169f266aea842e78b0c1086"
   }
  }
 },
 "nbformat": 4,
 "nbformat_minor": 2
}
