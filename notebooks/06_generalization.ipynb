{
 "cells": [
  {
   "cell_type": "markdown",
   "metadata": {},
   "source": [
    "This notebook aims to assess the generalization accuracy of a generated suffix, assuming a data-split was used during training."
   ]
  },
  {
   "cell_type": "code",
   "execution_count": 14,
   "metadata": {},
   "outputs": [
    {
     "name": "stdout",
     "output_type": "stream",
     "text": [
      "The autoreload extension is already loaded. To reload it, use:\n",
      "  %reload_ext autoreload\n"
     ]
    }
   ],
   "source": [
    "%load_ext autoreload\n",
    "%autoreload 2\n",
    "import numpy as np\n",
    "import torch\n",
    "from torch import nn\n",
    "import matplotlib.pyplot as plt\n",
    "from copy import deepcopy\n",
    "import pandas as pd\n",
    "from tqdm import tqdm\n",
    "from collections import defaultdict\n",
    "from transformers import AutoTokenizer\n",
    "import pandas as pd\n",
    "import seaborn as sns\n",
    "from types import SimpleNamespace\n",
    "from datasets import Dataset\n",
    "from os.path import join as oj\n",
    "import pickle as pkl\n",
    "import os\n",
    "import dvu\n",
    "dvu.set_style()\n",
    "import analyze_utils\n",
    "import sys\n",
    "sys.path.append('..')\n",
    "import data\n",
    "\n",
    "cols_output = ['final_answer_found',\n",
    "               'final_model_queries', 'final_num_suffixes_checked']"
   ]
  },
  {
   "cell_type": "markdown",
   "metadata": {},
   "source": [
    "# Load the results + get generated suffixes"
   ]
  },
  {
   "cell_type": "code",
   "execution_count": 15,
   "metadata": {},
   "outputs": [],
   "source": [
    "# dir_single_query = '/home/chansingh/mntv1/single_query_math_9_17' # single-digit\n",
    "dir_single_query = '/home/chansingh/mntv1/single_query_math_double_digit'\n",
    "# dir_single_query = '/home/chansingh/mntv1/single_query_math_long_suffs' # suffix results\n",
    "# r = analyze_utils.load_results_and_cache(dir_single_query, save_file='r.pkl')\n",
    "r_single_query = pd.read_pickle(os.path.join(dir_single_query, 'r.pkl'))\n",
    "r_single_query = analyze_utils.postprocess_results(r_single_query)\n",
    "\n",
    "# dir_suffix_search = '/home/chansingh/mntv1/suffix_math_9_17' # single-digit\n",
    "dir_suffix_search = '/home/chansingh/mntv1/suffix_math_double_digit'\n",
    "# dir_suffix_search = '/home/chansingh/mntv1/suffix_math_long_suffs'\n",
    "# r_suffix_search = analyze_utils.load_results_and_cache(dir_suffix_search, save_file='r.pkl')\n",
    "r_suffix_search = pd.read_pickle(os.path.join(dir_suffix_search, 'r.pkl'))\n",
    "r_suffix_search = analyze_utils.postprocess_results(r_suffix_search)\n",
    "\n",
    "# r = r_single_query\n",
    "r = pd.concat((r_single_query, r_suffix_search)).sort_values('checkpoint')\n",
    "# r.to_pickle(f'../results/prompt_gen/results_suffix_math.pkl')"
   ]
  },
  {
   "cell_type": "markdown",
   "metadata": {},
   "source": [
    "# Test generalization acc post-hoc"
   ]
  },
  {
   "cell_type": "code",
   "execution_count": 16,
   "metadata": {},
   "outputs": [],
   "source": [
    "args = r.iloc[0]"
   ]
  },
  {
   "cell_type": "code",
   "execution_count": 19,
   "metadata": {},
   "outputs": [],
   "source": [
    "np.random.seed(args.seed)\n",
    "(dset, dset_test), check_answer_func, descr = data.get_data(\n",
    "            args, args.task_name, n_shots=args.n_shots, train_split_frac=args.train_split_frac)"
   ]
  },
  {
   "cell_type": "code",
   "execution_count": 20,
   "metadata": {},
   "outputs": [
    {
     "data": {
      "text/plain": [
       "(1000, 4)"
      ]
     },
     "execution_count": 20,
     "metadata": {},
     "output_type": "execute_result"
    }
   ],
   "source": [
    "dset.shape"
   ]
  },
  {
   "cell_type": "code",
   "execution_count": 21,
   "metadata": {},
   "outputs": [
    {
     "data": {
      "text/plain": [
       "{'text': 'Given the input numbers 38 and 57, the answer is 95.\\n\\n',\n",
       " 'input': 'Given the input numbers 38 and 57, the answer is',\n",
       " 'output': ' 95.\\n\\n',\n",
       " '__index_level_0__': 507}"
      ]
     },
     "execution_count": 21,
     "metadata": {},
     "output_type": "execute_result"
    }
   ],
   "source": [
    "dset[0]"
   ]
  },
  {
   "cell_type": "code",
   "execution_count": null,
   "metadata": {},
   "outputs": [],
   "source": []
  }
 ],
 "metadata": {
  "kernelspec": {
   "display_name": "Python 3.8.10 ('.autoprompt')",
   "language": "python",
   "name": "python3"
  },
  "language_info": {
   "codemirror_mode": {
    "name": "ipython",
    "version": 3
   },
   "file_extension": ".py",
   "mimetype": "text/x-python",
   "name": "python",
   "nbconvert_exporter": "python",
   "pygments_lexer": "ipython3",
   "version": "3.8.10"
  },
  "orig_nbformat": 4,
  "vscode": {
   "interpreter": {
    "hash": "14b67e045ab4e623bbd9f77d231431043e985fd8f169f266aea842e78b0c1086"
   }
  }
 },
 "nbformat": 4,
 "nbformat_minor": 2
}
