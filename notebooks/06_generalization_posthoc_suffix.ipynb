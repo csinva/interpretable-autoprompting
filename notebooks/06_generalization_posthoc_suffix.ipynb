{
 "cells": [
  {
   "cell_type": "markdown",
   "metadata": {},
   "source": [
    "This notebook aims to assess the generalization accuracy of a generated suffix, assuming a data-split was used during training."
   ]
  },
  {
   "cell_type": "code",
   "execution_count": 1,
   "metadata": {},
   "outputs": [],
   "source": [
    "%load_ext autoreload\n",
    "%autoreload 2\n",
    "import numpy as np\n",
    "import torch\n",
    "from torch import nn\n",
    "import matplotlib.pyplot as plt\n",
    "from copy import deepcopy\n",
    "import pandas as pd\n",
    "from tqdm import tqdm\n",
    "from collections import defaultdict\n",
    "from transformers import AutoTokenizer\n",
    "import pandas as pd\n",
    "import seaborn as sns\n",
    "from types import SimpleNamespace\n",
    "from datasets import Dataset\n",
    "from os.path import join as oj\n",
    "import pickle as pkl\n",
    "import os\n",
    "import dvu\n",
    "dvu.set_style()\n",
    "import analyze_utils\n",
    "import sys\n",
    "sys.path.append('..')\n",
    "import data\n",
    "from model_utils import prompt_classification\n",
    "\n",
    "cols_output = ['final_answer_found',\n",
    "               'final_model_queries', 'final_num_suffixes_checked']"
   ]
  },
  {
   "cell_type": "markdown",
   "metadata": {},
   "source": [
    "# Load the results + get generated suffixes"
   ]
  },
  {
   "cell_type": "code",
   "execution_count": 2,
   "metadata": {},
   "outputs": [
    {
     "name": "stderr",
     "output_type": "stream",
     "text": [
      "  6%|▌         | 3/54 [00:00<00:13,  3.74it/s]"
     ]
    },
    {
     "name": "stdout",
     "output_type": "stream",
     "text": [
      "skipping 032601ab0390a97e17260e692084b80ff478d0d6281f8aea285edc9a0e85374dvrwi\n",
      "skipping 0524fc9903db96eaa2985f8a1225e9185286cd6eb370f2e56d4dffd08cd1ff45mkdj\n"
     ]
    },
    {
     "name": "stderr",
     "output_type": "stream",
     "text": [
      "100%|██████████| 54/54 [00:07<00:00,  6.78it/s]\n",
      "100%|██████████| 40/40 [00:03<00:00, 12.15it/s]\n"
     ]
    }
   ],
   "source": [
    "# dir_single_query = '/home/chansingh/mntv1/single_query_math_9_17' # single-digit\n",
    "# dir_single_query = '/home/chansingh/mntv1/single_query_math_double_digit'\n",
    "# dir_single_query = '/home/chansingh/mntv1/single_query_math_long_suffs' # suffix results\n",
    "dir_single_query = '/home/chansingh/mntv1/suffix_math_long_suffs_full' # suffix results\n",
    "r = analyze_utils.load_results_and_cache(dir_single_query, save_file='r_long.pkl', only_keep_scalar=False)\n",
    "r_single_query = pd.read_pickle(os.path.join(dir_single_query, 'r_long.pkl'))\n",
    "r_single_query = analyze_utils.postprocess_results(r_single_query)\n",
    "\n",
    "# dir_suffix_search = '/home/chansingh/mntv1/suffix_math_9_17' # single-digit\n",
    "# dir_suffix_search = '/home/chansingh/mntv1/suffix_math_double_digit'\n",
    "# dir_suffix_search = '/home/chansingh/mntv1/suffix_math_long_suffs'\n",
    "dir_suffix_search = '/home/chansingh/mntv1/suffix_anli_long_suffs_full'\n",
    "r_suffix_search = analyze_utils.load_results_and_cache(dir_suffix_search, save_file='r_long.pkl', only_keep_scalar=False)\n",
    "r_suffix_search = pd.read_pickle(os.path.join(dir_suffix_search, 'r_long.pkl'))\n",
    "r_suffix_search = analyze_utils.postprocess_results(r_suffix_search)\n",
    "\n",
    "# r = r_single_query\n",
    "r = pd.concat((r_single_query, r_suffix_search)).sort_values('checkpoint')\n",
    "# r.to_pickle(f'../results/prompt_gen/results_suffix_math.pkl')"
   ]
  },
  {
   "cell_type": "markdown",
   "metadata": {},
   "source": [
    "# Look at top suffix candidates"
   ]
  },
  {
   "cell_type": "code",
   "execution_count": null,
   "metadata": {},
   "outputs": [],
   "source": [
    "r[r.max_num_tokens == 6]"
   ]
  },
  {
   "cell_type": "code",
   "execution_count": 5,
   "metadata": {},
   "outputs": [
    {
     "data": {
      "text/html": [
       "<div>\n",
       "<style scoped>\n",
       "    .dataframe tbody tr th:only-of-type {\n",
       "        vertical-align: middle;\n",
       "    }\n",
       "\n",
       "    .dataframe tbody tr th {\n",
       "        vertical-align: top;\n",
       "    }\n",
       "\n",
       "    .dataframe thead th {\n",
       "        text-align: right;\n",
       "    }\n",
       "</style>\n",
       "<table border=\"1\" class=\"dataframe\">\n",
       "  <thead>\n",
       "    <tr style=\"text-align: right;\">\n",
       "      <th></th>\n",
       "      <th>suffix_str_added</th>\n",
       "      <th>final_answer_added</th>\n",
       "    </tr>\n",
       "  </thead>\n",
       "  <tbody>\n",
       "    <tr>\n",
       "      <th>32</th>\n",
       "      <td>[,  the,  a,  1,  an,  2,  the sum,  the resul...</td>\n",
       "      <td>sum</td>\n",
       "    </tr>\n",
       "    <tr>\n",
       "      <th>25</th>\n",
       "      <td>[,  the,  a,  it,  \",  an,  the input,  the st...</td>\n",
       "      <td>the opposite</td>\n",
       "    </tr>\n",
       "    <tr>\n",
       "      <th>30</th>\n",
       "      <td>[,  the,  a,  1,  0,  to,  the result,  the in...</td>\n",
       "      <td>divide</td>\n",
       "    </tr>\n",
       "    <tr>\n",
       "      <th>20</th>\n",
       "      <td>[,  the,  a,  an,  \",  it,  the first,  the st...</td>\n",
       "      <td>NaN</td>\n",
       "    </tr>\n",
       "    <tr>\n",
       "      <th>28</th>\n",
       "      <td>[,  the,  -,  a,  0,  1,  the result,  the sum...</td>\n",
       "      <td>the difference</td>\n",
       "    </tr>\n",
       "    <tr>\n",
       "      <th>...</th>\n",
       "      <td>...</td>\n",
       "      <td>...</td>\n",
       "    </tr>\n",
       "    <tr>\n",
       "      <th>51</th>\n",
       "      <td>[,  the,  to,  a,  1,  0,  the input,  the num...</td>\n",
       "      <td>the sum</td>\n",
       "    </tr>\n",
       "    <tr>\n",
       "      <th>5</th>\n",
       "      <td>[,  the,  to,  a,  it,  an,  the value,  the i...</td>\n",
       "      <td>a value of the opposite</td>\n",
       "    </tr>\n",
       "    <tr>\n",
       "      <th>10</th>\n",
       "      <td>[,  the,  to,  it,  a,  an,  the value,  the i...</td>\n",
       "      <td>NaN</td>\n",
       "    </tr>\n",
       "    <tr>\n",
       "      <th>31</th>\n",
       "      <td>[,  the,  to,  a,  1,  0,  the input,  the num...</td>\n",
       "      <td>the sum</td>\n",
       "    </tr>\n",
       "    <tr>\n",
       "      <th>39</th>\n",
       "      <td>[,  the,  a,  an,  it,  all,  the value,  the ...</td>\n",
       "      <td>the SQL</td>\n",
       "    </tr>\n",
       "  </tbody>\n",
       "</table>\n",
       "<p>92 rows × 2 columns</p>\n",
       "</div>"
      ],
      "text/plain": [
       "                                     suffix_str_added  \\\n",
       "32  [,  the,  a,  1,  an,  2,  the sum,  the resul...   \n",
       "25  [,  the,  a,  it,  \",  an,  the input,  the st...   \n",
       "30  [,  the,  a,  1,  0,  to,  the result,  the in...   \n",
       "20  [,  the,  a,  an,  \",  it,  the first,  the st...   \n",
       "28  [,  the,  -,  a,  0,  1,  the result,  the sum...   \n",
       "..                                                ...   \n",
       "51  [,  the,  to,  a,  1,  0,  the input,  the num...   \n",
       "5   [,  the,  to,  a,  it,  an,  the value,  the i...   \n",
       "10  [,  the,  to,  it,  a,  an,  the value,  the i...   \n",
       "31  [,  the,  to,  a,  1,  0,  the input,  the num...   \n",
       "39  [,  the,  a,  an,  it,  all,  the value,  the ...   \n",
       "\n",
       "          final_answer_added  \n",
       "32                       sum  \n",
       "25              the opposite  \n",
       "30                    divide  \n",
       "20                       NaN  \n",
       "28            the difference  \n",
       "..                       ...  \n",
       "51                   the sum  \n",
       "5    a value of the opposite  \n",
       "10                       NaN  \n",
       "31                   the sum  \n",
       "39                   the SQL  \n",
       "\n",
       "[92 rows x 2 columns]"
      ]
     },
     "execution_count": 5,
     "metadata": {},
     "output_type": "execute_result"
    }
   ],
   "source": [
    "r[['suffix_str_added', 'final_answer_added']]"
   ]
  },
  {
   "cell_type": "code",
   "execution_count": 6,
   "metadata": {},
   "outputs": [],
   "source": [
    "args = r.iloc[1]\n",
    "\n"
   ]
  },
  {
   "cell_type": "code",
   "execution_count": null,
   "metadata": {},
   "outputs": [],
   "source": [
    "r0 = r[(r.max_num_tokens == 6) * (r.n_shots == 1) * (r.checkpoint == 'EleutherAI/gpt-j-6B')]\n",
    "for i in range(r0.shape[0]):\n",
    "    row = r0.iloc[i]\n",
    "    print('task', row.task_name)\n",
    "    candidates, probs = analyze_utils.get_top_candidates_and_probs_suff(row)\n",
    "    for j in range(5):\n",
    "        print('\\t', candidates[j], probs[j])"
   ]
  },
  {
   "cell_type": "markdown",
   "metadata": {},
   "source": [
    "# Assess accuracy of the found suffixes"
   ]
  },
  {
   "cell_type": "code",
   "execution_count": 38,
   "metadata": {},
   "outputs": [],
   "source": [
    "args = r.iloc[3]"
   ]
  },
  {
   "cell_type": "code",
   "execution_count": 39,
   "metadata": {},
   "outputs": [],
   "source": [
    "np.random.seed(args.seed)\n",
    "(dset, dset_test), check_answer_func, descr = data.get_data(\n",
    "            args, args.task_name, n_shots=args.n_shots, train_split_frac=args.train_split_frac)"
   ]
  },
  {
   "cell_type": "code",
   "execution_count": 43,
   "metadata": {},
   "outputs": [],
   "source": [
    "checkpoint = 'EleutherAI/gpt-j-6B' # 'gpt2-medium'\n",
    "model = prompt_classification.create_model(checkpoint)"
   ]
  },
  {
   "cell_type": "code",
   "execution_count": null,
   "metadata": {},
   "outputs": [],
   "source": [
    "loss, acc = prompt_classification.test_model_on_task_with_prefix(\n",
    "    dset=dset, model=model, prefix=f'Return the antonym of the input: ', multi_token=True,\n",
    ")"
   ]
  }
 ],
 "metadata": {
  "kernelspec": {
   "display_name": "Python 3.8.10 ('.autoprompt')",
   "language": "python",
   "name": "python3"
  },
  "language_info": {
   "codemirror_mode": {
    "name": "ipython",
    "version": 3
   },
   "file_extension": ".py",
   "mimetype": "text/x-python",
   "name": "python",
   "nbconvert_exporter": "python",
   "pygments_lexer": "ipython3",
   "version": "3.8.10"
  },
  "orig_nbformat": 4,
  "vscode": {
   "interpreter": {
    "hash": "14b67e045ab4e623bbd9f77d231431043e985fd8f169f266aea842e78b0c1086"
   }
  }
 },
 "nbformat": 4,
 "nbformat_minor": 2
}
