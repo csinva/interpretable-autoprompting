{
 "cells": [
  {
   "cell_type": "markdown",
   "metadata": {},
   "source": [
    "This notebook aims to assess the generalization accuracy of a generated suffix, assuming a data-split was used during training."
   ]
  },
  {
   "cell_type": "code",
   "execution_count": 1,
   "metadata": {},
   "outputs": [],
   "source": [
    "%load_ext autoreload\n",
    "%autoreload 2\n",
    "import numpy as np\n",
    "import torch\n",
    "from torch import nn\n",
    "import matplotlib.pyplot as plt\n",
    "from copy import deepcopy\n",
    "import pandas as pd\n",
    "from tqdm import tqdm\n",
    "from collections import defaultdict\n",
    "from transformers import AutoTokenizer\n",
    "import pandas as pd\n",
    "import seaborn as sns\n",
    "from types import SimpleNamespace\n",
    "from datasets import Dataset\n",
    "from os.path import join as oj\n",
    "import pickle as pkl\n",
    "import os\n",
    "import dvu\n",
    "dvu.set_style()\n",
    "import analyze_utils\n",
    "import sys\n",
    "sys.path.append('..')\n",
    "import data\n",
    "from model_utils import prompt_classification"
   ]
  },
  {
   "cell_type": "code",
   "execution_count": 2,
   "metadata": {},
   "outputs": [
    {
     "name": "stderr",
     "output_type": "stream",
     "text": [
      " 72%|███████▎  | 29/40 [00:39<00:09,  1.15it/s]"
     ]
    },
    {
     "name": "stdout",
     "output_type": "stream",
     "text": [
      "skipping 885d0a8f6f08d429faf8334b23a057df4b922b421e03740d20e34464f95bbe5csuvv\n"
     ]
    },
    {
     "name": "stderr",
     "output_type": "stream",
     "text": [
      "100%|██████████| 40/40 [00:42<00:00,  1.07s/it]\n"
     ]
    }
   ],
   "source": [
    "dir_suffix_search = '/home/chansingh/mntv1/suffix_long_rerun'\n",
    "r_suffix_search = analyze_utils.load_results_and_cache(dir_suffix_search, save_file='r.pkl', only_keep_scalar=False)\n",
    "r_suffix_search = pd.read_pickle(os.path.join(dir_suffix_search, 'r.pkl'))\n",
    "r_suffix_search = analyze_utils.postprocess_results(r_suffix_search,   )\n",
    "r = r_suffix_search\n",
    "r.to_pickle('../results/prompt_gen/results_suffix_all.pkl')\n",
    "r = pd.read_pickle('../results/prompt_gen/results_suffix_all.pkl')"
   ]
  },
  {
   "cell_type": "markdown",
   "metadata": {},
   "source": [
    "# Look at top suffix candidates"
   ]
  },
  {
   "cell_type": "code",
   "execution_count": 4,
   "metadata": {},
   "outputs": [
    {
     "name": "stdout",
     "output_type": "stream",
     "text": [
      "(19, 56)\n",
      "['task_name', 'n_shots', 'max_dset_size', 'max_digit', 'template_num_init_string', 'template_num_task_phrasing', 'train_split_frac', 'checkpoint', 'max_num_tokens', 'beam_size', 'beam_size_extra', 'use_single_query', 'use_stopwords', 'use_early_stopping', 'use_generic_query', 'float16', 'seed', 'save_dir', 'use_cpu_only', 'use_parallelformers', 'use_cache', 'use_verbose_saving', 'epoch_save_interval', 'batch_size', 'task_name_list', 'suffix_str_init', 'len_suffix_str_init', 'suffix_str_added', 'num_tokens_added', 'num_model_queries', 'running_prob', 'final_answer_pos_initial_token', 'final_answer_full', 'final_answer_added', 'final_model_queries', 'final_num_suffixes_checked', 'final_answer_depth', 'top_prompt', 'top_candidates', 'top_probs', 'final_answer_found', 'Recall @ 3 suffixes', 'Recall @ 5 suffixes', 'Recall @ 10 suffixes', 'Recall @ 15 suffixes', 'Recall @ 20 suffixes', 'Recall @ 25 suffixes', 'Recall @ 30 suffixes', 'Recall @ 40 suffixes', 'Recall @ 50 suffixes', 'Recall @ 75 suffixes', 'Recall @ 100 suffixes', 'Recall @ 150 suffixes', 'Recall @ 200 suffixes', 'reciprocal_rank', 'reciprocal_rank_multi']\n"
     ]
    }
   ],
   "source": [
    "r0 = r[(r.max_num_tokens == 6) * (r.n_shots == 1) * (r.checkpoint == 'EleutherAI/gpt-j-6B')]\n",
    "print(r0.shape)\n",
    "print(list(r0.keys()))"
   ]
  },
  {
   "cell_type": "code",
   "execution_count": 8,
   "metadata": {},
   "outputs": [
    {
     "data": {
      "text/html": [
       "<div>\n",
       "<style scoped>\n",
       "    .dataframe tbody tr th:only-of-type {\n",
       "        vertical-align: middle;\n",
       "    }\n",
       "\n",
       "    .dataframe tbody tr th {\n",
       "        vertical-align: top;\n",
       "    }\n",
       "\n",
       "    .dataframe thead th {\n",
       "        text-align: right;\n",
       "    }\n",
       "</style>\n",
       "<table border=\"1\" class=\"dataframe\">\n",
       "  <thead>\n",
       "    <tr style=\"text-align: right;\">\n",
       "      <th></th>\n",
       "      <th>task_name</th>\n",
       "      <th>top_prompt</th>\n",
       "    </tr>\n",
       "  </thead>\n",
       "  <tbody>\n",
       "    <tr>\n",
       "      <th>1</th>\n",
       "      <td>double_one</td>\n",
       "      <td>f(x).\\n\\n</td>\n",
       "    </tr>\n",
       "    <tr>\n",
       "      <th>2</th>\n",
       "      <td>max_two</td>\n",
       "      <td>the sum of the input numbers</td>\n",
       "    </tr>\n",
       "    <tr>\n",
       "      <th>3</th>\n",
       "      <td>task1147_country_currency</td>\n",
       "      <td>the string representation of the input</td>\n",
       "    </tr>\n",
       "    <tr>\n",
       "      <th>5</th>\n",
       "      <td>task1191_food_veg_nonveg</td>\n",
       "      <td>the input.\\n\\n&lt;|endoftext|&gt;</td>\n",
       "    </tr>\n",
       "    <tr>\n",
       "      <th>6</th>\n",
       "      <td>add_two</td>\n",
       "      <td>the sum of the input numbers</td>\n",
       "    </tr>\n",
       "    <tr>\n",
       "      <th>7</th>\n",
       "      <td>multiply_two</td>\n",
       "      <td>the sum of the input numbers</td>\n",
       "    </tr>\n",
       "    <tr>\n",
       "      <th>10</th>\n",
       "      <td>task1146_country_capital</td>\n",
       "      <td>the name of the capital of</td>\n",
       "    </tr>\n",
       "    <tr>\n",
       "      <th>11</th>\n",
       "      <td>subtract_two</td>\n",
       "      <td>-1.\\n\\n&lt;|endoftext|&gt;</td>\n",
       "    </tr>\n",
       "    <tr>\n",
       "      <th>15</th>\n",
       "      <td>square_one</td>\n",
       "      <td>f(x).\\n\\n</td>\n",
       "    </tr>\n",
       "    <tr>\n",
       "      <th>16</th>\n",
       "      <td>divide_two</td>\n",
       "      <td>the result of the division.</td>\n",
       "    </tr>\n",
       "    <tr>\n",
       "      <th>19</th>\n",
       "      <td>task107_splash_question_to_sql</td>\n",
       "      <td>NaN</td>\n",
       "    </tr>\n",
       "    <tr>\n",
       "      <th>20</th>\n",
       "      <td>task088_identify_typo_verification</td>\n",
       "      <td>the first word of the input</td>\n",
       "    </tr>\n",
       "    <tr>\n",
       "      <th>26</th>\n",
       "      <td>fibonacci_one</td>\n",
       "      <td>f(x).\\n\\n</td>\n",
       "    </tr>\n",
       "    <tr>\n",
       "      <th>27</th>\n",
       "      <td>task1149_item_check_edible</td>\n",
       "      <td>\"yes\" or \"no</td>\n",
       "    </tr>\n",
       "    <tr>\n",
       "      <th>30</th>\n",
       "      <td>first_two</td>\n",
       "      <td>the sum of the input numbers</td>\n",
       "    </tr>\n",
       "    <tr>\n",
       "      <th>31</th>\n",
       "      <td>task092_check_prime_classification</td>\n",
       "      <td>the input.\\n\\n&lt;|endoftext|&gt;</td>\n",
       "    </tr>\n",
       "    <tr>\n",
       "      <th>34</th>\n",
       "      <td>task1509_evalution_antonyms</td>\n",
       "      <td>the first word of the input</td>\n",
       "    </tr>\n",
       "    <tr>\n",
       "      <th>36</th>\n",
       "      <td>exp_one</td>\n",
       "      <td>f(x).\\n\\n</td>\n",
       "    </tr>\n",
       "    <tr>\n",
       "      <th>38</th>\n",
       "      <td>task183_rhyme_generation</td>\n",
       "      <td>the first word of the input</td>\n",
       "    </tr>\n",
       "  </tbody>\n",
       "</table>\n",
       "</div>"
      ],
      "text/plain": [
       "                             task_name  \\\n",
       "1                           double_one   \n",
       "2                              max_two   \n",
       "3            task1147_country_currency   \n",
       "5             task1191_food_veg_nonveg   \n",
       "6                              add_two   \n",
       "7                         multiply_two   \n",
       "10            task1146_country_capital   \n",
       "11                        subtract_two   \n",
       "15                          square_one   \n",
       "16                          divide_two   \n",
       "19      task107_splash_question_to_sql   \n",
       "20  task088_identify_typo_verification   \n",
       "26                       fibonacci_one   \n",
       "27          task1149_item_check_edible   \n",
       "30                           first_two   \n",
       "31  task092_check_prime_classification   \n",
       "34         task1509_evalution_antonyms   \n",
       "36                             exp_one   \n",
       "38            task183_rhyme_generation   \n",
       "\n",
       "                                 top_prompt  \n",
       "1                                 f(x).\\n\\n  \n",
       "2              the sum of the input numbers  \n",
       "3    the string representation of the input  \n",
       "5               the input.\\n\\n<|endoftext|>  \n",
       "6              the sum of the input numbers  \n",
       "7              the sum of the input numbers  \n",
       "10               the name of the capital of  \n",
       "11                     -1.\\n\\n<|endoftext|>  \n",
       "15                                f(x).\\n\\n  \n",
       "16              the result of the division.  \n",
       "19                                      NaN  \n",
       "20              the first word of the input  \n",
       "26                                f(x).\\n\\n  \n",
       "27                             \"yes\" or \"no  \n",
       "30             the sum of the input numbers  \n",
       "31              the input.\\n\\n<|endoftext|>  \n",
       "34              the first word of the input  \n",
       "36                                f(x).\\n\\n  \n",
       "38              the first word of the input  "
      ]
     },
     "execution_count": 8,
     "metadata": {},
     "output_type": "execute_result"
    }
   ],
   "source": [
    "r0[['task_name', 'top_prompt']]"
   ]
  },
  {
   "cell_type": "markdown",
   "metadata": {},
   "source": [
    "The most relevant keys are top_prompt, top_candidates, top_probs.\n",
    "\n",
    "The relevant keys for metrics are reciprocal_rank, reciprocal_rank_multi.\n"
   ]
  },
  {
   "cell_type": "markdown",
   "metadata": {},
   "source": [
    "**Save out top prompts**"
   ]
  },
  {
   "cell_type": "code",
   "execution_count": 9,
   "metadata": {},
   "outputs": [],
   "source": [
    "results_acc_dir = oj('/home/chansingh/interpretable-autoprompting', 'results', 'generalization_acc')\n",
    "prompts = pkl.load(open(oj(results_acc_dir, 'prompts_all.pkl'), 'rb'))"
   ]
  },
  {
   "cell_type": "code",
   "execution_count": 10,
   "metadata": {},
   "outputs": [],
   "source": [
    "idxs = prompts.index\n",
    "def get_top_prompt(r0, task_name):\n",
    "    top_prompt = r0[r0['task_name'] == task_name]['top_prompt']\n",
    "    if len(top_prompt) == 0:\n",
    "        return np.nan\n",
    "    else:\n",
    "        return top_prompt\n",
    "prompts_suff = [get_top_prompt(r0, task_name) for task_name in idxs]\n",
    "# prompts['suffix'] = "
   ]
  },
  {
   "cell_type": "code",
   "execution_count": 12,
   "metadata": {},
   "outputs": [
    {
     "ename": "TypeError",
     "evalue": "'Index' object cannot be interpreted as an integer",
     "output_type": "error",
     "traceback": [
      "\u001b[0;31m---------------------------------------------------------------------------\u001b[0m",
      "\u001b[0;31mTypeError\u001b[0m                                 Traceback (most recent call last)",
      "\u001b[1;32m/home/chansingh/interpretable-autoprompting/notebooks/06_generalization_posthoc_suffix.ipynb Cell 11\u001b[0m in \u001b[0;36m<cell line: 1>\u001b[0;34m()\u001b[0m\n\u001b[0;32m----> <a href='vscode-notebook-cell://ssh-remote%2B10.8.112.209/home/chansingh/interpretable-autoprompting/notebooks/06_generalization_posthoc_suffix.ipynb#X13sdnNjb2RlLXJlbW90ZQ%3D%3D?line=0'>1</a>\u001b[0m \u001b[39mfor\u001b[39;00m i \u001b[39min\u001b[39;00m \u001b[39mrange\u001b[39;49m(idxs):\n\u001b[1;32m      <a href='vscode-notebook-cell://ssh-remote%2B10.8.112.209/home/chansingh/interpretable-autoprompting/notebooks/06_generalization_posthoc_suffix.ipynb#X13sdnNjb2RlLXJlbW90ZQ%3D%3D?line=1'>2</a>\u001b[0m     \u001b[39mprint\u001b[39m(i, idxs[i], prompts_suff[i])\n",
      "\u001b[0;31mTypeError\u001b[0m: 'Index' object cannot be interpreted as an integer"
     ]
    }
   ],
   "source": [
    "for i in enumerate(idxs):\n",
    "    print(i, idxs[i], prompts_suff[i])"
   ]
  },
  {
   "cell_type": "code",
   "execution_count": null,
   "metadata": {},
   "outputs": [],
   "source": []
  }
 ],
 "metadata": {
  "kernelspec": {
   "display_name": "Python 3.8.10 ('.autoprompt')",
   "language": "python",
   "name": "python3"
  },
  "language_info": {
   "codemirror_mode": {
    "name": "ipython",
    "version": 3
   },
   "file_extension": ".py",
   "mimetype": "text/x-python",
   "name": "python",
   "nbconvert_exporter": "python",
   "pygments_lexer": "ipython3",
   "version": "3.8.10"
  },
  "orig_nbformat": 4,
  "vscode": {
   "interpreter": {
    "hash": "14b67e045ab4e623bbd9f77d231431043e985fd8f169f266aea842e78b0c1086"
   }
  }
 },
 "nbformat": 4,
 "nbformat_minor": 2
}
