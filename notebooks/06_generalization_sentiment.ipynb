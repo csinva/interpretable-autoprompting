{
 "cells": [
  {
   "cell_type": "code",
   "execution_count": 2,
   "id": "f0cd6327-d9a8-4f78-b36e-f4a42c609765",
   "metadata": {},
   "outputs": [],
   "source": [
    "%load_ext autoreload\n",
    "%autoreload 2\n",
    "from collections import defaultdict\n",
    "import pandas as pd\n",
    "pd.set_option('display.max_colwidth', 255)\n",
    "import numpy as np\n",
    "import pickle\n",
    "import sys\n",
    "import analyze_utils\n",
    "import seaborn as sns\n",
    "sys.path.append('..')\n",
    "from model_utils import prompt_classification\n",
    "import data"
   ]
  },
  {
   "cell_type": "code",
   "execution_count": 97,
   "id": "2cdcaa79-fd3e-4f16-b1d9-7f7d3348d74c",
   "metadata": {},
   "outputs": [],
   "source": [
    "class fake_args:\n",
    "    template_num_task_phrasing = 0\n",
    "    max_dset_size = 2000\n",
    "    max_digit = 10\n",
    "    seed = 1\n",
    "    train_split_frac = 0.25 # we'll just test on 10% so this runs more efficiently\n",
    "    task_name = 'sst2_train'\n",
    "\n",
    "    # these will be varied\n",
    "    n_shots = 1\n",
    "    \n",
    "\n",
    "args = fake_args()\n",
    "np.random.seed(args.seed)\n",
    "checkpoint = 'EleutherAI/gpt-j-6B'\n",
    "task_name = 'sst2_train'\n",
    "\n",
    "model = prompt_classification.create_model(checkpoint)"
   ]
  },
  {
   "cell_type": "markdown",
   "id": "a490eaa6",
   "metadata": {},
   "source": [
    "# Calculate accuracies of the found prompts"
   ]
  },
  {
   "cell_type": "code",
   "execution_count": null,
   "id": "97d189d7",
   "metadata": {},
   "outputs": [],
   "source": [
    "prompts_df = pickle.load(open('../results/autoprompt_sentiment/prompts.pkl', 'rb'))\n",
    "prompts_df = prompts_df.reset_index()\n",
    "prompts_df['task_name'] = prompts_df['task_name'].map(lambda s: s.replace('train', 'test'))\n",
    "prompts_df"
   ]
  },
  {
   "cell_type": "code",
   "execution_count": null,
   "id": "a9d36858-b215-4c16-9c96-7dc1d901fb12",
   "metadata": {},
   "outputs": [],
   "source": [
    "accs = []\n",
    "losses = []\n",
    "\n",
    "n_shots = 1\n",
    "for i, row in prompts_df.iterrows(): \n",
    "    restrict_to_valid_answers = False\n",
    "    args.task_name = row['task_name']\n",
    "    args.n_shots = n_shots\n",
    "    (dset, dset_test), check_answer_func, descr = data.get_data(\n",
    "        args, args.task_name, n_shots=args.n_shots,\n",
    "        train_split_frac=args.train_split_frac\n",
    "    )\n",
    "    prompt_actual = row['prefixes']\n",
    "    batch_size = 32\n",
    "    loss, acc = prompt_classification.test_model_on_task_with_prefix(\n",
    "        dset=dset, model=model,\n",
    "        prefix=prompt_actual,\n",
    "        multi_token=False,\n",
    "        verbose=False,\n",
    "        restrict_to_valid_answers=restrict_to_valid_answers,\n",
    "        batch_size=batch_size,\n",
    "    )\n",
    "    print(f'loss {loss:.2f} / acc ={acc:.2f}')\n",
    "    losses.append(loss)\n",
    "    accs.append(acc)\n",
    "\n",
    "prompts_df['acc'] = accs\n",
    "prompts_df['losses'] = losses"
   ]
  },
  {
   "cell_type": "markdown",
   "id": "661adcd2",
   "metadata": {},
   "source": [
    "# Baseline accuracies"
   ]
  },
  {
   "cell_type": "code",
   "execution_count": null,
   "id": "ed17d00b-246e-4c29-9c75-352d14dcee65",
   "metadata": {},
   "outputs": [],
   "source": [
    "# test\n",
    "data.get_data(\n",
    "    args, 'sst2_test', n_shots=args.n_shots,\n",
    "    train_split_frac=args.train_split_frac\n",
    ")\n",
    "\n",
    "print('calculating accs...')\n",
    "n_shots = 1\n",
    "d = defaultdict(list)\n",
    "\n",
    "for train_task_name in prompts_df['task_name'].unique(): \n",
    "    test_task_name = train_task_name.replace('train', 'test') # sst2_train -> sst2_test, etc...\n",
    "    print(test_task_name)\n",
    "    restrict_to_valid_answers = False\n",
    "    args.task_name = test_task_name\n",
    "    args.n_shots = n_shots\n",
    "    (dset, dset_test), check_answer_func, descr = data.get_data(\n",
    "        args, args.task_name, n_shots=args.n_shots,\n",
    "        train_split_frac=args.train_split_frac\n",
    "    )\n",
    "    for prompt in ['', 'manual']:\n",
    "        d['checkpoint'].append(checkpoint)\n",
    "        d['prompt'].append(prompt)\n",
    "        d['task_name'].append(test_task_name)\n",
    "        d['n_shots'].append(n_shots)\n",
    "        d['restrict_to_valid_answers'].append(restrict_to_valid_answers)\n",
    "        if prompt == 'manual':\n",
    "            prompt_actual = descr\n",
    "        else:\n",
    "            prompt_actual = prompt\n",
    "        d['prompt_actual'].append(prompt_actual)\n",
    "        batch_size = 32\n",
    "        loss, acc = prompt_classification.test_model_on_task_with_prefix(\n",
    "            dset=dset, model=model,\n",
    "            prefix=prompt_actual,\n",
    "            multi_token=False,\n",
    "            verbose=False,\n",
    "            restrict_to_valid_answers=restrict_to_valid_answers,\n",
    "            batch_size=batch_size,\n",
    "        )\n",
    "        d['acc'].append(acc)\n",
    "\n",
    "baseline_df = pd.DataFrame.from_dict(d)"
   ]
  },
  {
   "cell_type": "markdown",
   "id": "9130f11d",
   "metadata": {},
   "source": [
    "# Merge the results"
   ]
  },
  {
   "cell_type": "code",
   "execution_count": null,
   "id": "105110a0-ca11-44eb-8eb5-e36aff6833cb",
   "metadata": {},
   "outputs": [],
   "source": [
    "# for i,r in prompts_df.sort_values(by='model_cls').iterrows():\n",
    "#     print(r['method'], r['task_name'],'\\n\\t', r['prefixes'])\n",
    "# baseline_df['task_name']"
   ]
  },
  {
   "cell_type": "code",
   "execution_count": 77,
   "id": "e808682c-e14e-4d30-b3f5-bf67253c2e84",
   "metadata": {},
   "outputs": [],
   "source": [
    "METHOD_RENAME = {\n",
    "    'autoprompt': 'AutoPrompt',\n",
    "    'genetic': 'iPrompt',\n",
    "}\n",
    "\n",
    "baseline_df['prompt'] = baseline_df['prompt_actual']\n",
    "baseline_df['method'] = baseline_df['prompt'].map(lambda s: 'Human-written prompt' if len(s) else 'No prompt')\n",
    "\n",
    "prompts_df['method'] = prompts_df['model_cls'].map(METHOD_RENAME.get)\n",
    "prompts_df['prompt'] = prompts_df['prefixes']\n",
    "prompts_df['task_name'] = prompts_df['task_name'].map(lambda s: s.replace('train', 'test'))\n",
    "\n",
    "full_df = pd.concat(\n",
    "    (\n",
    "        baseline_df[['task_name', 'method', 'acc', 'prompt']],\n",
    "        prompts_df[['task_name', 'method', 'acc', 'prompt', 'seed']]\n",
    "    ), axis=0\n",
    ")"
   ]
  },
  {
   "cell_type": "code",
   "execution_count": 94,
   "id": "88b476cf-bdc9-47f7-81ba-a102bfe9be05",
   "metadata": {},
   "outputs": [
    {
     "name": "stdout",
     "output_type": "stream",
     "text": [
      "\\begin{tabular}{lll}\n",
      " &  & prompt \\\\\n",
      "task_name & method &  \\\\\n",
      "\\multirow[c]{4}{*}{Financial phrasebank} & AutoPrompt &  Maybeiago EUR Vimaterasu estab dimeye dignaterasu? Lair EURaterasu Tol calc \\\\\n",
      " & Human-written prompt & Answer Yes for positive, No for negative, and Maybe for neutral.  \\\\\n",
      " & No prompt &  \\\\\n",
      " & iPrompt &  Budapest. Answer: Maybe (1) - The parent company is a big German \\\\\n",
      "\\multirow[c]{4}{*}{IMDB} & AutoPrompt &  Noamphetamine revealed oxidative Yesmone poker NoTrivia bands morphology [ despite No ex No \\\\\n",
      " & Human-written prompt & Answer Yes if the input is positive and No if the input is negative.  \\\\\n",
      " & No prompt &  \\\\\n",
      " & iPrompt &  This was filmed back-to-back with the 1992 re-make of Conan \\\\\n",
      "\\multirow[c]{4}{*}{Rotten Tomatoes} & AutoPrompt & osuke Medals; does CFR Sab\"]=> NormalConstructed Umbunit satisfy Good·ヴram \\\\\n",
      " & Human-written prompt & Answer Yes if the input is positive and No if the input is negative.  \\\\\n",
      " & No prompt &  \\\\\n",
      " & iPrompt &  a fast, funny, highly enjoyable film. Answer: Yes 3.1/ \\\\\n",
      "\\multirow[c]{4}{*}{SST-2} & AutoPrompt & RALauntletICEidatedWhetherBF Holy Kubrick incorporatedherent#$ Not�=-=- SPECIAL Pyth \\\\\n",
      " & Human-written prompt & Answer Yes if the input is positive and No if the input is negative.  \\\\\n",
      " & No prompt &  \\\\\n",
      " & iPrompt &  life   Answer: Yes (because it's about life)   This \\\\\n",
      "\\end{tabular}\n",
      "\n"
     ]
    },
    {
     "data": {
      "text/html": [
       "<div>\n",
       "<style scoped>\n",
       "    .dataframe tbody tr th:only-of-type {\n",
       "        vertical-align: middle;\n",
       "    }\n",
       "\n",
       "    .dataframe tbody tr th {\n",
       "        vertical-align: top;\n",
       "    }\n",
       "\n",
       "    .dataframe thead th {\n",
       "        text-align: right;\n",
       "    }\n",
       "</style>\n",
       "<table border=\"1\" class=\"dataframe\">\n",
       "  <thead>\n",
       "    <tr style=\"text-align: right;\">\n",
       "      <th></th>\n",
       "      <th></th>\n",
       "      <th>prompt</th>\n",
       "    </tr>\n",
       "    <tr>\n",
       "      <th>task_name</th>\n",
       "      <th>method</th>\n",
       "      <th></th>\n",
       "    </tr>\n",
       "  </thead>\n",
       "  <tbody>\n",
       "    <tr>\n",
       "      <th rowspan=\"4\" valign=\"top\">Financial phrasebank</th>\n",
       "      <th>AutoPrompt</th>\n",
       "      <td>Maybeiago EUR Vimaterasu estab dimeye dignaterasu? Lair EURaterasu Tol calc</td>\n",
       "    </tr>\n",
       "    <tr>\n",
       "      <th>Human-written prompt</th>\n",
       "      <td>Answer Yes for positive, No for negative, and Maybe for neutral.</td>\n",
       "    </tr>\n",
       "    <tr>\n",
       "      <th>No prompt</th>\n",
       "      <td></td>\n",
       "    </tr>\n",
       "    <tr>\n",
       "      <th>iPrompt</th>\n",
       "      <td>Budapest. Answer: Maybe (1) - The parent company is a big German</td>\n",
       "    </tr>\n",
       "    <tr>\n",
       "      <th rowspan=\"4\" valign=\"top\">IMDB</th>\n",
       "      <th>AutoPrompt</th>\n",
       "      <td>Noamphetamine revealed oxidative Yesmone poker NoTrivia bands morphology [ despite No ex No</td>\n",
       "    </tr>\n",
       "    <tr>\n",
       "      <th>Human-written prompt</th>\n",
       "      <td>Answer Yes if the input is positive and No if the input is negative.</td>\n",
       "    </tr>\n",
       "    <tr>\n",
       "      <th>No prompt</th>\n",
       "      <td></td>\n",
       "    </tr>\n",
       "    <tr>\n",
       "      <th>iPrompt</th>\n",
       "      <td>This was filmed back-to-back with the 1992 re-make of Conan</td>\n",
       "    </tr>\n",
       "    <tr>\n",
       "      <th rowspan=\"4\" valign=\"top\">Rotten Tomatoes</th>\n",
       "      <th>AutoPrompt</th>\n",
       "      <td>osuke Medals; does CFR Sab\"]=&gt; NormalConstructed Umbunit satisfy Good·ヴram</td>\n",
       "    </tr>\n",
       "    <tr>\n",
       "      <th>Human-written prompt</th>\n",
       "      <td>Answer Yes if the input is positive and No if the input is negative.</td>\n",
       "    </tr>\n",
       "    <tr>\n",
       "      <th>No prompt</th>\n",
       "      <td></td>\n",
       "    </tr>\n",
       "    <tr>\n",
       "      <th>iPrompt</th>\n",
       "      <td>a fast, funny, highly enjoyable film. Answer: Yes 3.1/</td>\n",
       "    </tr>\n",
       "    <tr>\n",
       "      <th rowspan=\"4\" valign=\"top\">SST-2</th>\n",
       "      <th>AutoPrompt</th>\n",
       "      <td>RALauntletICEidatedWhetherBF Holy Kubrick incorporatedherent#$ Not�=-=- SPECIAL Pyth</td>\n",
       "    </tr>\n",
       "    <tr>\n",
       "      <th>Human-written prompt</th>\n",
       "      <td>Answer Yes if the input is positive and No if the input is negative.</td>\n",
       "    </tr>\n",
       "    <tr>\n",
       "      <th>No prompt</th>\n",
       "      <td></td>\n",
       "    </tr>\n",
       "    <tr>\n",
       "      <th>iPrompt</th>\n",
       "      <td>life   Answer: Yes (because it's about life)   This</td>\n",
       "    </tr>\n",
       "  </tbody>\n",
       "</table>\n",
       "</div>"
      ],
      "text/plain": [
       "                                                                                                                                 prompt\n",
       "task_name            method                                                                                                            \n",
       "Financial phrasebank AutoPrompt                             Maybeiago EUR Vimaterasu estab dimeye dignaterasu? Lair EURaterasu Tol calc\n",
       "                     Human-written prompt                             Answer Yes for positive, No for negative, and Maybe for neutral. \n",
       "                     No prompt                                                                                                         \n",
       "                     iPrompt                                           Budapest. Answer: Maybe (1) - The parent company is a big German\n",
       "IMDB                 AutoPrompt             Noamphetamine revealed oxidative Yesmone poker NoTrivia bands morphology [ despite No ex No\n",
       "                     Human-written prompt                         Answer Yes if the input is positive and No if the input is negative. \n",
       "                     No prompt                                                                                                         \n",
       "                     iPrompt                                                This was filmed back-to-back with the 1992 re-make of Conan\n",
       "Rotten Tomatoes      AutoPrompt                              osuke Medals; does CFR Sab\"]=> NormalConstructed Umbunit satisfy Good·ヴram\n",
       "                     Human-written prompt                         Answer Yes if the input is positive and No if the input is negative. \n",
       "                     No prompt                                                                                                         \n",
       "                     iPrompt                                                     a fast, funny, highly enjoyable film. Answer: Yes 3.1/\n",
       "SST-2                AutoPrompt                    RALauntletICEidatedWhetherBF Holy Kubrick incorporatedherent#$ Not�=-=- SPECIAL Pyth\n",
       "                     Human-written prompt                         Answer Yes if the input is positive and No if the input is negative. \n",
       "                     No prompt                                                                                                         \n",
       "                     iPrompt                                                        life   Answer: Yes (because it's about life)   This"
      ]
     },
     "execution_count": 94,
     "metadata": {},
     "output_type": "execute_result"
    }
   ],
   "source": [
    "TASK_NAME_PRETTIFY = {\n",
    "    'ffb_test': 'Financial phrasebank',\n",
    "    'imdb_test': 'IMDB',\n",
    "    'rt_test': 'Rotten Tomatoes',\n",
    "    'sst2_test': 'SST-2',\n",
    "}\n",
    "\n",
    "best_prompt_df = full_df\n",
    "best_prompt_df = best_prompt_df[best_prompt_df['task_name'].map(lambda s: s != 'tweets_test')].reset_index()\n",
    "best_prompt_df['task_name'] = best_prompt_df['task_name'].map(TASK_NAME_PRETTIFY.get)\n",
    "best_prompt_df = best_prompt_df.sort_values(by='acc', ascending=False).groupby(['task_name', 'method'])['prompt'].first().to_frame()\n",
    "best_prompt_latex = best_prompt_df.style.to_latex()\n",
    "print(best_prompt_latex)\n",
    "best_prompt_df"
   ]
  },
  {
   "cell_type": "markdown",
   "id": "c08aeba7",
   "metadata": {},
   "source": [
    "# Visualize"
   ]
  },
  {
   "cell_type": "code",
   "execution_count": 61,
   "id": "66057658-745f-471f-802e-fe348df4ae8b",
   "metadata": {},
   "outputs": [
    {
     "name": "stderr",
     "output_type": "stream",
     "text": [
      "/tmp/ipykernel_39524/894193123.py:5: FutureWarning: \n",
      "\n",
      "The `ci` parameter is deprecated. Use `errorbar=None` for the same effect.\n",
      "\n",
      "  sns.catplot(data=full_df, kind=\"bar\", x=\"task_name\", y=\"acc\", hue=\"method\", ci=None)\n"
     ]
    },
    {
     "data": {
      "text/plain": [
       "<seaborn.axisgrid.FacetGrid at 0x7fe62d819310>"
      ]
     },
     "execution_count": 61,
     "metadata": {},
     "output_type": "execute_result"
    },
    {
     "data": {
      "image/png": "[encoded data removed]",
      "text/plain": [
       "<Figure size 730.375x500 with 1 Axes>"
      ]
     },
     "metadata": {},
     "output_type": "display_data"
    }
   ],
   "source": [
    "sns.set_theme(style=\"white\")\n",
    "sns.catplot(data=full_df, kind=\"bar\", x=\"task_name\", y=\"acc\", hue=\"method\", ci=None)"
   ]
  }
 ],
 "metadata": {
  "kernelspec": {
   "display_name": "Python 3.8.10 ('.autoprompt')",
   "language": "python",
   "name": "python3"
  },
  "language_info": {
   "codemirror_mode": {
    "name": "ipython",
    "version": 3
   },
   "file_extension": ".py",
   "mimetype": "text/x-python",
   "name": "python",
   "nbconvert_exporter": "python",
   "pygments_lexer": "ipython3",
   "version": "3.8.10"
  },
  "vscode": {
   "interpreter": {
    "hash": "14b67e045ab4e623bbd9f77d231431043e985fd8f169f266aea842e78b0c1086"
   }
  }
 },
 "nbformat": 4,
 "nbformat_minor": 5
}
