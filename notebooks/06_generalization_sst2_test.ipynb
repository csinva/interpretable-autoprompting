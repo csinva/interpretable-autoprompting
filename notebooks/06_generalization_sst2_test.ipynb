{
 "cells": [
  {
   "cell_type": "code",
   "execution_count": 1,
   "id": "8eb4f8f4-0eb8-44c3-befe-e4617d3de7a7",
   "metadata": {},
   "outputs": [],
   "source": [
    "%load_ext autoreload\n",
    "%autoreload 2"
   ]
  },
  {
   "cell_type": "code",
   "execution_count": 2,
   "id": "2cdcaa79-fd3e-4f16-b1d9-7f7d3348d74c",
   "metadata": {},
   "outputs": [],
   "source": [
    "from collections import defaultdict\n",
    "\n",
    "import sys\n",
    "sys.path.append('..')\n",
    "from model_utils import prompt_classification\n",
    "\n",
    "cols_output = ['final_answer_found',\n",
    "               'final_model_queries', 'final_num_suffixes_checked']"
   ]
  },
  {
   "cell_type": "code",
   "execution_count": 7,
   "id": "5085ff84-4a7a-40ae-86d1-85f8b61b0426",
   "metadata": {},
   "outputs": [],
   "source": [
    "import numpy as np\n",
    "class fake_args:\n",
    "    template_num_task_phrasing = 0\n",
    "    max_dset_size = 200\n",
    "    max_digit = 10\n",
    "    seed = 1\n",
    "    train_split_frac = 0.9 # we'll just test on 10% so this runs more efficiently\n",
    "    task_name = 'sst2_train'\n",
    "\n",
    "    # these will be varied\n",
    "    n_shots = 1\n",
    "args = fake_args()\n",
    "np.random.seed(args.seed)\n"
   ]
  },
  {
   "cell_type": "code",
   "execution_count": 4,
   "id": "4357bea8-4b83-4dfa-840d-ca483dfbca48",
   "metadata": {},
   "outputs": [
    {
     "name": "stdout",
     "output_type": "stream",
     "text": [
      "loading EleutherAI/gpt-j-6B\n"
     ]
    }
   ],
   "source": [
    "checkpoint = 'EleutherAI/gpt-j-6B'\n",
    "task_name = 'sst2_train'\n",
    "d = defaultdict(list)\n",
    "\n",
    "print('loading', checkpoint)\n",
    "model = prompt_classification.create_model(checkpoint)"
   ]
  },
  {
   "cell_type": "code",
   "execution_count": 8,
   "id": "ed17d00b-246e-4c29-9c75-352d14dcee65",
   "metadata": {},
   "outputs": [
    {
     "name": "stderr",
     "output_type": "stream",
     "text": [
      "Using custom data configuration default\n",
      "Found cached dataset sst2 (/home/johnmorris/.cache/huggingface/datasets/sst2/default/2.0.0/9896208a8d85db057ac50c72282bcb8fe755accc671a57dd8059d4e130961ed5)\n",
      "Loading cached processed dataset at /home/johnmorris/.cache/huggingface/datasets/sst2/default/2.0.0/9896208a8d85db057ac50c72282bcb8fe755accc671a57dd8059d4e130961ed5/cache-5775b21d75a9c311.arrow\n"
     ]
    },
    {
     "data": {
      "text/plain": [
       "((Dataset({\n",
       "      features: ['idx', 'sentence', 'label', 'input', 'output', 'text', '__index_level_0__'],\n",
       "      num_rows: 180\n",
       "  }),\n",
       "  Dataset({\n",
       "      features: ['idx', 'sentence', 'label', 'input', 'output', 'text', '__index_level_0__'],\n",
       "      num_rows: 20\n",
       "  })),\n",
       " <function data.get_data.<locals>.check_answer_func(x)>,\n",
       " 'Answer Yes if the input is positive and No if the input is negative. ')"
      ]
     },
     "execution_count": 8,
     "metadata": {},
     "output_type": "execute_result"
    }
   ],
   "source": [
    "import data\n",
    "data.get_data(\n",
    "                    args, args.task_name, n_shots=args.n_shots,\n",
    "                    train_split_frac=args.train_split_frac\n",
    "                )"
   ]
  },
  {
   "cell_type": "code",
   "execution_count": 9,
   "id": "abd7a5db-6e33-4390-8306-78b00fe03fbc",
   "metadata": {},
   "outputs": [
    {
     "name": "stdout",
     "output_type": "stream",
     "text": [
      "calculating accs...\n"
     ]
    },
    {
     "name": "stderr",
     "output_type": "stream",
     "text": [
      "Using custom data configuration default\n",
      "Found cached dataset sst2 (/home/johnmorris/.cache/huggingface/datasets/sst2/default/2.0.0/9896208a8d85db057ac50c72282bcb8fe755accc671a57dd8059d4e130961ed5)\n",
      "Loading cached processed dataset at /home/johnmorris/.cache/huggingface/datasets/sst2/default/2.0.0/9896208a8d85db057ac50c72282bcb8fe755accc671a57dd8059d4e130961ed5/cache-5775b21d75a9c311.arrow\n",
      "Using custom data configuration default\n",
      "Found cached dataset sst2 (/home/johnmorris/.cache/huggingface/datasets/sst2/default/2.0.0/9896208a8d85db057ac50c72282bcb8fe755accc671a57dd8059d4e130961ed5)\n",
      "Loading cached processed dataset at /home/johnmorris/.cache/huggingface/datasets/sst2/default/2.0.0/9896208a8d85db057ac50c72282bcb8fe755accc671a57dd8059d4e130961ed5/cache-5775b21d75a9c311.arrow\n",
      "Using custom data configuration default\n",
      "Found cached dataset sst2 (/home/johnmorris/.cache/huggingface/datasets/sst2/default/2.0.0/9896208a8d85db057ac50c72282bcb8fe755accc671a57dd8059d4e130961ed5)\n",
      "Loading cached processed dataset at /home/johnmorris/.cache/huggingface/datasets/sst2/default/2.0.0/9896208a8d85db057ac50c72282bcb8fe755accc671a57dd8059d4e130961ed5/cache-5775b21d75a9c311.arrow\n",
      "Using custom data configuration default\n",
      "Found cached dataset sst2 (/home/johnmorris/.cache/huggingface/datasets/sst2/default/2.0.0/9896208a8d85db057ac50c72282bcb8fe755accc671a57dd8059d4e130961ed5)\n",
      "Loading cached processed dataset at /home/johnmorris/.cache/huggingface/datasets/sst2/default/2.0.0/9896208a8d85db057ac50c72282bcb8fe755accc671a57dd8059d4e130961ed5/cache-5775b21d75a9c311.arrow\n",
      "Using custom data configuration default\n",
      "Found cached dataset sst2 (/home/johnmorris/.cache/huggingface/datasets/sst2/default/2.0.0/9896208a8d85db057ac50c72282bcb8fe755accc671a57dd8059d4e130961ed5)\n",
      "Loading cached processed dataset at /home/johnmorris/.cache/huggingface/datasets/sst2/default/2.0.0/9896208a8d85db057ac50c72282bcb8fe755accc671a57dd8059d4e130961ed5/cache-5775b21d75a9c311.arrow\n",
      "WARNING:datasets.builder:Using custom data configuration default\n",
      "WARNING:datasets.builder:Found cached dataset sst2 (/home/johnmorris/.cache/huggingface/datasets/sst2/default/2.0.0/9896208a8d85db057ac50c72282bcb8fe755accc671a57dd8059d4e130961ed5)\n",
      "WARNING:datasets.arrow_dataset:Loading cached processed dataset at /home/johnmorris/.cache/huggingface/datasets/sst2/default/2.0.0/9896208a8d85db057ac50c72282bcb8fe755accc671a57dd8059d4e130961ed5/cache-5775b21d75a9c311.arrow\n",
      "WARNING:datasets.builder:Using custom data configuration default\n",
      "WARNING:datasets.builder:Found cached dataset sst2 (/home/johnmorris/.cache/huggingface/datasets/sst2/default/2.0.0/9896208a8d85db057ac50c72282bcb8fe755accc671a57dd8059d4e130961ed5)\n",
      "WARNING:datasets.arrow_dataset:Loading cached processed dataset at /home/johnmorris/.cache/huggingface/datasets/sst2/default/2.0.0/9896208a8d85db057ac50c72282bcb8fe755accc671a57dd8059d4e130961ed5/cache-5775b21d75a9c311.arrow\n",
      "WARNING:datasets.builder:Using custom data configuration default\n",
      "WARNING:datasets.builder:Found cached dataset sst2 (/home/johnmorris/.cache/huggingface/datasets/sst2/default/2.0.0/9896208a8d85db057ac50c72282bcb8fe755accc671a57dd8059d4e130961ed5)\n",
      "WARNING:datasets.arrow_dataset:Loading cached processed dataset at /home/johnmorris/.cache/huggingface/datasets/sst2/default/2.0.0/9896208a8d85db057ac50c72282bcb8fe755accc671a57dd8059d4e130961ed5/cache-5775b21d75a9c311.arrow\n"
     ]
    }
   ],
   "source": [
    "from model_utils import prompt_classification\n",
    "import data\n",
    "\n",
    "print('calculating accs...')\n",
    "for n_shots in [1, 6]: \n",
    "    for restrict_to_valid_answers in [True, False]:\n",
    "        for prompt in ['', 'manual']:\n",
    "                args.n_shots = n_shots\n",
    "                (dset, dset_test), check_answer_func, descr = data.get_data(\n",
    "                    args, args.task_name, n_shots=args.n_shots,\n",
    "                    train_split_frac=args.train_split_frac\n",
    "                )\n",
    "                d['checkpoint'].append(checkpoint)\n",
    "                d['prompt'].append(prompt)\n",
    "                d['task_name'].append(task_name)\n",
    "                d['n_shots'].append(n_shots)\n",
    "                d['restrict_to_valid_answers'].append(restrict_to_valid_answers)\n",
    "                if prompt == 'manual':\n",
    "                    prompt_actual = descr\n",
    "                else:\n",
    "                    prompt_actual = prompt\n",
    "                d['prompt_actual'].append(prompt_actual)\n",
    "                batch_size = 4\n",
    "                loss, acc = prompt_classification.test_model_on_task_with_prefix(\n",
    "                    dset=dset, model=model,\n",
    "                    prefix=prompt_actual,\n",
    "                    multi_token=False,\n",
    "                    verbose=False,\n",
    "                    restrict_to_valid_answers=restrict_to_valid_answers,\n",
    "                    batch_size=batch_size,\n",
    "                )\n",
    "                d['acc'].append(acc)"
   ]
  },
  {
   "cell_type": "code",
   "execution_count": 10,
   "id": "5d4a2ce3-870b-45df-a1a1-0cec51baed87",
   "metadata": {},
   "outputs": [
    {
     "data": {
      "text/plain": [
       "defaultdict(list,\n",
       "            {'checkpoint': ['EleutherAI/gpt-j-6B',\n",
       "              'EleutherAI/gpt-j-6B',\n",
       "              'EleutherAI/gpt-j-6B',\n",
       "              'EleutherAI/gpt-j-6B',\n",
       "              'EleutherAI/gpt-j-6B',\n",
       "              'EleutherAI/gpt-j-6B',\n",
       "              'EleutherAI/gpt-j-6B',\n",
       "              'EleutherAI/gpt-j-6B'],\n",
       "             'prompt': ['',\n",
       "              'manual',\n",
       "              '',\n",
       "              'manual',\n",
       "              '',\n",
       "              'manual',\n",
       "              '',\n",
       "              'manual'],\n",
       "             'task_name': ['sst2_train',\n",
       "              'sst2_train',\n",
       "              'sst2_train',\n",
       "              'sst2_train',\n",
       "              'sst2_train',\n",
       "              'sst2_train',\n",
       "              'sst2_train',\n",
       "              'sst2_train'],\n",
       "             'n_shots': [1, 1, 1, 1, 6, 6, 6, 6],\n",
       "             'restrict_to_valid_answers': [True,\n",
       "              True,\n",
       "              False,\n",
       "              False,\n",
       "              True,\n",
       "              True,\n",
       "              False,\n",
       "              False],\n",
       "             'prompt_actual': ['',\n",
       "              'Answer Yes if the input is positive and No if the input is negative. ',\n",
       "              '',\n",
       "              'Answer Yes if the input is positive and No if the input is negative. ',\n",
       "              '',\n",
       "              'Answer Yes if the input is positive and No if the input is negative. ',\n",
       "              '',\n",
       "              'Answer Yes if the input is positive and No if the input is negative. '],\n",
       "             'acc': [56.111111111111114,\n",
       "              62.77777777777778,\n",
       "              0.0,\n",
       "              58.888888888888886,\n",
       "              75.55555555555556,\n",
       "              77.77777777777777,\n",
       "              75.55555555555556,\n",
       "              77.77777777777777]})"
      ]
     },
     "execution_count": 10,
     "metadata": {},
     "output_type": "execute_result"
    }
   ],
   "source": [
    "d"
   ]
  },
  {
   "cell_type": "code",
   "execution_count": 11,
   "id": "1d991ef4-8421-4f58-8a0a-4969754d2945",
   "metadata": {},
   "outputs": [
    {
     "data": {
      "text/html": [
       "<div>\n",
       "<style scoped>\n",
       "    .dataframe tbody tr th:only-of-type {\n",
       "        vertical-align: middle;\n",
       "    }\n",
       "\n",
       "    .dataframe tbody tr th {\n",
       "        vertical-align: top;\n",
       "    }\n",
       "\n",
       "    .dataframe thead th {\n",
       "        text-align: right;\n",
       "    }\n",
       "</style>\n",
       "<table border=\"1\" class=\"dataframe\">\n",
       "  <thead>\n",
       "    <tr style=\"text-align: right;\">\n",
       "      <th></th>\n",
       "      <th>checkpoint</th>\n",
       "      <th>prompt</th>\n",
       "      <th>task_name</th>\n",
       "      <th>n_shots</th>\n",
       "      <th>restrict_to_valid_answers</th>\n",
       "      <th>prompt_actual</th>\n",
       "      <th>acc</th>\n",
       "    </tr>\n",
       "  </thead>\n",
       "  <tbody>\n",
       "    <tr>\n",
       "      <th>0</th>\n",
       "      <td>EleutherAI/gpt-j-6B</td>\n",
       "      <td></td>\n",
       "      <td>sst2_train</td>\n",
       "      <td>1</td>\n",
       "      <td>True</td>\n",
       "      <td></td>\n",
       "      <td>56.111111</td>\n",
       "    </tr>\n",
       "    <tr>\n",
       "      <th>1</th>\n",
       "      <td>EleutherAI/gpt-j-6B</td>\n",
       "      <td>manual</td>\n",
       "      <td>sst2_train</td>\n",
       "      <td>1</td>\n",
       "      <td>True</td>\n",
       "      <td>Answer Yes if the input is positive and No if ...</td>\n",
       "      <td>62.777778</td>\n",
       "    </tr>\n",
       "    <tr>\n",
       "      <th>2</th>\n",
       "      <td>EleutherAI/gpt-j-6B</td>\n",
       "      <td></td>\n",
       "      <td>sst2_train</td>\n",
       "      <td>1</td>\n",
       "      <td>False</td>\n",
       "      <td></td>\n",
       "      <td>0.000000</td>\n",
       "    </tr>\n",
       "    <tr>\n",
       "      <th>3</th>\n",
       "      <td>EleutherAI/gpt-j-6B</td>\n",
       "      <td>manual</td>\n",
       "      <td>sst2_train</td>\n",
       "      <td>1</td>\n",
       "      <td>False</td>\n",
       "      <td>Answer Yes if the input is positive and No if ...</td>\n",
       "      <td>58.888889</td>\n",
       "    </tr>\n",
       "    <tr>\n",
       "      <th>4</th>\n",
       "      <td>EleutherAI/gpt-j-6B</td>\n",
       "      <td></td>\n",
       "      <td>sst2_train</td>\n",
       "      <td>6</td>\n",
       "      <td>True</td>\n",
       "      <td></td>\n",
       "      <td>75.555556</td>\n",
       "    </tr>\n",
       "    <tr>\n",
       "      <th>5</th>\n",
       "      <td>EleutherAI/gpt-j-6B</td>\n",
       "      <td>manual</td>\n",
       "      <td>sst2_train</td>\n",
       "      <td>6</td>\n",
       "      <td>True</td>\n",
       "      <td>Answer Yes if the input is positive and No if ...</td>\n",
       "      <td>77.777778</td>\n",
       "    </tr>\n",
       "    <tr>\n",
       "      <th>6</th>\n",
       "      <td>EleutherAI/gpt-j-6B</td>\n",
       "      <td></td>\n",
       "      <td>sst2_train</td>\n",
       "      <td>6</td>\n",
       "      <td>False</td>\n",
       "      <td></td>\n",
       "      <td>75.555556</td>\n",
       "    </tr>\n",
       "    <tr>\n",
       "      <th>7</th>\n",
       "      <td>EleutherAI/gpt-j-6B</td>\n",
       "      <td>manual</td>\n",
       "      <td>sst2_train</td>\n",
       "      <td>6</td>\n",
       "      <td>False</td>\n",
       "      <td>Answer Yes if the input is positive and No if ...</td>\n",
       "      <td>77.777778</td>\n",
       "    </tr>\n",
       "  </tbody>\n",
       "</table>\n",
       "</div>"
      ],
      "text/plain": [
       "            checkpoint  prompt   task_name  n_shots  \\\n",
       "0  EleutherAI/gpt-j-6B          sst2_train        1   \n",
       "1  EleutherAI/gpt-j-6B  manual  sst2_train        1   \n",
       "2  EleutherAI/gpt-j-6B          sst2_train        1   \n",
       "3  EleutherAI/gpt-j-6B  manual  sst2_train        1   \n",
       "4  EleutherAI/gpt-j-6B          sst2_train        6   \n",
       "5  EleutherAI/gpt-j-6B  manual  sst2_train        6   \n",
       "6  EleutherAI/gpt-j-6B          sst2_train        6   \n",
       "7  EleutherAI/gpt-j-6B  manual  sst2_train        6   \n",
       "\n",
       "   restrict_to_valid_answers  \\\n",
       "0                       True   \n",
       "1                       True   \n",
       "2                      False   \n",
       "3                      False   \n",
       "4                       True   \n",
       "5                       True   \n",
       "6                      False   \n",
       "7                      False   \n",
       "\n",
       "                                       prompt_actual        acc  \n",
       "0                                                     56.111111  \n",
       "1  Answer Yes if the input is positive and No if ...  62.777778  \n",
       "2                                                      0.000000  \n",
       "3  Answer Yes if the input is positive and No if ...  58.888889  \n",
       "4                                                     75.555556  \n",
       "5  Answer Yes if the input is positive and No if ...  77.777778  \n",
       "6                                                     75.555556  \n",
       "7  Answer Yes if the input is positive and No if ...  77.777778  "
      ]
     },
     "execution_count": 11,
     "metadata": {},
     "output_type": "execute_result"
    }
   ],
   "source": [
    "import pandas as pd\n",
    "df = pd.DataFrame.from_dict(d)\n",
    "df"
   ]
  },
  {
   "cell_type": "code",
   "execution_count": null,
   "id": "45f8a0db-52d7-4283-8597-2ba6c2b17b2f",
   "metadata": {},
   "outputs": [],
   "source": [
    "import pandas as pd\n",
    "df = pd.DataFrame.from_dict(d)\n",
    "df"
   ]
  },
  {
   "cell_type": "code",
   "execution_count": null,
   "id": "a9d36858-b215-4c16-9c96-7dc1d901fb12",
   "metadata": {},
   "outputs": [],
   "source": []
  }
 ],
 "metadata": {
  "kernelspec": {
   "display_name": "Python 3 (ipykernel)",
   "language": "python",
   "name": "python3"
  },
  "language_info": {
   "codemirror_mode": {
    "name": "ipython",
    "version": 3
   },
   "file_extension": ".py",
   "mimetype": "text/x-python",
   "name": "python",
   "nbconvert_exporter": "python",
   "pygments_lexer": "ipython3",
   "version": "3.9.13"
  }
 },
 "nbformat": 4,
 "nbformat_minor": 5
}
