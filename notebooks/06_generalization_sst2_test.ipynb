{
 "cells": [
  {
   "cell_type": "code",
   "execution_count": 20,
   "id": "8eb4f8f4-0eb8-44c3-befe-e4617d3de7a7",
   "metadata": {},
   "outputs": [
    {
     "name": "stdout",
     "output_type": "stream",
     "text": [
      "The autoreload extension is already loaded. To reload it, use:\n",
      "  %reload_ext autoreload\n"
     ]
    }
   ],
   "source": [
    "%load_ext autoreload\n",
    "%autoreload 2"
   ]
  },
  {
   "cell_type": "code",
   "execution_count": 21,
   "id": "2cdcaa79-fd3e-4f16-b1d9-7f7d3348d74c",
   "metadata": {},
   "outputs": [],
   "source": [
    "from collections import defaultdict\n",
    "\n",
    "import sys\n",
    "sys.path.append('..')\n",
    "from model_utils import prompt_classification\n",
    "\n",
    "cols_output = ['final_answer_found',\n",
    "               'final_model_queries', 'final_num_suffixes_checked']"
   ]
  },
  {
   "cell_type": "code",
   "execution_count": 29,
   "id": "5085ff84-4a7a-40ae-86d1-85f8b61b0426",
   "metadata": {},
   "outputs": [],
   "source": [
    "import numpy as np\n",
    "class fake_args:\n",
    "    template_num_task_phrasing = 0\n",
    "    max_dset_size = 200\n",
    "    max_digit = 10\n",
    "    seed = 1\n",
    "    train_split_frac = 0.9 # we'll just test on 10%\n",
    "\n",
    "    # these will be varied\n",
    "    n_shots = 1\n",
    "    task_name = 'add_two'\n",
    "args = fake_args()\n",
    "np.random.seed(args.seed)\n"
   ]
  },
  {
   "cell_type": "code",
   "execution_count": 23,
   "id": "4357bea8-4b83-4dfa-840d-ca483dfbca48",
   "metadata": {},
   "outputs": [
    {
     "name": "stdout",
     "output_type": "stream",
     "text": [
      "loading EleutherAI/gpt-j-6B\n"
     ]
    }
   ],
   "source": [
    "checkpoint = 'EleutherAI/gpt-j-6B'\n",
    "task_name = 'sst2_train'\n",
    "d = defaultdict(list)\n",
    "\n",
    "print('loading', checkpoint)\n",
    "model = prompt_classification.create_model(checkpoint)"
   ]
  },
  {
   "cell_type": "code",
   "execution_count": 30,
   "id": "abd7a5db-6e33-4390-8306-78b00fe03fbc",
   "metadata": {},
   "outputs": [
    {
     "name": "stdout",
     "output_type": "stream",
     "text": [
      "calculating accs...\n"
     ]
    },
    {
     "name": "stderr",
     "output_type": "stream",
     "text": [
      "WARNING:datasets.builder:Using custom data configuration default\n",
      "WARNING:datasets.builder:Found cached dataset sst2 (/home/johnmorris/.cache/huggingface/datasets/sst2/default/2.0.0/9896208a8d85db057ac50c72282bcb8fe755accc671a57dd8059d4e130961ed5)\n",
      "WARNING:datasets.arrow_dataset:Loading cached processed dataset at /home/johnmorris/.cache/huggingface/datasets/sst2/default/2.0.0/9896208a8d85db057ac50c72282bcb8fe755accc671a57dd8059d4e130961ed5/cache-da74958420572126.arrow\n",
      "WARNING:datasets.builder:Using custom data configuration default\n",
      "WARNING:datasets.builder:Found cached dataset sst2 (/home/johnmorris/.cache/huggingface/datasets/sst2/default/2.0.0/9896208a8d85db057ac50c72282bcb8fe755accc671a57dd8059d4e130961ed5)\n",
      "WARNING:datasets.arrow_dataset:Loading cached processed dataset at /home/johnmorris/.cache/huggingface/datasets/sst2/default/2.0.0/9896208a8d85db057ac50c72282bcb8fe755accc671a57dd8059d4e130961ed5/cache-da74958420572126.arrow\n",
      "WARNING:datasets.builder:Using custom data configuration default\n",
      "WARNING:datasets.builder:Found cached dataset sst2 (/home/johnmorris/.cache/huggingface/datasets/sst2/default/2.0.0/9896208a8d85db057ac50c72282bcb8fe755accc671a57dd8059d4e130961ed5)\n",
      "WARNING:datasets.arrow_dataset:Loading cached processed dataset at /home/johnmorris/.cache/huggingface/datasets/sst2/default/2.0.0/9896208a8d85db057ac50c72282bcb8fe755accc671a57dd8059d4e130961ed5/cache-da74958420572126.arrow\n",
      "WARNING:datasets.builder:Using custom data configuration default\n",
      "WARNING:datasets.builder:Found cached dataset sst2 (/home/johnmorris/.cache/huggingface/datasets/sst2/default/2.0.0/9896208a8d85db057ac50c72282bcb8fe755accc671a57dd8059d4e130961ed5)\n",
      "WARNING:datasets.arrow_dataset:Loading cached processed dataset at /home/johnmorris/.cache/huggingface/datasets/sst2/default/2.0.0/9896208a8d85db057ac50c72282bcb8fe755accc671a57dd8059d4e130961ed5/cache-da74958420572126.arrow\n",
      "WARNING:datasets.builder:Using custom data configuration default\n",
      "WARNING:datasets.builder:Found cached dataset sst2 (/home/johnmorris/.cache/huggingface/datasets/sst2/default/2.0.0/9896208a8d85db057ac50c72282bcb8fe755accc671a57dd8059d4e130961ed5)\n",
      "WARNING:datasets.arrow_dataset:Loading cached processed dataset at /home/johnmorris/.cache/huggingface/datasets/sst2/default/2.0.0/9896208a8d85db057ac50c72282bcb8fe755accc671a57dd8059d4e130961ed5/cache-da74958420572126.arrow\n",
      "WARNING:datasets.builder:Using custom data configuration default\n",
      "WARNING:datasets.builder:Found cached dataset sst2 (/home/johnmorris/.cache/huggingface/datasets/sst2/default/2.0.0/9896208a8d85db057ac50c72282bcb8fe755accc671a57dd8059d4e130961ed5)\n",
      "WARNING:datasets.arrow_dataset:Loading cached processed dataset at /home/johnmorris/.cache/huggingface/datasets/sst2/default/2.0.0/9896208a8d85db057ac50c72282bcb8fe755accc671a57dd8059d4e130961ed5/cache-da74958420572126.arrow\n",
      "WARNING:datasets.builder:Using custom data configuration default\n",
      "WARNING:datasets.builder:Found cached dataset sst2 (/home/johnmorris/.cache/huggingface/datasets/sst2/default/2.0.0/9896208a8d85db057ac50c72282bcb8fe755accc671a57dd8059d4e130961ed5)\n",
      "WARNING:datasets.arrow_dataset:Loading cached processed dataset at /home/johnmorris/.cache/huggingface/datasets/sst2/default/2.0.0/9896208a8d85db057ac50c72282bcb8fe755accc671a57dd8059d4e130961ed5/cache-da74958420572126.arrow\n",
      "WARNING:datasets.builder:Using custom data configuration default\n",
      "WARNING:datasets.builder:Found cached dataset sst2 (/home/johnmorris/.cache/huggingface/datasets/sst2/default/2.0.0/9896208a8d85db057ac50c72282bcb8fe755accc671a57dd8059d4e130961ed5)\n",
      "WARNING:datasets.arrow_dataset:Loading cached processed dataset at /home/johnmorris/.cache/huggingface/datasets/sst2/default/2.0.0/9896208a8d85db057ac50c72282bcb8fe755accc671a57dd8059d4e130961ed5/cache-da74958420572126.arrow\n"
     ]
    }
   ],
   "source": [
    "from model_utils import prompt_classification\n",
    "import data\n",
    "\n",
    "print('calculating accs...')\n",
    "for n_shots in [1, 6]: \n",
    "    for restrict_to_valid_answers in [True, False]:\n",
    "        for prompt in ['', 'manual']:    \n",
    "                args.task_name = task_name\n",
    "                args.n_shots = n_shots\n",
    "                (dset, dset_test), check_answer_func, descr = data.get_data(\n",
    "                    args, args.task_name, n_shots=args.n_shots,\n",
    "                    train_split_frac=args.train_split_frac\n",
    "                )\n",
    "                d['checkpoint'].append(checkpoint)\n",
    "                d['prompt'].append(prompt)\n",
    "                d['task_name'].append(task_name)\n",
    "                d['n_shots'].append(n_shots)\n",
    "                d['restrict_to_valid_answers'].append(restrict_to_valid_answers)\n",
    "                if prompt == 'manual':\n",
    "                    prompt_actual = descr\n",
    "                else:\n",
    "                    prompt_actual = prompt\n",
    "                d['prompt_actual'].append(prompt_actual)\n",
    "                batch_size = 4\n",
    "                if task_name == 'task107_splash_question_to_sql':\n",
    "                    batch_size = max(1, batch_size//4)\n",
    "                loss, acc = prompt_classification.test_model_on_task_with_prefix(\n",
    "                    dset=dset, model=model,\n",
    "                    prefix=prompt_actual,\n",
    "                    multi_token=False,\n",
    "                    verbose=False,\n",
    "                    restrict_to_valid_answers=restrict_to_valid_answers,\n",
    "                    batch_size=batch_size,\n",
    "                )\n",
    "                d['acc'].append(acc)"
   ]
  },
  {
   "cell_type": "code",
   "execution_count": 33,
   "id": "45f8a0db-52d7-4283-8597-2ba6c2b17b2f",
   "metadata": {},
   "outputs": [
    {
     "data": {
      "text/html": [
       "<div>\n",
       "<style scoped>\n",
       "    .dataframe tbody tr th:only-of-type {\n",
       "        vertical-align: middle;\n",
       "    }\n",
       "\n",
       "    .dataframe tbody tr th {\n",
       "        vertical-align: top;\n",
       "    }\n",
       "\n",
       "    .dataframe thead th {\n",
       "        text-align: right;\n",
       "    }\n",
       "</style>\n",
       "<table border=\"1\" class=\"dataframe\">\n",
       "  <thead>\n",
       "    <tr style=\"text-align: right;\">\n",
       "      <th></th>\n",
       "      <th>acc</th>\n",
       "      <th>restrict_to_valid_answers</th>\n",
       "      <th>checkpoint</th>\n",
       "      <th>prompt</th>\n",
       "      <th>task_name</th>\n",
       "      <th>n_shots</th>\n",
       "      <th>prompt_actual</th>\n",
       "    </tr>\n",
       "  </thead>\n",
       "  <tbody>\n",
       "    <tr>\n",
       "      <th>0</th>\n",
       "      <td>51.111111</td>\n",
       "      <td>True</td>\n",
       "      <td>EleutherAI/gpt-j-6B</td>\n",
       "      <td></td>\n",
       "      <td>sst2_train</td>\n",
       "      <td>1</td>\n",
       "      <td></td>\n",
       "    </tr>\n",
       "    <tr>\n",
       "      <th>1</th>\n",
       "      <td>61.666667</td>\n",
       "      <td>True</td>\n",
       "      <td>EleutherAI/gpt-j-6B</td>\n",
       "      <td>manual</td>\n",
       "      <td>sst2_train</td>\n",
       "      <td>1</td>\n",
       "      <td>Answer \"positive\" or \"negative\" depending on t...</td>\n",
       "    </tr>\n",
       "    <tr>\n",
       "      <th>2</th>\n",
       "      <td>0.000000</td>\n",
       "      <td>False</td>\n",
       "      <td>EleutherAI/gpt-j-6B</td>\n",
       "      <td></td>\n",
       "      <td>sst2_train</td>\n",
       "      <td>1</td>\n",
       "      <td></td>\n",
       "    </tr>\n",
       "    <tr>\n",
       "      <th>3</th>\n",
       "      <td>22.777778</td>\n",
       "      <td>False</td>\n",
       "      <td>EleutherAI/gpt-j-6B</td>\n",
       "      <td>manual</td>\n",
       "      <td>sst2_train</td>\n",
       "      <td>1</td>\n",
       "      <td>Answer \"positive\" or \"negative\" depending on t...</td>\n",
       "    </tr>\n",
       "    <tr>\n",
       "      <th>4</th>\n",
       "      <td>78.888889</td>\n",
       "      <td>True</td>\n",
       "      <td>EleutherAI/gpt-j-6B</td>\n",
       "      <td></td>\n",
       "      <td>sst2_train</td>\n",
       "      <td>6</td>\n",
       "      <td></td>\n",
       "    </tr>\n",
       "    <tr>\n",
       "      <th>5</th>\n",
       "      <td>73.333333</td>\n",
       "      <td>True</td>\n",
       "      <td>EleutherAI/gpt-j-6B</td>\n",
       "      <td>manual</td>\n",
       "      <td>sst2_train</td>\n",
       "      <td>6</td>\n",
       "      <td>Answer \"positive\" or \"negative\" depending on t...</td>\n",
       "    </tr>\n",
       "    <tr>\n",
       "      <th>6</th>\n",
       "      <td>78.888889</td>\n",
       "      <td>False</td>\n",
       "      <td>EleutherAI/gpt-j-6B</td>\n",
       "      <td></td>\n",
       "      <td>sst2_train</td>\n",
       "      <td>6</td>\n",
       "      <td></td>\n",
       "    </tr>\n",
       "    <tr>\n",
       "      <th>7</th>\n",
       "      <td>73.333333</td>\n",
       "      <td>False</td>\n",
       "      <td>EleutherAI/gpt-j-6B</td>\n",
       "      <td>manual</td>\n",
       "      <td>sst2_train</td>\n",
       "      <td>6</td>\n",
       "      <td>Answer \"positive\" or \"negative\" depending on t...</td>\n",
       "    </tr>\n",
       "  </tbody>\n",
       "</table>\n",
       "</div>"
      ],
      "text/plain": [
       "         acc  restrict_to_valid_answers           checkpoint  prompt  \\\n",
       "0  51.111111                       True  EleutherAI/gpt-j-6B           \n",
       "1  61.666667                       True  EleutherAI/gpt-j-6B  manual   \n",
       "2   0.000000                      False  EleutherAI/gpt-j-6B           \n",
       "3  22.777778                      False  EleutherAI/gpt-j-6B  manual   \n",
       "4  78.888889                       True  EleutherAI/gpt-j-6B           \n",
       "5  73.333333                       True  EleutherAI/gpt-j-6B  manual   \n",
       "6  78.888889                      False  EleutherAI/gpt-j-6B           \n",
       "7  73.333333                      False  EleutherAI/gpt-j-6B  manual   \n",
       "\n",
       "    task_name  n_shots                                      prompt_actual  \n",
       "0  sst2_train        1                                                     \n",
       "1  sst2_train        1  Answer \"positive\" or \"negative\" depending on t...  \n",
       "2  sst2_train        1                                                     \n",
       "3  sst2_train        1  Answer \"positive\" or \"negative\" depending on t...  \n",
       "4  sst2_train        6                                                     \n",
       "5  sst2_train        6  Answer \"positive\" or \"negative\" depending on t...  \n",
       "6  sst2_train        6                                                     \n",
       "7  sst2_train        6  Answer \"positive\" or \"negative\" depending on t...  "
      ]
     },
     "execution_count": 33,
     "metadata": {},
     "output_type": "execute_result"
    }
   ],
   "source": [
    "import pandas as pd\n",
    "df = pd.DataFrame.from_dict(d)\n",
    "df"
   ]
  },
  {
   "cell_type": "code",
   "execution_count": null,
   "id": "1d991ef4-8421-4f58-8a0a-4969754d2945",
   "metadata": {},
   "outputs": [],
   "source": []
  }
 ],
 "metadata": {
  "kernelspec": {
   "display_name": "Python 3 (ipykernel)",
   "language": "python",
   "name": "python3"
  },
  "language_info": {
   "codemirror_mode": {
    "name": "ipython",
    "version": 3
   },
   "file_extension": ".py",
   "mimetype": "text/x-python",
   "name": "python",
   "nbconvert_exporter": "python",
   "pygments_lexer": "ipython3",
   "version": "3.9.13"
  }
 },
 "nbformat": 4,
 "nbformat_minor": 5
}
