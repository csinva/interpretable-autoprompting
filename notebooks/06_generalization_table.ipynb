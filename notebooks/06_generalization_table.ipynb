{
 "cells": [
  {
   "cell_type": "markdown",
   "metadata": {},
   "source": [
    "This notebook aims to assess the generalization accuracy of a generated suffix, assuming a data-split was used during training."
   ]
  },
  {
   "cell_type": "code",
   "execution_count": 2,
   "metadata": {},
   "outputs": [],
   "source": [
    "%load_ext autoreload\n",
    "%autoreload 2\n",
    "import numpy as np\n",
    "import torch\n",
    "from torch import nn\n",
    "import matplotlib.pyplot as plt\n",
    "from copy import deepcopy\n",
    "import pandas as pd\n",
    "from tqdm import tqdm\n",
    "from collections import defaultdict\n",
    "from transformers import AutoTokenizer\n",
    "import pandas as pd\n",
    "import seaborn as sns\n",
    "from types import SimpleNamespace\n",
    "from datasets import Dataset\n",
    "from os.path import join as oj\n",
    "import pickle as pkl\n",
    "import os\n",
    "import dvu\n",
    "dvu.set_style()\n",
    "import analyze_utils\n",
    "import sys\n",
    "sys.path.append('..')\n",
    "import data\n",
    "from model_utils import prompt_classification"
   ]
  },
  {
   "cell_type": "markdown",
   "metadata": {},
   "source": [
    "# Load the results + get generated suffixes"
   ]
  },
  {
   "cell_type": "code",
   "execution_count": 80,
   "metadata": {},
   "outputs": [],
   "source": [
    "results_acc_dir = oj('/home/chansingh/interpretable-autoprompting/results/generalization_acc/accs_sweep')"
   ]
  },
  {
   "cell_type": "code",
   "execution_count": 81,
   "metadata": {},
   "outputs": [],
   "source": [
    "accs = [\n",
    "    pd.DataFrame.from_dict(pkl.load(open(oj(results_acc_dir, d), 'rb')))\n",
    "    for d in os.listdir(results_acc_dir)\n",
    "]\n",
    "df = pd.concat(accs)\n",
    "df['max_digit'] = df['max_digit'].fillna(10)\n",
    "df = df.drop_duplicates()\n"
   ]
  },
  {
   "cell_type": "code",
   "execution_count": 82,
   "metadata": {},
   "outputs": [],
   "source": [
    "math_one = ['square_one', 'exp_one', 'double_one', 'fibonacci_one']\n",
    "math_two = ['add_two', 'multiply_two', 'divide_two', 'subtract_two',\n",
    "                       'max_two', 'first_two']\n",
    "math_three = ['add_three',\n",
    "                         'multiply_three', 'max_three', 'first_three']"
   ]
  },
  {
   "cell_type": "code",
   "execution_count": 93,
   "metadata": {},
   "outputs": [],
   "source": [
    "\n",
    "rows = {\n",
    "    'Math tasks': df[(df.checkpoint == 'EleutherAI/gpt-j-6B') & (df.max_digit == 10) & (df.task_name.isin(math_one + math_two))],\n",
    "    'Math tasks (2.7B model)': df[(df.checkpoint == 'EleutherAI/gpt-neo-2.7B') & (df.max_digit == 10) & (df.task_name.isin(math_one + math_two))],\n",
    "    'Math tasks (2-digit)': df[(df.checkpoint == 'EleutherAI/gpt-j-6B') & (df.max_digit == 100) & (df.task_name.isin(math_two))],\n",
    "    'Math tasks (2-digit, 2.7B model)': df[(df.checkpoint == 'EleutherAI/gpt-neo-2.7B') & (df.max_digit == 100) & (df.task_name.isin(math_two))],\n",
    "    'Math tasks (3 numbers)': df[(df.checkpoint == 'EleutherAI/gpt-j-6B') & (df.max_digit == 10) & (df.task_name.isin(math_three))],\n",
    "    'Math tasks (3 numbers, 2.7B model)': df[(df.checkpoint == 'EleutherAI/gpt-neo-2.7B') & (df.max_digit == 10) & (df.task_name.isin(math_three))],\n",
    "}"
   ]
  },
  {
   "cell_type": "code",
   "execution_count": 94,
   "metadata": {},
   "outputs": [],
   "source": [
    "order = ['manual', 'iprompt', 'autoprompt', '']\n",
    "cols_rename = {\n",
    "    'manual': 'Human-written',\n",
    "    'iprompt': 'iPrompt',\n",
    "    'autoprompt': 'AutoPrompt',\n",
    "    '': 'No prompt',\n",
    "}\n",
    "vals = np.zeros((len(rows.keys()), len(order)))\n",
    "idx = []\n",
    "for i, k in enumerate(rows.keys()):    \n",
    "    vals[i] = rows[k].groupby('prompt').mean()['acc'][order].values\n",
    "    idx.append(k)"
   ]
  },
  {
   "cell_type": "code",
   "execution_count": 105,
   "metadata": {},
   "outputs": [],
   "source": [
    "accs = pd.DataFrame(vals, index=idx, columns=order).rename(columns=cols_rename)\n",
    "accs.insert(loc=3, column='Suffix', value=np.nan)\n",
    "accs = accs.round(1)"
   ]
  },
  {
   "cell_type": "code",
   "execution_count": 107,
   "metadata": {},
   "outputs": [
    {
     "name": "stdout",
     "output_type": "stream",
     "text": [
      "\\begin{tabular}{lrrrrr}\n",
      "\\toprule\n",
      "{} &  Human-written &  iPrompt &  AutoPrompt &  Suffix &  No prompt \\\\\n",
      "\\midrule\n",
      "Math tasks                         &           54.0 &     51.5 &        41.6 &     NaN &       16.3 \\\\\n",
      "Math tasks (2.7B model)            &           22.3 &     23.5 &        21.5 &     NaN &       18.3 \\\\\n",
      "Math tasks (2-digit)               &           42.1 &     32.4 &        36.9 &     NaN &       16.4 \\\\\n",
      "Math tasks (2-digit, 2.7B model)   &           27.2 &     15.0 &        18.0 &     NaN &       11.6 \\\\\n",
      "Math tasks (3 numbers)             &           45.7 &     35.3 &        51.0 &     NaN &       26.7 \\\\\n",
      "Math tasks (3 numbers, 2.7B model) &           24.5 &     13.6 &        18.1 &     NaN &       13.6 \\\\\n",
      "\\bottomrule\n",
      "\\end{tabular}\n",
      "\n"
     ]
    },
    {
     "name": "stderr",
     "output_type": "stream",
     "text": [
      "/tmp/ipykernel_1976112/4258992417.py:1: FutureWarning: In future versions `DataFrame.to_latex` is expected to utilise the base implementation of `Styler.to_latex` for formatting and rendering. The arguments signature may therefore change. It is recommended instead to use `DataFrame.style.to_latex` which also contains additional functionality.\n",
      "  print(accs.to_latex())\n"
     ]
    }
   ],
   "source": [
    "print(accs.to_latex())"
   ]
  },
  {
   "cell_type": "markdown",
   "metadata": {},
   "source": [
    "# Debugging"
   ]
  },
  {
   "cell_type": "code",
   "execution_count": 102,
   "metadata": {},
   "outputs": [
    {
     "data": {
      "text/html": [
       "<div>\n",
       "<style scoped>\n",
       "    .dataframe tbody tr th:only-of-type {\n",
       "        vertical-align: middle;\n",
       "    }\n",
       "\n",
       "    .dataframe tbody tr th {\n",
       "        vertical-align: top;\n",
       "    }\n",
       "\n",
       "    .dataframe thead th {\n",
       "        text-align: right;\n",
       "    }\n",
       "</style>\n",
       "<table border=\"1\" class=\"dataframe\">\n",
       "  <thead>\n",
       "    <tr style=\"text-align: right;\">\n",
       "      <th></th>\n",
       "      <th>checkpoint</th>\n",
       "      <th>prompt</th>\n",
       "      <th>task_name</th>\n",
       "      <th>n_shots</th>\n",
       "      <th>max_digit</th>\n",
       "      <th>prompt_actual</th>\n",
       "      <th>acc</th>\n",
       "    </tr>\n",
       "  </thead>\n",
       "  <tbody>\n",
       "    <tr>\n",
       "      <th>0</th>\n",
       "      <td>EleutherAI/gpt-j-6B</td>\n",
       "      <td>autoprompt</td>\n",
       "      <td>add_two</td>\n",
       "      <td>1</td>\n",
       "      <td>100.0</td>\n",
       "      <td>addedthe +the use worked</td>\n",
       "      <td>58.9</td>\n",
       "    </tr>\n",
       "    <tr>\n",
       "      <th>1</th>\n",
       "      <td>EleutherAI/gpt-j-6B</td>\n",
       "      <td>iprompt</td>\n",
       "      <td>add_two</td>\n",
       "      <td>1</td>\n",
       "      <td>100.0</td>\n",
       "      <td>Write a function int add(</td>\n",
       "      <td>42.3</td>\n",
       "    </tr>\n",
       "    <tr>\n",
       "      <th>4</th>\n",
       "      <td>EleutherAI/gpt-j-6B</td>\n",
       "      <td>autoprompt</td>\n",
       "      <td>multiply_two</td>\n",
       "      <td>1</td>\n",
       "      <td>100.0</td>\n",
       "      <td>multiplythethe �the Multiple</td>\n",
       "      <td>17.7</td>\n",
       "    </tr>\n",
       "    <tr>\n",
       "      <th>5</th>\n",
       "      <td>EleutherAI/gpt-j-6B</td>\n",
       "      <td>iprompt</td>\n",
       "      <td>multiply_two</td>\n",
       "      <td>1</td>\n",
       "      <td>100.0</td>\n",
       "      <td>When you multiply two (</td>\n",
       "      <td>11.3</td>\n",
       "    </tr>\n",
       "    <tr>\n",
       "      <th>8</th>\n",
       "      <td>EleutherAI/gpt-j-6B</td>\n",
       "      <td>autoprompt</td>\n",
       "      <td>divide_two</td>\n",
       "      <td>1</td>\n",
       "      <td>100.0</td>\n",
       "      <td>Kaplan MAG comprisingthe quarterly disproport...</td>\n",
       "      <td>0.0</td>\n",
       "    </tr>\n",
       "    <tr>\n",
       "      <th>9</th>\n",
       "      <td>EleutherAI/gpt-j-6B</td>\n",
       "      <td>iprompt</td>\n",
       "      <td>divide_two</td>\n",
       "      <td>1</td>\n",
       "      <td>100.0</td>\n",
       "      <td>n / N,where we</td>\n",
       "      <td>5.3</td>\n",
       "    </tr>\n",
       "    <tr>\n",
       "      <th>12</th>\n",
       "      <td>EleutherAI/gpt-j-6B</td>\n",
       "      <td>autoprompt</td>\n",
       "      <td>subtract_two</td>\n",
       "      <td>1</td>\n",
       "      <td>100.0</td>\n",
       "      <td>opposably exactly subtractFor YEAR</td>\n",
       "      <td>41.3</td>\n",
       "    </tr>\n",
       "    <tr>\n",
       "      <th>13</th>\n",
       "      <td>EleutherAI/gpt-j-6B</td>\n",
       "      <td>iprompt</td>\n",
       "      <td>subtract_two</td>\n",
       "      <td>1</td>\n",
       "      <td>100.0</td>\n",
       "      <td>If n &gt; m then subtract</td>\n",
       "      <td>59.2</td>\n",
       "    </tr>\n",
       "    <tr>\n",
       "      <th>16</th>\n",
       "      <td>EleutherAI/gpt-j-6B</td>\n",
       "      <td>autoprompt</td>\n",
       "      <td>max_two</td>\n",
       "      <td>1</td>\n",
       "      <td>100.0</td>\n",
       "      <td>NumberthetheJusticeJaDefault</td>\n",
       "      <td>49.2</td>\n",
       "    </tr>\n",
       "    <tr>\n",
       "      <th>17</th>\n",
       "      <td>EleutherAI/gpt-j-6B</td>\n",
       "      <td>iprompt</td>\n",
       "      <td>max_two</td>\n",
       "      <td>1</td>\n",
       "      <td>100.0</td>\n",
       "      <td>Which number has a bigger value</td>\n",
       "      <td>54.9</td>\n",
       "    </tr>\n",
       "    <tr>\n",
       "      <th>20</th>\n",
       "      <td>EleutherAI/gpt-j-6B</td>\n",
       "      <td>autoprompt</td>\n",
       "      <td>first_two</td>\n",
       "      <td>1</td>\n",
       "      <td>100.0</td>\n",
       "      <td>greater name sorting indiscrim to numbers</td>\n",
       "      <td>54.1</td>\n",
       "    </tr>\n",
       "    <tr>\n",
       "      <th>21</th>\n",
       "      <td>EleutherAI/gpt-j-6B</td>\n",
       "      <td>iprompt</td>\n",
       "      <td>first_two</td>\n",
       "      <td>1</td>\n",
       "      <td>100.0</td>\n",
       "      <td>The first digit of both values</td>\n",
       "      <td>21.5</td>\n",
       "    </tr>\n",
       "  </tbody>\n",
       "</table>\n",
       "</div>"
      ],
      "text/plain": [
       "             checkpoint      prompt     task_name  n_shots  max_digit  \\\n",
       "0   EleutherAI/gpt-j-6B  autoprompt       add_two        1      100.0   \n",
       "1   EleutherAI/gpt-j-6B     iprompt       add_two        1      100.0   \n",
       "4   EleutherAI/gpt-j-6B  autoprompt  multiply_two        1      100.0   \n",
       "5   EleutherAI/gpt-j-6B     iprompt  multiply_two        1      100.0   \n",
       "8   EleutherAI/gpt-j-6B  autoprompt    divide_two        1      100.0   \n",
       "9   EleutherAI/gpt-j-6B     iprompt    divide_two        1      100.0   \n",
       "12  EleutherAI/gpt-j-6B  autoprompt  subtract_two        1      100.0   \n",
       "13  EleutherAI/gpt-j-6B     iprompt  subtract_two        1      100.0   \n",
       "16  EleutherAI/gpt-j-6B  autoprompt       max_two        1      100.0   \n",
       "17  EleutherAI/gpt-j-6B     iprompt       max_two        1      100.0   \n",
       "20  EleutherAI/gpt-j-6B  autoprompt     first_two        1      100.0   \n",
       "21  EleutherAI/gpt-j-6B     iprompt     first_two        1      100.0   \n",
       "\n",
       "                                        prompt_actual   acc  \n",
       "0                           addedthe +the use worked   58.9  \n",
       "1                          Write a function int add(   42.3  \n",
       "4                       multiplythethe �the Multiple   17.7  \n",
       "5                            When you multiply two (   11.3  \n",
       "8    Kaplan MAG comprisingthe quarterly disproport...   0.0  \n",
       "9                                     n / N,where we    5.3  \n",
       "12                opposably exactly subtractFor YEAR   41.3  \n",
       "13                            If n > m then subtract   59.2  \n",
       "16                      NumberthetheJusticeJaDefault   49.2  \n",
       "17                   Which number has a bigger value   54.9  \n",
       "20         greater name sorting indiscrim to numbers   54.1  \n",
       "21                    The first digit of both values   21.5  "
      ]
     },
     "metadata": {},
     "output_type": "display_data"
    },
    {
     "data": {
      "text/plain": [
       "<AxesSubplot:xlabel='task_name', ylabel='acc'>"
      ]
     },
     "execution_count": 102,
     "metadata": {},
     "output_type": "execute_result"
    },
    {
     "data": {
      "image/png": "[encoded data removed]",
      "text/plain": [
       "<Figure size 640x480 with 1 Axes>"
      ]
     },
     "metadata": {},
     "output_type": "display_data"
    }
   ],
   "source": [
    "row = rows['Math tasks (2-digit)']\n",
    "with pd.option_context('display.max_rows', None, 'display.max_columns', None):  # more options can be specified also\n",
    "    row = row[row.prompt.isin(['autoprompt', 'iprompt'])]\n",
    "    display(row.groupby('prompt').head(1000).round(1))\n",
    "sns.barplot(data=row, x='task_name', y='acc', hue='prompt')"
   ]
  },
  {
   "cell_type": "code",
   "execution_count": 103,
   "metadata": {},
   "outputs": [
    {
     "data": {
      "text/html": [
       "<div>\n",
       "<style scoped>\n",
       "    .dataframe tbody tr th:only-of-type {\n",
       "        vertical-align: middle;\n",
       "    }\n",
       "\n",
       "    .dataframe tbody tr th {\n",
       "        vertical-align: top;\n",
       "    }\n",
       "\n",
       "    .dataframe thead th {\n",
       "        text-align: right;\n",
       "    }\n",
       "</style>\n",
       "<table border=\"1\" class=\"dataframe\">\n",
       "  <thead>\n",
       "    <tr style=\"text-align: right;\">\n",
       "      <th></th>\n",
       "      <th>checkpoint</th>\n",
       "      <th>prompt</th>\n",
       "      <th>task_name</th>\n",
       "      <th>n_shots</th>\n",
       "      <th>max_digit</th>\n",
       "      <th>prompt_actual</th>\n",
       "      <th>acc</th>\n",
       "    </tr>\n",
       "  </thead>\n",
       "  <tbody>\n",
       "    <tr>\n",
       "      <th>0</th>\n",
       "      <td>EleutherAI/gpt-j-6B</td>\n",
       "      <td>autoprompt</td>\n",
       "      <td>add_three</td>\n",
       "      <td>1</td>\n",
       "      <td>10.0</td>\n",
       "      <td>addedthe +the use worked</td>\n",
       "      <td>25.1</td>\n",
       "    </tr>\n",
       "    <tr>\n",
       "      <th>1</th>\n",
       "      <td>EleutherAI/gpt-j-6B</td>\n",
       "      <td>iprompt</td>\n",
       "      <td>add_three</td>\n",
       "      <td>1</td>\n",
       "      <td>10.0</td>\n",
       "      <td>Write a function int add(</td>\n",
       "      <td>21.7</td>\n",
       "    </tr>\n",
       "    <tr>\n",
       "      <th>4</th>\n",
       "      <td>EleutherAI/gpt-j-6B</td>\n",
       "      <td>autoprompt</td>\n",
       "      <td>multiply_three</td>\n",
       "      <td>1</td>\n",
       "      <td>10.0</td>\n",
       "      <td>multiplythethe �the Multiple</td>\n",
       "      <td>21.5</td>\n",
       "    </tr>\n",
       "    <tr>\n",
       "      <th>5</th>\n",
       "      <td>EleutherAI/gpt-j-6B</td>\n",
       "      <td>iprompt</td>\n",
       "      <td>multiply_three</td>\n",
       "      <td>1</td>\n",
       "      <td>10.0</td>\n",
       "      <td>When you multiply two (</td>\n",
       "      <td>26.7</td>\n",
       "    </tr>\n",
       "    <tr>\n",
       "      <th>8</th>\n",
       "      <td>EleutherAI/gpt-j-6B</td>\n",
       "      <td>autoprompt</td>\n",
       "      <td>max_three</td>\n",
       "      <td>1</td>\n",
       "      <td>10.0</td>\n",
       "      <td>NumberthetheJusticeJaDefault</td>\n",
       "      <td>57.5</td>\n",
       "    </tr>\n",
       "    <tr>\n",
       "      <th>9</th>\n",
       "      <td>EleutherAI/gpt-j-6B</td>\n",
       "      <td>iprompt</td>\n",
       "      <td>max_three</td>\n",
       "      <td>1</td>\n",
       "      <td>10.0</td>\n",
       "      <td>Which number has a bigger value</td>\n",
       "      <td>50.7</td>\n",
       "    </tr>\n",
       "    <tr>\n",
       "      <th>12</th>\n",
       "      <td>EleutherAI/gpt-j-6B</td>\n",
       "      <td>autoprompt</td>\n",
       "      <td>first_three</td>\n",
       "      <td>1</td>\n",
       "      <td>10.0</td>\n",
       "      <td>greater name sorting indiscrim to numbers</td>\n",
       "      <td>100.0</td>\n",
       "    </tr>\n",
       "    <tr>\n",
       "      <th>13</th>\n",
       "      <td>EleutherAI/gpt-j-6B</td>\n",
       "      <td>iprompt</td>\n",
       "      <td>first_three</td>\n",
       "      <td>1</td>\n",
       "      <td>10.0</td>\n",
       "      <td>The first digit of both values</td>\n",
       "      <td>42.3</td>\n",
       "    </tr>\n",
       "  </tbody>\n",
       "</table>\n",
       "</div>"
      ],
      "text/plain": [
       "             checkpoint      prompt       task_name  n_shots  max_digit  \\\n",
       "0   EleutherAI/gpt-j-6B  autoprompt       add_three        1       10.0   \n",
       "1   EleutherAI/gpt-j-6B     iprompt       add_three        1       10.0   \n",
       "4   EleutherAI/gpt-j-6B  autoprompt  multiply_three        1       10.0   \n",
       "5   EleutherAI/gpt-j-6B     iprompt  multiply_three        1       10.0   \n",
       "8   EleutherAI/gpt-j-6B  autoprompt       max_three        1       10.0   \n",
       "9   EleutherAI/gpt-j-6B     iprompt       max_three        1       10.0   \n",
       "12  EleutherAI/gpt-j-6B  autoprompt     first_three        1       10.0   \n",
       "13  EleutherAI/gpt-j-6B     iprompt     first_three        1       10.0   \n",
       "\n",
       "                                  prompt_actual    acc  \n",
       "0                     addedthe +the use worked    25.1  \n",
       "1                    Write a function int add(    21.7  \n",
       "4                 multiplythethe �the Multiple    21.5  \n",
       "5                      When you multiply two (    26.7  \n",
       "8                 NumberthetheJusticeJaDefault    57.5  \n",
       "9              Which number has a bigger value    50.7  \n",
       "12   greater name sorting indiscrim to numbers   100.0  \n",
       "13              The first digit of both values    42.3  "
      ]
     },
     "metadata": {},
     "output_type": "display_data"
    },
    {
     "data": {
      "text/plain": [
       "<AxesSubplot:xlabel='task_name', ylabel='acc'>"
      ]
     },
     "execution_count": 103,
     "metadata": {},
     "output_type": "execute_result"
    },
    {
     "data": {
      "image/png": "[encoded data removed]",
      "text/plain": [
       "<Figure size 640x480 with 1 Axes>"
      ]
     },
     "metadata": {},
     "output_type": "display_data"
    }
   ],
   "source": [
    "row = rows['Math tasks (3 numbers)']\n",
    "with pd.option_context('display.max_rows', None, 'display.max_columns', None):  # more options can be specified also\n",
    "    row = row[row.prompt.isin(['autoprompt', 'iprompt'])]\n",
    "    display(row.groupby('prompt').head(1000).round(1))\n",
    "sns.barplot(data=row, x='task_name', y='acc', hue='prompt')"
   ]
  },
  {
   "cell_type": "code",
   "execution_count": null,
   "metadata": {},
   "outputs": [],
   "source": []
  }
 ],
 "metadata": {
  "kernelspec": {
   "display_name": "Python 3.8.10 ('.autoprompt')",
   "language": "python",
   "name": "python3"
  },
  "language_info": {
   "codemirror_mode": {
    "name": "ipython",
    "version": 3
   },
   "file_extension": ".py",
   "mimetype": "text/x-python",
   "name": "python",
   "nbconvert_exporter": "python",
   "pygments_lexer": "ipython3",
   "version": "3.8.10"
  },
  "orig_nbformat": 4,
  "vscode": {
   "interpreter": {
    "hash": "14b67e045ab4e623bbd9f77d231431043e985fd8f169f266aea842e78b0c1086"
   }
  }
 },
 "nbformat": 4,
 "nbformat_minor": 2
}
