{
 "cells": [
  {
   "cell_type": "code",
   "execution_count": null,
   "id": "aec0ac52-6981-4a79-b317-a9cc282e066c",
   "metadata": {},
   "outputs": [],
   "source": [
    "%load_ext autoreload\n",
    "%autoreload 2\n",
    "\n",
    "import pandas as pd\n",
    "pd.set_option('display.max_columns', None)"
   ]
  },
  {
   "cell_type": "code",
   "execution_count": null,
   "id": "e27c17be-1990-4b9b-81a4-d6e3717ae5e6",
   "metadata": {},
   "outputs": [
    {
     "name": "stdout",
     "output_type": "stream",
     "text": [
      "getting dir_names...\n"
     ]
    },
    {
     "name": "stderr",
     "output_type": "stream",
     "text": [
      "100%|██████████████████████████████████████████████████████████████████████████████████████████████████████████| 36/36 [00:01<00:00, 33.09it/s]\n"
     ]
    }
   ],
   "source": [
    "import analyze_utils\n",
    "\n",
    "save_dir =  '/home/jxm3/research/prompting/interpretable-autoprompting/results_icml/classification_posneg/'\n",
    "\n",
    "r, all_losses = analyze_utils.load_results_and_cache_autoprompt_json(\n",
    "    save_dir, include_losses=True, do_reranking=False, save_file='r.pkl')"
   ]
  },
  {
   "cell_type": "code",
   "execution_count": null,
   "id": "bc043cfc-c896-4dad-9bca-3d0753293494",
   "metadata": {},
   "outputs": [
    {
     "data": {
      "text/html": [
       "<div>\n",
       "<style scoped>\n",
       "    .dataframe tbody tr th:only-of-type {\n",
       "        vertical-align: middle;\n",
       "    }\n",
       "\n",
       "    .dataframe tbody tr th {\n",
       "        vertical-align: top;\n",
       "    }\n",
       "\n",
       "    .dataframe thead th {\n",
       "        text-align: right;\n",
       "    }\n",
       "</style>\n",
       "<table border=\"1\" class=\"dataframe\">\n",
       "  <thead>\n",
       "    <tr style=\"text-align: right;\">\n",
       "      <th></th>\n",
       "      <th></th>\n",
       "      <th></th>\n",
       "      <th>prefixes</th>\n",
       "      <th>reciprocal_rank</th>\n",
       "      <th>prefix_train_loss</th>\n",
       "      <th>prefix_train_acc</th>\n",
       "    </tr>\n",
       "    <tr>\n",
       "      <th>task_name</th>\n",
       "      <th>model_cls</th>\n",
       "      <th>seed</th>\n",
       "      <th></th>\n",
       "      <th></th>\n",
       "      <th></th>\n",
       "      <th></th>\n",
       "    </tr>\n",
       "  </thead>\n",
       "  <tbody>\n",
       "    <tr>\n",
       "      <th rowspan=\"6\" valign=\"top\">ffb_train</th>\n",
       "      <th rowspan=\"3\" valign=\"top\">autoprompt</th>\n",
       "      <th>1</th>\n",
       "      <td>obstacleKevinthe' promot&lt;|endoftext|&gt;utral negative (?, predicted eval olive</td>\n",
       "      <td>1.000000e+00</td>\n",
       "      <td>1.686445</td>\n",
       "      <td>0.343750</td>\n",
       "    </tr>\n",
       "    <tr>\n",
       "      <th>2</th>\n",
       "      <td>Related Comedy series neutral PokéTrend unconventional\\t negative・ polarizedoug</td>\n",
       "      <td>1.000000e+00</td>\n",
       "      <td>2.019908</td>\n",
       "      <td>0.343750</td>\n",
       "    </tr>\n",
       "    <tr>\n",
       "      <th>3</th>\n",
       "      <td>uncontGenGen Breitbart neutralnegative Breitbart Neural emot: positive jun</td>\n",
       "      <td>1.000000e+00</td>\n",
       "      <td>1.665002</td>\n",
       "      <td>0.296875</td>\n",
       "    </tr>\n",
       "    <tr>\n",
       "      <th rowspan=\"3\" valign=\"top\">iprompt</th>\n",
       "      <th>1</th>\n",
       "      <td>'' Answer: neutral '': \"The actions are expected of</td>\n",
       "      <td>5.000000e-01</td>\n",
       "      <td>1.842232</td>\n",
       "      <td>0.343750</td>\n",
       "    </tr>\n",
       "    <tr>\n",
       "      <th>2</th>\n",
       "      <td>\"F is the following workday.\" Answer: neutral:</td>\n",
       "      <td>1.666667e-01</td>\n",
       "      <td>1.324393</td>\n",
       "      <td>0.296875</td>\n",
       "    </tr>\n",
       "    <tr>\n",
       "      <th>3</th>\n",
       "      <td>'' + \"All depends on financing.\" Answer: negative.</td>\n",
       "      <td>1.000000e+00</td>\n",
       "      <td>3.934133</td>\n",
       "      <td>0.265625</td>\n",
       "    </tr>\n",
       "    <tr>\n",
       "      <th rowspan=\"6\" valign=\"top\">imdb_train</th>\n",
       "      <th rowspan=\"3\" valign=\"top\">autoprompt</th>\n",
       "      <th>1</th>\n",
       "      <td>MilanAdministthe Jaime depressing Neg Abstract dur positive chimpanヤ wipes</td>\n",
       "      <td>1.000000e+00</td>\n",
       "      <td>9.012201</td>\n",
       "      <td>0.000000</td>\n",
       "    </tr>\n",
       "    <tr>\n",
       "      <th>2</th>\n",
       "      <td>Warhammer Pixar counterproductive Nike Adidas WikiLeaks disav positive]). Negative\u0000 is</td>\n",
       "      <td>1.000000e+00</td>\n",
       "      <td>7.921182</td>\n",
       "      <td>0.015625</td>\n",
       "    </tr>\n",
       "    <tr>\n",
       "      <th>3</th>\n",
       "      <td>pointless positively oldestffff 802 \"[ CTRL positively SHALL Negative Craigslist exc</td>\n",
       "      <td>1.000000e+00</td>\n",
       "      <td>8.192193</td>\n",
       "      <td>0.000000</td>\n",
       "    </tr>\n",
       "    <tr>\n",
       "      <th rowspan=\"3\" valign=\"top\">iprompt</th>\n",
       "      <th>1</th>\n",
       "      <td>\"THE DEVIL.\" Answer: negative. I was</td>\n",
       "      <td>1.000000e+00</td>\n",
       "      <td>10.927155</td>\n",
       "      <td>0.125000</td>\n",
       "    </tr>\n",
       "    <tr>\n",
       "      <th>2</th>\n",
       "      <td>\"This was a waste of film.\" Answer: negative.</td>\n",
       "      <td>1.000000e+00</td>\n",
       "      <td>11.120133</td>\n",
       "      <td>0.062500</td>\n",
       "    </tr>\n",
       "    <tr>\n",
       "      <th>3</th>\n",
       "      <td>\"Steven Speilberg\" Answer: negative. I don</td>\n",
       "      <td>1.000000e+00</td>\n",
       "      <td>10.629612</td>\n",
       "      <td>0.093750</td>\n",
       "    </tr>\n",
       "    <tr>\n",
       "      <th rowspan=\"6\" valign=\"top\">rt_train</th>\n",
       "      <th rowspan=\"3\" valign=\"top\">autoprompt</th>\n",
       "      <th>1</th>\n",
       "      <td>datasetsannabin sentiment heavnegie Jarvis Venice\u0000 sentiment sentimentPres 1941</td>\n",
       "      <td>1.000000e-10</td>\n",
       "      <td>2.148587</td>\n",
       "      <td>0.281250</td>\n",
       "    </tr>\n",
       "    <tr>\n",
       "      <th>2</th>\n",
       "      <td>\u0014ono correlates conflic]).]:vertcome)\\ crude\\t /**</td>\n",
       "      <td>2.222222e-02</td>\n",
       "      <td>3.043459</td>\n",
       "      <td>0.187500</td>\n",
       "    </tr>\n",
       "    <tr>\n",
       "      <th>3</th>\n",
       "      <td>\": doubtful� allevve positive384 midtermbledon────—- allev</td>\n",
       "      <td>1.000000e+00</td>\n",
       "      <td>1.934233</td>\n",
       "      <td>0.312500</td>\n",
       "    </tr>\n",
       "    <tr>\n",
       "      <th rowspan=\"3\" valign=\"top\">iprompt</th>\n",
       "      <th>1</th>\n",
       "      <td>\"'it is definitely worth seeing.\" Answer: positive/ positive</td>\n",
       "      <td>1.000000e+00</td>\n",
       "      <td>0.700390</td>\n",
       "      <td>0.468750</td>\n",
       "    </tr>\n",
       "    <tr>\n",
       "      <th>2</th>\n",
       "      <td>\"a film is boring to be boring.\" Answer: negative</td>\n",
       "      <td>1.000000e+00</td>\n",
       "      <td>1.085271</td>\n",
       "      <td>0.437500</td>\n",
       "    </tr>\n",
       "    <tr>\n",
       "      <th>3</th>\n",
       "      <td>\"stall three women deliver remarkable performances.\" Answer: positive</td>\n",
       "      <td>1.000000e+00</td>\n",
       "      <td>0.858613</td>\n",
       "      <td>0.468750</td>\n",
       "    </tr>\n",
       "    <tr>\n",
       "      <th rowspan=\"6\" valign=\"top\">sst2_train</th>\n",
       "      <th rowspan=\"3\" valign=\"top\">autoprompt</th>\n",
       "      <th>1</th>\n",
       "      <td>SubjectCour${script predictions �PromPOSneg sign---a</td>\n",
       "      <td>1.000000e-10</td>\n",
       "      <td>2.285277</td>\n",
       "      <td>0.218750</td>\n",
       "    </tr>\n",
       "    <tr>\n",
       "      <th>2</th>\n",
       "      <td>the correlates directional-. cynicismィ387XXXX+++ stationaryANN 0</td>\n",
       "      <td>1.000000e-10</td>\n",
       "      <td>4.861013</td>\n",
       "      <td>0.000000</td>\n",
       "    </tr>\n",
       "    <tr>\n",
       "      <th>3</th>\n",
       "      <td>stationarymoderatenegative.). IPA scoop Planesthe picks positive \"\"\" turns</td>\n",
       "      <td>1.000000e+00</td>\n",
       "      <td>2.284336</td>\n",
       "      <td>0.203125</td>\n",
       "    </tr>\n",
       "    <tr>\n",
       "      <th rowspan=\"3\" valign=\"top\">iprompt</th>\n",
       "      <th>1</th>\n",
       "      <td>\"the action and suspense \" Answer: positive-large-</td>\n",
       "      <td>1.000000e+00</td>\n",
       "      <td>1.242231</td>\n",
       "      <td>0.406250</td>\n",
       "    </tr>\n",
       "    <tr>\n",
       "      <th>2</th>\n",
       "      <td>\", nonchalantly adventurous\" Answer: negative --&gt; Not good</td>\n",
       "      <td>1.000000e+00</td>\n",
       "      <td>1.063864</td>\n",
       "      <td>0.437500</td>\n",
       "    </tr>\n",
       "    <tr>\n",
       "      <th>3</th>\n",
       "      <td>\"provocative central wedding sequence... \" Answer: positive Answer</td>\n",
       "      <td>1.000000e+00</td>\n",
       "      <td>0.984210</td>\n",
       "      <td>0.453125</td>\n",
       "    </tr>\n",
       "  </tbody>\n",
       "</table>\n",
       "</div>"
      ],
      "text/plain": [
       "                                                                                                           prefixes  \\\n",
       "task_name  model_cls  seed                                                                                            \n",
       "ffb_train  autoprompt 1                obstacleKevinthe' promot<|endoftext|>utral negative (?, predicted eval olive   \n",
       "                      2             Related Comedy series neutral PokéTrend unconventional\\t negative・ polarizedoug   \n",
       "                      3                  uncontGenGen Breitbart neutralnegative Breitbart Neural emot: positive jun   \n",
       "           iprompt    1                                         '' Answer: neutral '': \"The actions are expected of   \n",
       "                      2                                              \"F is the following workday.\" Answer: neutral:   \n",
       "                      3                                          '' + \"All depends on financing.\" Answer: negative.   \n",
       "imdb_train autoprompt 1                  MilanAdministthe Jaime depressing Neg Abstract dur positive chimpanヤ wipes   \n",
       "                      2      Warhammer Pixar counterproductive Nike Adidas WikiLeaks disav positive]). Negative\u0000 is   \n",
       "                      3        pointless positively oldestffff 802 \"[ CTRL positively SHALL Negative Craigslist exc   \n",
       "           iprompt    1                                                        \"THE DEVIL.\" Answer: negative. I was   \n",
       "                      2                                               \"This was a waste of film.\" Answer: negative.   \n",
       "                      3                                                  \"Steven Speilberg\" Answer: negative. I don   \n",
       "rt_train   autoprompt 1             datasetsannabin sentiment heavnegie Jarvis Venice\u0000 sentiment sentimentPres 1941   \n",
       "                      2                                          \u0014ono correlates conflic]).]:vertcome)\\ crude\\t /**   \n",
       "                      3                                  \": doubtful� allevve positive384 midtermbledon────—- allev   \n",
       "           iprompt    1                                \"'it is definitely worth seeing.\" Answer: positive/ positive   \n",
       "                      2                                           \"a film is boring to be boring.\" Answer: negative   \n",
       "                      3                       \"stall three women deliver remarkable performances.\" Answer: positive   \n",
       "sst2_train autoprompt 1                                        SubjectCour${script predictions �PromPOSneg sign---a   \n",
       "                      2                            the correlates directional-. cynicismィ387XXXX+++ stationaryANN 0   \n",
       "                      3                  stationarymoderatenegative.). IPA scoop Planesthe picks positive \"\"\" turns   \n",
       "           iprompt    1                                          \"the action and suspense \" Answer: positive-large-   \n",
       "                      2                                  \", nonchalantly adventurous\" Answer: negative --> Not good   \n",
       "                      3                          \"provocative central wedding sequence... \" Answer: positive Answer   \n",
       "\n",
       "                            reciprocal_rank  prefix_train_loss  \\\n",
       "task_name  model_cls  seed                                       \n",
       "ffb_train  autoprompt 1        1.000000e+00           1.686445   \n",
       "                      2        1.000000e+00           2.019908   \n",
       "                      3        1.000000e+00           1.665002   \n",
       "           iprompt    1        5.000000e-01           1.842232   \n",
       "                      2        1.666667e-01           1.324393   \n",
       "                      3        1.000000e+00           3.934133   \n",
       "imdb_train autoprompt 1        1.000000e+00           9.012201   \n",
       "                      2        1.000000e+00           7.921182   \n",
       "                      3        1.000000e+00           8.192193   \n",
       "           iprompt    1        1.000000e+00          10.927155   \n",
       "                      2        1.000000e+00          11.120133   \n",
       "                      3        1.000000e+00          10.629612   \n",
       "rt_train   autoprompt 1        1.000000e-10           2.148587   \n",
       "                      2        2.222222e-02           3.043459   \n",
       "                      3        1.000000e+00           1.934233   \n",
       "           iprompt    1        1.000000e+00           0.700390   \n",
       "                      2        1.000000e+00           1.085271   \n",
       "                      3        1.000000e+00           0.858613   \n",
       "sst2_train autoprompt 1        1.000000e-10           2.285277   \n",
       "                      2        1.000000e-10           4.861013   \n",
       "                      3        1.000000e+00           2.284336   \n",
       "           iprompt    1        1.000000e+00           1.242231   \n",
       "                      2        1.000000e+00           1.063864   \n",
       "                      3        1.000000e+00           0.984210   \n",
       "\n",
       "                            prefix_train_acc  \n",
       "task_name  model_cls  seed                    \n",
       "ffb_train  autoprompt 1             0.343750  \n",
       "                      2             0.343750  \n",
       "                      3             0.296875  \n",
       "           iprompt    1             0.343750  \n",
       "                      2             0.296875  \n",
       "                      3             0.265625  \n",
       "imdb_train autoprompt 1             0.000000  \n",
       "                      2             0.015625  \n",
       "                      3             0.000000  \n",
       "           iprompt    1             0.125000  \n",
       "                      2             0.062500  \n",
       "                      3             0.093750  \n",
       "rt_train   autoprompt 1             0.281250  \n",
       "                      2             0.187500  \n",
       "                      3             0.312500  \n",
       "           iprompt    1             0.468750  \n",
       "                      2             0.437500  \n",
       "                      3             0.468750  \n",
       "sst2_train autoprompt 1             0.218750  \n",
       "                      2             0.000000  \n",
       "                      3             0.203125  \n",
       "           iprompt    1             0.406250  \n",
       "                      2             0.437500  \n",
       "                      3             0.453125  "
      ]
     },
     "execution_count": 3,
     "metadata": {},
     "output_type": "execute_result"
    }
   ],
   "source": [
    "pd.set_option('display.max_colwidth', None)\n",
    "\n",
    "top_prompts = (\n",
    "    r.groupby(['task_name', 'model_cls', 'seed'])\n",
    ").first()\n",
    "top_prompts[['prefixes', 'reciprocal_rank', 'prefix_train_loss', 'prefix_train_acc']]"
   ]
  },
  {
   "cell_type": "code",
   "execution_count": null,
   "id": "6f189f5f-67ae-4738-a88b-5791a18ec4f9",
   "metadata": {},
   "outputs": [
    {
     "data": {
      "text/plain": [
       "model_cls\n",
       "autoprompt    0.668519\n",
       "iprompt       0.888889\n",
       "Name: reciprocal_rank, dtype: float64"
      ]
     },
     "execution_count": 4,
     "metadata": {},
     "output_type": "execute_result"
    }
   ],
   "source": [
    "top_prompts.groupby('model_cls').mean()['reciprocal_rank']"
   ]
  },
  {
   "cell_type": "code",
   "execution_count": null,
   "id": "77534e89-a8a9-460a-bab0-12d84d2c1fc0",
   "metadata": {},
   "outputs": [
    {
     "name": "stderr",
     "output_type": "stream",
     "text": [
      "2023-01-23 11:53:02.077911: I tensorflow/core/platform/cpu_feature_guard.cc:193] This TensorFlow binary is optimized with oneAPI Deep Neural Network Library (oneDNN) to use the following CPU instructions in performance-critical operations:  AVX2 AVX512F AVX512_VNNI FMA\n",
      "To enable them in other operations, rebuild TensorFlow with the appropriate compiler flags.\n",
      "2023-01-23 11:53:02.284623: I tensorflow/core/util/util.cc:169] oneDNN custom operations are on. You may see slightly different numerical results due to floating-point round-off errors from different computation orders. To turn them off, set the environment variable `TF_ENABLE_ONEDNN_OPTS=0`.\n",
      "2023-01-23 11:53:02.322536: E tensorflow/stream_executor/cuda/cuda_blas.cc:2981] Unable to register cuBLAS factory: Attempting to register factory for plugin cuBLAS when one has already been registered\n",
      "2023-01-23 11:53:03.500856: W tensorflow/stream_executor/platform/default/dso_loader.cc:64] Could not load dynamic library 'libnvinfer.so.7'; dlerror: libnvinfer.so.7: cannot open shared object file: No such file or directory\n",
      "2023-01-23 11:53:03.500966: W tensorflow/stream_executor/platform/default/dso_loader.cc:64] Could not load dynamic library 'libnvinfer_plugin.so.7'; dlerror: libnvinfer_plugin.so.7: cannot open shared object file: No such file or directory\n",
      "2023-01-23 11:53:03.500975: W tensorflow/compiler/tf2tensorrt/utils/py_utils.cc:38] TF-TRT Warning: Cannot dlopen some TensorRT libraries. If you would like to use Nvidia GPU with TensorRT, please make sure the missing libraries mentioned above are installed properly.\n"
     ]
    }
   ],
   "source": [
    "assert r['checkpoint'].unique()[0] == \"EleutherAI/gpt-j-6B\"\n",
    "\n",
    "from iprompt import prompt_classification\n",
    "\n",
    "model = prompt_classification.create_model(r['checkpoint'].unique()[0])"
   ]
  },
  {
   "cell_type": "code",
   "execution_count": 12,
   "id": "1346504d-0338-4569-a49d-911244ea53db",
   "metadata": {},
   "outputs": [
    {
     "name": "stdout",
     "output_type": "stream",
     "text": [
      "calculating accs...\n"
     ]
    },
    {
     "data": {
      "application/vnd.jupyter.widget-view+json": {
       "model_id": "89a0a367119c4990819acb1e793bbf7c",
       "version_major": 2,
       "version_minor": 0
      },
      "text/plain": [
       "  0%|          | 0/24 [00:00<?, ?it/s]"
      ]
     },
     "metadata": {},
     "output_type": "display_data"
    },
    {
     "name": "stdout",
     "output_type": "stream",
     "text": [
      "ffb_test\n",
      "**loading data: financial_phrasebank // train\n"
     ]
    },
    {
     "name": "stderr",
     "output_type": "stream",
     "text": [
      "Found cached dataset financial_phrasebank (/home/jxm3/.cache/huggingface/datasets/financial_phrasebank/sentences_allagree/1.0.0/550bde12e6c30e2674da973a55f57edde5181d53f5a5a34c1531c53f93b7e141)\n",
      "Loading cached shuffled indices for dataset at /home/jxm3/.cache/huggingface/datasets/financial_phrasebank/sentences_allagree/1.0.0/550bde12e6c30e2674da973a55f57edde5181d53f5a5a34c1531c53f93b7e141/cache-5e700914242e73b3.arrow\n"
     ]
    },
    {
     "data": {
      "application/vnd.jupyter.widget-view+json": {
       "model_id": "0742cbd442d748bc91cc00b3a87a40f7",
       "version_major": 2,
       "version_minor": 0
      },
      "text/plain": [
       "  0%|          | 0/2 [00:00<?, ?ba/s]"
      ]
     },
     "metadata": {},
     "output_type": "display_data"
    },
    {
     "data": {
      "application/vnd.jupyter.widget-view+json": {
       "model_id": "01bf9a8b3c8d4600bb40f9247e2cfa2f",
       "version_major": 2,
       "version_minor": 0
      },
      "text/plain": [
       "  0%|          | 0/1698 [00:00<?, ?ex/s]"
      ]
     },
     "metadata": {},
     "output_type": "display_data"
    },
    {
     "data": {
      "application/vnd.jupyter.widget-view+json": {
       "model_id": "",
       "version_major": 2,
       "version_minor": 0
      },
      "text/plain": [
       "  0%|          | 0/16 [00:00<?, ?it/s]"
      ]
     },
     "metadata": {},
     "output_type": "display_data"
    },
    {
     "name": "stdout",
     "output_type": "stream",
     "text": [
      "x_text[0]:'Input: \"It estimates the operating profit to further improve from the third quarter .\" Answer:'\n",
      "y_text[0]:' positive\\n'\n",
      "Percent correct: 36.50\n",
      "task_name                                                                                                                                                  ffb_train\n",
      "model_cls                                                                                                                                                    iprompt\n",
      "seed                                                                                                                                                               1\n",
      "batch_size                                                                                                                                                        32\n",
      "n_epochs                                                                                                                                                         100\n",
      "                                                                                                 ...                                                                \n",
      "train_end_time                                                                                                                                     1674486309.479652\n",
      "train_time_elapsed                                                                                                                                       8608.005934\n",
      "pickle_filename                   /home/jxm3/research/prompting/interpretable-autoprompting/results_icml/classification_posneg/Jan_23_07_41_ecmwdsguluuf/results.pkl\n",
      "final_answer_pos_initial_token                                                                                                                                     1\n",
      "reciprocal_rank                                                                                                                                                  0.5\n",
      "Name: 3, Length: 62, dtype: object\n",
      "\t || 36.5%\n"
     ]
    },
    {
     "data": {
      "application/vnd.jupyter.widget-view+json": {
       "model_id": "",
       "version_major": 2,
       "version_minor": 0
      },
      "text/plain": [
       "  0%|          | 0/16 [00:00<?, ?it/s]"
      ]
     },
     "metadata": {},
     "output_type": "display_data"
    },
    {
     "name": "stdout",
     "output_type": "stream",
     "text": [
      "x_text[0]:' \\'\\' Answer: neutral \\'\\': \"The actions are expected of. Input: \"It estimates the operating profit to further improve from the third quarter .\" Answer:'\n",
      "y_text[0]:' positive\\n'\n",
      "Percent correct: 65.90\n",
      "\t '' Answer: neutral '': \"The actions are expected of || 65.9%\n"
     ]
    }
   ],
   "source": [
    "## Compute accuracy given correct prompt and save for each task.\n",
    "import argparse\n",
    "from tqdm.notebook import tqdm\n",
    "from iprompt.data import get_data\n",
    "\n",
    "\n",
    "data = []\n",
    "print('calculating accs...')\n",
    "n_shots = 1\n",
    "batch_size = 16\n",
    "\n",
    "\"\"\"\n",
    "task_name: str = 'add_two',\n",
    " n_shots: int = 1,\n",
    " train_split_frac: float = None,\n",
    " max_dset_size: int = 10000,\n",
    " template_num_task_phrasing: int = 0,\n",
    " max_digit: int = 10,\n",
    " \"\"\"\n",
    "\n",
    "for _, output in tqdm(top_prompts.reset_index().iterrows(), total=len(top_prompts)):\n",
    "    if 'ffb' not in output['task_name']: continue\n",
    "    if output['model_cls'] == 'autoprompt': continue\n",
    "    args = argparse.Namespace(**output)\n",
    "    args.task_name = args.task_name.replace('_train', '_test')\n",
    "    args.train_split_frac = 1.0 # take 100% of test set\n",
    "    args.max_dset_size = 1000\n",
    "    print(args.task_name)\n",
    "    (dset, __dset_test), check_answer_func, descr = get_data(\n",
    "        args.task_name, n_shots=n_shots, train_split_frac=args.train_split_frac,\n",
    "        max_dset_size=args.max_dset_size, template_num_task_phrasing=0,\n",
    "    )\n",
    "    # if task_name == 'task107_splash_question_to_sql':\n",
    "    #     batch_size = max(1, batch_size//4)\n",
    "    ####   Manual prompt  ####\n",
    "    descr = \"\" # tmp override\n",
    "    manual_loss, manual_acc = prompt_classification.test_model_on_task_with_prefix(\n",
    "        dset=dset, model=model, prefix=descr, multi_token=False, verbose=True,\n",
    "        max_length=64, batch_size=64, tqdm_notebook=True,\n",
    "        restrict_to_valid_answers=True,\n",
    "    )\n",
    "    print(output)\n",
    "    print(f'\\t{descr} || {manual_acc:.1f}%')\n",
    "    ####   iPrompt prompt   ####\n",
    "    iprompt_loss, iprompt_acc = prompt_classification.test_model_on_task_with_prefix(\n",
    "        dset=dset, model=model, prefix=(output['prefixes'] + '. '), multi_token=False, verbose=True,\n",
    "        max_length=64, batch_size=64, tqdm_notebook=True,\n",
    "        restrict_to_valid_answers=True,\n",
    "    )\n",
    "    print(f'\\t{output[\"prefixes\"]} || {iprompt_acc:.1f}%')\n",
    "    ####\n",
    "    output['manual_acc'] = manual_acc\n",
    "    output['iprompt_acc'] = iprompt_acc\n",
    "    data.append(output)\n",
    "    break"
   ]
  },
  {
   "cell_type": "markdown",
   "id": "6c1518c7-0cc0-4022-b288-cc72ab587bd2",
   "metadata": {},
   "source": [
    "## Loading with PromptSource"
   ]
  },
  {
   "cell_type": "code",
   "execution_count": 33,
   "id": "f648bb85-a196-4afb-ac55-9997765e6804",
   "metadata": {},
   "outputs": [
    {
     "name": "stdout",
     "output_type": "stream",
     "text": [
      "Movie Expressed Sentiment\n",
      "\t [+] ['\"What a wonderful film :) \" The sentiment expressed for the movie is', 'positive']\n",
      "\t [-] ['\"This movie sucks!\" The sentiment expressed for the movie is', 'negative']\n",
      "\n",
      "Movie Expressed Sentiment 2\n",
      "\t [+] ['The following movie review expresses what sentiment? \"What a wonderful film :) \"', 'positive']\n",
      "\t [-] ['The following movie review expresses what sentiment? \"This movie sucks!\"', 'negative']\n",
      "\n",
      "Negation template for positive and negative\n",
      "\t [+] ['\"What a wonderful film :) \" This is definitely not a', 'negative review.']\n",
      "\t [-] ['\"This movie sucks!\" This is definitely not a', 'positive review.']\n",
      "\n",
      "Reviewer Enjoyment\n",
      "\t [+] ['\"What a wonderful film :) \" How does the reviewer feel about the movie?', 'They loved it']\n",
      "\t [-] ['\"This movie sucks!\" How does the reviewer feel about the movie?', \"They didn't like it!\"]\n",
      "\n",
      "Reviewer Enjoyment Yes No\n",
      "\t [+] ['\"What a wonderful film :) \" Did the reviewer enjoy the movie?', 'Yes']\n",
      "\t [-] ['\"This movie sucks!\" Did the reviewer enjoy the movie?', 'No']\n",
      "\n",
      "Reviewer Expressed Sentiment\n",
      "\t [+] ['\"What a wonderful film :) \" What is the sentiment expressed by the reviewer for the movie?', 'positive']\n",
      "\t [-] ['\"This movie sucks!\" What is the sentiment expressed by the reviewer for the movie?', 'negative']\n",
      "\n",
      "Reviewer Opinion bad good choices\n",
      "\t [+] ['\"What a wonderful film :) \" Did the reviewer find this movie good or bad?', 'good']\n",
      "\t [-] ['\"This movie sucks!\" Did the reviewer find this movie good or bad?', 'bad']\n",
      "\n",
      "Reviewer Sentiment Feeling\n",
      "\t [+] ['\"What a wonderful film :) \" How does the viewer feel about the movie?', 'positive']\n",
      "\t [-] ['\"This movie sucks!\" How does the viewer feel about the movie?', 'negative']\n",
      "\n",
      "Sentiment with choices \n",
      "\t [+] ['\"What a wonderful film :) \" \\nIs this review positive or negative?', 'positive']\n",
      "\t [-] ['\"This movie sucks!\" \\nIs this review positive or negative?', 'negative']\n",
      "\n",
      "Text Expressed Sentiment\n",
      "\t [+] ['\"What a wonderful film :) \" What is the sentiment expressed in this text?', 'positive']\n",
      "\t [-] ['\"This movie sucks!\" What is the sentiment expressed in this text?', 'negative']\n",
      "\n",
      "Writer Expressed Sentiment\n",
      "\t [+] ['\"What a wonderful film :) \" What sentiment does the writer express for the movie?', 'positive']\n",
      "\t [-] ['\"This movie sucks!\" What sentiment does the writer express for the movie?', 'negative']\n",
      "\n"
     ]
    }
   ],
   "source": [
    "import promptsource\n",
    "import promptsource.templates\n",
    "\n",
    "imdb_prompts = promptsource.templates.DatasetTemplates('imdb')\n",
    "\n",
    "pos_input = { \"text\": \"\\\"What a wonderful film :) \\\"\", \"label\": 1 }\n",
    "neg_input = { \"text\": \"\\\"This movie sucks!\\\"\", \"label\": 0 }\n",
    "\n",
    "for tn in imdb_prompts.all_template_names:\n",
    "    print(tn)\n",
    "    print('\\t [+]', imdb_prompts[tn].apply(pos_input))\n",
    "    print('\\t [-]', imdb_prompts[tn].apply(neg_input))\n",
    "    print()"
   ]
  },
  {
   "cell_type": "code",
   "execution_count": 29,
   "id": "cc37a651-ced8-45ed-86fd-61224533438d",
   "metadata": {},
   "outputs": [
    {
     "data": {
      "text/plain": [
       "['This movie sucks! The sentiment expressed for the movie is', '']"
      ]
     },
     "execution_count": 29,
     "metadata": {},
     "output_type": "execute_result"
    }
   ],
   "source": [
    "imdb_prompts[\"Movie Expressed Sentiment\"].apply({ \"text\": \"This movie sucks!\" })"
   ]
  },
  {
   "cell_type": "code",
   "execution_count": null,
   "id": "ab0b5448-1bcc-44db-9c32-b87e9fcce839",
   "metadata": {},
   "outputs": [],
   "source": []
  }
 ],
 "metadata": {
  "kernelspec": {
   "display_name": "Python 3 (ipykernel)",
   "language": "python",
   "name": "python3"
  },
  "language_info": {
   "codemirror_mode": {
    "name": "ipython",
    "version": 3
   },
   "file_extension": ".py",
   "mimetype": "text/x-python",
   "name": "python",
   "nbconvert_exporter": "python",
   "pygments_lexer": "ipython3",
   "version": "3.9.7"
  }
 },
 "nbformat": 4,
 "nbformat_minor": 5
}
