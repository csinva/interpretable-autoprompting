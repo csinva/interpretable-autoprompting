{
 "cells": [
  {
   "cell_type": "code",
   "execution_count": 1,
   "id": "1813f150-d26e-4d76-9d74-d54b56b7f524",
   "metadata": {},
   "outputs": [
    {
     "name": "stderr",
     "output_type": "stream",
     "text": [
      "/Users/chandan/rules/interpretable-autoprompting/.autoprompt/lib/python3.9/site-packages/tqdm/auto.py:22: TqdmWarning: IProgress not found. Please update jupyter and ipywidgets. See https://ipywidgets.readthedocs.io/en/stable/user_install.html\n",
      "  from .autonotebook import tqdm as notebook_tqdm\n"
     ]
    }
   ],
   "source": [
    "%load_ext autoreload\n",
    "%autoreload 2\n",
    "import numpy as np\n",
    "import torch\n",
    "from torch import nn\n",
    "import matplotlib.pyplot as plt\n",
    "from copy import deepcopy\n",
    "import pandas as pd\n",
    "from tqdm import tqdm\n",
    "from collections import defaultdict\n",
    "from transformers import AutoTokenizer\n",
    "import pandas as pd\n",
    "import seaborn as sns\n",
    "from datasets import Dataset\n",
    "from os.path import join as oj\n",
    "import pickle as pkl\n",
    "import os\n",
    "import analyze_utils\n",
    "import dvu\n",
    "import re\n",
    "dvu.set_style()\n",
    "\n",
    "import sys\n",
    "import iprompt.data\n",
    "\n",
    "def add_trailing_space(s):\n",
    "    if not s.endswith(' '):\n",
    "        return s + ' '\n",
    "    return s\n",
    "\n",
    "def clean_task_name(s):\n",
    "    s = s.replace('_', ' ')\n",
    "    if s.startswith('task'): # anli\n",
    "        s = s[s.index(' '):]\n",
    "    return s"
   ]
  },
  {
   "cell_type": "markdown",
   "id": "49306680",
   "metadata": {},
   "source": [
    "# Print table"
   ]
  },
  {
   "cell_type": "code",
   "execution_count": 3,
   "id": "7dedff1b",
   "metadata": {},
   "outputs": [],
   "source": [
    "prompts_all = pd.read_pickle('../results/generalization_acc/prompts_all.pkl')"
   ]
  },
  {
   "cell_type": "code",
   "execution_count": 7,
   "id": "1cb75fb6",
   "metadata": {},
   "outputs": [
    {
     "name": "stdout",
     "output_type": "stream",
     "text": [
      "\\begin{tabular}{lllll}\n",
      "\\toprule\n",
      "{} &                                                                                                                                                                                                                                                                                                                                                                                                                                                                       Human-written prompt &                                          AutoPrompt &                                    iPrompt &                           Average suffix \\\\\n",
      "\\midrule\n",
      " identify typo verification                         &  The given sentence contains a typo which could be one of the following four types: (1) swapped letters of a word e.g. 'niec' is a typo of the word 'nice'. (2) missing letter in a word e.g. 'nic' is a typo of the word 'nice'. (3) extra letter in a word e.g. 'nicce' is a typo of the word 'nice'. (4) replaced letter in a word e.g 'nicr' is a typo of the word 'nice'. You need to identify the typo in the given sentence. To do this, answer with the word containing the typo.  &                                  Sytheanathethethe  &    Given a string containing the alphabet  &              the first word of the input \\\\\n",
      " check prime classification                         &                                                                                                                                                                                                                                                                                 In this task, you need to output 'Yes' if the given number is a prime number otherwise output 'No'. A 'prime number' is a a whole number above 1 that can not be made by multiplying other whole numbers.  &                 Abedin AnywaytheONSORED Roses 2050  &                        Yes or no? Is that  &              the input.\\textbackslash n\\textbackslash n<|endoftext|> \\\\\n",
      " splash question to sql                             &                                                                                                                                                                                                                                                                                                                                                                                                                        Generate an SQL statement from a question asking for certain data.  &    ributed grandfatherExceptionappropri intent Lara &            Write an SQL to produce output  &                a string that records all \\\\\n",
      " country capital                                    &                                                                                                                                                                                                                                                                                                                                                                                   In this task, you are given a country name and you need to return the capital city of the given country  &                         Bringingthethe Stargthethe  &            How did the economy perform in  &               the name of the capital of \\\\\n",
      " country currency                                   &                                                                                                                                                                                                                                                                                                                                                                                                    You are given a country name and you need to return the currency of the given country.  &                      renciesthethe Dmitrythe mortg  &            Select currency code for a new  &   the string representation of the input \\\\\n",
      " item check edible                                  &                                                                                                                                                                                                                                                                                                                                                                                                                                      Return whether the input item is edible (yes or no).  &                    joiningthe Brazil fuckingthethe  &                   Would you like to buy a  &                             \"yes\" or \"no \\\\\n",
      " food veg nonveg                                    &                                                                                                                                                                                                                                                                                                                                                                                                                             Return whether the input food dish is vegetarian (yes or no).  &                                 Novthethethethethe  &                        yes or no? This is  &              the input.\\textbackslash n\\textbackslash n<|endoftext|> \\\\\n",
      " peixian equity evaluation corpus gender classifier &                                                                                                                                                                                                                                                                                                                                                                                                                                    Return the gender of the person in the input sentence.  &                           TurtheFortthetheReviewer  &                                A B C D F\\#  &           a function that represents one \\\\\n",
      " evalution antonyms                                 &                                                                                                                                                                                                                                                                                                                                              In this task, you are given an adjective, and your job is to generate its antonym. An antonym of a word is a word opposite in meaning to it.  &                   prevailingthethe weakestthe wins  &                 What is the opposite of 1  &              the first word of the input \\\\\n",
      " rhyme generation                                   &                                                                                                                                                                                                                                                                                                                                                                            Given an input word generate a word that rhymes exactly with the input word. If not rhyme is found return \"No\"  &                    matesthe dex championshipthethe  &                            bale balbalbab  &              the first word of the input \\\\\n",
      "add two                                             &                                                                                                                                                                                                                                                                                                                                                                                                                                                             Return the sum of the inputs.  &                           addedthe +the use worked  &                 Write a function int add(  &             the sum of the input numbers \\\\\n",
      "multiply two                                        &                                                                                                                                                                                                                                                                                                                                                                                                                                                         Return the product of the inputs.  &                       multiplythethe the Multiple  &                   When you multiply two (  &             the sum of the input numbers \\\\\n",
      "divide two                                          &                                                                                                                                                                                                                                                                                                                                                                                                                                                        Return the quotient of the inputs.  &   Kaplan MAG comprisingthe quarterly disproportion  &                            n / N,where we  &              the result of the division. \\\\\n",
      "subtract two                                        &                                                                                                                                                                                                                                                                                                                                                                                                                                                      Return the difference of the inputs.  &                 opposably exactly subtractFor YEAR  &                    If n > m then subtract  &                     -1.\\textbackslash n\\textbackslash n<|endoftext|> \\\\\n",
      "max two                                             &                                                                                                                                                                                                                                                                                                                                                                                                                                                         Return the maximum of the inputs.  &                       NumberthetheJusticeJaDefault  &           Which number has a bigger value  &             the sum of the input numbers \\\\\n",
      "first two                                           &                                                                                                                                                                                                                                                                                                                                                                                                                                                           Return the first of the inputs.  &          greater name sorting indiscrim to numbers  &            The first digit of both values  &             the sum of the input numbers \\\\\n",
      "square one                                          &                                                                                                                                                                                                                                                                                                                                                                                                                                                       Square the input to get the output.  &                       multiplythe hypot Norttheirl  &   Write a function that calculates square  &                                f(x).\\textbackslash n\\textbackslash n \\\\\n",
      "exp one                                             &                                                                                                                                                                                                                                                                                                                                                                                                                                                 Exponentiate the input to get the output.  &                        Smythe webpage fle clin McA  &               Use BigInteger and double (  &                                f(x).\\textbackslash n\\textbackslash n \\\\\n",
      "double one                                          &                                                                                                                                                                                                                                                                                                                                                                                                                                                             Given an input x, return 2*x.  &             ADDthe introducedpareat contraceptives  &       write a function called double that  &                                f(x).\\textbackslash n\\textbackslash n \\\\\n",
      "fibonacci one                                       &                                                                                                                                                                                                                                                                                                                                                                                                                                        Given an input x, return the xth fibonacci number.  &                           betweenthe made one uped  &     how to prove an algorithm correctness  &                                f(x).\\textbackslash n\\textbackslash n \\\\\n",
      "\\bottomrule\n",
      "\\end{tabular}\n",
      "\n"
     ]
    },
    {
     "name": "stderr",
     "output_type": "stream",
     "text": [
      "/var/folders/01/fl5q4n5547v1g4z0hw_v_mrc0000gn/T/ipykernel_73767/3459251185.py:9: FutureWarning: In future versions `DataFrame.to_latex` is expected to utilise the base implementation of `Styler.to_latex` for formatting and rendering. The arguments signature may therefore change. It is recommended instead to use `DataFrame.style.to_latex` which also contains additional functionality.\n",
      "  print(p.to_latex().replace('\\_peixian\\_equity\\_evaluation\\_corpus', '').replace('�', ''))\n"
     ]
    }
   ],
   "source": [
    "p = prompts_all.rename(columns={\n",
    "    'manual': 'Human-written prompt',\n",
    "    'iprompt': 'iPrompt',\n",
    "    'autoprompt': 'AutoPrompt',\n",
    "    'suffix': 'Average suffix',\n",
    "})\n",
    "p.index = pd.Series(p.index).apply(clean_task_name).values\n",
    "with pd.option_context(\"max_colwidth\", 1000):\n",
    "    print(p.to_latex().replace('\\_peixian\\_equity\\_evaluation\\_corpus', '').replace('�', ''))"
   ]
  },
  {
   "cell_type": "code",
   "execution_count": 8,
   "id": "c2a8a10b",
   "metadata": {},
   "outputs": [
    {
     "name": "stdout",
     "output_type": "stream",
     "text": [
      "\\begin{tabular}{llll}\n",
      "\\toprule\n",
      "{} &                                                                                                                           Human-written prompt &                                    iPrompt &                                        AutoPrompt \\\\\n",
      "\\midrule\n",
      " splash question to sql &                                                                            Generate an SQL statement from a question asking for certain data.  &            Write an SQL to produce output  &  ributed grandfatherExceptionappropri intent Lara \\\\\n",
      " country currency       &                                                        You are given a country name and you need to return the currency of the given country.  &            Select currency code for a new  &                    renciesthethe Dmitrythe mortg  \\\\\n",
      " food veg nonveg        &                                                                                 Return whether the input food dish is vegetarian (yes or no).  &                        yes or no? This is  &                               Novthethethethethe  \\\\\n",
      " evalution antonyms     &  In this task, you are given an adjective, and your job is to generate its antonym. An antonym of a word is a word opposite in meaning to it.  &                 What is the opposite of 1  &                 prevailingthethe weakestthe wins  \\\\\n",
      "add two                 &                                                                                                                 Return the sum of the inputs.  &                 Write a function int add(  &                         addedthe +the use worked  \\\\\n",
      "multiply two            &                                                                                                             Return the product of the inputs.  &                   When you multiply two (  &                     multiplythethe the Multiple  \\\\\n",
      "subtract two            &                                                                                                          Return the difference of the inputs.  &                    If n > m then subtract  &               opposably exactly subtractFor YEAR  \\\\\n",
      "max two                 &                                                                                                             Return the maximum of the inputs.  &           Which number has a bigger value  &                     NumberthetheJusticeJaDefault  \\\\\n",
      "first two               &                                                                                                               Return the first of the inputs.  &            The first digit of both values  &        greater name sorting indiscrim to numbers  \\\\\n",
      "square one              &                                                                                                           Square the input to get the output.  &   Write a function that calculates square  &                     multiplythe hypot Norttheirl  \\\\\n",
      "double one              &                                                                                                                 Given an input x, return 2*x.  &       write a function called double that  &           ADDthe introducedpareat contraceptives  \\\\\n",
      "\\bottomrule\n",
      "\\end{tabular}\n",
      "\n"
     ]
    },
    {
     "name": "stderr",
     "output_type": "stream",
     "text": [
      "/var/folders/01/fl5q4n5547v1g4z0hw_v_mrc0000gn/T/ipykernel_73767/951248674.py:15: FutureWarning: In future versions `DataFrame.to_latex` is expected to utilise the base implementation of `Styler.to_latex` for formatting and rendering. The arguments signature may therefore change. It is recommended instead to use `DataFrame.style.to_latex` which also contains additional functionality.\n",
      "  print(p.to_latex().replace('\\_peixian\\_equity\\_evaluation\\_corpus', '').replace('�', ''))\n"
     ]
    }
   ],
   "source": [
    "\n",
    "showcase = ['task107_splash_question_to_sql',\n",
    "'task1147_country_currency',\n",
    "'task1191_food_veg_nonveg',\n",
    "       'task1509_evalution_antonyms', 'add_two',\n",
    "       'multiply_two','subtract_two', 'max_two', 'first_two',\n",
    "       'square_one', 'double_one']\n",
    "p = prompts_all[['manual', 'iprompt', 'autoprompt']].rename(columns={\n",
    "    'manual': 'Human-written prompt',\n",
    "    'iprompt': 'iPrompt',\n",
    "    'autoprompt': 'AutoPrompt',\n",
    "}).loc[showcase]\n",
    "\n",
    "p.index = pd.Series(p.index).apply(clean_task_name).values\n",
    "with pd.option_context(\"max_colwidth\", 1000):\n",
    "    print(p.to_latex().replace('\\_peixian\\_equity\\_evaluation\\_corpus', '').replace('�', ''))"
   ]
  },
  {
   "cell_type": "markdown",
   "id": "28272481",
   "metadata": {},
   "source": [
    "## Load prompts from sweep results"
   ]
  },
  {
   "cell_type": "code",
   "execution_count": 41,
   "id": "9372f59f",
   "metadata": {},
   "outputs": [],
   "source": [
    "prompts_file = '../results/generalization_acc/math_prompts_with_accs_EleutherAI__gpt-j-6B.pkl'\n",
    "df = pkl.load(open(prompts_file, 'rb'))"
   ]
  },
  {
   "cell_type": "code",
   "execution_count": 46,
   "id": "33dc2099",
   "metadata": {},
   "outputs": [
    {
     "data": {
      "text/html": [
       "<div>\n",
       "<style scoped>\n",
       "    .dataframe tbody tr th:only-of-type {\n",
       "        vertical-align: middle;\n",
       "    }\n",
       "\n",
       "    .dataframe tbody tr th {\n",
       "        vertical-align: top;\n",
       "    }\n",
       "\n",
       "    .dataframe thead th {\n",
       "        text-align: right;\n",
       "    }\n",
       "</style>\n",
       "<table border=\"1\" class=\"dataframe\">\n",
       "  <thead>\n",
       "    <tr style=\"text-align: right;\">\n",
       "      <th></th>\n",
       "      <th>Human-written prompt</th>\n",
       "      <th>iPrompt (6 tokens)</th>\n",
       "      <th>AutoPrompt (6 tokens)</th>\n",
       "    </tr>\n",
       "  </thead>\n",
       "  <tbody>\n",
       "    <tr>\n",
       "      <th>add_two</th>\n",
       "      <td>Return the sum of the inputs.</td>\n",
       "      <td>Write a function int add(</td>\n",
       "      <td>addedthe +the use worked</td>\n",
       "    </tr>\n",
       "    <tr>\n",
       "      <th>multiply_two</th>\n",
       "      <td>Return the product of the inputs.</td>\n",
       "      <td>When you multiply two (</td>\n",
       "      <td>multiplythethe �the Multiple</td>\n",
       "    </tr>\n",
       "    <tr>\n",
       "      <th>divide_two</th>\n",
       "      <td>Return the quotient of the inputs.</td>\n",
       "      <td>n / N,where we</td>\n",
       "      <td>Kaplan MAG comprisingthe quarterly disproportion</td>\n",
       "    </tr>\n",
       "    <tr>\n",
       "      <th>subtract_two</th>\n",
       "      <td>Return the difference of the inputs.</td>\n",
       "      <td>If n &gt; m then subtract</td>\n",
       "      <td>opposably exactly subtractFor YEAR</td>\n",
       "    </tr>\n",
       "    <tr>\n",
       "      <th>max_two</th>\n",
       "      <td>Return the maximum of the inputs.</td>\n",
       "      <td>Which number has a bigger value</td>\n",
       "      <td>NumberthetheJusticeJaDefault</td>\n",
       "    </tr>\n",
       "    <tr>\n",
       "      <th>first_two</th>\n",
       "      <td>Return the first of the inputs.</td>\n",
       "      <td>The first digit of both values</td>\n",
       "      <td>greater name sorting indiscrim to numbers</td>\n",
       "    </tr>\n",
       "    <tr>\n",
       "      <th>square_one</th>\n",
       "      <td>Square the input to get the output.</td>\n",
       "      <td>Write a function that calculates square</td>\n",
       "      <td>multiplythe hypot Norttheirl</td>\n",
       "    </tr>\n",
       "    <tr>\n",
       "      <th>exp_one</th>\n",
       "      <td>Exponentiate the input to get the output.</td>\n",
       "      <td>Use BigInteger and double (</td>\n",
       "      <td>Smythe webpage fle clin McA</td>\n",
       "    </tr>\n",
       "    <tr>\n",
       "      <th>double_one</th>\n",
       "      <td>Given an input x, return 2*x.</td>\n",
       "      <td>write a function called double that</td>\n",
       "      <td>ADDthe introducedpareat contraceptives</td>\n",
       "    </tr>\n",
       "    <tr>\n",
       "      <th>fibonacci_one</th>\n",
       "      <td>Given an input x, return the xth fibonacci num...</td>\n",
       "      <td>how to prove an algorithm correctness</td>\n",
       "      <td>betweenthe made one uped</td>\n",
       "    </tr>\n",
       "  </tbody>\n",
       "</table>\n",
       "</div>"
      ],
      "text/plain": [
       "                                            Human-written prompt  \\\n",
       "add_two                           Return the sum of the inputs.    \n",
       "multiply_two                  Return the product of the inputs.    \n",
       "divide_two                   Return the quotient of the inputs.    \n",
       "subtract_two               Return the difference of the inputs.    \n",
       "max_two                       Return the maximum of the inputs.    \n",
       "first_two                       Return the first of the inputs.    \n",
       "square_one                  Square the input to get the output.    \n",
       "exp_one               Exponentiate the input to get the output.    \n",
       "double_one                        Given an input x, return 2*x.    \n",
       "fibonacci_one  Given an input x, return the xth fibonacci num...   \n",
       "\n",
       "                                     iPrompt (6 tokens)  \\\n",
       "add_two                       Write a function int add(   \n",
       "multiply_two                    When you multiply two (   \n",
       "divide_two                               n / N,where we   \n",
       "subtract_two                     If n > m then subtract   \n",
       "max_two                 Which number has a bigger value   \n",
       "first_two                The first digit of both values   \n",
       "square_one      Write a function that calculates square   \n",
       "exp_one                     Use BigInteger and double (   \n",
       "double_one          write a function called double that   \n",
       "fibonacci_one     how to prove an algorithm correctness   \n",
       "\n",
       "                                           AutoPrompt (6 tokens)  \n",
       "add_two                                 addedthe +the use worked  \n",
       "multiply_two                        multiplythethe �the Multiple  \n",
       "divide_two      Kaplan MAG comprisingthe quarterly disproportion  \n",
       "subtract_two                  opposably exactly subtractFor YEAR  \n",
       "max_two                             NumberthetheJusticeJaDefault  \n",
       "first_two              greater name sorting indiscrim to numbers  \n",
       "square_one                          multiplythe hypot Norttheirl  \n",
       "exp_one                              Smythe webpage fle clin McA  \n",
       "double_one                ADDthe introducedpareat contraceptives  \n",
       "fibonacci_one                           betweenthe made one uped  "
      ]
     },
     "execution_count": 46,
     "metadata": {},
     "output_type": "execute_result"
    }
   ],
   "source": [
    "d = df\n",
    "task_names = d.task_name.unique()\n",
    "r = defaultdict(list)\n",
    "for task_name in task_names:\n",
    "    d = df\n",
    "    d1 = d[d['legend'] == 'Human-written prompt']\n",
    "    r['Human-written prompt'].append(d1[d1.task_name == task_name].iloc[0]['prompt_actual'])\n",
    "\n",
    "\n",
    "    d = df[(df['legend'] == 'iPrompt (6 tokens)')]\n",
    "    d = d[(d.n_shots == 1) * (d.max_digit==10) * (d.model_name == 'model_6b')]\n",
    "    r['iPrompt (6 tokens)'].append(d[d.task_name == task_name].iloc[0]['prefixes'])\n",
    "\n",
    "    d = df[(df['legend'] == 'AutoPrompt (6 tokens)')]\n",
    "    d = d[(d.n_shots == 1) * (d.max_digit==10) * (d.model_name == 'model_6b')]\n",
    "    r['AutoPrompt (6 tokens)'].append(d[d.task_name == task_name].iloc[0]['prefixes'])\n",
    "\n",
    "    d\n",
    "\n",
    "rf = pd.DataFrame.from_dict(r) #, index=task_names)\n",
    "rf.index = task_names\n",
    "rf"
   ]
  },
  {
   "cell_type": "markdown",
   "id": "f8774bb4",
   "metadata": {},
   "source": [
    "Print to latex"
   ]
  },
  {
   "cell_type": "code",
   "execution_count": 56,
   "id": "0d61a66d",
   "metadata": {},
   "outputs": [
    {
     "name": "stdout",
     "output_type": "stream",
     "text": [
      "\\begin{tabular}{llll}\n",
      "\\toprule\n",
      "{} &                                             manual &                                    iprompt &                                         autoprompt \\\\\n",
      "\\midrule\n",
      "add\\_two       &                     Return the sum of the inputs.  &                 Write a function int add(  &                          addedthe +the use worked  \\\\\n",
      "multiply\\_two  &                 Return the product of the inputs.  &                   When you multiply two (  &                      multiplythethe �the Multiple  \\\\\n",
      "divide\\_two    &                Return the quotient of the inputs.  &                            n / N,where we  &   Kaplan MAG comprisingthe quarterly disproport... \\\\\n",
      "subtract\\_two  &              Return the difference of the inputs.  &                    If n > m then subtract  &                opposably exactly subtractFor YEAR  \\\\\n",
      "max\\_two       &                 Return the maximum of the inputs.  &           Which number has a bigger value  &                      NumberthetheJusticeJaDefault  \\\\\n",
      "first\\_two     &                   Return the first of the inputs.  &            The first digit of both values  &         greater name sorting indiscrim to numbers  \\\\\n",
      "square\\_one    &               Square the input to get the output.  &   Write a function that calculates square  &                      multiplythe hypot Norttheirl  \\\\\n",
      "exp\\_one       &         Exponentiate the input to get the output.  &               Use BigInteger and double (  &                       Smythe webpage fle clin McA  \\\\\n",
      "double\\_one    &                     Given an input x, return 2*x.  &       write a function called double that  &            ADDthe introducedpareat contraceptives  \\\\\n",
      "fibonacci\\_one &  Given an input x, return the xth fibonacci num... &     how to prove an algorithm correctness  &                          betweenthe made one uped  \\\\\n",
      "\\bottomrule\n",
      "\\end{tabular}\n",
      "\n"
     ]
    },
    {
     "name": "stderr",
     "output_type": "stream",
     "text": [
      "/tmp/ipykernel_1961039/3591879776.py:1: FutureWarning: In future versions `DataFrame.to_latex` is expected to utilise the base implementation of `Styler.to_latex` for formatting and rendering. The arguments signature may therefore change. It is recommended instead to use `DataFrame.style.to_latex` which also contains additional functionality.\n",
      "  s = rf.to_latex()\n"
     ]
    }
   ],
   "source": [
    "s = rf.to_latex()\n",
    "print(s)"
   ]
  },
  {
   "cell_type": "markdown",
   "id": "f5fa85f7",
   "metadata": {},
   "source": [
    "# Save out the prompts"
   ]
  },
  {
   "cell_type": "code",
   "execution_count": 48,
   "id": "692cb362",
   "metadata": {},
   "outputs": [],
   "source": [
    "for k in rf.columns:\n",
    "    rf[k] = rf[k].apply(add_trailing_space)\n",
    "rf = rf.rename(columns={\n",
    "    'Human-written prompt': 'manual',\n",
    "    'iPrompt (6 tokens)': 'iprompt',\n",
    "    'AutoPrompt (6 tokens)': 'autoprompt',\n",
    "})\n",
    "rf.to_pickle('../results/generalization_acc/prompts.pkl')"
   ]
  },
  {
   "cell_type": "code",
   "execution_count": 49,
   "id": "9513e948",
   "metadata": {},
   "outputs": [
    {
     "data": {
      "text/html": [
       "<div>\n",
       "<style scoped>\n",
       "    .dataframe tbody tr th:only-of-type {\n",
       "        vertical-align: middle;\n",
       "    }\n",
       "\n",
       "    .dataframe tbody tr th {\n",
       "        vertical-align: top;\n",
       "    }\n",
       "\n",
       "    .dataframe thead th {\n",
       "        text-align: right;\n",
       "    }\n",
       "</style>\n",
       "<table border=\"1\" class=\"dataframe\">\n",
       "  <thead>\n",
       "    <tr style=\"text-align: right;\">\n",
       "      <th></th>\n",
       "      <th>manual</th>\n",
       "      <th>iprompt</th>\n",
       "      <th>autoprompt</th>\n",
       "    </tr>\n",
       "  </thead>\n",
       "  <tbody>\n",
       "    <tr>\n",
       "      <th>add_two</th>\n",
       "      <td>Return the sum of the inputs.</td>\n",
       "      <td>Write a function int add(</td>\n",
       "      <td>addedthe +the use worked</td>\n",
       "    </tr>\n",
       "    <tr>\n",
       "      <th>multiply_two</th>\n",
       "      <td>Return the product of the inputs.</td>\n",
       "      <td>When you multiply two (</td>\n",
       "      <td>multiplythethe �the Multiple</td>\n",
       "    </tr>\n",
       "    <tr>\n",
       "      <th>divide_two</th>\n",
       "      <td>Return the quotient of the inputs.</td>\n",
       "      <td>n / N,where we</td>\n",
       "      <td>Kaplan MAG comprisingthe quarterly disproport...</td>\n",
       "    </tr>\n",
       "    <tr>\n",
       "      <th>subtract_two</th>\n",
       "      <td>Return the difference of the inputs.</td>\n",
       "      <td>If n &gt; m then subtract</td>\n",
       "      <td>opposably exactly subtractFor YEAR</td>\n",
       "    </tr>\n",
       "    <tr>\n",
       "      <th>max_two</th>\n",
       "      <td>Return the maximum of the inputs.</td>\n",
       "      <td>Which number has a bigger value</td>\n",
       "      <td>NumberthetheJusticeJaDefault</td>\n",
       "    </tr>\n",
       "    <tr>\n",
       "      <th>first_two</th>\n",
       "      <td>Return the first of the inputs.</td>\n",
       "      <td>The first digit of both values</td>\n",
       "      <td>greater name sorting indiscrim to numbers</td>\n",
       "    </tr>\n",
       "    <tr>\n",
       "      <th>square_one</th>\n",
       "      <td>Square the input to get the output.</td>\n",
       "      <td>Write a function that calculates square</td>\n",
       "      <td>multiplythe hypot Norttheirl</td>\n",
       "    </tr>\n",
       "    <tr>\n",
       "      <th>exp_one</th>\n",
       "      <td>Exponentiate the input to get the output.</td>\n",
       "      <td>Use BigInteger and double (</td>\n",
       "      <td>Smythe webpage fle clin McA</td>\n",
       "    </tr>\n",
       "    <tr>\n",
       "      <th>double_one</th>\n",
       "      <td>Given an input x, return 2*x.</td>\n",
       "      <td>write a function called double that</td>\n",
       "      <td>ADDthe introducedpareat contraceptives</td>\n",
       "    </tr>\n",
       "    <tr>\n",
       "      <th>fibonacci_one</th>\n",
       "      <td>Given an input x, return the xth fibonacci num...</td>\n",
       "      <td>how to prove an algorithm correctness</td>\n",
       "      <td>betweenthe made one uped</td>\n",
       "    </tr>\n",
       "  </tbody>\n",
       "</table>\n",
       "</div>"
      ],
      "text/plain": [
       "                                                          manual  \\\n",
       "add_two                           Return the sum of the inputs.    \n",
       "multiply_two                  Return the product of the inputs.    \n",
       "divide_two                   Return the quotient of the inputs.    \n",
       "subtract_two               Return the difference of the inputs.    \n",
       "max_two                       Return the maximum of the inputs.    \n",
       "first_two                       Return the first of the inputs.    \n",
       "square_one                  Square the input to get the output.    \n",
       "exp_one               Exponentiate the input to get the output.    \n",
       "double_one                        Given an input x, return 2*x.    \n",
       "fibonacci_one  Given an input x, return the xth fibonacci num...   \n",
       "\n",
       "                                                 iprompt  \\\n",
       "add_two                       Write a function int add(    \n",
       "multiply_two                    When you multiply two (    \n",
       "divide_two                               n / N,where we    \n",
       "subtract_two                     If n > m then subtract    \n",
       "max_two                 Which number has a bigger value    \n",
       "first_two                The first digit of both values    \n",
       "square_one      Write a function that calculates square    \n",
       "exp_one                     Use BigInteger and double (    \n",
       "double_one          write a function called double that    \n",
       "fibonacci_one     how to prove an algorithm correctness    \n",
       "\n",
       "                                                      autoprompt  \n",
       "add_two                                addedthe +the use worked   \n",
       "multiply_two                       multiplythethe �the Multiple   \n",
       "divide_two      Kaplan MAG comprisingthe quarterly disproport...  \n",
       "subtract_two                 opposably exactly subtractFor YEAR   \n",
       "max_two                            NumberthetheJusticeJaDefault   \n",
       "first_two             greater name sorting indiscrim to numbers   \n",
       "square_one                         multiplythe hypot Norttheirl   \n",
       "exp_one                             Smythe webpage fle clin McA   \n",
       "double_one               ADDthe introducedpareat contraceptives   \n",
       "fibonacci_one                          betweenthe made one uped   "
      ]
     },
     "execution_count": 49,
     "metadata": {},
     "output_type": "execute_result"
    }
   ],
   "source": [
    "rf"
   ]
  },
  {
   "cell_type": "markdown",
   "id": "0c49b747",
   "metadata": {},
   "source": [
    "## Add ANLI prompts"
   ]
  },
  {
   "cell_type": "code",
   "execution_count": 86,
   "id": "50015fe6",
   "metadata": {},
   "outputs": [],
   "source": [
    "prompts_anli_saved = pd.read_pickle('../results/generalization_acc/anli_prompts__n_shots_1__num_learned_tokens__6.pkl')\n",
    "prompts_anli = pd.DataFrame()\n",
    "prompts_anli['autoprompt'] = prompts_anli_saved[('prefixes', 'autoprompt')].astype(str).apply(add_trailing_space)\n",
    "prompts_anli['iprompt'] = prompts_anli_saved[('prefixes', 'iprompt')].astype(str).apply(add_trailing_space)\n",
    "\n",
    "def get_descr(task_name):\n",
    "    class fake_args:\n",
    "        template_num_task_phrasing = 0\n",
    "        max_dset_size = 1000\n",
    "        max_digit = 10\n",
    "        seed = 1\n",
    "        train_split_frac = 0.75\n",
    "\n",
    "        # these will be varied\n",
    "        n_shots = 1\n",
    "    args = fake_args()\n",
    "    dset, check_answer_func, descr = iprompt.data.get_data(args, task_name=task_name)\n",
    "    return descr\n",
    "\n",
    "prompts_anli = prompts_anli.reset_index()\n",
    "prompts_anli.insert(0, 'manual', prompts_anli['task_name'].apply(get_descr))\n",
    "prompts_anli.index = prompts_anli['task_name'].values\n",
    "prompts_anli =  prompts_anli.drop(columns=['task_name'])"
   ]
  },
  {
   "cell_type": "code",
   "execution_count": 91,
   "id": "cc2e3b30",
   "metadata": {},
   "outputs": [],
   "source": [
    "prompts_all = pd.concat([prompts_anli, rf])\n",
    "# prompts_all.to_pickle('../results/generalization_acc/prompts_all.pkl')"
   ]
  }
 ],
 "metadata": {
  "kernelspec": {
   "display_name": "Python 3 (ipykernel)",
   "language": "python",
   "name": "python3"
  },
  "language_info": {
   "codemirror_mode": {
    "name": "ipython",
    "version": 3
   },
   "file_extension": ".py",
   "mimetype": "text/x-python",
   "name": "python",
   "nbconvert_exporter": "python",
   "pygments_lexer": "ipython3",
   "version": "3.9.7"
  },
  "vscode": {
   "interpreter": {
    "hash": "3e903734ba9bf1f3ae45b5d01267badacbd07ec03a951864e53c4c6e2d898e52"
   }
  }
 },
 "nbformat": 4,
 "nbformat_minor": 5
}
