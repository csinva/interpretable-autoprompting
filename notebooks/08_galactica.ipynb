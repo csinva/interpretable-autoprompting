{
 "cells": [
  {
   "cell_type": "code",
   "execution_count": 1,
   "id": "1813f150-d26e-4d76-9d74-d54b56b7f524",
   "metadata": {},
   "outputs": [
    {
     "name": "stderr",
     "output_type": "stream",
     "text": [
      "/home/chansingh/iprompt/iprompt/data_utils/galactica.py:34: FutureWarning: Dropping of nuisance columns in DataFrame reductions (with 'numeric_only=None') is deprecated; in a future version this will raise TypeError.  Select only valid columns before calling the reduction.\n",
      "  control = d.loc[(d.sum(axis=1) == 0) & (d.isna().sum(axis=1) == 0)]\n",
      "/home/chansingh/iprompt/iprompt/data_utils/galactica.py:35: FutureWarning: Dropping of nuisance columns in DataFrame reductions (with 'numeric_only=None') is deprecated; in a future version this will raise TypeError.  Select only valid columns before calling the reduction.\n",
      "  tox = d.loc[(d.sum(axis=1) == 1) & (d.iloc[:, tox_target] == 1)]\n",
      "/home/chansingh/iprompt/iprompt/data_utils/galactica.py:40: SettingWithCopyWarning: \n",
      "A value is trying to be set on a copy of a slice from a DataFrame\n",
      "\n",
      "See the caveats in the documentation: https://pandas.pydata.org/pandas-docs/stable/user_guide/indexing.html#returning-a-view-versus-a-copy\n",
      "  df['tox'].iloc[n:] = 0\n",
      "/home/chansingh/iprompt/iprompt/data_utils/galactica.py:34: FutureWarning: Dropping of nuisance columns in DataFrame reductions (with 'numeric_only=None') is deprecated; in a future version this will raise TypeError.  Select only valid columns before calling the reduction.\n",
      "  control = d.loc[(d.sum(axis=1) == 0) & (d.isna().sum(axis=1) == 0)]\n",
      "/home/chansingh/iprompt/iprompt/data_utils/galactica.py:35: FutureWarning: Dropping of nuisance columns in DataFrame reductions (with 'numeric_only=None') is deprecated; in a future version this will raise TypeError.  Select only valid columns before calling the reduction.\n",
      "  tox = d.loc[(d.sum(axis=1) == 1) & (d.iloc[:, tox_target] == 1)]\n",
      "/home/chansingh/iprompt/iprompt/data_utils/galactica.py:40: SettingWithCopyWarning: \n",
      "A value is trying to be set on a copy of a slice from a DataFrame\n",
      "\n",
      "See the caveats in the documentation: https://pandas.pydata.org/pandas-docs/stable/user_guide/indexing.html#returning-a-view-versus-a-copy\n",
      "  df['tox'].iloc[n:] = 0\n",
      "/home/chansingh/iprompt/iprompt/data_utils/galactica.py:34: FutureWarning: Dropping of nuisance columns in DataFrame reductions (with 'numeric_only=None') is deprecated; in a future version this will raise TypeError.  Select only valid columns before calling the reduction.\n",
      "  control = d.loc[(d.sum(axis=1) == 0) & (d.isna().sum(axis=1) == 0)]\n",
      "/home/chansingh/iprompt/iprompt/data_utils/galactica.py:35: FutureWarning: Dropping of nuisance columns in DataFrame reductions (with 'numeric_only=None') is deprecated; in a future version this will raise TypeError.  Select only valid columns before calling the reduction.\n",
      "  tox = d.loc[(d.sum(axis=1) == 1) & (d.iloc[:, tox_target] == 1)]\n",
      "/home/chansingh/iprompt/iprompt/data_utils/galactica.py:40: SettingWithCopyWarning: \n",
      "A value is trying to be set on a copy of a slice from a DataFrame\n",
      "\n",
      "See the caveats in the documentation: https://pandas.pydata.org/pandas-docs/stable/user_guide/indexing.html#returning-a-view-versus-a-copy\n",
      "  df['tox'].iloc[n:] = 0\n",
      "/home/chansingh/iprompt/iprompt/data_utils/galactica.py:34: FutureWarning: Dropping of nuisance columns in DataFrame reductions (with 'numeric_only=None') is deprecated; in a future version this will raise TypeError.  Select only valid columns before calling the reduction.\n",
      "  control = d.loc[(d.sum(axis=1) == 0) & (d.isna().sum(axis=1) == 0)]\n",
      "/home/chansingh/iprompt/iprompt/data_utils/galactica.py:35: FutureWarning: Dropping of nuisance columns in DataFrame reductions (with 'numeric_only=None') is deprecated; in a future version this will raise TypeError.  Select only valid columns before calling the reduction.\n",
      "  tox = d.loc[(d.sum(axis=1) == 1) & (d.iloc[:, tox_target] == 1)]\n",
      "/home/chansingh/iprompt/iprompt/data_utils/galactica.py:40: SettingWithCopyWarning: \n",
      "A value is trying to be set on a copy of a slice from a DataFrame\n",
      "\n",
      "See the caveats in the documentation: https://pandas.pydata.org/pandas-docs/stable/user_guide/indexing.html#returning-a-view-versus-a-copy\n",
      "  df['tox'].iloc[n:] = 0\n",
      "/home/chansingh/iprompt/iprompt/data_utils/galactica.py:34: FutureWarning: Dropping of nuisance columns in DataFrame reductions (with 'numeric_only=None') is deprecated; in a future version this will raise TypeError.  Select only valid columns before calling the reduction.\n",
      "  control = d.loc[(d.sum(axis=1) == 0) & (d.isna().sum(axis=1) == 0)]\n",
      "/home/chansingh/iprompt/iprompt/data_utils/galactica.py:35: FutureWarning: Dropping of nuisance columns in DataFrame reductions (with 'numeric_only=None') is deprecated; in a future version this will raise TypeError.  Select only valid columns before calling the reduction.\n",
      "  tox = d.loc[(d.sum(axis=1) == 1) & (d.iloc[:, tox_target] == 1)]\n",
      "/home/chansingh/iprompt/iprompt/data_utils/galactica.py:40: SettingWithCopyWarning: \n",
      "A value is trying to be set on a copy of a slice from a DataFrame\n",
      "\n",
      "See the caveats in the documentation: https://pandas.pydata.org/pandas-docs/stable/user_guide/indexing.html#returning-a-view-versus-a-copy\n",
      "  df['tox'].iloc[n:] = 0\n",
      "/home/chansingh/iprompt/iprompt/data_utils/galactica.py:34: FutureWarning: Dropping of nuisance columns in DataFrame reductions (with 'numeric_only=None') is deprecated; in a future version this will raise TypeError.  Select only valid columns before calling the reduction.\n",
      "  control = d.loc[(d.sum(axis=1) == 0) & (d.isna().sum(axis=1) == 0)]\n",
      "/home/chansingh/iprompt/iprompt/data_utils/galactica.py:35: FutureWarning: Dropping of nuisance columns in DataFrame reductions (with 'numeric_only=None') is deprecated; in a future version this will raise TypeError.  Select only valid columns before calling the reduction.\n",
      "  tox = d.loc[(d.sum(axis=1) == 1) & (d.iloc[:, tox_target] == 1)]\n",
      "/home/chansingh/iprompt/iprompt/data_utils/galactica.py:40: SettingWithCopyWarning: \n",
      "A value is trying to be set on a copy of a slice from a DataFrame\n",
      "\n",
      "See the caveats in the documentation: https://pandas.pydata.org/pandas-docs/stable/user_guide/indexing.html#returning-a-view-versus-a-copy\n",
      "  df['tox'].iloc[n:] = 0\n",
      "/home/chansingh/iprompt/iprompt/data_utils/galactica.py:34: FutureWarning: Dropping of nuisance columns in DataFrame reductions (with 'numeric_only=None') is deprecated; in a future version this will raise TypeError.  Select only valid columns before calling the reduction.\n",
      "  control = d.loc[(d.sum(axis=1) == 0) & (d.isna().sum(axis=1) == 0)]\n",
      "/home/chansingh/iprompt/iprompt/data_utils/galactica.py:35: FutureWarning: Dropping of nuisance columns in DataFrame reductions (with 'numeric_only=None') is deprecated; in a future version this will raise TypeError.  Select only valid columns before calling the reduction.\n",
      "  tox = d.loc[(d.sum(axis=1) == 1) & (d.iloc[:, tox_target] == 1)]\n",
      "/home/chansingh/iprompt/iprompt/data_utils/galactica.py:40: SettingWithCopyWarning: \n",
      "A value is trying to be set on a copy of a slice from a DataFrame\n",
      "\n",
      "See the caveats in the documentation: https://pandas.pydata.org/pandas-docs/stable/user_guide/indexing.html#returning-a-view-versus-a-copy\n",
      "  df['tox'].iloc[n:] = 0\n",
      "/home/chansingh/iprompt/iprompt/data_utils/galactica.py:34: FutureWarning: Dropping of nuisance columns in DataFrame reductions (with 'numeric_only=None') is deprecated; in a future version this will raise TypeError.  Select only valid columns before calling the reduction.\n",
      "  control = d.loc[(d.sum(axis=1) == 0) & (d.isna().sum(axis=1) == 0)]\n",
      "/home/chansingh/iprompt/iprompt/data_utils/galactica.py:35: FutureWarning: Dropping of nuisance columns in DataFrame reductions (with 'numeric_only=None') is deprecated; in a future version this will raise TypeError.  Select only valid columns before calling the reduction.\n",
      "  tox = d.loc[(d.sum(axis=1) == 1) & (d.iloc[:, tox_target] == 1)]\n",
      "/home/chansingh/iprompt/iprompt/data_utils/galactica.py:40: SettingWithCopyWarning: \n",
      "A value is trying to be set on a copy of a slice from a DataFrame\n",
      "\n",
      "See the caveats in the documentation: https://pandas.pydata.org/pandas-docs/stable/user_guide/indexing.html#returning-a-view-versus-a-copy\n",
      "  df['tox'].iloc[n:] = 0\n",
      "/home/chansingh/iprompt/iprompt/data_utils/galactica.py:34: FutureWarning: Dropping of nuisance columns in DataFrame reductions (with 'numeric_only=None') is deprecated; in a future version this will raise TypeError.  Select only valid columns before calling the reduction.\n",
      "  control = d.loc[(d.sum(axis=1) == 0) & (d.isna().sum(axis=1) == 0)]\n",
      "/home/chansingh/iprompt/iprompt/data_utils/galactica.py:35: FutureWarning: Dropping of nuisance columns in DataFrame reductions (with 'numeric_only=None') is deprecated; in a future version this will raise TypeError.  Select only valid columns before calling the reduction.\n",
      "  tox = d.loc[(d.sum(axis=1) == 1) & (d.iloc[:, tox_target] == 1)]\n",
      "/home/chansingh/iprompt/iprompt/data_utils/galactica.py:40: SettingWithCopyWarning: \n",
      "A value is trying to be set on a copy of a slice from a DataFrame\n",
      "\n",
      "See the caveats in the documentation: https://pandas.pydata.org/pandas-docs/stable/user_guide/indexing.html#returning-a-view-versus-a-copy\n",
      "  df['tox'].iloc[n:] = 0\n",
      "/home/chansingh/iprompt/iprompt/data_utils/galactica.py:34: FutureWarning: Dropping of nuisance columns in DataFrame reductions (with 'numeric_only=None') is deprecated; in a future version this will raise TypeError.  Select only valid columns before calling the reduction.\n",
      "  control = d.loc[(d.sum(axis=1) == 0) & (d.isna().sum(axis=1) == 0)]\n",
      "/home/chansingh/iprompt/iprompt/data_utils/galactica.py:35: FutureWarning: Dropping of nuisance columns in DataFrame reductions (with 'numeric_only=None') is deprecated; in a future version this will raise TypeError.  Select only valid columns before calling the reduction.\n",
      "  tox = d.loc[(d.sum(axis=1) == 1) & (d.iloc[:, tox_target] == 1)]\n",
      "/home/chansingh/iprompt/iprompt/data_utils/galactica.py:40: SettingWithCopyWarning: \n",
      "A value is trying to be set on a copy of a slice from a DataFrame\n",
      "\n",
      "See the caveats in the documentation: https://pandas.pydata.org/pandas-docs/stable/user_guide/indexing.html#returning-a-view-versus-a-copy\n",
      "  df['tox'].iloc[n:] = 0\n",
      "/home/chansingh/iprompt/iprompt/data_utils/galactica.py:34: FutureWarning: Dropping of nuisance columns in DataFrame reductions (with 'numeric_only=None') is deprecated; in a future version this will raise TypeError.  Select only valid columns before calling the reduction.\n",
      "  control = d.loc[(d.sum(axis=1) == 0) & (d.isna().sum(axis=1) == 0)]\n",
      "/home/chansingh/iprompt/iprompt/data_utils/galactica.py:35: FutureWarning: Dropping of nuisance columns in DataFrame reductions (with 'numeric_only=None') is deprecated; in a future version this will raise TypeError.  Select only valid columns before calling the reduction.\n",
      "  tox = d.loc[(d.sum(axis=1) == 1) & (d.iloc[:, tox_target] == 1)]\n",
      "/home/chansingh/iprompt/iprompt/data_utils/galactica.py:40: SettingWithCopyWarning: \n",
      "A value is trying to be set on a copy of a slice from a DataFrame\n",
      "\n",
      "See the caveats in the documentation: https://pandas.pydata.org/pandas-docs/stable/user_guide/indexing.html#returning-a-view-versus-a-copy\n",
      "  df['tox'].iloc[n:] = 0\n",
      "/home/chansingh/iprompt/iprompt/data_utils/galactica.py:34: FutureWarning: Dropping of nuisance columns in DataFrame reductions (with 'numeric_only=None') is deprecated; in a future version this will raise TypeError.  Select only valid columns before calling the reduction.\n",
      "  control = d.loc[(d.sum(axis=1) == 0) & (d.isna().sum(axis=1) == 0)]\n",
      "/home/chansingh/iprompt/iprompt/data_utils/galactica.py:35: FutureWarning: Dropping of nuisance columns in DataFrame reductions (with 'numeric_only=None') is deprecated; in a future version this will raise TypeError.  Select only valid columns before calling the reduction.\n",
      "  tox = d.loc[(d.sum(axis=1) == 1) & (d.iloc[:, tox_target] == 1)]\n",
      "/home/chansingh/iprompt/iprompt/data_utils/galactica.py:40: SettingWithCopyWarning: \n",
      "A value is trying to be set on a copy of a slice from a DataFrame\n",
      "\n",
      "See the caveats in the documentation: https://pandas.pydata.org/pandas-docs/stable/user_guide/indexing.html#returning-a-view-versus-a-copy\n",
      "  df['tox'].iloc[n:] = 0\n",
      "2022-12-22 23:20:17.805414: I tensorflow/core/platform/cpu_feature_guard.cc:193] This TensorFlow binary is optimized with oneAPI Deep Neural Network Library (oneDNN) to use the following CPU instructions in performance-critical operations:  AVX2 FMA\n",
      "To enable them in other operations, rebuild TensorFlow with the appropriate compiler flags.\n",
      "2022-12-22 23:20:18.442614: W tensorflow/compiler/xla/stream_executor/platform/default/dso_loader.cc:64] Could not load dynamic library 'libnvinfer.so.7'; dlerror: libnvinfer.so.7: cannot open shared object file: No such file or directory; LD_LIBRARY_PATH: /opt/intel/compilers_and_libraries_2018.1.163/linux/tbb/lib/intel64_lin/gcc4.7:/opt/intel/compilers_and_libraries_2018.1.163/linux/compiler/lib/intel64_lin:/opt/intel/compilers_and_libraries_2018.1.163/linux/mkl/lib/intel64_lin:/opt/intel/compilers_and_libraries_2018.1.163/linux/tbb/lib/intel64_lin/gcc4.7:/opt/intel/compilers_and_libraries_2018.1.163/linux/compiler/lib/intel64_lin:/opt/intel/compilers_and_libraries_2018.1.163/linux/mkl/lib/intel64_lin::/usr/local/cuda/lib64:/usr/local/cuda/extras/CUPTI/lib64/:/usr/local/cuda/lib64:/usr/local/cuda/extras/CUPTI/lib64/\n",
      "2022-12-22 23:20:18.442725: W tensorflow/compiler/xla/stream_executor/platform/default/dso_loader.cc:64] Could not load dynamic library 'libnvinfer_plugin.so.7'; dlerror: libnvinfer_plugin.so.7: cannot open shared object file: No such file or directory; LD_LIBRARY_PATH: /opt/intel/compilers_and_libraries_2018.1.163/linux/tbb/lib/intel64_lin/gcc4.7:/opt/intel/compilers_and_libraries_2018.1.163/linux/compiler/lib/intel64_lin:/opt/intel/compilers_and_libraries_2018.1.163/linux/mkl/lib/intel64_lin:/opt/intel/compilers_and_libraries_2018.1.163/linux/tbb/lib/intel64_lin/gcc4.7:/opt/intel/compilers_and_libraries_2018.1.163/linux/compiler/lib/intel64_lin:/opt/intel/compilers_and_libraries_2018.1.163/linux/mkl/lib/intel64_lin::/usr/local/cuda/lib64:/usr/local/cuda/extras/CUPTI/lib64/:/usr/local/cuda/lib64:/usr/local/cuda/extras/CUPTI/lib64/\n",
      "2022-12-22 23:20:18.442733: W tensorflow/compiler/tf2tensorrt/utils/py_utils.cc:38] TF-TRT Warning: Cannot dlopen some TensorRT libraries. If you would like to use Nvidia GPU with TensorRT, please make sure the missing libraries mentioned above are installed properly.\n"
     ]
    }
   ],
   "source": [
    "%load_ext autoreload\n",
    "%autoreload 2\n",
    "import numpy as np\n",
    "import torch\n",
    "from torch import nn\n",
    "import matplotlib.pyplot as plt\n",
    "from copy import deepcopy\n",
    "import pandas as pd\n",
    "from tqdm import tqdm\n",
    "from collections import defaultdict\n",
    "import pandas as pd\n",
    "from datasets import Dataset\n",
    "from os.path import join as oj\n",
    "import pickle as pkl\n",
    "import os\n",
    "import sys\n",
    "import iprompt.data\n",
    "from transformers import AutoTokenizer, OPTForCausalLM, AutoModelForCausalLM\n",
    "from iprompt.data import TASKS_GALACTICA\n",
    "import transformers\n",
    "from imodelsx import explain_dataset_iprompt, get_add_two_numbers_dataset"
   ]
  },
  {
   "attachments": {},
   "cell_type": "markdown",
   "id": "280bbfbc",
   "metadata": {},
   "source": [
    "# BBBP"
   ]
  },
  {
   "cell_type": "code",
   "execution_count": 6,
   "id": "631d571b",
   "metadata": {},
   "outputs": [
    {
     "name": "stderr",
     "output_type": "stream",
     "text": [
      "/home/chansingh/iprompt/iprompt/data_utils/galactica.py:14: SettingWithCopyWarning: \n",
      "A value is trying to be set on a copy of a slice from a DataFrame\n",
      "\n",
      "See the caveats in the documentation: https://pandas.pydata.org/pandas-docs/stable/user_guide/indexing.html#returning-a-view-versus-a-copy\n",
      "  df.name.loc[df.name.str.isnumeric()] = 'Compound-'+df.name.loc[df.name.str.isnumeric()] # rename compounds that are just numbers\n"
     ]
    },
    {
     "data": {
      "text/plain": [
       "'Here is a compound:\\nPropanolol\\nAnswer:'"
      ]
     },
     "execution_count": 6,
     "metadata": {},
     "output_type": "execute_result"
    }
   ],
   "source": [
    "task = TASKS_GALACTICA['bbbp']\n",
    "df = task['gen_func']()\n",
    "input_strings = df['input'].values\n",
    "output_strings = df['output'].values\n",
    "input_strings[0]"
   ]
  },
  {
   "cell_type": "code",
   "execution_count": null,
   "id": "82c183e3",
   "metadata": {},
   "outputs": [
    {
     "name": "stderr",
     "output_type": "stream",
     "text": [
      "Using eos_token, but it is not set yet.\n"
     ]
    }
   ],
   "source": [
    "# checkpoint = 'facebook/galactica-6.7b'\n",
    "# tokenizer = AutoTokenizer.from_pretrained(checkpoint)\n",
    "# tokenizer.eos_token = tokenizer.eos_token or 0\n",
    "# lm = AutoModelForCausalLM.from_pretrained(\n",
    "#     checkpoint, output_hidden_states=False, pad_token_id=tokenizer.eos_token_id\n",
    "# )\n",
    "# lm = lm.to('cuda')"
   ]
  },
  {
   "cell_type": "code",
   "execution_count": 8,
   "id": "7ef8eb8c",
   "metadata": {},
   "outputs": [
    {
     "name": "stderr",
     "output_type": "stream",
     "text": [
      "Using eos_token, but it is not set yet.\n"
     ]
    },
    {
     "name": "stdout",
     "output_type": "stream",
     "text": [
      "trying to convert facebook/galactica-6.7b to float16...\n"
     ]
    }
   ],
   "source": [
    "# get a simple dataset of adding two numbers\n",
    "\n",
    "# explain the relationship between the inputs and outputs\n",
    "# with a natural-language prompt string\n",
    "prompts, metadata = explain_dataset_iprompt(\n",
    "    input_strings=input_strings,\n",
    "    output_strings=output_strings,\n",
    "    # checkpoint='EleutherAI/gpt-j-6B', # which language model to use\n",
    "    checkpoint=\"facebook/galactica-6.7b\", # which language model to use\n",
    "    preprefix='Answer P if the compound can ',\n",
    "    num_learned_tokens=6, # how long of a prompt to learn\n",
    "    n_shots=5, # shots per example\n",
    "    n_epochs=15, # how many epochs to search\n",
    "    verbose=0, # how much to print\n",
    "    llm_float16=True, # whether to load the model in float_16\n",
    "    seed=42,\n",
    "    llm_candidate_regeneration_prompt_start='Data:',\n",
    "    # llm_candidate_regeneration_prompt_end='What function of the compound is being asked about?', # default is \"Prompt:\"\n",
    "    # lm=lm,\n",
    ")"
   ]
  },
  {
   "cell_type": "markdown",
   "id": "c409d6ff",
   "metadata": {},
   "source": [
    "# Tox21"
   ]
  },
  {
   "cell_type": "code",
   "execution_count": 3,
   "id": "b0962c30",
   "metadata": {},
   "outputs": [
    {
     "name": "stderr",
     "output_type": "stream",
     "text": [
      "/home/chansingh/iprompt/iprompt/data_utils/galactica.py:34: FutureWarning: Dropping of nuisance columns in DataFrame reductions (with 'numeric_only=None') is deprecated; in a future version this will raise TypeError.  Select only valid columns before calling the reduction.\n",
      "  control = d.loc[(d.sum(axis=1) == 0) & (d.isna().sum(axis=1) == 0)]\n",
      "/home/chansingh/iprompt/iprompt/data_utils/galactica.py:35: FutureWarning: Dropping of nuisance columns in DataFrame reductions (with 'numeric_only=None') is deprecated; in a future version this will raise TypeError.  Select only valid columns before calling the reduction.\n",
      "  tox = d.loc[(d.sum(axis=1) == 1) & (d.iloc[:, tox_target] == 1)]\n",
      "/home/chansingh/iprompt/iprompt/data_utils/galactica.py:40: SettingWithCopyWarning: \n",
      "A value is trying to be set on a copy of a slice from a DataFrame\n",
      "\n",
      "See the caveats in the documentation: https://pandas.pydata.org/pandas-docs/stable/user_guide/indexing.html#returning-a-view-versus-a-copy\n",
      "  df['tox'].iloc[n:] = 0\n"
     ]
    },
    {
     "data": {
      "text/plain": [
       "('Here is a compound:\\nTOX3819\\nAnswer:', ' No.\\n\\n')"
      ]
     },
     "execution_count": 3,
     "metadata": {},
     "output_type": "execute_result"
    }
   ],
   "source": [
    "task = TASKS_GALACTICA['tox21_0']\n",
    "df = task['gen_func']()\n",
    "input_strings = df['input'].values\n",
    "output_strings = df['output'].values\n",
    "input_strings[0], output_strings[0]"
   ]
  },
  {
   "cell_type": "code",
   "execution_count": 4,
   "id": "2477e95c",
   "metadata": {},
   "outputs": [
    {
     "name": "stderr",
     "output_type": "stream",
     "text": [
      "Using eos_token, but it is not set yet.\n"
     ]
    },
    {
     "name": "stdout",
     "output_type": "stream",
     "text": [
      "trying to convert facebook/galactica-6.7b to float16...\n",
      "loading model...\n",
      "Training with 2 possible answers / random acc 50.0% / majority acc 50.6%\n",
      "Beginning epoch 0\n"
     ]
    },
    {
     "name": "stderr",
     "output_type": "stream",
     "text": [
      "  0%|          | 0/157 [00:00<?, ?it/s]"
     ]
    },
    {
     "name": "stdout",
     "output_type": "stream",
     "text": [
      "population_pool: [' be avoided; otherwise, answer', ' at least one of these targets', ' both, False otherwise (', ' human health (i)', ' either liver or kidney and an', ' produce human health concern (', ' your body; otherwise answer no', ' humans for any reason whatso', ' at least one of these targets', ' either liver or kidney and an', ' either liver or kidney and an', ' both, False otherwise (']\n"
     ]
    },
    {
     "name": "stderr",
     "output_type": "stream",
     "text": [
      "Loss = 3.738:   1%|          | 1/157 [00:09<24:13,  9.32s/it]"
     ]
    },
    {
     "name": "stdout",
     "output_type": "stream",
     "text": [
      "population_pool: [' cause harm or answer no otherwise', ' either organism, or answers no', ', or answer NO otherwiseCheck', ' be avoided; otherwise, prompt', ' at least one of these receptors', ' produce human health concern [', ' produce human health concern [', ' human health (i’', ' (at least) one', ' both, False otherwise?', ' your body; otherwise answer no', ' humans for any reason whatso']\n"
     ]
    },
    {
     "name": "stderr",
     "output_type": "stream",
     "text": [
      "Loss = 3.951:   1%|▏         | 2/157 [00:17<22:05,  8.55s/it]"
     ]
    },
    {
     "name": "stdout",
     "output_type": "stream",
     "text": [
      "population_pool: [' cause harm or answer no otherwise', ' both, False otherwiseYesNo', ' be avoided; answer no otherwise', ', or answer yes you are', ' either organism, or answers no', ' humans, and answer no otherwise', ' at least one of these receptors', ' produce human health concern [', ' answer at least 3 out', ' \"toxic by oral route', ' human health (i’', ' your body; otherwise answer no']\n"
     ]
    },
    {
     "name": "stderr",
     "output_type": "stream",
     "text": [
      "Loss = 3.215:   2%|▏         | 3/157 [00:25<21:19,  8.31s/it]"
     ]
    },
    {
     "name": "stdout",
     "output_type": "stream",
     "text": [
      "population_pool: [', or answerNo otherwise as', ' cause harm and answer no otherwise', ' be avoided; answer no otherwise', ' both, False otherwiseYesNo', ' answer at least \"Yes', ' either organism, or answers no', ' humans, and answer no otherwise', ' human health and answer no otherwise', ' rats or not? If no', ' produce human toxicity; else answer', ' bacteria and/or mammalian cells', ' at least one of these receptors']\n"
     ]
    },
    {
     "name": "stderr",
     "output_type": "stream",
     "text": [
      "Loss = 3.980:   3%|▎         | 4/157 [00:33<20:56,  8.21s/it]"
     ]
    },
    {
     "name": "stdout",
     "output_type": "stream",
     "text": [
      "population_pool: [', or answerNo otherwise as', ' both, False otherwiseYesNo', ' cause harm and answer no otherwise', ' be avoided; answer no otherwise', ' either organism, or answers no', ' humans, and answer no otherwise', ' animals, but answer no ', ' answer at least \"Yes', ' use and/or answer no', ' rats, or else answer no', ' human health and answer no otherwise', ' produce human toxicity; else answer']\n"
     ]
    },
    {
     "name": "stderr",
     "output_type": "stream",
     "text": [
      "Loss = 2.418:   3%|▎         | 5/157 [00:41<20:36,  8.13s/it]"
     ]
    },
    {
     "name": "stdout",
     "output_type": "stream",
     "text": [
      "population_pool: [' humans, otherwise answer No ', ', or answer No for non', ' animals, but answer no otherwise', ' use and/or Yes,', ' cause harm and answer no otherwise', ' be avoided; answer no otherwise', ' both, False otherwiseYesNo', ' your health, and answer no', ' either organism, or answers no', ' produce human toxicity; otherwise answer', ' answer at least \"Yes', ' rats, or else answer no']\n"
     ]
    },
    {
     "name": "stderr",
     "output_type": "stream",
     "text": [
      "Loss = 4.062:   4%|▍         | 6/157 [00:49<20:27,  8.13s/it]"
     ]
    },
    {
     "name": "stdout",
     "output_type": "stream",
     "text": [
      "population_pool: [' humans, otherwise answer No ', ', or answer No for non', ' animals, but answer no otherwise', ' cause harm and answer no otherwise', ' use and/or Yes,', ' both, False otherwiseYesNo', ' be avoided; answer no otherwise', ' your health, and answer no', ' rats, while answer no indicates', ' either organism, or answers no', ' answer at least \"Yes', ' human health and answer no otherwise']\n"
     ]
    },
    {
     "name": "stderr",
     "output_type": "stream",
     "text": [
      "Loss = 2.211:   4%|▍         | 7/157 [00:57<20:13,  8.09s/it]"
     ]
    },
    {
     "name": "stdout",
     "output_type": "stream",
     "text": [
      "population_pool: [' humans, otherwise answer No ', ', or answer No for non', ' animals, but answer no otherwise', ' cause harm and answer no otherwise', ' use and/or Yes,', ' both, False otherwiseYesNo', ' be avoided; answer no otherwise', ' your health, and answer no', ' either organism, or answers no', ' rats, while answer no indicates', ' answer at least \"Yes', ' human health and answer no otherwise']\n"
     ]
    },
    {
     "name": "stderr",
     "output_type": "stream",
     "text": [
      "Loss = 2.787:   5%|▌         | 8/157 [01:05<20:11,  8.13s/it]"
     ]
    },
    {
     "name": "stdout",
     "output_type": "stream",
     "text": [
      "population_pool: [', or answer No for non', ' humans, otherwise answer No ', ' animals, but answer no otherwise', ' cause harm and answer no otherwise', ' use and/or Yes,', ' answer no and viceversa ', ' both, False otherwiseYesNo', ' be avoided; answer no otherwise', ' your health, and answer no', ' rats, while answer no indicates', ' either organism, or answers no', ' human beings and answer no otherwise']\n"
     ]
    },
    {
     "name": "stderr",
     "output_type": "stream",
     "text": [
      "Loss = 1.666:   6%|▌         | 9/157 [01:13<20:04,  8.14s/it]"
     ]
    },
    {
     "name": "stdout",
     "output_type": "stream",
     "text": [
      "population_pool: [', or answer No otherwiseShow', ' be avoided; answer No otherwise', ' humans, otherwise answer No ', ' use and/or answer No', ' animals, but answer no otherwise', ' cause harm and answer no otherwise', ' human beings and answer no otherwise', ' both, False otherwiseYesNo', ' your health, and answer no', ' answer no and viceversa ', ' rats, while answer no indicates', ' either organism, or answers no']\n"
     ]
    },
    {
     "name": "stderr",
     "output_type": "stream",
     "text": [
      "Loss = 2.553:   6%|▋         | 10/157 [01:22<19:55,  8.13s/it]"
     ]
    },
    {
     "name": "stdout",
     "output_type": "stream",
     "text": [
      "population_pool: [', or answer No otherwiseShow', ' be avoided; answer No otherwise', ' humans, otherwise answer No ', ' use and/or answer No', ' cause harm and answer no otherwise', ' human beings and answer no otherwise', ' animals, but answer no otherwise', ' answer no and viceversa?', ' rats, while answer no for', ' both, False otherwiseYesNo', ' your health, and answer no', ' either organism, or answers no']\n"
     ]
    },
    {
     "name": "stderr",
     "output_type": "stream",
     "text": [
      "Loss = 2.000:   7%|▋         | 11/157 [01:30<19:48,  8.14s/it]"
     ]
    },
    {
     "name": "stdout",
     "output_type": "stream",
     "text": [
      "population_pool: [', or answer No otherwiseShow', ' be avoided; answer No otherwise', ' humans, otherwise answer No ', ' use and/or answer No', ' human beings and answer no otherwise', ' cause harm and answer no otherwise', ' animals, but answer no otherwise', ' answer no and viceversa?', ' rats, while answer no for', ' both, False otherwiseYesNo', ' your health, otherwise answer no', ' either organism, else answer no']\n"
     ]
    },
    {
     "name": "stderr",
     "output_type": "stream",
     "text": [
      "Loss = 1.710:   8%|▊         | 12/157 [01:38<19:43,  8.16s/it]"
     ]
    },
    {
     "name": "stdout",
     "output_type": "stream",
     "text": [
      "population_pool: [', or answer No otherwiseShow', ' be avoided; answer No otherwise', ' humans, otherwise answer No ', ' use and/or answer No', ' human beings and answerNo otherwise', ' answer no and vice versa,', ' animals, but answer no otherwise', ' cause harm and answer no otherwise', ' rats, while answer no for', ' your health, otherwise answer no', ' both, False otherwiseYesNo', ' either organism, else answer no']\n"
     ]
    },
    {
     "name": "stderr",
     "output_type": "stream",
     "text": [
      "Loss = 2.166:   8%|▊         | 13/157 [01:46<19:39,  8.19s/it]"
     ]
    },
    {
     "name": "stdout",
     "output_type": "stream",
     "text": [
      "population_pool: [', or answer No otherwiseShow', ' be avoided; answer No otherwise', ' humans, otherwise answer No ', ' use and/or answer No', ' human beings and answerNo otherwise', ' answer no and vice versa,', ' your body and answerNo for', ' animals, but answer no otherwise', ' cause harm and answer no otherwise', ' both, False otherwiseYesNo', ' rats, while answer no for', ' test it, or answer no']\n"
     ]
    },
    {
     "name": "stderr",
     "output_type": "stream",
     "text": [
      "Loss = 2.166:   8%|▊         | 13/157 [01:54<21:05,  8.79s/it]\n"
     ]
    },
    {
     "ename": "KeyboardInterrupt",
     "evalue": "",
     "output_type": "error",
     "traceback": [
      "\u001b[0;31m---------------------------------------------------------------------------\u001b[0m",
      "\u001b[0;31mKeyboardInterrupt\u001b[0m                         Traceback (most recent call last)",
      "Cell \u001b[0;32mIn [4], line 5\u001b[0m\n\u001b[1;32m      1\u001b[0m \u001b[39m# get a simple dataset of adding two numbers\u001b[39;00m\n\u001b[1;32m      2\u001b[0m \n\u001b[1;32m      3\u001b[0m \u001b[39m# explain the relationship between the inputs and outputs\u001b[39;00m\n\u001b[1;32m      4\u001b[0m \u001b[39m# with a natural-language prompt string\u001b[39;00m\n\u001b[0;32m----> 5\u001b[0m prompts, metadata \u001b[39m=\u001b[39m explain_dataset_iprompt(\n\u001b[1;32m      6\u001b[0m     input_strings\u001b[39m=\u001b[39;49minput_strings,\n\u001b[1;32m      7\u001b[0m     output_strings\u001b[39m=\u001b[39;49moutput_strings,\n\u001b[1;32m      8\u001b[0m     \u001b[39m# checkpoint='EleutherAI/gpt-j-6B', # which language model to use\u001b[39;49;00m\n\u001b[1;32m      9\u001b[0m     checkpoint\u001b[39m=\u001b[39;49m\u001b[39m\"\u001b[39;49m\u001b[39mfacebook/galactica-6.7b\u001b[39;49m\u001b[39m\"\u001b[39;49m, \u001b[39m# which language model to use\u001b[39;49;00m\n\u001b[1;32m     10\u001b[0m     preprefix\u001b[39m=\u001b[39;49m\u001b[39m'\u001b[39;49m\u001b[39mAnswer Yes if the compound is toxict to\u001b[39;49m\u001b[39m'\u001b[39;49m,\n\u001b[1;32m     11\u001b[0m     num_learned_tokens\u001b[39m=\u001b[39;49m\u001b[39m6\u001b[39;49m, \u001b[39m# how long of a prompt to learn\u001b[39;49;00m\n\u001b[1;32m     12\u001b[0m     n_shots\u001b[39m=\u001b[39;49m\u001b[39m5\u001b[39;49m, \u001b[39m# shots per example\u001b[39;49;00m\n\u001b[1;32m     13\u001b[0m     n_epochs\u001b[39m=\u001b[39;49m\u001b[39m15\u001b[39;49m, \u001b[39m# how many epochs to search\u001b[39;49;00m\n\u001b[1;32m     14\u001b[0m     verbose\u001b[39m=\u001b[39;49m\u001b[39m0\u001b[39;49m, \u001b[39m# how much to print\u001b[39;49;00m\n\u001b[1;32m     15\u001b[0m     llm_float16\u001b[39m=\u001b[39;49m\u001b[39mTrue\u001b[39;49;00m, \u001b[39m# whether to load the model in float_16\u001b[39;49;00m\n\u001b[1;32m     16\u001b[0m     seed\u001b[39m=\u001b[39;49m\u001b[39m42\u001b[39;49m,\n\u001b[1;32m     17\u001b[0m     llm_candidate_regeneration_prompt_start\u001b[39m=\u001b[39;49m\u001b[39m'\u001b[39;49m\u001b[39mData:\u001b[39;49m\u001b[39m'\u001b[39;49m,\n\u001b[1;32m     18\u001b[0m     \u001b[39m# llm_candidate_regeneration_prompt_end='What function of the compound is being asked about?', # default is \"Prompt:\"\u001b[39;49;00m\n\u001b[1;32m     19\u001b[0m     \u001b[39m# lm=lm,\u001b[39;49;00m\n\u001b[1;32m     20\u001b[0m )\n",
      "File \u001b[0;32m~/imodelsX/imodelsx/iprompt/api.py:472\u001b[0m, in \u001b[0;36mexplain_dataset_iprompt\u001b[0;34m(input_strings, output_strings, checkpoint, num_learned_tokens, save_dir, lr, pop_size, num_mutations, num_random_generations, generation_repetition_penalty, early_stopping_steps, llm_float16, gamma, batch_size, max_length, n_epochs, n_shots, preprefix, single_shot_loss, accum_grad_over_epoch, max_n_datapoints, max_n_steps, epoch_save_interval, mask_possible_answers, model_cls, lm, llm_candidate_regeneration_prompt_start, llm_candidate_regeneration_prompt_end, verbose, seed)\u001b[0m\n\u001b[1;32m    470\u001b[0m random\u001b[39m.\u001b[39mseed(seed)\n\u001b[1;32m    471\u001b[0m r \u001b[39m=\u001b[39m defaultdict(\u001b[39mlist\u001b[39m)\n\u001b[0;32m--> 472\u001b[0m r \u001b[39m=\u001b[39m train_model(\n\u001b[1;32m    473\u001b[0m     r\u001b[39m=\u001b[39;49mr,\n\u001b[1;32m    474\u001b[0m     input_strs\u001b[39m=\u001b[39;49minput_strings,\n\u001b[1;32m    475\u001b[0m     output_strs\u001b[39m=\u001b[39;49moutput_strings,\n\u001b[1;32m    476\u001b[0m     model\u001b[39m=\u001b[39;49mmodel,\n\u001b[1;32m    477\u001b[0m     tokenizer\u001b[39m=\u001b[39;49mtokenizer,\n\u001b[1;32m    478\u001b[0m     save_dir\u001b[39m=\u001b[39;49msave_dir,\n\u001b[1;32m    479\u001b[0m     lr\u001b[39m=\u001b[39;49mlr,\n\u001b[1;32m    480\u001b[0m     batch_size\u001b[39m=\u001b[39;49mbatch_size,\n\u001b[1;32m    481\u001b[0m     max_length\u001b[39m=\u001b[39;49mmax_length,\n\u001b[1;32m    482\u001b[0m     mask_possible_answers\u001b[39m=\u001b[39;49mmask_possible_answers,\n\u001b[1;32m    483\u001b[0m     n_epochs\u001b[39m=\u001b[39;49mn_epochs,\n\u001b[1;32m    484\u001b[0m     n_shots\u001b[39m=\u001b[39;49mn_shots,\n\u001b[1;32m    485\u001b[0m     single_shot_loss\u001b[39m=\u001b[39;49msingle_shot_loss,\n\u001b[1;32m    486\u001b[0m     accum_grad_over_epoch\u001b[39m=\u001b[39;49maccum_grad_over_epoch,\n\u001b[1;32m    487\u001b[0m     max_n_datapoints\u001b[39m=\u001b[39;49mmax_n_datapoints,\n\u001b[1;32m    488\u001b[0m     max_n_steps\u001b[39m=\u001b[39;49mmax_n_steps,\n\u001b[1;32m    489\u001b[0m     epoch_save_interval\u001b[39m=\u001b[39;49mepoch_save_interval,\n\u001b[1;32m    490\u001b[0m     verbose\u001b[39m=\u001b[39;49mverbose,\n\u001b[1;32m    491\u001b[0m )\n\u001b[1;32m    492\u001b[0m \u001b[39mreturn\u001b[39;00m r[\u001b[39m'\u001b[39m\u001b[39mprefixes\u001b[39m\u001b[39m'\u001b[39m], r\n",
      "File \u001b[0;32m~/imodelsX/imodelsx/iprompt/api.py:178\u001b[0m, in \u001b[0;36mtrain_model\u001b[0;34m(r, input_strs, output_strs, model, tokenizer, save_dir, lr, batch_size, max_length, n_epochs, n_shots, single_shot_loss, accum_grad_over_epoch, max_n_datapoints, max_n_steps, epoch_save_interval, mask_possible_answers, verbose)\u001b[0m\n\u001b[1;32m    175\u001b[0m y_tokenized \u001b[39m=\u001b[39m tok(y_text)\u001b[39m.\u001b[39mto(device)\n\u001b[1;32m    176\u001b[0m full_text_tokenized \u001b[39m=\u001b[39m tok(batch[\u001b[39m'\u001b[39m\u001b[39mtext\u001b[39m\u001b[39m'\u001b[39m])\u001b[39m.\u001b[39mto(device)\n\u001b[0;32m--> 178\u001b[0m loss, n_correct \u001b[39m=\u001b[39m model\u001b[39m.\u001b[39;49mcompute_loss_and_call_backward(\n\u001b[1;32m    179\u001b[0m     x_tokenized\u001b[39m=\u001b[39;49mx_tokenized,\n\u001b[1;32m    180\u001b[0m     y_tokenized\u001b[39m=\u001b[39;49my_tokenized,\n\u001b[1;32m    181\u001b[0m     possible_answer_mask\u001b[39m=\u001b[39;49mpossible_answer_mask,\n\u001b[1;32m    182\u001b[0m     full_text_tokenized\u001b[39m=\u001b[39;49mfull_text_tokenized,\n\u001b[1;32m    183\u001b[0m )\n\u001b[1;32m    185\u001b[0m r[\u001b[39m\"\u001b[39m\u001b[39mall_losses\u001b[39m\u001b[39m\"\u001b[39m]\u001b[39m.\u001b[39mappend(loss)\n\u001b[1;32m    186\u001b[0m r[\u001b[39m\"\u001b[39m\u001b[39mall_n_correct\u001b[39m\u001b[39m\"\u001b[39m]\u001b[39m.\u001b[39mappend(n_correct)\n",
      "File \u001b[0;32m~/imodelsX/imodelsx/iprompt/ipromptx.py:337\u001b[0m, in \u001b[0;36miPrompt.compute_loss_and_call_backward\u001b[0;34m(self, x_tokenized, y_tokenized, possible_answer_mask, full_text_tokenized)\u001b[0m\n\u001b[1;32m    333\u001b[0m full_population_input_ids \u001b[39m=\u001b[39m torch\u001b[39m.\u001b[39mcat(\n\u001b[1;32m    334\u001b[0m     (population_input_ids, mutated_population_input_ids), dim\u001b[39m=\u001b[39m\u001b[39m0\u001b[39m\n\u001b[1;32m    335\u001b[0m )\n\u001b[1;32m    336\u001b[0m \u001b[39m# Re-score new guys\u001b[39;00m\n\u001b[0;32m--> 337\u001b[0m all_candidate_losses, all_candidate_n_correct \u001b[39m=\u001b[39m \u001b[39mself\u001b[39;49m\u001b[39m.\u001b[39;49m_score_population(\n\u001b[1;32m    338\u001b[0m     x_tokenized\u001b[39m=\u001b[39;49mx_tokenized,\n\u001b[1;32m    339\u001b[0m     y_tokenized\u001b[39m=\u001b[39;49my_tokenized,\n\u001b[1;32m    340\u001b[0m     population_input_ids\u001b[39m=\u001b[39;49mfull_population_input_ids,\n\u001b[1;32m    341\u001b[0m     possible_answer_mask\u001b[39m=\u001b[39;49mpossible_answer_mask\n\u001b[1;32m    342\u001b[0m )\n\u001b[1;32m    344\u001b[0m \u001b[39m# Track changes in population to enable early stopping.\u001b[39;00m\n\u001b[1;32m    345\u001b[0m \u001b[39mself\u001b[39m\u001b[39m.\u001b[39m_track_early_stopping()\n",
      "File \u001b[0;32m~/imodelsX/imodelsx/iprompt/ipromptx.py:264\u001b[0m, in \u001b[0;36miPrompt._score_population\u001b[0;34m(self, x_tokenized, y_tokenized, population_input_ids, possible_answer_mask)\u001b[0m\n\u001b[1;32m    261\u001b[0m \u001b[39mfor\u001b[39;00m i \u001b[39min\u001b[39;00m \u001b[39mrange\u001b[39m(pop_size):\n\u001b[1;32m    262\u001b[0m     \u001b[39mwith\u001b[39;00m torch\u001b[39m.\u001b[39mno_grad():\n\u001b[1;32m    263\u001b[0m         _cand_input_ids, cand_loss, cand_n_correct \u001b[39m=\u001b[39m (\n\u001b[0;32m--> 264\u001b[0m             \u001b[39mself\u001b[39;49m\u001b[39m.\u001b[39;49m_compute_loss_with_set_prefix(\n\u001b[1;32m    265\u001b[0m                 original_input_ids\u001b[39m=\u001b[39;49mx_tokenized\u001b[39m.\u001b[39;49minput_ids,\n\u001b[1;32m    266\u001b[0m                 next_token_ids\u001b[39m=\u001b[39;49my_tokenized\u001b[39m.\u001b[39;49minput_ids,\n\u001b[1;32m    267\u001b[0m                 possible_answer_mask\u001b[39m=\u001b[39;49mpossible_answer_mask,\n\u001b[1;32m    268\u001b[0m                 prefix_ids\u001b[39m=\u001b[39;49mpopulation_input_ids[i],\n\u001b[1;32m    269\u001b[0m             )\n\u001b[1;32m    270\u001b[0m         )\n\u001b[1;32m    271\u001b[0m         cand_accuracy \u001b[39m=\u001b[39m cand_n_correct \u001b[39m/\u001b[39m \u001b[39mlen\u001b[39m(x_tokenized\u001b[39m.\u001b[39minput_ids)\n\u001b[1;32m    272\u001b[0m     all_candidate_n_correct[i] \u001b[39m+\u001b[39m\u001b[39m=\u001b[39m cand_n_correct\n",
      "File \u001b[0;32m~/imodelsX/imodelsx/iprompt/utils.py:320\u001b[0m, in \u001b[0;36mPrefixModel._compute_loss_with_set_prefix\u001b[0;34m(self, original_input_ids, next_token_ids, possible_answer_mask, prefix_ids)\u001b[0m\n\u001b[1;32m    318\u001b[0m \u001b[39m# get first predicted token logits\u001b[39;00m\n\u001b[1;32m    319\u001b[0m next_token_idx \u001b[39m=\u001b[39m (\u001b[39m~\u001b[39m(full_input_ids \u001b[39m==\u001b[39m \u001b[39mself\u001b[39m\u001b[39m.\u001b[39mtokenizer\u001b[39m.\u001b[39meos_token_id))\u001b[39m.\u001b[39mcumsum(dim\u001b[39m=\u001b[39m\u001b[39m1\u001b[39m)\u001b[39m.\u001b[39margmax(dim\u001b[39m=\u001b[39m\u001b[39m1\u001b[39m)\n\u001b[0;32m--> 320\u001b[0m next_token_logits \u001b[39m=\u001b[39m outputs\u001b[39m.\u001b[39;49mlogits[torch\u001b[39m.\u001b[39;49marange(\u001b[39mlen\u001b[39;49m(original_input_ids)), next_token_idx\u001b[39m-\u001b[39;49m\u001b[39m1\u001b[39;49m]\n\u001b[1;32m    322\u001b[0m \u001b[39m# compute first-token acc\u001b[39;00m\n\u001b[1;32m    323\u001b[0m \u001b[39mif\u001b[39;00m possible_answer_mask \u001b[39mis\u001b[39;00m \u001b[39mNone\u001b[39;00m:\n",
      "\u001b[0;31mKeyboardInterrupt\u001b[0m: "
     ]
    }
   ],
   "source": [
    "# get a simple dataset of adding two numbers\n",
    "\n",
    "# explain the relationship between the inputs and outputs\n",
    "# with a natural-language prompt string\n",
    "prompts, metadata = explain_dataset_iprompt(\n",
    "    input_strings=input_strings,\n",
    "    output_strings=output_strings,\n",
    "    # checkpoint='EleutherAI/gpt-j-6B', # which language model to use\n",
    "    checkpoint=\"facebook/galactica-6.7b\", # which language model to use\n",
    "    preprefix='Answer Yes if the compound is',\n",
    "    num_learned_tokens=6, # how long of a prompt to learn\n",
    "    n_shots=5, # shots per example\n",
    "    n_epochs=15, # how many epochs to search\n",
    "    verbose=0, # how much to print\n",
    "    llm_float16=True, # whether to load the model in float_16\n",
    "    seed=42,\n",
    "    llm_candidate_regeneration_prompt_start='Data:',\n",
    "    # llm_candidate_regeneration_prompt_end='What function of the compound is being asked about?', # default is \"Prompt:\"\n",
    "    # lm=lm,\n",
    ")"
   ]
  },
  {
   "attachments": {},
   "cell_type": "markdown",
   "id": "3aa0170d",
   "metadata": {},
   "source": [
    "# Demo generations"
   ]
  },
  {
   "cell_type": "code",
   "execution_count": 2,
   "id": "be248f00",
   "metadata": {},
   "outputs": [],
   "source": [
    "tokenizer = AutoTokenizer.from_pretrained(\"facebook/galactica-6.7b\")\n",
    "model = OPTForCausalLM.from_pretrained(\"facebook/galactica-6.7b\", device_map=\"auto\", torch_dtype=torch.float16)"
   ]
  },
  {
   "cell_type": "code",
   "execution_count": 3,
   "id": "8719599c",
   "metadata": {},
   "outputs": [],
   "source": [
    "def gen(model, input_text):\n",
    "    input_ids = tokenizer(input_text, return_tensors=\"pt\").input_ids.to(\"cuda\")\n",
    "    outputs = model.generate(input_ids, max_length=200)\n",
    "    return tokenizer.decode(outputs[0])"
   ]
  },
  {
   "cell_type": "code",
   "execution_count": 4,
   "id": "23fb4666",
   "metadata": {},
   "outputs": [
    {
     "data": {
      "text/plain": [
       "'[START_I_SMILES]CC1=CC=C(C=C1)C2=NN=C(N2C3=CC=CC=C3)SCC(=O)NC4=CC=CC=C4OC[END_I_SMILES]\\n\\n### Molecular Formula\\n\\nC24H22N4O2S\\n\\n## Chemical and Physical Properties\\n\\nThe following are chemical properties for 2-[[4,5-bis(p-tolyl)-1,2,4-triazol-3-yl]sulfanyl]-N-(2-methoxyphenyl)acetamide.\\n\\n### Computed Properties\\n\\n| Property Name | Property Value\\n| --- | ----------- |\\n| Molecular Weight | 430.5\\n| XLogP3-AA Log P | 4.9\\n| Hydrogen Bond Donor Count | 1\\n| Hydrogen Bond Acceptor Count |'"
      ]
     },
     "execution_count": 4,
     "metadata": {},
     "output_type": "execute_result"
    }
   ],
   "source": [
    "gen(model, \"[START_I_SMILES]\")"
   ]
  }
 ],
 "metadata": {
  "kernelspec": {
   "display_name": ".embgam",
   "language": "python",
   "name": "python3"
  },
  "language_info": {
   "codemirror_mode": {
    "name": "ipython",
    "version": 3
   },
   "file_extension": ".py",
   "mimetype": "text/x-python",
   "name": "python",
   "nbconvert_exporter": "python",
   "pygments_lexer": "ipython3",
   "version": "3.8.10"
  },
  "vscode": {
   "interpreter": {
    "hash": "559535f78d940c882783b39501b2581b5193373045707e5f8a51d046029cfd38"
   }
  }
 },
 "nbformat": 4,
 "nbformat_minor": 5
}
