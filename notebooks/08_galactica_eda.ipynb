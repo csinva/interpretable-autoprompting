{
 "cells": [
  {
   "cell_type": "code",
   "execution_count": 1,
   "id": "1813f150-d26e-4d76-9d74-d54b56b7f524",
   "metadata": {},
   "outputs": [
    {
     "name": "stderr",
     "output_type": "stream",
     "text": [
      "2023-01-11 19:40:36.580613: I tensorflow/core/platform/cpu_feature_guard.cc:193] This TensorFlow binary is optimized with oneAPI Deep Neural Network Library (oneDNN) to use the following CPU instructions in performance-critical operations:  AVX2 FMA\n",
      "To enable them in other operations, rebuild TensorFlow with the appropriate compiler flags.\n",
      "2023-01-11 19:40:37.244189: W tensorflow/compiler/xla/stream_executor/platform/default/dso_loader.cc:64] Could not load dynamic library 'libnvinfer.so.7'; dlerror: libnvinfer.so.7: cannot open shared object file: No such file or directory; LD_LIBRARY_PATH: /opt/intel/compilers_and_libraries_2018.1.163/linux/tbb/lib/intel64_lin/gcc4.7:/opt/intel/compilers_and_libraries_2018.1.163/linux/compiler/lib/intel64_lin:/opt/intel/compilers_and_libraries_2018.1.163/linux/mkl/lib/intel64_lin:/opt/intel/compilers_and_libraries_2018.1.163/linux/tbb/lib/intel64_lin/gcc4.7:/opt/intel/compilers_and_libraries_2018.1.163/linux/compiler/lib/intel64_lin:/opt/intel/compilers_and_libraries_2018.1.163/linux/mkl/lib/intel64_lin::/usr/local/cuda/lib64:/usr/local/cuda/extras/CUPTI/lib64/:/usr/local/cuda/lib64:/usr/local/cuda/extras/CUPTI/lib64/\n",
      "2023-01-11 19:40:37.244298: W tensorflow/compiler/xla/stream_executor/platform/default/dso_loader.cc:64] Could not load dynamic library 'libnvinfer_plugin.so.7'; dlerror: libnvinfer_plugin.so.7: cannot open shared object file: No such file or directory; LD_LIBRARY_PATH: /opt/intel/compilers_and_libraries_2018.1.163/linux/tbb/lib/intel64_lin/gcc4.7:/opt/intel/compilers_and_libraries_2018.1.163/linux/compiler/lib/intel64_lin:/opt/intel/compilers_and_libraries_2018.1.163/linux/mkl/lib/intel64_lin:/opt/intel/compilers_and_libraries_2018.1.163/linux/tbb/lib/intel64_lin/gcc4.7:/opt/intel/compilers_and_libraries_2018.1.163/linux/compiler/lib/intel64_lin:/opt/intel/compilers_and_libraries_2018.1.163/linux/mkl/lib/intel64_lin::/usr/local/cuda/lib64:/usr/local/cuda/extras/CUPTI/lib64/:/usr/local/cuda/lib64:/usr/local/cuda/extras/CUPTI/lib64/\n",
      "2023-01-11 19:40:37.244306: W tensorflow/compiler/tf2tensorrt/utils/py_utils.cc:38] TF-TRT Warning: Cannot dlopen some TensorRT libraries. If you would like to use Nvidia GPU with TensorRT, please make sure the missing libraries mentioned above are installed properly.\n"
     ]
    }
   ],
   "source": [
    "%load_ext autoreload\n",
    "%autoreload 2\n",
    "import numpy as np\n",
    "import torch\n",
    "from torch import nn\n",
    "import matplotlib.pyplot as plt\n",
    "from copy import deepcopy\n",
    "import pandas as pd\n",
    "from tqdm import tqdm\n",
    "from collections import defaultdict\n",
    "import pandas as pd\n",
    "from datasets import Dataset\n",
    "from os.path import join as oj\n",
    "import pickle as pkl\n",
    "import os\n",
    "import sys\n",
    "import iprompt.data\n",
    "from transformers import AutoTokenizer, OPTForCausalLM, AutoModelForCausalLM\n",
    "from iprompt.data import TASKS_GALACTICA\n",
    "import transformers\n",
    "from imodelsx import explain_dataset_iprompt, get_add_two_numbers_dataset"
   ]
  },
  {
   "attachments": {},
   "cell_type": "markdown",
   "id": "280bbfbc",
   "metadata": {},
   "source": [
    "# BBBP"
   ]
  },
  {
   "cell_type": "code",
   "execution_count": 2,
   "id": "631d571b",
   "metadata": {},
   "outputs": [
    {
     "name": "stderr",
     "output_type": "stream",
     "text": [
      "/home/chansingh/iprompt/iprompt/data_utils/galactica.py:15: SettingWithCopyWarning: \n",
      "A value is trying to be set on a copy of a slice from a DataFrame\n",
      "\n",
      "See the caveats in the documentation: https://pandas.pydata.org/pandas-docs/stable/user_guide/indexing.html#returning-a-view-versus-a-copy\n",
      "  df.name.loc[df.name.str.isnumeric()] = 'Compound-'+df.name.loc[df.name.str.isnumeric()] # rename compounds that are just numbers\n"
     ]
    },
    {
     "data": {
      "text/plain": [
       "'Here is a compound:\\nPropanolol\\nAnswer:'"
      ]
     },
     "execution_count": 2,
     "metadata": {},
     "output_type": "execute_result"
    }
   ],
   "source": [
    "task = TASKS_GALACTICA['bbbp']\n",
    "df = task['gen_func']()\n",
    "input_strings = df['input'].values\n",
    "output_strings = df['output'].values\n",
    "input_strings[0]"
   ]
  },
  {
   "cell_type": "code",
   "execution_count": null,
   "id": "82c183e3",
   "metadata": {},
   "outputs": [
    {
     "name": "stderr",
     "output_type": "stream",
     "text": [
      "Using eos_token, but it is not set yet.\n"
     ]
    }
   ],
   "source": [
    "# checkpoint = 'facebook/galactica-6.7b'\n",
    "# tokenizer = AutoTokenizer.from_pretrained(checkpoint)\n",
    "# tokenizer.eos_token = tokenizer.eos_token or 0\n",
    "# lm = AutoModelForCausalLM.from_pretrained(\n",
    "#     checkpoint, output_hidden_states=False, pad_token_id=tokenizer.eos_token_id\n",
    "# )\n",
    "# lm = lm.to('cuda')"
   ]
  },
  {
   "cell_type": "code",
   "execution_count": null,
   "id": "7ef8eb8c",
   "metadata": {},
   "outputs": [],
   "source": [
    "# explain the relationship between the inputs and outputs\n",
    "# with a natural-language prompt string\n",
    "prompts, metadata = explain_dataset_iprompt(\n",
    "    input_strings=input_strings,\n",
    "    output_strings=output_strings,\n",
    "    # checkpoint='EleutherAI/gpt-j-6B', # which language model to use\n",
    "    checkpoint=\"facebook/galactica-6.7b\", # which language model to use\n",
    "    preprefix='Answer P if the compound can ',\n",
    "    num_learned_tokens=6, # how long of a prompt to learn\n",
    "    n_shots=5, # shots per example\n",
    "    n_epochs=15, # how many epochs to search\n",
    "    verbose=0, # how much to print\n",
    "    llm_float16=True, # whether to load the model in float_16\n",
    "    seed=42,\n",
    "    llm_candidate_regeneration_prompt_start='Data:',\n",
    "    # llm_candidate_regeneration_prompt_end='What function of the compound is being asked about?', # default is \"Prompt:\"\n",
    "    # lm=lm,\n",
    ")"
   ]
  },
  {
   "cell_type": "markdown",
   "id": "c409d6ff",
   "metadata": {},
   "source": [
    "# Tox21"
   ]
  },
  {
   "cell_type": "code",
   "execution_count": 8,
   "id": "b0962c30",
   "metadata": {},
   "outputs": [
    {
     "name": "stderr",
     "output_type": "stream",
     "text": [
      "/home/chansingh/iprompt/iprompt/data_utils/galactica.py:35: FutureWarning: Dropping of nuisance columns in DataFrame reductions (with 'numeric_only=None') is deprecated; in a future version this will raise TypeError.  Select only valid columns before calling the reduction.\n",
      "  control = d.loc[(d.sum(axis=1) == 0) & (d.isna().sum(axis=1) == 0)]\n",
      "/home/chansingh/iprompt/iprompt/data_utils/galactica.py:36: FutureWarning: Dropping of nuisance columns in DataFrame reductions (with 'numeric_only=None') is deprecated; in a future version this will raise TypeError.  Select only valid columns before calling the reduction.\n",
      "  tox = d.loc[(d.sum(axis=1) == 1) & (d.iloc[:, tox_target] == 1)]\n",
      "/home/chansingh/iprompt/iprompt/data_utils/galactica.py:41: SettingWithCopyWarning: \n",
      "A value is trying to be set on a copy of a slice from a DataFrame\n",
      "\n",
      "See the caveats in the documentation: https://pandas.pydata.org/pandas-docs/stable/user_guide/indexing.html#returning-a-view-versus-a-copy\n",
      "  df['tox'].iloc[n:] = 0\n"
     ]
    },
    {
     "data": {
      "text/plain": [
       "('Here is a compound:\\nTOX3819\\nAnswer:', ' No.\\n\\n')"
      ]
     },
     "execution_count": 8,
     "metadata": {},
     "output_type": "execute_result"
    }
   ],
   "source": [
    "task = TASKS_GALACTICA['tox21_0']\n",
    "df = task['gen_func']()\n",
    "input_strings = df['input'].values[:100]\n",
    "output_strings = df['output'].values[:100]\n",
    "input_strings[0], output_strings[0]"
   ]
  },
  {
   "cell_type": "code",
   "execution_count": 9,
   "id": "2477e95c",
   "metadata": {},
   "outputs": [
    {
     "name": "stderr",
     "output_type": "stream",
     "text": [
      "Using eos_token, but it is not set yet.\n"
     ]
    },
    {
     "name": "stdout",
     "output_type": "stream",
     "text": [
      "trying to convert facebook/galactica-6.7b to float16...\n",
      "loading model...\n",
      "Training with 2 possible answers / random acc 50.0% / majority acc inf%\n",
      "Beginning epoch 0\n"
     ]
    },
    {
     "name": "stderr",
     "output_type": "stream",
     "text": [
      "  0%|          | 0/157 [00:00<?, ?it/s]"
     ]
    },
    {
     "name": "stdout",
     "output_type": "stream",
     "text": [
      "population_pool: [' both inorganic and organic, otherwise', ' found in cancer cell lines and', ' considered as toxic, and answer', ' active in all categories, or', ' toxic to humans; answer no', ' soluble in water; otherwise answer', ' genotoxic when bound to DNA by', ' soluble in water; otherwise answer', ' both inorganic and organic, otherwise', ' toxic to humans; answer no', ' toxic to humans; answer no', ' considered as toxic, and answer']\n"
     ]
    },
    {
     "name": "stderr",
     "output_type": "stream",
     "text": [
      "Loss = 4.051:   1%|          | 1/157 [00:08<22:46,  8.76s/it]"
     ]
    },
    {
     "name": "stdout",
     "output_type": "stream",
     "text": [
      "population_pool: [' toxic to humans; answer no', ' (at least) carcinogenic', ' mutagenic in SSNTD assays', ' considered as toxic, and no', ' considered as toxic, and no', ' considered as toxic, and no', ' found in cancer cell lines,', ' soluble in water; otherwise answer', ' soluble in water; otherwise answer', ' both inorganic and organic, Y', ' active in all categories, and', ' genotoxic when bound to DNA by']\n"
     ]
    },
    {
     "name": "stderr",
     "output_type": "stream",
     "text": [
      "Loss = 3.529:   1%|▏         | 2/157 [00:16<21:29,  8.32s/it]"
     ]
    },
    {
     "name": "stdout",
     "output_type": "stream",
     "text": [
      "population_pool: [' carcinogenic, and answer no otherwise', ' toxic, and answer no otherwise', ' genotoxic when present in human blood', ' in category A, answer no', ' considered as ‘non-toxic', ' (at least) carcinogenic', ' positive on PubChem, and', ' active in at least one assay', ' mutagenic in SSNTD assays', ' found in cancer cell lines,', ' soluble in organic solvents, otherwise', ' both inorganic AND organic and answer']\n"
     ]
    },
    {
     "name": "stderr",
     "output_type": "stream",
     "text": [
      "Loss = 4.000:   2%|▏         | 3/157 [00:24<21:05,  8.21s/it]"
     ]
    },
    {
     "name": "stdout",
     "output_type": "stream",
     "text": [
      "population_pool: [' carcinogenic, and answer no otherwise', ' toxic, and answer no otherwise', ' active; otherwise, answer no', ' considered as ‘non-toxic', ' genotoxic when present in human blood', ' in category A, answer no', ' not associated with hepatotoxicity but would', ' (at least) carcinogenic', ' mutagenic, and False otherwiseYes', ' organic and yes otherwise or do', ' aliphatic, and answer NO otherwise', ' positive on PubChem, and']\n"
     ]
    },
    {
     "name": "stderr",
     "output_type": "stream",
     "text": [
      "Loss = 3.840:   3%|▎         | 4/157 [00:33<20:52,  8.19s/it]"
     ]
    },
    {
     "name": "stdout",
     "output_type": "stream",
     "text": [
      "population_pool: [' carcinogenic, and answer no otherwise', ' not carcinogenic and answer no otherwise', ' safe, otherwise answer noThe', ' toxic, and answer no otherwise', ' considered as ‘non-toxic', ' active; otherwise, answer no', ' in category A, answer no', ' genotoxic when present in human blood', ' aromatic, and otherwise answer no', ' positive and answer NO else,', ' (at least) carcinogenic', ' mutagenic, and False otherwiseYes']\n"
     ]
    },
    {
     "name": "stderr",
     "output_type": "stream",
     "text": [
      "Loss = 3.873:   3%|▎         | 5/157 [00:41<20:39,  8.16s/it]"
     ]
    },
    {
     "name": "stdout",
     "output_type": "stream",
     "text": [
      "population_pool: [' carcinogenic, and answer no otherwise', ' not carcinogenic and answer no otherwise', ' safe, otherwise answer noThe', ' active; answer \"No', ' toxic, and answer no otherwise', ' classified as genotoxic, No otherwise', ' in category A, answer no', ' aromatic, and otherwise answer no', ' genotoxic when present in human blood', ' considered as ‘non-toxic', ' mutagenic, otherwise answer noShow', ' positive and answer NO else,']\n"
     ]
    },
    {
     "name": "stderr",
     "output_type": "stream",
     "text": [
      "Loss = 2.527:   4%|▍         | 6/157 [00:49<20:23,  8.10s/it]"
     ]
    },
    {
     "name": "stdout",
     "output_type": "stream",
     "text": [
      "population_pool: [' aromatic, and otherwise answer No', ' not carcinogenic and answer no otherwise', ' carcinogenic, and answer no otherwise', ' safe, otherwise answer no;', ' active; answer \"No', ' toxic, and answer no otherwise', ' mutagenic, otherwise answer no by', ' classified as genotoxic, No otherwise', ' in category A, answer no', ' considered as ‘non-toxic', ' positive and answer NO else,', ' (at least) carcinogenic']\n"
     ]
    },
    {
     "name": "stderr",
     "output_type": "stream",
     "text": [
      "Loss = 2.590:   4%|▍         | 7/157 [00:57<20:17,  8.11s/it]"
     ]
    },
    {
     "name": "stdout",
     "output_type": "stream",
     "text": [
      "population_pool: [' aromatic, and otherwise answer No', ' not carcinogenic and answer no otherwise', ' carcinogenic, and answer no otherwise', ' positive, answer no otherwise?', ' safe; otherwise, answer no', ' active; answer \"No', ' classified as genotoxic, No otherwise', ' in test, otherwise answer no', ' toxic, and answer no otherwise', ' mutagenic, otherwise answer no by', ' soluble in water and answer NO', ' insoluble in water; answer no']\n"
     ]
    },
    {
     "name": "stderr",
     "output_type": "stream",
     "text": [
      "Loss = 2.992:   5%|▌         | 8/157 [01:05<20:09,  8.12s/it]"
     ]
    },
    {
     "name": "stdout",
     "output_type": "stream",
     "text": [
      "population_pool: [' aromatic, and otherwise answer No', ' not carcinogenic and answer no otherwise', ' carcinogenic, and answer no otherwise', ' positive, answer no otherwise?', ' active; answer \"No', ' safe; otherwise, answer no', ' classified as genotoxic, No otherwise', ' in test, otherwise answer no', ' an agonist and answer no otherwise', ' toxic, and answer no otherwise', ' mutagenic, otherwise answer no by', ' soluble in water and answer NO']\n"
     ]
    },
    {
     "name": "stderr",
     "output_type": "stream",
     "text": [
      "Loss = 2.701:   6%|▌         | 9/157 [01:13<19:57,  8.09s/it]"
     ]
    },
    {
     "name": "stdout",
     "output_type": "stream",
     "text": [
      "population_pool: [' aromatic, and otherwise answer No', ' genotoxic, or answer no otherwise', ' not carcinogenic and answer no otherwise', ' carcinogenic, and answer no otherwise', ' safe; otherwise, answer no', ' positive, answer no otherwise?', ' active; answer \"No', ' classified as genotoxic, No otherwise', ' in test, otherwise answer no', ' an agonist and answer no otherwise', ' toxic, and answer no otherwise', ' mutagenic, otherwise say “No']\n"
     ]
    },
    {
     "name": "stderr",
     "output_type": "stream",
     "text": [
      "Loss = 3.648:   6%|▋         | 10/157 [01:21<19:45,  8.06s/it]"
     ]
    },
    {
     "name": "stdout",
     "output_type": "stream",
     "text": [
      "population_pool: [' aromatic, and otherwise answer No', ' genotoxic, or answer no otherwise', ' not carcinogenic and answer no otherwise', ' carcinogenic, and answer no otherwise', ' safe; otherwise, answer no', ' active; answer \"No', ' positive, answer no otherwise?', ' an agonist and answer no otherwise', ' classified as genotoxic, No otherwise', ' toxic, and answer no otherwise', ' mutagenic, otherwise say “No', ' in test, otherwise answer no']\n"
     ]
    },
    {
     "name": "stderr",
     "output_type": "stream",
     "text": [
      "Loss = 3.295:   7%|▋         | 11/157 [01:29<19:38,  8.07s/it]"
     ]
    },
    {
     "name": "stdout",
     "output_type": "stream",
     "text": [
      "population_pool: [' aromatic, and otherwise answer No', \" active; answer ''No\", ' toxic and answer no otherwise,', ' genotoxic, or answer no otherwise', ' not carcinogenic and answer no otherwise', ' carcinogenic, and answer no otherwise', ' safe; otherwise, answer no', ' positive, answer no otherwise?', ' an agonist and answer no otherwise', ' classified as genotoxic, No otherwise', ' in test, otherwise answer no', ' mutagenic, otherwise say “No']\n"
     ]
    },
    {
     "name": "stderr",
     "output_type": "stream",
     "text": [
      "Loss = 2.473:   8%|▊         | 12/157 [01:37<19:33,  8.09s/it]"
     ]
    },
    {
     "name": "stdout",
     "output_type": "stream",
     "text": [
      "population_pool: [' aromatic, and otherwise answer No', \" active; answer ''No\", ' an antioxidant and answer no,', ' toxic and answer no otherwise,', ' genotoxic, or answer no otherwise', ' not carcinogenic and answer no otherwise', ' carcinogenic, and answer no otherwise', ' safe; otherwise, answer no', ' positive, answer no otherwise?', ' classified as genotoxic, No otherwise', ' in test, otherwise answer no', ' mutagenic, otherwise say “No']\n"
     ]
    },
    {
     "name": "stderr",
     "output_type": "stream",
     "text": [
      "Loss = 2.670:   8%|▊         | 13/157 [01:45<19:29,  8.12s/it]"
     ]
    },
    {
     "name": "stdout",
     "output_type": "stream",
     "text": [
      "population_pool: [' aromatic, and otherwise answer No', \" active; answer ''No\", ' an antioxidant and answer no,', ' genotoxic, or answer no otherwise', ' toxic and answer no otherwise,', ' not carcinogenic and answer no otherwise', ' carcinogenic, and answer no otherwise', ' safe; otherwise, answer no', ' positive, answer no otherwise?', ' classified as genotoxic, No otherwise', ' mutagenic, and answer no otherwise', ' cytotoxic and vice versaNo Prom']\n"
     ]
    },
    {
     "name": "stderr",
     "output_type": "stream",
     "text": [
      "Loss = 3.002:   9%|▉         | 14/157 [01:54<19:39,  8.25s/it]"
     ]
    },
    {
     "name": "stdout",
     "output_type": "stream",
     "text": [
      "population_pool: [' aromatic, and otherwise answer No', ' toxic; otherwise, answer No', \" active; answer ''No\", ' not carcinogenic and answer no otherwise', ' genotoxic, or answer no otherwise', ' carcinogenic, and answer no otherwise', ' safe; otherwise, answer no', ' an antioxidant and answer no,', ' positive, answer no otherwise?', ' mutagenic, and answer no otherwise', ' classified as genotoxic, No otherwise', ' cytotoxic and answer “No”']\n"
     ]
    },
    {
     "name": "stderr",
     "output_type": "stream",
     "text": [
      "Loss = 2.289:  10%|▉         | 15/157 [02:02<19:47,  8.36s/it]"
     ]
    },
    {
     "name": "stdout",
     "output_type": "stream",
     "text": [
      "population_pool: [' aromatic, and otherwise answer No', ' toxic; otherwise, answer No', \" active; answer ''No\", ' not carcinogenic/teratogenic', ' genotoxic, or answer no otherwise', ' organic; answer “No”', ' safe; otherwise, answer no', ' carcinogenic, and answer no otherwise', ' an antioxidant and answer no,', ' positive, answer no otherwise?', ' mutagenic, and answer no otherwise', ' classified as genotoxic, No otherwise']\n"
     ]
    },
    {
     "name": "stderr",
     "output_type": "stream",
     "text": [
      "Loss = 2.428:  10%|█         | 16/157 [02:11<19:45,  8.41s/it]"
     ]
    },
    {
     "name": "stdout",
     "output_type": "stream",
     "text": [
      "population_pool: [' safe; otherwise answer No ', ' toxic; otherwise, answer No', ' aromatic, and otherwise answer No', \" active; answer ''No\", ' not carcinogenic/teratogenic', ' genotoxic, or answer no otherwise', ' carcinogenic, and answer no otherwise', ' an antioxidant and answer no,', ' organic; answer “No”', ' positive, answer no otherwise?', ' classified as genotoxic, No otherwise', ' mutagenic, and answer no otherwise']\n"
     ]
    },
    {
     "name": "stderr",
     "output_type": "stream",
     "text": [
      "Loss = 2.322:  11%|█         | 17/157 [02:20<19:45,  8.47s/it]"
     ]
    },
    {
     "name": "stdout",
     "output_type": "stream",
     "text": [
      "population_pool: [' safe; otherwise answer No ', ' toxic; otherwise, answer No', ' aromatic, and otherwise answer No', ' genotoxic, and answer no otherwise', \" active; answer ''No\", ' biologically active, otherwise answer no', ' not carcinogenic/teratogenic', ' carcinogenic, and answer no otherwise', ' an antioxidant and answer no,', ' organic; answer “No”', ' positive, answer no otherwise?', ' classified as genotoxic, No otherwise']\n"
     ]
    },
    {
     "name": "stderr",
     "output_type": "stream",
     "text": [
      "Loss = 2.646:  11%|█▏        | 18/157 [02:28<19:37,  8.47s/it]"
     ]
    },
    {
     "name": "stdout",
     "output_type": "stream",
     "text": [
      "population_pool: [' safe; otherwise answer No ', ' aromatic, and otherwise answer No', ' toxic; otherwise, answer No', ' genotoxic, and answer no otherwise', \" active; answer ''No\", ' classified as genotoxic and answer no', ' biologically active, otherwise answer no', ' not carcinogenic/teratogenic', ' carcinogenic, and answer no otherwise', ' an antioxidant and answer no,', ' organic; answer “No”', ' positive, answer no otherwise?']\n"
     ]
    },
    {
     "name": "stderr",
     "output_type": "stream",
     "text": [
      "Loss = 2.691:  12%|█▏        | 19/157 [02:37<19:35,  8.52s/it]"
     ]
    },
    {
     "name": "stdout",
     "output_type": "stream",
     "text": [
      "population_pool: [' safe; otherwise answer No ', ' toxic; otherwise, answer No', ' aromatic, and otherwise answer No', ' genotoxic, and answer no otherwise', \" active; answer ''No\", ' classified as genotoxic and answer no', ' biologically active, otherwise answer no', ' carcinogenic, and answer no otherwise', ' an antioxidant and answer no,', ' not carcinogenic/teratogenic', ' organic; answer “No”', ' listed; otherwise, answer no']\n"
     ]
    },
    {
     "name": "stderr",
     "output_type": "stream",
     "text": [
      "Loss = 3.129:  13%|█▎        | 20/157 [02:45<19:33,  8.57s/it]"
     ]
    },
    {
     "name": "stdout",
     "output_type": "stream",
     "text": [
      "population_pool: [' safe; otherwise answer No ', ' toxic; otherwise, answer No', ' aromatic, and otherwise answer No', \" active; answer ''No\", ' classified as genotoxic and answer no', ' genotoxic, and answer no otherwise', ' biologically active, otherwise answer no', ' carcinogenic, and answer no otherwise', ' an antioxidant and answer no,', ' listed; otherwise, answer no', ' positive, answer no otherwise?', ' cytotoxic and answer “No”']\n"
     ]
    },
    {
     "name": "stderr",
     "output_type": "stream",
     "text": [
      "Loss = 2.812:  13%|█▎        | 21/157 [02:54<19:23,  8.56s/it]"
     ]
    },
    {
     "name": "stdout",
     "output_type": "stream",
     "text": [
      "population_pool: [' safe; otherwise answer No ', ' toxic; otherwise, answer No', ' aromatic, and otherwise answer No', \" active; answer ''No\", ' classified as genotoxic and answer no', ' genotoxic, and answer no otherwise', ' biologically active, otherwise answer no', ' carcinogenic, and answer no otherwise', ' an antioxidant and answer no,', ' positive, answer no otherwise?', ' listed; otherwise, answer no', ' cytotoxic and answer “No”']\n"
     ]
    },
    {
     "name": "stderr",
     "output_type": "stream",
     "text": [
      "Loss = 2.428:  14%|█▍        | 22/157 [03:02<19:08,  8.51s/it]"
     ]
    },
    {
     "name": "stdout",
     "output_type": "stream",
     "text": [
      "population_pool: [' safe; otherwise answer No ', ' toxic; otherwise, answer No', ' aromatic, and otherwise answer No', ' biologically active, otherwise answerNo', \" active; answer ''No\", ' classified as genotoxic and answer no', ' genotoxic, and answer no otherwise', ' cytotoxic and answer “No”', ' carcinogenic, and answer no otherwise', ' an antioxidant and answer no,', ' positive, answer no otherwise?', ' listed; otherwise, answer no']\n"
     ]
    },
    {
     "name": "stderr",
     "output_type": "stream",
     "text": [
      "Loss = 2.086:  15%|█▍        | 23/157 [03:11<19:01,  8.52s/it]"
     ]
    },
    {
     "name": "stdout",
     "output_type": "stream",
     "text": [
      "population_pool: [' safe; otherwise answer NoIf', ' toxic; otherwise, answer No', ' aromatic, and otherwise answer No', ' biologically active, otherwise answer Not', ' classified as genotoxic and answer no', ' genotoxic, and answer no otherwise', \" active; answer ''No\", ' cytotoxic and answer “No”', ' listed; otherwise, answer If', ' carcinogenic, and answer no otherwise', ' an antioxidant and answer no,', ' positive, answer no otherwise?']\n"
     ]
    },
    {
     "name": "stderr",
     "output_type": "stream",
     "text": [
      "Loss = 2.436:  15%|█▌        | 24/157 [03:20<18:59,  8.57s/it]"
     ]
    },
    {
     "name": "stdout",
     "output_type": "stream",
     "text": [
      "population_pool: [' safe; otherwise answer NoIf', ' toxic; otherwise, answer No', ' aromatic, and otherwise answer No', ' biologically active, otherwise answer Not', ' genotoxic and Answers no otherwise', ' classified as genotoxic and answer no', \" active; answer ''No\", ' cytotoxic and answer “No”', ' listed; otherwise, answer If', ' carcinogenic, and answer no otherwise', ' an antioxidant and answer no,', ' positive, answer no otherwise?']\n"
     ]
    },
    {
     "name": "stderr",
     "output_type": "stream",
     "text": [
      "Loss = 2.551:  16%|█▌        | 25/157 [03:28<18:50,  8.56s/it]"
     ]
    },
    {
     "name": "stdout",
     "output_type": "stream",
     "text": [
      "population_pool: [' safe; otherwise answer NoIf', ' toxic; otherwise, answer No', ' carcinogenic, and answer No otherwise', ' aromatic, and otherwise answer No', ' biologically active, otherwise answer Not', ' classified as genotoxic and answer no', \" active; answer ''No\", ' genotoxic and Answers no otherwise', ' cytotoxic and answer “No”', ' listed; otherwise, answer If', ' an antioxidant and answer no,', ' positive, answer no otherwise?']\n"
     ]
    },
    {
     "name": "stderr",
     "output_type": "stream",
     "text": [
      "Loss = 2.488:  17%|█▋        | 26/157 [03:37<18:42,  8.57s/it]"
     ]
    },
    {
     "name": "stdout",
     "output_type": "stream",
     "text": [
      "population_pool: [' safe; otherwise answer NoIf', ' toxic; alternatively, answer No', ' carcinogenic, and answer No otherwise', ' aromatic, and otherwise answer No', ' polar and answer No otherwise with', ' biologically active, otherwise answer Not', ' classified as genotoxic and answer no', \" active; answer ''No\", ' genotoxic and Answers no otherwise', ' cytotoxic and answer “No”', ' an antioxidant and answer no,', ' listed; otherwise, answer If']\n"
     ]
    },
    {
     "name": "stderr",
     "output_type": "stream",
     "text": [
      "Loss = 2.680:  17%|█▋        | 27/157 [03:46<18:58,  8.76s/it]"
     ]
    },
    {
     "name": "stdout",
     "output_type": "stream",
     "text": [
      "population_pool: [' safe; otherwise answer NoIf', ' carcinogenic, and answer No otherwise', ' toxic; alternatively, answer No', ' aromatic, and otherwise answer No', ' polar and answer No otherwise with', ' biologically active, otherwise answer Not', ' classified as genotoxic and answer no', \" active; answer ''No\", ' genotoxic and Answers no otherwise', ' cytotoxic and answer “No”', ' an antioxidant and answer no,', ' positive, answer no otherwise?']\n"
     ]
    },
    {
     "name": "stderr",
     "output_type": "stream",
     "text": [
      "Loss = 1.918:  18%|█▊        | 28/157 [04:05<25:16, 11.76s/it]"
     ]
    },
    {
     "name": "stdout",
     "output_type": "stream",
     "text": [
      "population_pool: [' carcinogenic, and answer No otherwise', ' safe; otherwise answer NoIf', ' toxic; alternatively, answer No', ' polar and answer No otherwise with', ' aromatic, and otherwise answer No', ' biologically active, otherwise answer Not', ' teratogenic and answer no for', ' classified as genotoxic and answer no', \" active; answer ''No\", ' genotoxic and Answers no otherwise', ' cytotoxic and answer “No”', ' an antioxidant and answer no,']\n"
     ]
    },
    {
     "name": "stderr",
     "output_type": "stream",
     "text": [
      "Loss = 2.268:  18%|█▊        | 29/157 [04:25<30:42, 14.40s/it]"
     ]
    },
    {
     "name": "stdout",
     "output_type": "stream",
     "text": [
      "population_pool: [' carcinogenic, and answer No otherwise', ' safe; otherwise answer NoIf', ' toxic; alternatively, answer No', ' aromatic, and otherwise answer No', ' polar and answer No otherwise with', ' biologically active, otherwise answer Not', ' classified as genotoxic and answer no', \" active; answer ''No\", ' teratogenic and answer no for', ' genotoxic and Answers no otherwise', ' cytotoxic and answer “No”', ' an antioxidant and answer no,']\n"
     ]
    },
    {
     "name": "stderr",
     "output_type": "stream",
     "text": [
      "Loss = 2.121:  19%|█▉        | 30/157 [04:46<34:26, 16.27s/it]"
     ]
    },
    {
     "name": "stdout",
     "output_type": "stream",
     "text": [
      "population_pool: [' carcinogenic, and answer No otherwise', ' safe; otherwise answer NoIf', ' toxic; alternatively, answer No', ' polar and answer No otherwise with', ' aromatic, and otherwise answer No', ' an ester; answer No otherwise', ' biologically active, otherwise answer Not', ' classified as genotoxic and answer no', \" active; answer ''No\", ' teratogenic and answer no for', ' genotoxic and Answers no otherwise', ' cytotoxic and answer “No”']\n"
     ]
    },
    {
     "name": "stderr",
     "output_type": "stream",
     "text": [
      "Loss = 1.999:  20%|█▉        | 31/157 [05:06<36:42, 17.48s/it]"
     ]
    },
    {
     "name": "stdout",
     "output_type": "stream",
     "text": [
      "population_pool: [' carcinogenic, and answer No otherwise', ' safe; otherwise answer NoIf', ' toxic; alternatively, answer No', ' polar and answer No otherwise,', ' an ester; answer No otherwise', ' aromatic, and otherwise answer No', ' biologically active, otherwise answer Not', ' classified as genotoxic and answer no', \" active; answer ''No\", ' genotoxic and Answers no otherwise', ' teratogenic and answer no for', ' cytotoxic and answer “No”']\n"
     ]
    },
    {
     "name": "stderr",
     "output_type": "stream",
     "text": [
      "Loss = 1.924:  20%|██        | 32/157 [05:26<38:11, 18.33s/it]"
     ]
    },
    {
     "name": "stdout",
     "output_type": "stream",
     "text": [
      "population_pool: [' polar and answer No otherwise for', ' carcinogenic, and answer No otherwise', ' safe; otherwise answer NoIf', ' toxic; alternatively, answer No', ' an ester; answer No otherwise', ' aromatic, and otherwise answer No', ' biologically active, otherwise answer Not', ' classified as genotoxic and answer no', ' genotoxic and Answers no otherwise', \" active; answer ''No\", ' teratogenic and answer no for', ' cytotoxic and answer “No”']\n"
     ]
    },
    {
     "name": "stderr",
     "output_type": "stream",
     "text": [
      "Loss = 2.279:  21%|██        | 33/157 [05:47<39:17, 19.02s/it]"
     ]
    },
    {
     "name": "stdout",
     "output_type": "stream",
     "text": [
      "population_pool: [' polar and answer No otherwise for', ' carcinogenic, and answer No otherwise', ' safe; otherwise answer NoIf', ' toxic; alternatively, answer No', ' an ester; answer No otherwise', ' aromatic, and otherwise answer No', ' biologically active, otherwise answer Not', ' classified as genotoxic and answer no', ' genotoxic and Answers no otherwise', \" active; answer ''No\", ' teratogenic and answer no for', ' cytotoxic and answer “No”']\n"
     ]
    },
    {
     "name": "stderr",
     "output_type": "stream",
     "text": [
      "Loss = 2.320:  22%|██▏       | 34/157 [06:07<39:46, 19.40s/it]"
     ]
    },
    {
     "name": "stdout",
     "output_type": "stream",
     "text": [
      "population_pool: [' carcinogenic, and answer No otherwise', ' safe; otherwise answer NoIf', ' toxic; alternatively, answer No', ' polar and answer No otherwise for', ' an ester; answer No otherwise', ' aromatic, and otherwise answer No', ' biologically active, otherwise answer Not', ' classified as genotoxic and answer no', ' genotoxic and Answers no otherwise', \" active; answer ''No\", ' teratogenic and answer no for', ' cytotoxic and answer “No”']\n"
     ]
    },
    {
     "name": "stderr",
     "output_type": "stream",
     "text": [
      "Loss = 2.525:  22%|██▏       | 35/157 [06:28<40:07, 19.73s/it]"
     ]
    },
    {
     "name": "stdout",
     "output_type": "stream",
     "text": [
      "population_pool: [' safe; otherwise answer NoIf', ' carcinogenic, and answer No otherwise', ' toxic; alternatively, answer No', ' aromatic, and otherwise answer No', ' polar and answer No otherwise for', ' an ester; answer No otherwise', ' teratogenic; otherwise answer No', ' biologically active, otherwise answer Not', ' classified as genotoxic and answer no', ' genotoxic and Answers no otherwise', \" active; answer ''No\", ' cytotoxic and answer “No”']\n"
     ]
    },
    {
     "name": "stderr",
     "output_type": "stream",
     "text": [
      "Loss = 2.018:  23%|██▎       | 36/157 [06:48<40:06, 19.89s/it]"
     ]
    },
    {
     "name": "stdout",
     "output_type": "stream",
     "text": [
      "population_pool: [' safe; otherwise answer NoIf', ' carcinogenic, and answer No otherwise', ' toxic; alternatively, answer No', ' polar and answer No otherwise for', ' aromatic, and otherwise answer No', ' an ester; answer No otherwise', ' teratogenic; otherwise answer No', ' biologically active, otherwise answer Not', ' classified as genotoxic and answer no', ' genotoxic and Answers no otherwise', \" active; answer ''No\", ' cytotoxic and answer “No”']\n"
     ]
    },
    {
     "name": "stderr",
     "output_type": "stream",
     "text": [
      "Loss = 2.424:  24%|██▎       | 37/157 [07:09<40:08, 20.07s/it]"
     ]
    },
    {
     "name": "stdout",
     "output_type": "stream",
     "text": [
      "population_pool: [' safe; otherwise answer NoIf', ' carcinogenic, and answer No otherwise', ' toxic; alternatively, answer No', ' aromatic, and otherwise answer No', ' polar and answer No otherwise for', ' an ester; answer No otherwise', ' teratogenic; otherwise answer No', ' biologically active, otherwise answer Not', ' classified as genotoxic and answer no', ' genotoxic and Answers no otherwise', \" active; answer ''No\", ' cytotoxic and answer “No”']\n"
     ]
    },
    {
     "name": "stderr",
     "output_type": "stream",
     "text": [
      "Loss = 2.158:  24%|██▍       | 38/157 [07:24<37:11, 18.75s/it]"
     ]
    },
    {
     "name": "stdout",
     "output_type": "stream",
     "text": [
      "population_pool: [' safe; otherwise answer NoIf', ' carcinogenic, and answer No otherwise', ' toxic; alternatively, answer No', ' aromatic, and otherwise answer No', ' polar and answer No otherwise for', ' an ester; answer No otherwise', ' teratogenic; otherwise answer No', ' biologically active, otherwise answer Not', ' classified as genotoxic and answer no', ' genotoxic and Answers no otherwise', \" active; answer ''No\", ' cytotoxic and answer “No”']\n"
     ]
    }
   ],
   "source": [
    "# explain the relationship between the inputs and outputs\n",
    "# with a natural-language prompt string\n",
    "prompts, metadata = explain_dataset_iprompt(\n",
    "    input_strings=input_strings,\n",
    "    output_strings=output_strings,\n",
    "    # checkpoint='EleutherAI/gpt-j-6B', # which language model to use\n",
    "    checkpoint=\"facebook/galactica-6.7b\", # which language model to use\n",
    "    preprefix='Answer Yes if the compound is',\n",
    "    num_learned_tokens=6, # how long of a prompt to learn\n",
    "    n_shots=5, # shots per example\n",
    "    n_epochs=15, # how many epochs to search\n",
    "    verbose=0, # how much to print\n",
    "    llm_float16=True, # whether to load the model in float_16\n",
    "    seed=42,\n",
    "    llm_candidate_regeneration_prompt_start='Data:',\n",
    "    # llm_candidate_regeneration_prompt_end='What function of the compound is being asked about?', # default is \"Prompt:\"\n",
    "    # lm=lm,\n",
    ")"
   ]
  },
  {
   "cell_type": "markdown",
   "id": "70aae860",
   "metadata": {},
   "source": [
    "# Uniprot"
   ]
  },
  {
   "cell_type": "code",
   "execution_count": 3,
   "id": "0bb3b0a3",
   "metadata": {},
   "outputs": [
    {
     "data": {
      "text/plain": [
       "('Here is a protein sequence:\\nMRKLKYNTTRVILMIAFISLSACSSEDAMIEEEQVIPDPDPVAQTDEDTGPVVDCTNQGTNPTRDTDIPNPRNIGDIDDRSCYANYSESSILGKFWGIYNITDGSNHMDAPNTLQPRIERSLSRSQATGAGSYARFRGVLRILEVGDTGTFSSSGSYFMQAKGKHTGGGGSPDPAICLYRAHPVYGDDGNGNQVQVSFDIWREQINFRGGSGSAGRTEVFLKNVLKNEQIDIELEVGFRDDPNNPGQTLHYADAKIGGEEFNWNIPEPERGIESGIRYGAYRVKGGRAQFRWANTSYTKDEVN\\nAnswer:',\n",
       " ' Yes\\n\\n')"
      ]
     },
     "execution_count": 3,
     "metadata": {},
     "output_type": "execute_result"
    }
   ],
   "source": [
    "task = TASKS_GALACTICA['uniprot_cytoplasm_membrane']\n",
    "df = task['gen_func']()\n",
    "input_strings = df['input'].values\n",
    "output_strings = df['output'].values\n",
    "input_strings[0], output_strings[0]"
   ]
  },
  {
   "cell_type": "code",
   "execution_count": 5,
   "id": "cf7818cb",
   "metadata": {},
   "outputs": [
    {
     "name": "stderr",
     "output_type": "stream",
     "text": [
      "Using eos_token, but it is not set yet.\n"
     ]
    },
    {
     "name": "stdout",
     "output_type": "stream",
     "text": [
      "trying to convert facebook/galactica-6.7b to float16...\n",
      "loading model...\n",
      "Training with 2 possible answers / random acc 50.0% / majority acc 50.2%\n",
      "Beginning epoch 0\n"
     ]
    },
    {
     "name": "stderr",
     "output_type": "stream",
     "text": [
      "  0%|          | 0/157 [00:00<?, ?it/s]"
     ]
    },
    {
     "name": "stdout",
     "output_type": "stream",
     "text": [
      "population_pool: [' \"response to hypoxia in', ' term (as per w', ' structure/function that has been', ' human placenta. Can you say', ' transcription machinery, and no otherwise', ' regulation(of) muscle contraction', ' nervous system; No otherwise.', ' ribosome large subunit; answer no', ' term (as per w', ' transcription machinery, and no otherwise', ' transcription machinery, and no otherwise', ' structure/function that has been']\n"
     ]
    },
    {
     "name": "stderr",
     "output_type": "stream",
     "text": [
      "Loss = 13.180:   1%|          | 1/157 [00:45<1:57:02, 45.02s/it]"
     ]
    },
    {
     "name": "stdout",
     "output_type": "stream",
     "text": [
      "population_pool: [' human placenta. Can you say', ' regulation(of) muscle development', ' [Siglec1', ' structure/function that has been', ' transcription machinery, and no for', ' gene from which it was sequenced', ' gene from which it was sequenced', ' term (as per Uni', ' mitochondria. What answer would you', ' key word \"heme binding', ' nervous system; No otherwise.', ' ribosome large subunit; answer no']\n"
     ]
    },
    {
     "name": "stderr",
     "output_type": "stream",
     "text": [
      "Loss = 14.070:   1%|▏         | 2/157 [01:30<1:56:17, 45.01s/it]"
     ]
    },
    {
     "name": "stdout",
     "output_type": "stream",
     "text": [
      "population_pool: [' human placenta. Can you say', ' term (as per Uni', ' structure/function that has been', ' mitochondria. What answer would you', ' key word \"heme binding', ' regulation(of) muscle development', ' [Siglec1', ' transcription machinery, and no for', ' cell cycle process, and No', ' gene from which it was sequenced', ' ribosome large subunit; answer no', ' answer question What role does it']\n"
     ]
    },
    {
     "name": "stderr",
     "output_type": "stream",
     "text": [
      "Loss = 12.727:   2%|▏         | 3/157 [02:15<1:56:16, 45.30s/it]"
     ]
    },
    {
     "name": "stdout",
     "output_type": "stream",
     "text": [
      "population_pool: [' cell cycle, or No for', ' extracellular matrix and No If it', ' blood coagulation system, and No', ' transcription machinery, and No otherwise', ' following keywords. [https', ' human placenta. Can you say', ' term (as per Uni', ' structure/function that has been', ' mitochondria. What answer would you', ' regulation(of) muscle development', ' [Siglec1', ' key word \"heme binding']\n"
     ]
    },
    {
     "name": "stderr",
     "output_type": "stream",
     "text": [
      "Loss = 12.219:   3%|▎         | 4/157 [03:01<1:56:04, 45.52s/it]"
     ]
    },
    {
     "name": "stdout",
     "output_type": "stream",
     "text": [
      "population_pool: [' process or No otherwise. This', ' following question, and No otherwise', ' mitochondrial membrane, or No otherwise', ' extracellular matrix and No If it', ' presence or absence (presence', ' immune system and No otherwise.', ' cell cycle, or No for', ' signal transduction pathway, No otherwise', ' nucleus; No otherwise. The', ' blood coagulation system, and No', ' keywords \"signaling and transmission', ' DNA repair mechanism, No otherwise']\n"
     ]
    },
    {
     "name": "stderr",
     "output_type": "stream",
     "text": [
      "Loss = 13.383:   3%|▎         | 5/157 [03:47<1:55:42, 45.68s/it]"
     ]
    },
    {
     "name": "stdout",
     "output_type": "stream",
     "text": [
      "population_pool: [' process or No otherwise. This', ' presence or absence (presence', ' cell cycle, or No for', ' extracellular matrix and No If it', ' following question, and No otherwise', ' DNA repair mechanism, No otherwise', ' transcription machinery, and No otherwise', ' mitochondrion. Use [', ' -COOH terminal phosphorylation and', ' cellular membrane, If it contains', ' human host. False otherwise ', ' mitochondrial membrane, or No otherwise']\n"
     ]
    },
    {
     "name": "stderr",
     "output_type": "stream",
     "text": [
      "Loss = 12.266:   4%|▍         | 6/157 [04:33<1:54:59, 45.69s/it]"
     ]
    },
    {
     "name": "stdout",
     "output_type": "stream",
     "text": [
      "population_pool: [' cellular membrane, otherwise answer No', ' process or No otherwise. This', ' cell cycle, yes otherwise no', ' presence or absence (presence', ' mitochondrion or No otherwise.', ' extracellular matrix and No If it', ' following question, and No otherwise', ' mitochondrial membrane, or No otherwise', ' transcription machinery, and No otherwise', ' DNA repair mechanism, No otherwise', ' -COOH terminal phosphorylation and', ' human host. False otherwise ']\n"
     ]
    },
    {
     "name": "stderr",
     "output_type": "stream",
     "text": [
      "Loss = 11.219:   4%|▍         | 7/157 [05:18<1:54:03, 45.62s/it]"
     ]
    },
    {
     "name": "stdout",
     "output_type": "stream",
     "text": [
      "population_pool: [' process or No, otherwise.', ' human host, and No for', ' growth process and No in case', ' cellular membrane, otherwise answer No', ' mitochondrial membrane; No for any', ' DNA repair gene, yes answer', ' mitochondrion compartment. No otherwise', ' transcription machinery. It belongs to', ' cell cycle, yes otherwise no', ' -10 box,', ' presence or absence (presence', ' amino acid phenylalanine. If it']\n"
     ]
    },
    {
     "name": "stderr",
     "output_type": "stream",
     "text": [
      "Loss = 12.656:   5%|▌         | 8/157 [06:04<1:53:03, 45.53s/it]"
     ]
    },
    {
     "name": "stdout",
     "output_type": "stream",
     "text": [
      "population_pool: [' process or No, otherwise.', ' transcription machinery. It belongs to', ' human host, and No for', ' cellular membrane, otherwise answer No', ' growth process and No in case', ' -10 box,', ' DNA repair gene, yes answer', ' ribosome, and answer No otherwise', ' presence or absence (presence', ' cell cycle, yes otherwise no', ' extracellular matrix and No If it', ' following question, and No otherwise']\n"
     ]
    },
    {
     "name": "stderr",
     "output_type": "stream",
     "text": [
      "Loss = 9.633:   6%|▌         | 9/157 [06:49<1:52:18, 45.53s/it] "
     ]
    },
    {
     "name": "stdout",
     "output_type": "stream",
     "text": [
      "population_pool: [' human host, or answers No', ' extracellular matrix and No, otherwise', ' ribosome, and No otherwise.', ' cellular membrane, otherwise No.', \" question 'pore forming\", ' DNA repair gene; or No', ' presence or absence, i.', ' activity, meaning that 5', ' following question, No otherwise ', ' process or No, otherwise.', ' transcription machinery. No otherwise ', ' given keywords. Note that we']\n"
     ]
    },
    {
     "name": "stderr",
     "output_type": "stream",
     "text": [
      "Loss = 12.859:   6%|▋         | 10/157 [07:35<1:51:51, 45.66s/it]"
     ]
    },
    {
     "name": "stdout",
     "output_type": "stream",
     "text": [
      "population_pool: [' extracellular matrix and No, otherwise', ' ribosome, and No otherwise.', ' activity, meaning that 5', ' human host, or answers No', \" question 'pore forming\", ' cellular membrane, otherwise No.', ' given keywords. Note that we', ' DNA repair gene; or No', ' process or No, otherwise.', ' presence or absence, i.', ' following question, No otherwise ', ' growth process and No in case']\n"
     ]
    },
    {
     "name": "stderr",
     "output_type": "stream",
     "text": [
      "Loss = 14.492:   7%|▋         | 11/157 [08:21<1:51:15, 45.72s/it]"
     ]
    },
    {
     "name": "stdout",
     "output_type": "stream",
     "text": [
      "population_pool: [' extracellular matrix and No, otherwise', ' human host, or answers No', ' ribosome, and No otherwise.', ' process or No, otherwise.', ' presence or absence, i.', ' transcription machinery. No otherwise ', ' -10 box,', \" question 'pore forming\", ' cellular membrane, otherwise No.', ' cell cycle, yes otherwise no', ' DNA repair gene; or No', ' activity, meaning that 5']\n"
     ]
    },
    {
     "name": "stderr",
     "output_type": "stream",
     "text": [
      "Loss = 12.711:   8%|▊         | 12/157 [09:07<1:50:27, 45.71s/it]"
     ]
    },
    {
     "name": "stdout",
     "output_type": "stream",
     "text": [
      "population_pool: [' extracellular matrix and No, otherwise', ' human host, or answers No', ' ribosome, and No otherwise.', ' process or No, otherwise.', ' presence or absence, i.', \" question 'pore forming\", ' regulation, or answer No otherwise', ' cellular membrane, otherwise No.', ' cell cycle, yes otherwise no', ' transcription machinery. No otherwise ', ' DNA repair gene; or No', ' mitochondrial membrane; No for any']\n"
     ]
    },
    {
     "name": "stderr",
     "output_type": "stream",
     "text": [
      "Loss = 12.352:   8%|▊         | 13/157 [09:52<1:49:39, 45.69s/it]"
     ]
    },
    {
     "name": "stdout",
     "output_type": "stream",
     "text": [
      "population_pool: [' extracellular matrix and No, otherwise', ' process or No, otherwise.', ' human host, or answers No', ' ribosome, and No otherwise.', ' regulation, or No for everything', \" question 'pore forming\", ' presence or absence, i.', ' cellular membrane, otherwise No.', ' cell cycle, yes otherwise no', ' DNA repair gene; or No', ' mitochondrial membrane; No for any', ' growth process and No in case']\n"
     ]
    },
    {
     "name": "stderr",
     "output_type": "stream",
     "text": [
      "Loss = 12.375:   9%|▉         | 14/157 [10:38<1:48:49, 45.66s/it]"
     ]
    },
    {
     "name": "stdout",
     "output_type": "stream",
     "text": [
      "population_pool: [' extracellular matrix and No, otherwise', ' process or No, otherwise.', ' human host, or answers No', ' response or No otherwise. The', ' ribosome, and No otherwise.', ' regulation, or No for everything', \" question 'pore forming\", ' cellular membrane, otherwise No.', ' cell cycle, yes otherwise no', ' presence or absence, i.', ' growth process and No in case', ' DNA repair gene; or No']\n"
     ]
    },
    {
     "name": "stderr",
     "output_type": "stream",
     "text": [
      "Loss = 12.812:  10%|▉         | 15/157 [11:23<1:48:02, 45.65s/it]"
     ]
    },
    {
     "name": "stdout",
     "output_type": "stream",
     "text": [
      "population_pool: [' process or No, otherwise.', ' extracellular matrix and No, otherwise', ' human host, or answers No', ' ribosome, and No otherwise.', ' regulation, or No for everything', ' response or No otherwise. The', ' cell cycle, yes otherwise no', \" question 'pore forming\", ' cellular membrane, otherwise No.', ' presence or absence, i.', ' growth process and No in case', ' mitochondrial membrane; No for any']\n"
     ]
    },
    {
     "name": "stderr",
     "output_type": "stream",
     "text": [
      "Loss = 12.117:  10%|█         | 16/157 [12:09<1:47:14, 45.64s/it]"
     ]
    },
    {
     "name": "stdout",
     "output_type": "stream",
     "text": [
      "population_pool: [' process or No, otherwise.', ' extracellular matrix and No, otherwise', ' human host, or answers No', ' ribosome, and No otherwise.', ' regulation, or No for everything', ' cell cycle, yes otherwise no', ' response or No otherwise. The', \" question 'pore forming\", ' cellular membrane, otherwise No.', ' presence or absence, i.', ' enzyme, and No otherwise.', ' growth process and No in case']\n"
     ]
    },
    {
     "name": "stderr",
     "output_type": "stream",
     "text": [
      "Loss = 11.312:  11%|█         | 17/157 [12:54<1:46:20, 45.58s/it]"
     ]
    },
    {
     "name": "stdout",
     "output_type": "stream",
     "text": [
      "population_pool: [' cell cycle, yes otherwise No', ' regulation, or No for that', ' process or No, otherwise.', ' extracellular matrix and No, otherwise', ' human host, or answers No', ' ribosome, and No otherwise.', ' cancer.   [Link to', ' brain or mind, false otherwise', ' cellular membrane, otherwise No.', ' ability to bind DNA (', ' presence or absence, i.', ' response or No otherwise. The']\n"
     ]
    },
    {
     "name": "stderr",
     "output_type": "stream",
     "text": [
      "Loss = 12.320:  11%|█▏        | 18/157 [13:40<1:45:32, 45.56s/it]"
     ]
    },
    {
     "name": "stdout",
     "output_type": "stream",
     "text": [
      "population_pool: [' regulation, or No for that', ' process or No, otherwise.', ' cell cycle, yes otherwise No', ' extracellular matrix and No, otherwise', ' human host, or answers No', ' ribosome, and No otherwise.', ' response or No otherwise. For', ' brain or mind, false otherwise', ' cellular membrane, otherwise No.', ' cancer.   [Link to', ' presence or absence, i.', ' ability to bind DNA (']\n"
     ]
    },
    {
     "name": "stderr",
     "output_type": "stream",
     "text": [
      "Loss = 13.344:  12%|█▏        | 19/157 [14:25<1:44:45, 45.54s/it]"
     ]
    },
    {
     "name": "stdout",
     "output_type": "stream",
     "text": [
      "population_pool: [' process or No, otherwise.', ' cell cycle, yes otherwise No', ' extracellular matrix and No, otherwise', ' ribosome, and No otherwise.', ' brain or mind, false otherwise', ' cellular membrane, otherwise No.', ' human host, or answers No', ' regulation, or No for that', \" question 'pore forming\", ' presence or absence, i.', ' growth process and No in case', ' cancer.   [Link to']\n"
     ]
    },
    {
     "name": "stderr",
     "output_type": "stream",
     "text": [
      "Loss = 11.727:  13%|█▎        | 20/157 [15:11<1:43:56, 45.52s/it]"
     ]
    },
    {
     "name": "stdout",
     "output_type": "stream",
     "text": [
      "population_pool: [' process or No, otherwise.', ' cell cycle, yes otherwise No', ' extracellular matrix and No, otherwise', ' ribosome, and No otherwise.', ' regulation, or No for that', ' cellular membrane, otherwise No.', ' human host, or answers No', ' disease, otherwise no -', ' brain or mind, false otherwise', ' central nervous system; answer No', \" question 'pore forming\", ' growth process and No in case']\n"
     ]
    },
    {
     "name": "stderr",
     "output_type": "stream",
     "text": [
      "Loss = 12.703:  13%|█▎        | 21/157 [15:56<1:43:12, 45.54s/it]"
     ]
    },
    {
     "name": "stdout",
     "output_type": "stream",
     "text": [
      "population_pool: [' process or No, otherwise.', ' cell cycle, yes otherwise No', ' extracellular matrix and No, otherwise', ' ribosome, and No otherwise.', ' cellular membrane, otherwise No.', ' regulation, or No for that', ' human host, or answers No', ' growth process and No in case', \" question 'pore forming\", ' brain or mind, false otherwise', ' presence or absence, i.', ' kinase activity; otherwise answer No']\n"
     ]
    },
    {
     "name": "stderr",
     "output_type": "stream",
     "text": [
      "Loss = 11.977:  14%|█▍        | 22/157 [16:42<1:42:23, 45.51s/it]"
     ]
    },
    {
     "name": "stdout",
     "output_type": "stream",
     "text": [
      "population_pool: [' cell cycle, yes otherwise No', ' process or No, otherwise.', ' extracellular matrix and No, otherwise', ' ribosome, and No otherwise.', ' kinase activity; otherwise, No', ' cellular membrane, otherwise No.', ' regulation, or No for that', ' human host, or answers No', ' growth process and No in case', \" question 'pore forming\", ' presence or absence, i.', ' brain or mind, false otherwise']\n"
     ]
    },
    {
     "name": "stderr",
     "output_type": "stream",
     "text": [
      "Loss = 12.148:  15%|█▍        | 23/157 [17:28<1:41:41, 45.53s/it]"
     ]
    },
    {
     "name": "stdout",
     "output_type": "stream",
     "text": [
      "population_pool: [' cell cycle, yes otherwise No', ' process or No, otherwise.', ' transmembrane domain but answer No otherwise', ' extracellular matrix and No, otherwise', ' kinase activity; otherwise, No', ' central nervous system or otherwise No', ' ribosome, and No otherwise.', ' regulation, or No for that', ' cellular membrane, otherwise No.', ' human host, or answers No', ' growth process and No in case', ' development and growth or No otherwise']\n"
     ]
    },
    {
     "name": "stderr",
     "output_type": "stream",
     "text": [
      "Loss = 11.656:  15%|█▌        | 24/157 [18:13<1:40:52, 45.50s/it]"
     ]
    },
    {
     "name": "stdout",
     "output_type": "stream",
     "text": [
      "population_pool: [' cell cycle, yes otherwise No', ' process or No, otherwise.', ' transmembrane domain but answer No otherwise', ' kinase activity; otherwise, No', ' extracellular matrix and No, otherwise', ' central nervous system or otherwise No', ' regulation, or No for that', ' ribosome, and No otherwise.', ' cellular membrane, otherwise No.', ' human host, or answers No', ' growth process and No in case', ' development and growth or No otherwise']\n"
     ]
    },
    {
     "name": "stderr",
     "output_type": "stream",
     "text": [
      "Loss = 10.578:  16%|█▌        | 25/157 [18:58<1:40:06, 45.50s/it]"
     ]
    },
    {
     "name": "stdout",
     "output_type": "stream",
     "text": [
      "population_pool: [' brain, yes or no otherwise', ' word DNA or No otherwise ', ' immune response. Or No otherwise', ' term “kinase” and No', ' cytoskeleton, and No otherwise.', ' transmembrane domain but answer No otherwise', ' process or No, otherwise.', ' mitochondrial inner membrane, and No', ' development in humans or not.', ' function \"transport cell membrane', ' cell cycle, yes otherwise No', ' [Ras signaling pathway]']\n"
     ]
    },
    {
     "name": "stderr",
     "output_type": "stream",
     "text": [
      "Loss = 12.625:  17%|█▋        | 26/157 [19:44<1:39:22, 45.52s/it]"
     ]
    },
    {
     "name": "stdout",
     "output_type": "stream",
     "text": [
      "population_pool: [' immune response. Or No otherwise', ' process or No, otherwise.', ' brain, yes or no otherwise', ' cell cycle, yes otherwise No', ' word DNA or No otherwise ', ' transmembrane domain but answer No otherwise', ' [Ras signaling pathway]', ' blood circulatory system, and No', ' central nervous system or otherwise No', ' membrane in mitochondria or no otherwise', \" key word 'antiv\", ' mitochondria and otherwise, no If']\n"
     ]
    },
    {
     "name": "stderr",
     "output_type": "stream",
     "text": [
      "Loss = 12.562:  17%|█▋        | 27/157 [20:30<1:38:39, 45.53s/it]"
     ]
    },
    {
     "name": "stdout",
     "output_type": "stream",
     "text": [
      "population_pool: [' process or No, otherwise.', ' brain, yes or no otherwise', ' word DNA or No otherwise ', ' cell cycle, yes otherwise No', ' transmembrane domain but answer No otherwise', ' immune response. Or No otherwise', ' mitochondria and otherwise, no If', ' term “kinase” and No', ' formation and/or maintenance o', ' regulation, or No for that', ' extracellular matrix and No, otherwise', ' central nervous system or otherwise No']\n"
     ]
    },
    {
     "name": "stderr",
     "output_type": "stream",
     "text": [
      "Loss = 11.609:  18%|█▊        | 28/157 [21:15<1:37:51, 45.51s/it]"
     ]
    },
    {
     "name": "stdout",
     "output_type": "stream",
     "text": [
      "population_pool: [' process or No, otherwise.', ' kinase activity and No otherwise Why', ' word DNA or No otherwise ', ' brain, yes or no otherwise', ' transmembrane domain but answer No otherwise', ' cell cycle, yes otherwise No', ' immune response. Or No otherwise', ' mitochondria and otherwise, no If', ' term “kinase” and No', ' extracellular matrix and No, otherwise', ' regulation, or No for that', ' central nervous system or otherwise No']\n"
     ]
    },
    {
     "name": "stderr",
     "output_type": "stream",
     "text": [
      "Loss = 11.219:  18%|█▊        | 29/157 [22:01<1:37:08, 45.54s/it]"
     ]
    },
    {
     "name": "stdout",
     "output_type": "stream",
     "text": [
      "population_pool: [' membrane and answer No otherwise in', ' key feature, or No otherwise', ' kinase activity and No otherwise Why', ' process or No, otherwise.', ' word DNA or No otherwise ', ' cell cycle, yes otherwise No', ' transmembrane domain but answer No otherwise', ' brain, yes or no otherwise', ' mitochondria, and No otherwise.', ' immune response. Or No otherwise', ' regulation, or No for that', ' extracellular matrix and No, otherwise']\n"
     ]
    },
    {
     "name": "stderr",
     "output_type": "stream",
     "text": [
      "Loss = 10.594:  19%|█▉        | 30/157 [22:46<1:36:22, 45.53s/it]"
     ]
    },
    {
     "name": "stdout",
     "output_type": "stream",
     "text": [
      "population_pool: [' term; answer No, otherwise', ' membrane, otherwise answer No.', ' process or No otherwise. Go', ' kinase activity and answer “No', ' key feature, or No otherwise', ' transmembrane domain but answer no then', ' cell cycle, yes otherwise No', ' brain, yes or no otherwise', ' word DNA or No otherwise ', ' regulation, or No for that', ' mitochondria, and No otherwise.', ' immune response. Or No otherwise']\n"
     ]
    },
    {
     "name": "stderr",
     "output_type": "stream",
     "text": [
      "Loss = 13.141:  20%|█▉        | 31/157 [23:32<1:35:38, 45.54s/it]"
     ]
    },
    {
     "name": "stdout",
     "output_type": "stream",
     "text": [
      "population_pool: [' term; answer No, otherwise', ' process or No otherwise. Go', ' cell cycle, yes otherwise No', ' word DNA or No otherwise ', ' key feature, or No otherwise', ' membrane, otherwise answer No.', ' brain, yes or no otherwise', ' extracellular matrix and No, otherwise', ' regulation, or No for that', ' kinase activity and answer “No', ' central nervous system or otherwise No', ' virus in question. No otherwise']\n"
     ]
    },
    {
     "name": "stderr",
     "output_type": "stream",
     "text": [
      "Loss = 12.773:  20%|██        | 32/157 [24:17<1:34:55, 45.56s/it]"
     ]
    },
    {
     "name": "stdout",
     "output_type": "stream",
     "text": [
      "population_pool: [' cell cycle, yes otherwise No', ' word DNA or No otherwise ', ' process or No otherwise. Go', ' term; answer No, otherwise', ' regulation, or No for that', ' key feature, or No otherwise', ' extracellular matrix and No, otherwise', ' brain, yes or no otherwise', ' central nervous system or otherwise No', ' disease.  (c)', ' keywords [cathepsin', ' cytoskeleton, and No otherwise.']\n"
     ]
    },
    {
     "name": "stderr",
     "output_type": "stream",
     "text": [
      "Loss = 13.734:  21%|██        | 33/157 [25:03<1:34:08, 45.55s/it]"
     ]
    },
    {
     "name": "stdout",
     "output_type": "stream",
     "text": [
      "population_pool: [' process or No otherwise. Go', ' cell cycle, yes otherwise No', ' term; answer No, otherwise', ' extracellular matrix and No, otherwise', ' central nervous system or otherwise No', ' regulation, or No for that', ' ribosome, and No otherwise.', ' Mmp13 enzyme,', ' human host, or answers No', ' cellular membrane, otherwise No.', ' gene that codes for Insulin.', ' KEGG \"Rim1']\n"
     ]
    },
    {
     "name": "stderr",
     "output_type": "stream",
     "text": [
      "Loss = 14.000:  22%|██▏       | 34/157 [25:49<1:33:28, 45.59s/it]"
     ]
    },
    {
     "name": "stdout",
     "output_type": "stream",
     "text": [
      "population_pool: [' process or No otherwise. Go', ' cell cycle, yes otherwise No', ' extracellular matrix and No, otherwise', ' ribosome, and No otherwise.', ' regulation, or No for that', ' gene that codes for Insulin.', ' KEGG \"Rim1', ' membrane, otherwise answer No.', ' kinase activity and answer “No', ' immune response. Or No otherwise', ' cellular membrane, otherwise No.', ' human host, or answers No']\n"
     ]
    },
    {
     "name": "stderr",
     "output_type": "stream",
     "text": [
      "Loss = 11.375:  22%|██▏       | 35/157 [26:34<1:32:42, 45.60s/it]"
     ]
    },
    {
     "name": "stdout",
     "output_type": "stream",
     "text": [
      "population_pool: [' membrane, otherwise answer No.', ' process or No otherwise. Go', ' cell cycle, yes otherwise No', ' kinase activity and answer “No', ' immune response. Or No otherwise', ' extracellular matrix and No, otherwise', ' human host, or answers No', ' regulation, or No for that', ' ribosome, and No otherwise.', ' cellular membrane, otherwise No.', ' mitochondrial inner membrane, and No', ' central nervous system or otherwise No']\n"
     ]
    },
    {
     "name": "stderr",
     "output_type": "stream",
     "text": [
      "Loss = 12.992:  23%|██▎       | 36/157 [27:20<1:32:02, 45.64s/it]"
     ]
    },
    {
     "name": "stdout",
     "output_type": "stream",
     "text": [
      "population_pool: [' membrane, otherwise answer No.', ' process or No otherwise. Go', ' immune response. Or No otherwise', ' cell cycle, yes otherwise No', ' extracellular matrix and No, otherwise', ' kinase activity and answer “No', ' human host, or answers No', ' regulation, or No for that', ' ribosome, and No otherwise.', ' cellular membrane, otherwise No.', ' formation and/or maintenance o', ' word DNA or No otherwise ']\n"
     ]
    },
    {
     "name": "stderr",
     "output_type": "stream",
     "text": [
      "Loss = 11.281:  24%|██▎       | 37/157 [28:06<1:31:20, 45.67s/it]"
     ]
    },
    {
     "name": "stdout",
     "output_type": "stream",
     "text": [
      "population_pool: [' disease. And answer No otherwise', ' process or No otherwise. Go', ' membrane, otherwise answer No.', ' immune response. Or No otherwise', ' cell cycle, yes otherwise No', ' kinase activity and answer “No', ' extracellular matrix and No, otherwise', ' gene Y. No answer otherwise', ' human host, or answers No', ' regulation, or No for that', ' word DNA or No otherwise ', ' ribosome, and No otherwise.']\n"
     ]
    },
    {
     "name": "stderr",
     "output_type": "stream",
     "text": [
      "Loss = 11.883:  24%|██▍       | 38/157 [28:51<1:30:35, 45.68s/it]"
     ]
    },
    {
     "name": "stdout",
     "output_type": "stream",
     "text": [
      "population_pool: [' process or No otherwise. Go', ' membrane, otherwise answer No.', ' disease. And answer No otherwise', ' immune response. Or No otherwise', ' kinase activity and answer “No', ' cell cycle, yes otherwise No', ' extracellular matrix and No, otherwise', ' human host, or answers No', ' regulation, or No for that', ' word DNA or No otherwise ', ' ribosome, and No otherwise.', ' cellular membrane, otherwise No.']\n"
     ]
    },
    {
     "name": "stderr",
     "output_type": "stream",
     "text": [
      "Loss = 12.023:  25%|██▍       | 39/157 [29:37<1:29:43, 45.62s/it]"
     ]
    },
    {
     "name": "stdout",
     "output_type": "stream",
     "text": [
      "population_pool: [' process or No otherwise. Go', ' membrane, otherwise answer No.', ' disease. And answer No otherwise', ' immune response. Or No otherwise', ' kinase activity and answer “No', ' cell cycle, yes otherwise No', ' extracellular matrix and No, otherwise', ' human host, or answers No', ' regulation, or No for that', ' word DNA or No otherwise ', ' ribosome, and No otherwise.', ' cellular membrane, otherwise No.']\n"
     ]
    },
    {
     "name": "stderr",
     "output_type": "stream",
     "text": [
      "Loss = 12.539:  25%|██▌       | 40/157 [30:22<1:28:53, 45.58s/it]"
     ]
    },
    {
     "name": "stdout",
     "output_type": "stream",
     "text": [
      "population_pool: [' membrane, otherwise answer No.', ' process or No otherwise. Go', ' cell cycle, yes otherwise No', ' immune response. Or No otherwise', ' extracellular matrix and No, otherwise', ' kinase activity and answer “No', ' human host, or answers No', ' disease. And answer No otherwise', ' regulation, or No for that', ' word DNA or No otherwise ', ' ribosome, and No otherwise.', ' formation and/or maintenance o']\n"
     ]
    },
    {
     "name": "stderr",
     "output_type": "stream",
     "text": [
      "Loss = 13.570:  26%|██▌       | 41/157 [31:08<1:28:06, 45.57s/it]"
     ]
    },
    {
     "name": "stdout",
     "output_type": "stream",
     "text": [
      "population_pool: [' membrane, otherwise answer No.', ' cell cycle, yes otherwise No', ' extracellular matrix and No, otherwise', ' kinase activity and answer “No', ' immune response. Or No otherwise', ' regulation, or No for that', ' human host, or answers No', ' word DNA or No otherwise ', ' process or No otherwise. Go', ' formation and/or maintenance o', ' cellular membrane, otherwise No.', ' ribosome, and No otherwise.']\n"
     ]
    },
    {
     "name": "stderr",
     "output_type": "stream",
     "text": [
      "Loss = 13.070:  27%|██▋       | 42/157 [31:53<1:27:21, 45.58s/it]"
     ]
    },
    {
     "name": "stdout",
     "output_type": "stream",
     "text": [
      "population_pool: [' cell cycle, yes otherwise No', ' membrane, otherwise answer No.', ' extracellular matrix and No, otherwise', ' immune response. Or No otherwise', ' kinase activity and answer “No', ' human host, or answers No', ' regulation, or No for that', ' word DNA or No otherwise ', ' formation and/or maintenance o', ' cellular membrane, otherwise No.', ' process or No otherwise. Go', ' term; answer No, otherwise']\n"
     ]
    },
    {
     "name": "stderr",
     "output_type": "stream",
     "text": [
      "Loss = 11.258:  27%|██▋       | 43/157 [32:39<1:26:28, 45.51s/it]"
     ]
    },
    {
     "name": "stdout",
     "output_type": "stream",
     "text": [
      "population_pool: [' membrane, otherwise answer No.', ' cell cycle, yes otherwise No', ' immune response. Or No otherwise', ' human host, or answers No', ' extracellular matrix and No, otherwise', ' regulation, or No for that', ' kinase activity and answer “No', ' cellular membrane, otherwise No.', ' process or No otherwise. Go', ' word DNA or No otherwise ', ' term; answer No, otherwise', ' transmembrane domain but answer no then']\n"
     ]
    },
    {
     "name": "stderr",
     "output_type": "stream",
     "text": [
      "Loss = 11.500:  28%|██▊       | 44/157 [33:24<1:25:40, 45.49s/it]"
     ]
    },
    {
     "name": "stdout",
     "output_type": "stream",
     "text": [
      "population_pool: [' membrane, otherwise answer No.', ' term; answer No, otherwise', ' cell cycle, yes otherwise No', ' immune response. Or No otherwise', ' extracellular matrix and No, otherwise', ' human host, or answers No', ' regulation, or No for that', ' process or No otherwise. Go', ' word DNA or No otherwise ', ' kinase activity and answer “No', ' cellular membrane, otherwise No.', ' transmembrane domain but answer no then']\n"
     ]
    },
    {
     "name": "stderr",
     "output_type": "stream",
     "text": [
      "Loss = 12.234:  29%|██▊       | 45/157 [34:10<1:24:57, 45.52s/it]"
     ]
    },
    {
     "name": "stdout",
     "output_type": "stream",
     "text": [
      "population_pool: [' membrane, otherwise answer No.', ' term; answer No, otherwise', ' cell cycle, yes otherwise No', ' immune response. Or No otherwise', ' extracellular matrix and No, otherwise', ' human host, or answers No', ' regulation, or No for that', ' process or No otherwise. Go', ' word DNA or No otherwise ', ' kinase activity and answer “No', ' structure, and answer No otherwise', ' cellular membrane, otherwise No.']\n"
     ]
    },
    {
     "name": "stderr",
     "output_type": "stream",
     "text": [
      "Loss = 11.953:  29%|██▉       | 46/157 [34:55<1:24:07, 45.48s/it]"
     ]
    },
    {
     "name": "stdout",
     "output_type": "stream",
     "text": [
      "population_pool: [' term; answer No, otherwise', ' membrane, otherwise answer No.', ' cell cycle, yes otherwise No', ' immune response. Or No otherwise', ' extracellular matrix and No, otherwise', ' human host, or answers No', ' structure, and answer No otherwise', ' regulation, or No for that', ' process or No otherwise. Go', ' word DNA or No otherwise ', ' kinase activity and answer “No', ' cellular membrane, otherwise No.']\n"
     ]
    },
    {
     "name": "stderr",
     "output_type": "stream",
     "text": [
      "Loss = 12.273:  30%|██▉       | 47/157 [35:41<1:23:21, 45.47s/it]"
     ]
    },
    {
     "name": "stdout",
     "output_type": "stream",
     "text": [
      "population_pool: [' membrane, otherwise answer No.', ' term; answer No, otherwise', ' cell cycle, yes otherwise No', ' human host, or answers No', ' immune response. Or No otherwise', ' extracellular matrix and No, otherwise', ' process or No otherwise. Go', ' regulation, or No for that', ' structure, and answer No otherwise', ' word DNA or No otherwise ', ' cellular membrane, otherwise No.', ' kinase activity and answer “No']\n"
     ]
    },
    {
     "name": "stderr",
     "output_type": "stream",
     "text": [
      "Loss = 13.805:  31%|███       | 48/157 [36:26<1:22:35, 45.47s/it]"
     ]
    },
    {
     "name": "stdout",
     "output_type": "stream",
     "text": [
      "population_pool: [' term; answer No, otherwise', ' human host, or answers No', ' immune response. Or No otherwise', ' extracellular matrix and No, otherwise', ' membrane, otherwise answer No.', ' cell cycle, yes otherwise No', ' regulation, or No for that', ' word DNA or No otherwise ', ' kinase activity and answer “No', ' process or No otherwise. Go', ' formation and/or maintenance o', ' transmembrane domain but answer no then']\n"
     ]
    },
    {
     "name": "stderr",
     "output_type": "stream",
     "text": [
      "Loss = 12.461:  31%|███       | 49/157 [37:12<1:21:53, 45.49s/it]"
     ]
    },
    {
     "name": "stdout",
     "output_type": "stream",
     "text": [
      "population_pool: [' term; answer No, otherwise', ' human host, or answers No', ' extracellular matrix and No, otherwise', ' immune response. Or No otherwise', ' membrane, otherwise answer No.', ' cell cycle, yes otherwise No', ' regulation, or No for that', ' word DNA or No otherwise ', ' kinase activity and answer “No', ' process or No otherwise. Go', ' formation and/or maintenance o', ' transmembrane domain but answer no then']\n"
     ]
    },
    {
     "name": "stderr",
     "output_type": "stream",
     "text": [
      "Loss = 12.383:  32%|███▏      | 50/157 [37:57<1:21:08, 45.50s/it]"
     ]
    },
    {
     "name": "stdout",
     "output_type": "stream",
     "text": [
      "population_pool: [' term; answer No, otherwise', ' human host, or answers No', ' extracellular matrix and No, otherwise', ' immune response. Or No otherwise', ' membrane, otherwise answer No.', ' cell cycle, yes otherwise No', ' regulation, or No for that', ' word DNA or No otherwise ', ' kinase activity and answer “No', ' process or No otherwise. Go', ' formation and/or maintenance o', ' ribosome, and No otherwise.']\n"
     ]
    },
    {
     "name": "stderr",
     "output_type": "stream",
     "text": [
      "Loss = 12.383:  32%|███▏      | 50/157 [38:31<1:22:26, 46.23s/it]\n"
     ]
    },
    {
     "ename": "KeyboardInterrupt",
     "evalue": "",
     "output_type": "error",
     "traceback": [
      "\u001b[0;31m---------------------------------------------------------------------------\u001b[0m",
      "\u001b[0;31mKeyboardInterrupt\u001b[0m                         Traceback (most recent call last)",
      "Cell \u001b[0;32mIn [5], line 3\u001b[0m\n\u001b[1;32m      1\u001b[0m \u001b[39m# explain the relationship between the inputs and outputs\u001b[39;00m\n\u001b[1;32m      2\u001b[0m \u001b[39m# with a natural-language prompt string\u001b[39;00m\n\u001b[0;32m----> 3\u001b[0m prompts, metadata \u001b[39m=\u001b[39m explain_dataset_iprompt(\n\u001b[1;32m      4\u001b[0m     input_strings\u001b[39m=\u001b[39;49minput_strings,\n\u001b[1;32m      5\u001b[0m     output_strings\u001b[39m=\u001b[39;49moutput_strings,\n\u001b[1;32m      6\u001b[0m     \u001b[39m# checkpoint='EleutherAI/gpt-j-6B', # which language model to use\u001b[39;49;00m\n\u001b[1;32m      7\u001b[0m     checkpoint\u001b[39m=\u001b[39;49m\u001b[39m\"\u001b[39;49m\u001b[39mfacebook/galactica-6.7b\u001b[39;49m\u001b[39m\"\u001b[39;49m, \u001b[39m# which language model to use\u001b[39;49;00m\n\u001b[1;32m      8\u001b[0m     preprefix\u001b[39m=\u001b[39;49m\u001b[39m'\u001b[39;49m\u001b[39mAnswer Yes if the protein is associated with the\u001b[39;49m\u001b[39m'\u001b[39;49m,\n\u001b[1;32m      9\u001b[0m     num_learned_tokens\u001b[39m=\u001b[39;49m\u001b[39m6\u001b[39;49m, \u001b[39m# how long of a prompt to learn\u001b[39;49;00m\n\u001b[1;32m     10\u001b[0m     n_shots\u001b[39m=\u001b[39;49m\u001b[39m5\u001b[39;49m, \u001b[39m# shots per example\u001b[39;49;00m\n\u001b[1;32m     11\u001b[0m     n_epochs\u001b[39m=\u001b[39;49m\u001b[39m15\u001b[39;49m, \u001b[39m# how many epochs to search\u001b[39;49;00m\n\u001b[1;32m     12\u001b[0m     verbose\u001b[39m=\u001b[39;49m\u001b[39m0\u001b[39;49m, \u001b[39m# how much to print\u001b[39;49;00m\n\u001b[1;32m     13\u001b[0m     llm_float16\u001b[39m=\u001b[39;49m\u001b[39mTrue\u001b[39;49;00m, \u001b[39m# whether to load the model in float_16\u001b[39;49;00m\n\u001b[1;32m     14\u001b[0m     seed\u001b[39m=\u001b[39;49m\u001b[39m42\u001b[39;49m,\n\u001b[1;32m     15\u001b[0m     llm_candidate_regeneration_prompt_start\u001b[39m=\u001b[39;49m\u001b[39m'\u001b[39;49m\u001b[39mData:\u001b[39;49m\u001b[39m'\u001b[39;49m,\n\u001b[1;32m     16\u001b[0m     llm_candidate_regeneration_prompt_end\u001b[39m=\u001b[39;49m\u001b[39m'\u001b[39;49m\u001b[39mWhat keyword of the protein is being asked about?\u001b[39;49m\u001b[39m'\u001b[39;49m, \u001b[39m# default is \"Prompt:\"\u001b[39;49;00m\n\u001b[1;32m     17\u001b[0m     \u001b[39m# lm=lm,\u001b[39;49;00m\n\u001b[1;32m     18\u001b[0m )\n",
      "File \u001b[0;32m~/imodelsX/imodelsx/iprompt/api.py:472\u001b[0m, in \u001b[0;36mexplain_dataset_iprompt\u001b[0;34m(input_strings, output_strings, checkpoint, num_learned_tokens, save_dir, lr, pop_size, num_mutations, num_random_generations, generation_repetition_penalty, early_stopping_steps, llm_float16, gamma, batch_size, max_length, n_epochs, n_shots, preprefix, single_shot_loss, accum_grad_over_epoch, max_n_datapoints, max_n_steps, epoch_save_interval, mask_possible_answers, model_cls, lm, llm_candidate_regeneration_prompt_start, llm_candidate_regeneration_prompt_end, verbose, seed)\u001b[0m\n\u001b[1;32m    470\u001b[0m random\u001b[39m.\u001b[39mseed(seed)\n\u001b[1;32m    471\u001b[0m r \u001b[39m=\u001b[39m defaultdict(\u001b[39mlist\u001b[39m)\n\u001b[0;32m--> 472\u001b[0m r \u001b[39m=\u001b[39m train_model(\n\u001b[1;32m    473\u001b[0m     r\u001b[39m=\u001b[39;49mr,\n\u001b[1;32m    474\u001b[0m     input_strs\u001b[39m=\u001b[39;49minput_strings,\n\u001b[1;32m    475\u001b[0m     output_strs\u001b[39m=\u001b[39;49moutput_strings,\n\u001b[1;32m    476\u001b[0m     model\u001b[39m=\u001b[39;49mmodel,\n\u001b[1;32m    477\u001b[0m     tokenizer\u001b[39m=\u001b[39;49mtokenizer,\n\u001b[1;32m    478\u001b[0m     save_dir\u001b[39m=\u001b[39;49msave_dir,\n\u001b[1;32m    479\u001b[0m     lr\u001b[39m=\u001b[39;49mlr,\n\u001b[1;32m    480\u001b[0m     batch_size\u001b[39m=\u001b[39;49mbatch_size,\n\u001b[1;32m    481\u001b[0m     max_length\u001b[39m=\u001b[39;49mmax_length,\n\u001b[1;32m    482\u001b[0m     mask_possible_answers\u001b[39m=\u001b[39;49mmask_possible_answers,\n\u001b[1;32m    483\u001b[0m     n_epochs\u001b[39m=\u001b[39;49mn_epochs,\n\u001b[1;32m    484\u001b[0m     n_shots\u001b[39m=\u001b[39;49mn_shots,\n\u001b[1;32m    485\u001b[0m     single_shot_loss\u001b[39m=\u001b[39;49msingle_shot_loss,\n\u001b[1;32m    486\u001b[0m     accum_grad_over_epoch\u001b[39m=\u001b[39;49maccum_grad_over_epoch,\n\u001b[1;32m    487\u001b[0m     max_n_datapoints\u001b[39m=\u001b[39;49mmax_n_datapoints,\n\u001b[1;32m    488\u001b[0m     max_n_steps\u001b[39m=\u001b[39;49mmax_n_steps,\n\u001b[1;32m    489\u001b[0m     epoch_save_interval\u001b[39m=\u001b[39;49mepoch_save_interval,\n\u001b[1;32m    490\u001b[0m     verbose\u001b[39m=\u001b[39;49mverbose,\n\u001b[1;32m    491\u001b[0m )\n\u001b[1;32m    492\u001b[0m \u001b[39mreturn\u001b[39;00m r[\u001b[39m'\u001b[39m\u001b[39mprefixes\u001b[39m\u001b[39m'\u001b[39m], r\n",
      "File \u001b[0;32m~/imodelsX/imodelsx/iprompt/api.py:178\u001b[0m, in \u001b[0;36mtrain_model\u001b[0;34m(r, input_strs, output_strs, model, tokenizer, save_dir, lr, batch_size, max_length, n_epochs, n_shots, single_shot_loss, accum_grad_over_epoch, max_n_datapoints, max_n_steps, epoch_save_interval, mask_possible_answers, verbose)\u001b[0m\n\u001b[1;32m    175\u001b[0m y_tokenized \u001b[39m=\u001b[39m tok(y_text)\u001b[39m.\u001b[39mto(device)\n\u001b[1;32m    176\u001b[0m full_text_tokenized \u001b[39m=\u001b[39m tok(batch[\u001b[39m'\u001b[39m\u001b[39mtext\u001b[39m\u001b[39m'\u001b[39m])\u001b[39m.\u001b[39mto(device)\n\u001b[0;32m--> 178\u001b[0m loss, n_correct \u001b[39m=\u001b[39m model\u001b[39m.\u001b[39;49mcompute_loss_and_call_backward(\n\u001b[1;32m    179\u001b[0m     x_tokenized\u001b[39m=\u001b[39;49mx_tokenized,\n\u001b[1;32m    180\u001b[0m     y_tokenized\u001b[39m=\u001b[39;49my_tokenized,\n\u001b[1;32m    181\u001b[0m     possible_answer_mask\u001b[39m=\u001b[39;49mpossible_answer_mask,\n\u001b[1;32m    182\u001b[0m     full_text_tokenized\u001b[39m=\u001b[39;49mfull_text_tokenized,\n\u001b[1;32m    183\u001b[0m )\n\u001b[1;32m    185\u001b[0m r[\u001b[39m\"\u001b[39m\u001b[39mall_losses\u001b[39m\u001b[39m\"\u001b[39m]\u001b[39m.\u001b[39mappend(loss)\n\u001b[1;32m    186\u001b[0m r[\u001b[39m\"\u001b[39m\u001b[39mall_n_correct\u001b[39m\u001b[39m\"\u001b[39m]\u001b[39m.\u001b[39mappend(n_correct)\n",
      "File \u001b[0;32m~/imodelsX/imodelsx/iprompt/ipromptx.py:337\u001b[0m, in \u001b[0;36miPrompt.compute_loss_and_call_backward\u001b[0;34m(self, x_tokenized, y_tokenized, possible_answer_mask, full_text_tokenized)\u001b[0m\n\u001b[1;32m    333\u001b[0m full_population_input_ids \u001b[39m=\u001b[39m torch\u001b[39m.\u001b[39mcat(\n\u001b[1;32m    334\u001b[0m     (population_input_ids, mutated_population_input_ids), dim\u001b[39m=\u001b[39m\u001b[39m0\u001b[39m\n\u001b[1;32m    335\u001b[0m )\n\u001b[1;32m    336\u001b[0m \u001b[39m# Re-score new guys\u001b[39;00m\n\u001b[0;32m--> 337\u001b[0m all_candidate_losses, all_candidate_n_correct \u001b[39m=\u001b[39m \u001b[39mself\u001b[39;49m\u001b[39m.\u001b[39;49m_score_population(\n\u001b[1;32m    338\u001b[0m     x_tokenized\u001b[39m=\u001b[39;49mx_tokenized,\n\u001b[1;32m    339\u001b[0m     y_tokenized\u001b[39m=\u001b[39;49my_tokenized,\n\u001b[1;32m    340\u001b[0m     population_input_ids\u001b[39m=\u001b[39;49mfull_population_input_ids,\n\u001b[1;32m    341\u001b[0m     possible_answer_mask\u001b[39m=\u001b[39;49mpossible_answer_mask\n\u001b[1;32m    342\u001b[0m )\n\u001b[1;32m    344\u001b[0m \u001b[39m# Track changes in population to enable early stopping.\u001b[39;00m\n\u001b[1;32m    345\u001b[0m \u001b[39mself\u001b[39m\u001b[39m.\u001b[39m_track_early_stopping()\n",
      "File \u001b[0;32m~/imodelsX/imodelsx/iprompt/ipromptx.py:264\u001b[0m, in \u001b[0;36miPrompt._score_population\u001b[0;34m(self, x_tokenized, y_tokenized, population_input_ids, possible_answer_mask)\u001b[0m\n\u001b[1;32m    261\u001b[0m \u001b[39mfor\u001b[39;00m i \u001b[39min\u001b[39;00m \u001b[39mrange\u001b[39m(pop_size):\n\u001b[1;32m    262\u001b[0m     \u001b[39mwith\u001b[39;00m torch\u001b[39m.\u001b[39mno_grad():\n\u001b[1;32m    263\u001b[0m         _cand_input_ids, cand_loss, cand_n_correct \u001b[39m=\u001b[39m (\n\u001b[0;32m--> 264\u001b[0m             \u001b[39mself\u001b[39;49m\u001b[39m.\u001b[39;49m_compute_loss_with_set_prefix(\n\u001b[1;32m    265\u001b[0m                 original_input_ids\u001b[39m=\u001b[39;49mx_tokenized\u001b[39m.\u001b[39;49minput_ids,\n\u001b[1;32m    266\u001b[0m                 next_token_ids\u001b[39m=\u001b[39;49my_tokenized\u001b[39m.\u001b[39;49minput_ids,\n\u001b[1;32m    267\u001b[0m                 possible_answer_mask\u001b[39m=\u001b[39;49mpossible_answer_mask,\n\u001b[1;32m    268\u001b[0m                 prefix_ids\u001b[39m=\u001b[39;49mpopulation_input_ids[i],\n\u001b[1;32m    269\u001b[0m             )\n\u001b[1;32m    270\u001b[0m         )\n\u001b[1;32m    271\u001b[0m         cand_accuracy \u001b[39m=\u001b[39m cand_n_correct \u001b[39m/\u001b[39m \u001b[39mlen\u001b[39m(x_tokenized\u001b[39m.\u001b[39minput_ids)\n\u001b[1;32m    272\u001b[0m     all_candidate_n_correct[i] \u001b[39m+\u001b[39m\u001b[39m=\u001b[39m cand_n_correct\n",
      "File \u001b[0;32m~/imodelsX/imodelsx/iprompt/utils.py:325\u001b[0m, in \u001b[0;36mPrefixModel._compute_loss_with_set_prefix\u001b[0;34m(self, original_input_ids, next_token_ids, possible_answer_mask, prefix_ids)\u001b[0m\n\u001b[1;32m    322\u001b[0m \u001b[39m# compute first-token acc\u001b[39;00m\n\u001b[1;32m    323\u001b[0m \u001b[39mif\u001b[39;00m possible_answer_mask \u001b[39mis\u001b[39;00m \u001b[39mNone\u001b[39;00m:\n\u001b[1;32m    324\u001b[0m     n_correct \u001b[39m=\u001b[39m (\n\u001b[0;32m--> 325\u001b[0m         next_token_logits\u001b[39m.\u001b[39;49margmax(dim\u001b[39m=\u001b[39;49m\u001b[39m-\u001b[39;49m\u001b[39m1\u001b[39;49m) \u001b[39m==\u001b[39m next_token_ids[:, \u001b[39m0\u001b[39m]\n\u001b[1;32m    326\u001b[0m     )\u001b[39m.\u001b[39mint()\u001b[39m.\u001b[39msum()\n\u001b[1;32m    327\u001b[0m \u001b[39melse\u001b[39;00m:\n\u001b[1;32m    328\u001b[0m     \u001b[39m# apply possible answer mask for single-token\u001b[39;00m\n\u001b[1;32m    329\u001b[0m     next_token_logits \u001b[39m=\u001b[39m torch\u001b[39m.\u001b[39mwhere(\n\u001b[1;32m    330\u001b[0m         possible_answer_mask[\u001b[39mNone\u001b[39;00m],\n\u001b[1;32m    331\u001b[0m         next_token_logits, torch\u001b[39m.\u001b[39mtensor(\u001b[39mfloat\u001b[39m(\u001b[39m'\u001b[39m\u001b[39m-inf\u001b[39m\u001b[39m'\u001b[39m))\u001b[39m.\u001b[39mto(device)\n\u001b[1;32m    332\u001b[0m     )\n",
      "\u001b[0;31mKeyboardInterrupt\u001b[0m: "
     ]
    }
   ],
   "source": [
    "# explain the relationship between the inputs and outputs\n",
    "# with a natural-language prompt string\n",
    "prompts, metadata = explain_dataset_iprompt(\n",
    "    input_strings=input_strings,\n",
    "    output_strings=output_strings,\n",
    "    # checkpoint='EleutherAI/gpt-j-6B', # which language model to use\n",
    "    checkpoint=\"facebook/galactica-6.7b\", # which language model to use\n",
    "    preprefix='Answer Yes if the protein is associated with the',\n",
    "    num_learned_tokens=6, # how long of a prompt to learn\n",
    "    n_shots=5, # shots per example\n",
    "    n_epochs=15, # how many epochs to search\n",
    "    verbose=0, # how much to print\n",
    "    llm_float16=True, # whether to load the model in float_16\n",
    "    seed=42,\n",
    "    llm_candidate_regeneration_prompt_start='Data:',\n",
    "    llm_candidate_regeneration_prompt_end='What keyword of the protein is being asked about?', # default is \"Prompt:\"\n",
    "    # lm=lm,\n",
    ")"
   ]
  },
  {
   "attachments": {},
   "cell_type": "markdown",
   "id": "3aa0170d",
   "metadata": {},
   "source": [
    "# Demo generations"
   ]
  },
  {
   "cell_type": "code",
   "execution_count": 2,
   "id": "be248f00",
   "metadata": {},
   "outputs": [],
   "source": [
    "tokenizer = AutoTokenizer.from_pretrained(\"facebook/galactica-6.7b\")\n",
    "model = OPTForCausalLM.from_pretrained(\"facebook/galactica-6.7b\", device_map=\"auto\", torch_dtype=torch.float16)"
   ]
  },
  {
   "cell_type": "code",
   "execution_count": 3,
   "id": "8719599c",
   "metadata": {},
   "outputs": [],
   "source": [
    "def gen(model, input_text):\n",
    "    input_ids = tokenizer(input_text, return_tensors=\"pt\").input_ids.to(\"cuda\")\n",
    "    outputs = model.generate(input_ids, max_length=200)\n",
    "    return tokenizer.decode(outputs[0])"
   ]
  },
  {
   "cell_type": "code",
   "execution_count": 4,
   "id": "23fb4666",
   "metadata": {},
   "outputs": [
    {
     "data": {
      "text/plain": [
       "'[START_I_SMILES]CC1=CC=C(C=C1)C2=NN=C(N2C3=CC=CC=C3)SCC(=O)NC4=CC=CC=C4OC[END_I_SMILES]\\n\\n### Molecular Formula\\n\\nC24H22N4O2S\\n\\n## Chemical and Physical Properties\\n\\nThe following are chemical properties for 2-[[4,5-bis(p-tolyl)-1,2,4-triazol-3-yl]sulfanyl]-N-(2-methoxyphenyl)acetamide.\\n\\n### Computed Properties\\n\\n| Property Name | Property Value\\n| --- | ----------- |\\n| Molecular Weight | 430.5\\n| XLogP3-AA Log P | 4.9\\n| Hydrogen Bond Donor Count | 1\\n| Hydrogen Bond Acceptor Count |'"
      ]
     },
     "execution_count": 4,
     "metadata": {},
     "output_type": "execute_result"
    }
   ],
   "source": [
    "gen(model, \"[START_I_SMILES]\")"
   ]
  }
 ],
 "metadata": {
  "kernelspec": {
   "display_name": ".embgam",
   "language": "python",
   "name": "python3"
  },
  "language_info": {
   "codemirror_mode": {
    "name": "ipython",
    "version": 3
   },
   "file_extension": ".py",
   "mimetype": "text/x-python",
   "name": "python",
   "nbconvert_exporter": "python",
   "pygments_lexer": "ipython3",
   "version": "3.8.10 (default, Nov 14 2022, 12:59:47) \n[GCC 9.4.0]"
  },
  "vscode": {
   "interpreter": {
    "hash": "559535f78d940c882783b39501b2581b5193373045707e5f8a51d046029cfd38"
   }
  }
 },
 "nbformat": 4,
 "nbformat_minor": 5
}
