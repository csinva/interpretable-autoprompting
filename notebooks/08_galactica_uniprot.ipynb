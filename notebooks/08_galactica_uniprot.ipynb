{
 "cells": [
  {
   "cell_type": "code",
   "execution_count": 47,
   "id": "1813f150-d26e-4d76-9d74-d54b56b7f524",
   "metadata": {},
   "outputs": [
    {
     "name": "stdout",
     "output_type": "stream",
     "text": [
      "The autoreload extension is already loaded. To reload it, use:\n",
      "  %reload_ext autoreload\n"
     ]
    }
   ],
   "source": [
    "%load_ext autoreload\n",
    "%autoreload 2\n",
    "import numpy as np\n",
    "import torch\n",
    "from torch import nn\n",
    "import matplotlib.pyplot as plt\n",
    "from copy import deepcopy\n",
    "import pandas as pd\n",
    "from tqdm import tqdm\n",
    "from collections import defaultdict\n",
    "import pandas as pd\n",
    "from datasets import Dataset\n",
    "from os.path import join as oj\n",
    "import pickle as pkl\n",
    "import os\n",
    "import sys\n",
    "import iprompt.data\n",
    "from transformers import AutoTokenizer, OPTForCausalLM, AutoModelForCausalLM\n",
    "# from iprompt.data import TASKS_GALACTICA\n",
    "import transformers"
   ]
  },
  {
   "cell_type": "code",
   "execution_count": 48,
   "id": "b8fb02c4",
   "metadata": {},
   "outputs": [],
   "source": [
    "results_dir = '/home/chansingh/iprompt/experiments/results'"
   ]
  },
  {
   "cell_type": "code",
   "execution_count": 49,
   "id": "1016a8d9",
   "metadata": {},
   "outputs": [],
   "source": [
    "rs = {\n",
    "    fname.replace('.pkl', ''): pkl.load(open(oj(results_dir, fname), 'rb'))\n",
    "    for fname in os.listdir(results_dir)\n",
    "    if fname.endswith('.pkl')\n",
    "    and fname.startswith('uniprot')\n",
    "}"
   ]
  },
  {
   "cell_type": "code",
   "execution_count": 50,
   "id": "fb6c5db8",
   "metadata": {},
   "outputs": [
    {
     "data": {
      "text/plain": [
       "dict_keys(['uniprot_cytoplasm_membrane_100_4', 'uniprot_rna-binding_atp-binding_100_5', 'uniprot_cytoplasm_membrane_100_5', 'uniprot_rna-binding_atp-binding_100_3', 'uniprot_rna-binding_atp-binding_100_0', 'uniprot_cytoplasm_membrane_100_1', 'uniprot_rna-binding_atp-binding_100_1', 'uniprot_rna-binding_atp-binding_100_4', 'uniprot_cytoplasm_membrane_100_0', 'uniprot_rna-binding_atp-binding_100_6', 'uniprot_cytoplasm_membrane_100_7', 'uniprot_cytoplasm_membrane_100_3', 'uniprot_cytoplasm_membrane_100_2', 'uniprot_cytoplasm_membrane_100_6', 'uniprot_rna-binding_atp-binding_100_2'])"
      ]
     },
     "execution_count": 50,
     "metadata": {},
     "output_type": "execute_result"
    }
   ],
   "source": [
    "rs.keys()"
   ]
  },
  {
   "cell_type": "code",
   "execution_count": 72,
   "id": "2ed85777",
   "metadata": {},
   "outputs": [],
   "source": [
    "def cyto(l: list):\n",
    "    x = ''.join(l).lower()\n",
    "    return 'cyto' in x or 'membrane' in x\n",
    "\n",
    "def rna(l: list):\n",
    "    x = ''.join(l).lower()\n",
    "    return 'rna' in x or 'atp' in x\n",
    "\n",
    "def mrr(x: list, f):\n",
    "    for i, y in enumerate(x):\n",
    "        if f([y]):\n",
    "            return 1 / (i + 1)\n",
    "    return 0\n",
    "\n",
    "r = {}\n",
    "for k in rs:\n",
    "    l = rs[k]['prefixes']\n",
    "    if 'cyto' in k:\n",
    "        r[k] = [cyto(l[:20]), cyto(l[:5]), mrr(l, cyto)]\n",
    "    else:\n",
    "        r[k] = [rna(l[:20]), rna(l[:5]), mrr(l, rna)]\n",
    "    \n",
    "df = pd.DataFrame.from_dict(r)\n",
    "df.index = ['Top-5 prompt correctness', 'Top-20 prompt correctness', 'MRR']\n",
    "ks_baseline = [k for k in df.columns if 'baseline' in k]\n",
    "ks_cyto = [k for k in df.columns if 'cyto' in k]\n",
    "ks_rna = [k for k in df.columns if not 'cyto' in k]\n",
    "df_baseline = df[ks_baseline]\n",
    "# df_baseline_cyto = df[[k for k in ks_baseline if k in ks_cyto]]\n",
    "# df_baseline_rna = df[[k for k in ks_baseline if k in ks_rna]]\n",
    "df_cyto = df[[k for k in ks_cyto if k not in ks_baseline]]\n",
    "df_rna = df[[k for k in ks_rna if k not in ks_baseline]]"
   ]
  },
  {
   "cell_type": "code",
   "execution_count": 73,
   "id": "d63c6cce",
   "metadata": {},
   "outputs": [],
   "source": [
    "scores_cyto = df_cyto.mean(axis=1).round(2).astype(str) + \\\n",
    "    ' $\\pm$ ' + \\\n",
    "    (df_cyto.std(axis=1) /\n",
    "     np.sqrt(df_cyto.shape[1])).round(2).astype(str)\n",
    "scores_rna = df_rna.mean(axis=1).round(2).astype(str) + \\\n",
    "    ' $\\pm$ ' + \\\n",
    "    (df_rna.std(axis=1) /\n",
    "        np.sqrt(df_rna.shape[1])).round(2).astype(str)\n",
    "scores_baseline = df_baseline.mean(axis=1)"
   ]
  },
  {
   "cell_type": "code",
   "execution_count": 74,
   "id": "b6845a56",
   "metadata": {},
   "outputs": [
    {
     "name": "stdout",
     "output_type": "stream",
     "text": [
      "\\begin{tabular}{lllr}\n",
      "\\toprule\n",
      "{} & iPrompt cyto-membrane &  iPrompt binding &  Null data \\\\\n",
      "\\midrule\n",
      "MRR                       &       0.13 $\\pm$ 0.06 &  0.05 $\\pm$ 0.03 &        NaN \\\\\n",
      "Top-5 prompt correctness  &       0.75 $\\pm$ 0.16 &  0.29 $\\pm$ 0.18 &        NaN \\\\\n",
      "Top-20 prompt correctness &       0.12 $\\pm$ 0.12 &  0.14 $\\pm$ 0.14 &        NaN \\\\\n",
      "\\bottomrule\n",
      "\\end{tabular}\n",
      "\n"
     ]
    },
    {
     "name": "stderr",
     "output_type": "stream",
     "text": [
      "/tmp/ipykernel_3593959/2859349087.py:4: FutureWarning: In future versions `DataFrame.to_latex` is expected to utilise the base implementation of `Styler.to_latex` for formatting and rendering. The arguments signature may therefore change. It is recommended instead to use `DataFrame.style.to_latex` which also contains additional functionality.\n",
      "  print(d.to_latex(escape=False))\n"
     ]
    }
   ],
   "source": [
    "d = pd.concat((scores_cyto, scores_rna, scores_baseline), axis=1)\n",
    "d.columns = ['iPrompt cyto-membrane', 'iPrompt binding', 'Null data']\n",
    "d = d.loc[['MRR', 'Top-5 prompt correctness', 'Top-20 prompt correctness']]\n",
    "print(d.to_latex(escape=False))"
   ]
  },
  {
   "cell_type": "code",
   "execution_count": null,
   "id": "1cc4dc9a",
   "metadata": {},
   "outputs": [],
   "source": [
    "for k in rs:\n",
    "    print(rs[k]['prefixes'])"
   ]
  },
  {
   "cell_type": "markdown",
   "id": "a584494a",
   "metadata": {},
   "source": [
    "# print example"
   ]
  },
  {
   "cell_type": "code",
   "execution_count": 125,
   "id": "a75ba4c4",
   "metadata": {},
   "outputs": [],
   "source": [
    "from imodelsx import explain_dataset_iprompt, get_add_two_numbers_dataset\n",
    "from iprompt.data import TASKS_GALACTICA"
   ]
  },
  {
   "cell_type": "code",
   "execution_count": 126,
   "id": "5e9b5a32",
   "metadata": {},
   "outputs": [],
   "source": [
    "task_name = f'tox21_0'"
   ]
  },
  {
   "cell_type": "code",
   "execution_count": 128,
   "id": "4f1d97b0",
   "metadata": {},
   "outputs": [
    {
     "name": "stderr",
     "output_type": "stream",
     "text": [
      "/home/chansingh/iprompt/iprompt/data_utils/galactica.py:35: FutureWarning: Dropping of nuisance columns in DataFrame reductions (with 'numeric_only=None') is deprecated; in a future version this will raise TypeError.  Select only valid columns before calling the reduction.\n",
      "  control = d.loc[(d.sum(axis=1) == 0) & (d.isna().sum(axis=1) == 0)]\n",
      "/home/chansingh/iprompt/iprompt/data_utils/galactica.py:36: FutureWarning: Dropping of nuisance columns in DataFrame reductions (with 'numeric_only=None') is deprecated; in a future version this will raise TypeError.  Select only valid columns before calling the reduction.\n",
      "  tox = d.loc[(d.sum(axis=1) == 1) & (d.iloc[:, tox_target] == 1)]\n",
      "/home/chansingh/iprompt/iprompt/data_utils/galactica.py:41: SettingWithCopyWarning: \n",
      "A value is trying to be set on a copy of a slice from a DataFrame\n",
      "\n",
      "See the caveats in the documentation: https://pandas.pydata.org/pandas-docs/stable/user_guide/indexing.html#returning-a-view-versus-a-copy\n",
      "  df['tox'].iloc[n:] = 0\n"
     ]
    }
   ],
   "source": [
    "# get task\n",
    "task = TASKS_GALACTICA[task_name]\n",
    "\n",
    "# get data\n",
    "df = task['gen_func']()\n",
    "input_strings = df['input'].values\n",
    "output_strings = df['output'].values"
   ]
  },
  {
   "cell_type": "code",
   "execution_count": 134,
   "id": "2577bfa5",
   "metadata": {},
   "outputs": [
    {
     "data": {
      "text/plain": [
       "' No.\\n\\n'"
      ]
     },
     "execution_count": 134,
     "metadata": {},
     "output_type": "execute_result"
    }
   ],
   "source": [
    "output_strings[0]"
   ]
  }
 ],
 "metadata": {
  "kernelspec": {
   "display_name": ".embgam",
   "language": "python",
   "name": "python3"
  },
  "language_info": {
   "codemirror_mode": {
    "name": "ipython",
    "version": 3
   },
   "file_extension": ".py",
   "mimetype": "text/x-python",
   "name": "python",
   "nbconvert_exporter": "python",
   "pygments_lexer": "ipython3",
   "version": "3.8.10"
  },
  "vscode": {
   "interpreter": {
    "hash": "559535f78d940c882783b39501b2581b5193373045707e5f8a51d046029cfd38"
   }
  }
 },
 "nbformat": 4,
 "nbformat_minor": 5
}
