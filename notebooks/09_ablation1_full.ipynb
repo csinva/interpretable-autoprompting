{
 "cells": [
  {
   "cell_type": "code",
   "execution_count": 1,
   "id": "9f0fa546-842f-4173-9af9-d2e878557f5b",
   "metadata": {},
   "outputs": [],
   "source": [
    "%load_ext autoreload\n",
    "%autoreload 2\n",
    "\n",
    "import pandas as pd\n",
    "pd.set_option('display.max_columns', None)"
   ]
  },
  {
   "cell_type": "code",
   "execution_count": 2,
   "id": "9bdf7058-0718-4802-94f1-389392559e08",
   "metadata": {},
   "outputs": [
    {
     "name": "stdout",
     "output_type": "stream",
     "text": [
      "getting dir_names...\n"
     ]
    },
    {
     "name": "stderr",
     "output_type": "stream",
     "text": [
      "100%|██████████████████████████████████████████████████████████████████████████████████████████████████████████| 72/72 [00:00<00:00, 73.49it/s]\n"
     ]
    }
   ],
   "source": [
    "import analyze_utils\n",
    "\n",
    "save_dir = '/home/jxm3/research/prompting/interpretable-autoprompting/results_icml/ablation_math_across_difficulty_levels_rerun'\n",
    "\n",
    "r, all_losses = analyze_utils.load_results_and_cache_autoprompt_json(\n",
    "    save_dir, include_losses=True, do_reranking=True, save_file='r.pkl')"
   ]
  },
  {
   "cell_type": "code",
   "execution_count": 3,
   "id": "be6acbf5-72c8-45b6-8a1a-ec0049b0a504",
   "metadata": {},
   "outputs": [
    {
     "data": {
      "text/plain": [
       "62"
      ]
     },
     "execution_count": 3,
     "metadata": {},
     "output_type": "execute_result"
    }
   ],
   "source": [
    "min([len(L) for L in all_losses])"
   ]
  },
  {
   "cell_type": "code",
   "execution_count": 4,
   "id": "c6391544-d80c-484e-af24-da5eaadb0b4d",
   "metadata": {},
   "outputs": [
    {
     "data": {
      "text/html": [
       "<div>\n",
       "<style scoped>\n",
       "    .dataframe tbody tr th:only-of-type {\n",
       "        vertical-align: middle;\n",
       "    }\n",
       "\n",
       "    .dataframe tbody tr th {\n",
       "        vertical-align: top;\n",
       "    }\n",
       "\n",
       "    .dataframe thead th {\n",
       "        text-align: right;\n",
       "    }\n",
       "</style>\n",
       "<table border=\"1\" class=\"dataframe\">\n",
       "  <thead>\n",
       "    <tr style=\"text-align: right;\">\n",
       "      <th></th>\n",
       "      <th>task_name</th>\n",
       "      <th>seed</th>\n",
       "      <th>max_digit</th>\n",
       "      <th>prefixes</th>\n",
       "      <th>reciprocal_rank</th>\n",
       "    </tr>\n",
       "  </thead>\n",
       "  <tbody>\n",
       "    <tr>\n",
       "      <th>0</th>\n",
       "      <td>add_two</td>\n",
       "      <td>1</td>\n",
       "      <td>10</td>\n",
       "      <td>Add two integers together to arrive</td>\n",
       "      <td>1.000000</td>\n",
       "    </tr>\n",
       "    <tr>\n",
       "      <th>1</th>\n",
       "      <td>add_two</td>\n",
       "      <td>1</td>\n",
       "      <td>40</td>\n",
       "      <td>Add two positive integers together to</td>\n",
       "      <td>1.000000</td>\n",
       "    </tr>\n",
       "    <tr>\n",
       "      <th>2</th>\n",
       "      <td>add_two</td>\n",
       "      <td>1</td>\n",
       "      <td>80</td>\n",
       "      <td>Add two integers together to get</td>\n",
       "      <td>1.000000</td>\n",
       "    </tr>\n",
       "    <tr>\n",
       "      <th>3</th>\n",
       "      <td>add_two</td>\n",
       "      <td>1</td>\n",
       "      <td>160</td>\n",
       "      <td>Add two integers together to get</td>\n",
       "      <td>1.000000</td>\n",
       "    </tr>\n",
       "    <tr>\n",
       "      <th>4</th>\n",
       "      <td>add_two</td>\n",
       "      <td>2</td>\n",
       "      <td>10</td>\n",
       "      <td>Write a function to add together</td>\n",
       "      <td>1.000000</td>\n",
       "    </tr>\n",
       "    <tr>\n",
       "      <th>...</th>\n",
       "      <td>...</td>\n",
       "      <td>...</td>\n",
       "      <td>...</td>\n",
       "      <td>...</td>\n",
       "      <td>...</td>\n",
       "    </tr>\n",
       "    <tr>\n",
       "      <th>67</th>\n",
       "      <td>subtract_two</td>\n",
       "      <td>2</td>\n",
       "      <td>40</td>\n",
       "      <td>What number can you subtract from</td>\n",
       "      <td>1.000000</td>\n",
       "    </tr>\n",
       "    <tr>\n",
       "      <th>68</th>\n",
       "      <td>subtract_two</td>\n",
       "      <td>2</td>\n",
       "      <td>80</td>\n",
       "      <td>The next number in a series</td>\n",
       "      <td>0.076923</td>\n",
       "    </tr>\n",
       "    <tr>\n",
       "      <th>69</th>\n",
       "      <td>subtract_two</td>\n",
       "      <td>2</td>\n",
       "      <td>160</td>\n",
       "      <td>How do you subtract a number</td>\n",
       "      <td>1.000000</td>\n",
       "    </tr>\n",
       "    <tr>\n",
       "      <th>70</th>\n",
       "      <td>subtract_two</td>\n",
       "      <td>3</td>\n",
       "      <td>10</td>\n",
       "      <td>Use your function to compute each</td>\n",
       "      <td>0.055556</td>\n",
       "    </tr>\n",
       "    <tr>\n",
       "      <th>71</th>\n",
       "      <td>subtract_two</td>\n",
       "      <td>3</td>\n",
       "      <td>80</td>\n",
       "      <td>Give 4 different people an unknown</td>\n",
       "      <td>0.500000</td>\n",
       "    </tr>\n",
       "  </tbody>\n",
       "</table>\n",
       "<p>72 rows × 5 columns</p>\n",
       "</div>"
      ],
      "text/plain": [
       "       task_name  seed  max_digit                                prefixes  \\\n",
       "0        add_two     1         10     Add two integers together to arrive   \n",
       "1        add_two     1         40   Add two positive integers together to   \n",
       "2        add_two     1         80        Add two integers together to get   \n",
       "3        add_two     1        160        Add two integers together to get   \n",
       "4        add_two     2         10        Write a function to add together   \n",
       "..           ...   ...        ...                                     ...   \n",
       "67  subtract_two     2         40       What number can you subtract from   \n",
       "68  subtract_two     2         80             The next number in a series   \n",
       "69  subtract_two     2        160            How do you subtract a number   \n",
       "70  subtract_two     3         10       Use your function to compute each   \n",
       "71  subtract_two     3         80      Give 4 different people an unknown   \n",
       "\n",
       "    reciprocal_rank  \n",
       "0          1.000000  \n",
       "1          1.000000  \n",
       "2          1.000000  \n",
       "3          1.000000  \n",
       "4          1.000000  \n",
       "..              ...  \n",
       "67         1.000000  \n",
       "68         0.076923  \n",
       "69         1.000000  \n",
       "70         0.055556  \n",
       "71         0.500000  \n",
       "\n",
       "[72 rows x 5 columns]"
      ]
     },
     "execution_count": 4,
     "metadata": {},
     "output_type": "execute_result"
    }
   ],
   "source": [
    "top_prompts = (\n",
    "    r.groupby(['task_name', 'seed', 'max_digit'])\n",
    ").first().reset_index()\n",
    "top_prompts[['task_name', 'seed', 'max_digit', 'prefixes', 'reciprocal_rank']]"
   ]
  },
  {
   "cell_type": "code",
   "execution_count": 5,
   "id": "5d66d93a-4c68-4b67-bfc1-ec190c843ce5",
   "metadata": {},
   "outputs": [
    {
     "data": {
      "text/plain": [
       "<AxesSubplot:ylabel='max_digit'>"
      ]
     },
     "execution_count": 5,
     "metadata": {},
     "output_type": "execute_result"
    },
    {
     "data": {
      "image/png": "[encoded data removed]",
      "text/plain": [
       "<Figure size 432x288 with 1 Axes>"
      ]
     },
     "metadata": {
      "needs_background": "light"
     },
     "output_type": "display_data"
    }
   ],
   "source": [
    "top_prompts.groupby('max_digit').mean()['reciprocal_rank'].plot(kind='barh')"
   ]
  },
  {
   "cell_type": "code",
   "execution_count": 6,
   "id": "364a6624-8b5c-4de3-8d8b-d82d634e98d7",
   "metadata": {},
   "outputs": [
    {
     "data": {
      "text/plain": [
       "0.5636972341906694"
      ]
     },
     "execution_count": 6,
     "metadata": {},
     "output_type": "execute_result"
    }
   ],
   "source": [
    "top_prompts['reciprocal_rank'].mean()"
   ]
  },
  {
   "cell_type": "code",
   "execution_count": 7,
   "id": "4d2140e3-914c-43e2-9490-f4285c1a7712",
   "metadata": {},
   "outputs": [],
   "source": [
    "assert r['checkpoint'].unique()[0] == \"EleutherAI/gpt-j-6B\""
   ]
  },
  {
   "cell_type": "code",
   "execution_count": 8,
   "id": "b01a0ac1-c5d7-492f-a2c7-bed8e56bade6",
   "metadata": {},
   "outputs": [
    {
     "name": "stderr",
     "output_type": "stream",
     "text": [
      "2023-01-23 16:36:40.303789: I tensorflow/core/platform/cpu_feature_guard.cc:193] This TensorFlow binary is optimized with oneAPI Deep Neural Network Library (oneDNN) to use the following CPU instructions in performance-critical operations:  AVX2 AVX512F AVX512_VNNI FMA\n",
      "To enable them in other operations, rebuild TensorFlow with the appropriate compiler flags.\n",
      "2023-01-23 16:36:40.479486: I tensorflow/core/util/util.cc:169] oneDNN custom operations are on. You may see slightly different numerical results due to floating-point round-off errors from different computation orders. To turn them off, set the environment variable `TF_ENABLE_ONEDNN_OPTS=0`.\n",
      "2023-01-23 16:36:40.518068: E tensorflow/stream_executor/cuda/cuda_blas.cc:2981] Unable to register cuBLAS factory: Attempting to register factory for plugin cuBLAS when one has already been registered\n",
      "2023-01-23 16:36:41.508359: W tensorflow/stream_executor/platform/default/dso_loader.cc:64] Could not load dynamic library 'libnvinfer.so.7'; dlerror: libnvinfer.so.7: cannot open shared object file: No such file or directory\n",
      "2023-01-23 16:36:41.508451: W tensorflow/stream_executor/platform/default/dso_loader.cc:64] Could not load dynamic library 'libnvinfer_plugin.so.7'; dlerror: libnvinfer_plugin.so.7: cannot open shared object file: No such file or directory\n",
      "2023-01-23 16:36:41.508459: W tensorflow/compiler/tf2tensorrt/utils/py_utils.cc:38] TF-TRT Warning: Cannot dlopen some TensorRT libraries. If you would like to use Nvidia GPU with TensorRT, please make sure the missing libraries mentioned above are installed properly.\n"
     ]
    }
   ],
   "source": [
    "from iprompt import prompt_classification\n",
    "\n",
    "model = prompt_classification.create_model(r['checkpoint'].unique()[0])"
   ]
  },
  {
   "cell_type": "code",
   "execution_count": null,
   "id": "f5568418-477e-472c-9ff4-52d6fcdd96ed",
   "metadata": {},
   "outputs": [
    {
     "name": "stdout",
     "output_type": "stream",
     "text": [
      "calculating accs...\n"
     ]
    },
    {
     "data": {
      "application/vnd.jupyter.widget-view+json": {
       "model_id": "6f7838d6d29d4cb6b829399c0fd2c57c",
       "version_major": 2,
       "version_minor": 0
      },
      "text/plain": [
       "  0%|          | 0/72 [00:00<?, ?it/s]"
      ]
     },
     "metadata": {},
     "output_type": "display_data"
    },
    {
     "name": "stdout",
     "output_type": "stream",
     "text": [
      "add_two dset of len 100 (max_digit=10)\n",
      ">\tmanual acc: 74.0\n",
      ">\tiprompt acc: 79.0\n",
      "add_two dset of len 100 (max_digit=40)\n",
      ">\tmanual acc: 55.0\n",
      ">\tiprompt acc: 62.0\n",
      "add_two dset of len 100 (max_digit=80)\n",
      ">\tmanual acc: 45.0\n",
      ">\tiprompt acc: 55.0\n",
      "add_two dset of len 100 (max_digit=160)\n",
      ">\tmanual acc: 29.0\n",
      ">\tiprompt acc: 24.0\n",
      "add_two dset of len 100 (max_digit=10)\n",
      ">\tmanual acc: 74.0\n",
      ">\tiprompt acc: 89.0\n",
      "add_two dset of len 100 (max_digit=80)\n"
     ]
    }
   ],
   "source": [
    "## Compute accuracy given correct prompt and save for each task.\n",
    "import argparse\n",
    "from tqdm.notebook import tqdm\n",
    "from iprompt.data import get_data\n",
    "\n",
    "\n",
    "data = []\n",
    "print('calculating accs...')\n",
    "n_shots = 1\n",
    "batch_size = 16\n",
    "\n",
    "\"\"\"\n",
    "task_name: str = 'add_two',\n",
    " n_shots: int = 1,\n",
    " train_split_frac: float = None,\n",
    " max_dset_size: int = 10000,\n",
    " template_num_task_phrasing: int = 0,\n",
    " max_digit: int = 10,\n",
    " \"\"\"\n",
    "\n",
    "for _, output in tqdm(top_prompts.iterrows(), total=len(top_prompts)):\n",
    "    args = argparse.Namespace(**output)\n",
    "    args.max_dset_size = 100\n",
    "    (dset, dset_test), check_answer_func, descr = get_data(\n",
    "        args.task_name, n_shots=1, train_split_frac=1.0,\n",
    "        max_dset_size=args.max_dset_size, template_num_task_phrasing=0,\n",
    "        max_digit=args.max_digit,\n",
    "    )\n",
    "    print(args.task_name, f'dset of len {len(dset)} (max_digit={args.max_digit})')\n",
    "    # if task_name == 'task107_splash_question_to_sql':\n",
    "    #     batch_size = max(1, batch_size//4)\n",
    "    ####   Manual prompt  ####\n",
    "    manual_loss, manual_acc = prompt_classification.test_model_on_task_with_prefix(\n",
    "        dset=dset, model=model, prefix=descr, multi_token=True, verbose=False,\n",
    "        batch_size=batch_size,\n",
    "    )\n",
    "    print(f'>\\tmanual acc: {manual_acc}')\n",
    "    ####   iPrompt prompt   ####\n",
    "    iprompt_loss, iprompt_acc = prompt_classification.test_model_on_task_with_prefix(\n",
    "        dset=dset, model=model, prefix=output['prefixes'], multi_token=True, verbose=False,\n",
    "        batch_size=batch_size,\n",
    "    )\n",
    "    print(f'>\\tiprompt acc: {iprompt_acc}')\n",
    "    ####\n",
    "    output['manual_loss'] = manual_loss\n",
    "    output['manual_acc'] = manual_acc\n",
    "    output['iprompt_loss'] = iprompt_loss\n",
    "    output['iprompt_acc'] = iprompt_acc\n",
    "    data.append(output)"
   ]
  },
  {
   "cell_type": "code",
   "execution_count": null,
   "id": "83bc7a6b-6de6-4b8e-a73e-09d62b3cb9eb",
   "metadata": {},
   "outputs": [],
   "source": [
    "len(top_prompts), len(top_prompts_df)"
   ]
  },
  {
   "cell_type": "code",
   "execution_count": null,
   "id": "18781d1c-8c3c-4819-a5c2-2cf524a20808",
   "metadata": {},
   "outputs": [],
   "source": [
    "import os\n",
    "\n",
    "top_prompts_df = pd.DataFrame(data)\n",
    "top_prompts_df.to_pickle(os.path.join(save_dir, 'top_prompts.pkl'))\n",
    "# top_prompts_df = pd.read_pickle(os.path.join(save_dir, 'top_prompts.pkl'))"
   ]
  },
  {
   "cell_type": "code",
   "execution_count": null,
   "id": "7493d2e3-7d6f-40e2-835d-5c752e95075c",
   "metadata": {},
   "outputs": [],
   "source": [
    "top_prompts_df['prompt_ratio'] = top_prompts_df['manual_acc'] / top_prompts_df['iprompt_acc']"
   ]
  },
  {
   "cell_type": "code",
   "execution_count": null,
   "id": "35d9a4de-ded4-4bff-a4cb-11aa76f37bfb",
   "metadata": {},
   "outputs": [],
   "source": [
    "top_prompts_df[['prefixes', 'iprompt_acc', 'manual_acc']]"
   ]
  },
  {
   "cell_type": "code",
   "execution_count": null,
   "id": "17c91143-1521-4712-900a-f57ebd9dc58b",
   "metadata": {},
   "outputs": [],
   "source": [
    "top_prompts_df[top_prompts_df['task_name'].map(lambda tn: (('first' in tn) or ('double' in tn)))][['task_name', 'prefixes', 'reciprocal_rank', 'max_digit', 'iprompt_acc', 'manual_acc']]"
   ]
  },
  {
   "cell_type": "code",
   "execution_count": null,
   "id": "80c2bbd0-47f1-428c-8a6a-7888fd412d3e",
   "metadata": {},
   "outputs": [],
   "source": [
    "import seaborn as sns\n",
    "task_acc_percent = ((\n",
    "            top_prompts_df.groupby(['task_name']).mean()\n",
    "        ) \n",
    "        / \n",
    "        (1 \n",
    "            # top_prompts_df.groupby(['task_name']).max()['manual_acc'] - top_prompts_df.groupby(['task_name']).min()['manual_acc']\n",
    "        )\n",
    ").reset_index()\n",
    "\n",
    "# task_acc_percent = task_acc_percent[\n",
    "#     task_acc_percent['task_name'].map(lambda s: s not in [''])\n",
    "# ]\n",
    "\n",
    "df = task_acc_percent\n",
    "\n",
    "ax = sns.scatterplot(data=df, x='reciprocal_rank', y='manual_acc', label='Manual')\n",
    "for i in range(len(task_acc_percent)):\n",
    "    txt, y, x = (\n",
    "        df.iloc[i][\"task_name\"],\n",
    "        df.iloc[i][\"manual_acc\"],\n",
    "        df.iloc[i][\"reciprocal_rank\"]\n",
    "    )\n",
    "    ax.annotate(txt, (x, y), fontsize=8, weight=\"normal\", alpha=0.9, family=\"monospace\")"
   ]
  },
  {
   "cell_type": "code",
   "execution_count": null,
   "id": "dea2ca4b-ef53-4c4d-aa71-919460e9217b",
   "metadata": {},
   "outputs": [],
   "source": [
    "import seaborn as sns\n",
    "task_acc_percent = ((\n",
    "            top_prompts_df.groupby(['max_digit']).mean()\n",
    "        ) \n",
    "        / \n",
    "        (1 \n",
    "            # top_prompts_df.groupby(['task_name']).max()['manual_acc'] - top_prompts_df.groupby(['task_name']).min()['manual_acc']\n",
    "        )\n",
    ").reset_index()\n",
    "\n",
    "# task_acc_percent = task_acc_percent[\n",
    "#     task_acc_percent['task_name'].map(lambda s: s not in [''])\n",
    "# ]\n",
    "\n",
    "sns.lineplot(data=task_acc_percent, x='max_digit', y='manual_acc', linewidth=4, label='Manual')\n",
    "sns.lineplot(data=task_acc_percent, x='max_digit', y='iprompt_acc', linewidth=4, color='red', label='iPrompt')"
   ]
  },
  {
   "cell_type": "code",
   "execution_count": null,
   "id": "fc3f1168-91ea-4e27-a7c6-a3c2a8ab344f",
   "metadata": {},
   "outputs": [],
   "source": [
    "import matplotlib.pyplot as plt\n",
    "import seaborn as sns\n",
    "\n",
    "r_grouped_by_task = (\n",
    "    top_prompts_df\n",
    "     .groupby(['max_digit']).mean()\n",
    "     .reset_index()\n",
    ")\n",
    "\n",
    "ax = sns.scatterplot(\n",
    "    data=top_prompts_df, x='manual_acc', y='reciprocal_rank', # hue='task_name',\n",
    ")\n",
    "# sns.move_legend(ax, \"upper left\", bbox_to_anchor=(1, 1)) # legend outside of plot\n",
    "# ax.set_yscale('log')"
   ]
  },
  {
   "cell_type": "code",
   "execution_count": null,
   "id": "229cd8af-f069-4ae0-901e-2836be128b0b",
   "metadata": {},
   "outputs": [],
   "source": [
    "top_prompts[top_prompts['reciprocal_rank'] > 0.1][['prefixes','reciprocal_rank','task_name']]"
   ]
  },
  {
   "cell_type": "markdown",
   "id": "8311f5f2-4ca7-435e-bb1e-d6a2cd55852a",
   "metadata": {},
   "source": [
    "## Plot losses"
   ]
  },
  {
   "cell_type": "code",
   "execution_count": null,
   "id": "90029657-0918-4283-86e1-a8645e641ce1",
   "metadata": {},
   "outputs": [],
   "source": [
    "import matplotlib.pyplot as plt\n",
    "import numpy as np\n",
    "import seaborn as sns\n",
    "\n",
    "\n",
    "plt.plot(np.array(all_losses[20]))"
   ]
  },
  {
   "cell_type": "code",
   "execution_count": null,
   "id": "ccfd004e-1fb7-4a53-aaa1-b53cec879cfb",
   "metadata": {},
   "outputs": [],
   "source": []
  }
 ],
 "metadata": {
  "kernelspec": {
   "display_name": "Python 3 (ipykernel)",
   "language": "python",
   "name": "python3"
  },
  "language_info": {
   "codemirror_mode": {
    "name": "ipython",
    "version": 3
   },
   "file_extension": ".py",
   "mimetype": "text/x-python",
   "name": "python",
   "nbconvert_exporter": "python",
   "pygments_lexer": "ipython3",
   "version": "3.9.7"
  }
 },
 "nbformat": 4,
 "nbformat_minor": 5
}
