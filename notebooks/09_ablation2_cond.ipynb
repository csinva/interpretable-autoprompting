{
 "cells": [
  {
   "cell_type": "code",
   "execution_count": 1,
   "id": "9f0fa546-842f-4173-9af9-d2e878557f5b",
   "metadata": {},
   "outputs": [],
   "source": [
    "%load_ext autoreload\n",
    "%autoreload 2\n",
    "\n",
    "import pandas as pd\n",
    "pd.set_option('display.max_columns', None)"
   ]
  },
  {
   "cell_type": "code",
   "execution_count": 2,
   "id": "9bdf7058-0718-4802-94f1-389392559e08",
   "metadata": {},
   "outputs": [
    {
     "name": "stdout",
     "output_type": "stream",
     "text": [
      "getting dir_names...\n"
     ]
    },
    {
     "name": "stderr",
     "output_type": "stream",
     "text": [
      "  0%|                                                                                                                 | 0/480 [00:00<?, ?it/s]\n"
     ]
    },
    {
     "ename": "NameError",
     "evalue": "name '_rerank_df' is not defined",
     "output_type": "error",
     "traceback": [
      "\u001b[0;31m---------------------------------------------------------------------------\u001b[0m",
      "\u001b[0;31mNameError\u001b[0m                                 Traceback (most recent call last)",
      "Input \u001b[0;32mIn [2]\u001b[0m, in \u001b[0;36m<cell line: 5>\u001b[0;34m()\u001b[0m\n\u001b[1;32m      1\u001b[0m \u001b[38;5;28;01mimport\u001b[39;00m \u001b[38;5;21;01manalyze_utils\u001b[39;00m\n\u001b[1;32m      3\u001b[0m save_dir \u001b[38;5;241m=\u001b[39m \u001b[38;5;124m'\u001b[39m\u001b[38;5;124m/home/jxm3/research/prompting/interpretable-autoprompting/results_icml/ablation2_rerun\u001b[39m\u001b[38;5;124m'\u001b[39m\n\u001b[0;32m----> 5\u001b[0m r, all_losses \u001b[38;5;241m=\u001b[39m \u001b[43manalyze_utils\u001b[49m\u001b[38;5;241;43m.\u001b[39;49m\u001b[43mload_results_and_cache_autoprompt_json\u001b[49m\u001b[43m(\u001b[49m\n\u001b[1;32m      6\u001b[0m \u001b[43m    \u001b[49m\u001b[43msave_dir\u001b[49m\u001b[43m,\u001b[49m\u001b[43m \u001b[49m\u001b[43msave_file\u001b[49m\u001b[38;5;241;43m=\u001b[39;49m\u001b[38;5;124;43m'\u001b[39;49m\u001b[38;5;124;43mr.pkl\u001b[39;49m\u001b[38;5;124;43m'\u001b[39;49m\u001b[43m,\u001b[49m\u001b[43m \u001b[49m\u001b[43mdo_reranking\u001b[49m\u001b[38;5;241;43m=\u001b[39;49m\u001b[38;5;28;43;01mTrue\u001b[39;49;00m\u001b[43m,\u001b[49m\u001b[43m \u001b[49m\u001b[43minclude_losses\u001b[49m\u001b[38;5;241;43m=\u001b[39;49m\u001b[38;5;28;43;01mTrue\u001b[39;49;00m\n\u001b[1;32m      7\u001b[0m \u001b[43m)\u001b[49m\n",
      "File \u001b[0;32m~/research/prompting/interpretable-autoprompting/notebooks/analyze_utils.py:266\u001b[0m, in \u001b[0;36mload_results_and_cache_autoprompt_json\u001b[0;34m(results_dir, save_file, include_losses, one_row_only, do_reranking)\u001b[0m\n\u001b[1;32m    264\u001b[0m \u001b[38;5;66;03m# Optionally recompute loss & rerank prefixes.\u001b[39;00m\n\u001b[1;32m    265\u001b[0m \u001b[38;5;28;01mif\u001b[39;00m do_reranking:\n\u001b[0;32m--> 266\u001b[0m     df \u001b[38;5;241m=\u001b[39m \u001b[43m_rerank_df\u001b[49m(df)\n\u001b[1;32m    268\u001b[0m \u001b[38;5;66;03m# tensor -> float\u001b[39;00m\n\u001b[1;32m    269\u001b[0m \u001b[38;5;28;01mif\u001b[39;00m \u001b[38;5;124m'\u001b[39m\u001b[38;5;124mprefix_test_acc\u001b[39m\u001b[38;5;124m'\u001b[39m \u001b[38;5;129;01min\u001b[39;00m df:\n",
      "\u001b[0;31mNameError\u001b[0m: name '_rerank_df' is not defined"
     ]
    }
   ],
   "source": [
    "import analyze_utils\n",
    "\n",
    "save_dir = '/home/jxm3/research/prompting/interpretable-autoprompting/results_icml/ablation2_rerun'\n",
    "\n",
    "r, all_losses = analyze_utils.load_results_and_cache_autoprompt_json(\n",
    "    save_dir, save_file='r.pkl', do_reranking=True, include_losses=True\n",
    ")"
   ]
  },
  {
   "cell_type": "code",
   "execution_count": 119,
   "id": "186bfe12-1d65-45f1-9d75-cf44689b2b37",
   "metadata": {},
   "outputs": [
    {
     "data": {
      "text/plain": [
       "173873"
      ]
     },
     "execution_count": 119,
     "metadata": {},
     "output_type": "execute_result"
    }
   ],
   "source": [
    "len(r)"
   ]
  },
  {
   "cell_type": "code",
   "execution_count": 140,
   "id": "c6391544-d80c-484e-af24-da5eaadb0b4d",
   "metadata": {},
   "outputs": [
    {
     "name": "stdout",
     "output_type": "stream",
     "text": [
      "480\n"
     ]
    }
   ],
   "source": [
    "top_prompts = (\n",
    "    r.groupby(['task_name', 'n_shots', 'iprompt_conditioning_strategy', 'single_shot_loss', 'seed'])\n",
    ").first().reset_index()\n",
    "print(len(top_prompts))\n",
    "top_prompts['r@128'] = top_prompts['reciprocal_rank'].map(lambda r: (1.0/r) <128.1)\n",
    "# top_prompts[['task_name', 'seed', 'max_digit', 'prefixes', 'reciprocal_rank']]"
   ]
  },
  {
   "cell_type": "code",
   "execution_count": 124,
   "id": "ed553edf-523f-4910-8235-d9fc1531f52f",
   "metadata": {},
   "outputs": [],
   "source": [
    "MATH_TASK_NAMES = {\n",
    "    'add_two', 'multiply_two', 'subtract_two', 'max_two', \n",
    "    'first_two', 'square_one', 'double_one', 'exp_one',  \n",
    "    'fibonacci_one', 'divide_two'\n",
    "}\n",
    "TASK_IS_MATH = top_prompts['task_name'].map(lambda t: t in MATH_TASK_NAMES)\n",
    "TASK_IS_ANLI = top_prompts['task_name'].map(lambda t: t not in MATH_TASK_NAMES)"
   ]
  },
  {
   "cell_type": "code",
   "execution_count": 141,
   "id": "c420b8d7-2332-47d4-bf05-aa7e350b9c77",
   "metadata": {},
   "outputs": [],
   "source": [
    "pd.set_option('display.max_rows', None)\n",
    "# top_prompts[(top_prompts['single_shot_loss'] == 1) & (top_prompts['iprompt_conditioning_strategy'] == \"\")].sort_values(by='task_name')[['n_shots', 'task_name', 'prefixes', 'reciprocal_rank']]"
   ]
  },
  {
   "cell_type": "code",
   "execution_count": null,
   "id": "8f1f67ec-c83e-4f14-9f5a-338435c15632",
   "metadata": {},
   "outputs": [
    {
     "data": {
      "text/plain": [
       "n_shots  single_shot_loss  iprompt_conditioning_strategy\n",
       "1        1                                                  40\n",
       "5        0                                                  40\n",
       "         1                                                  40\n",
       "                           unconditional                    40\n",
       "                           x_only                           40\n",
       "                           y_only                           40\n",
       "Name: reciprocal_rank, dtype: int64"
      ]
     },
     "execution_count": 126,
     "metadata": {},
     "output_type": "execute_result"
    }
   ],
   "source": [
    "top_prompts[TASK_IS_MATH].groupby(['n_shots', 'single_shot_loss', 'iprompt_conditioning_strategy']).count()['reciprocal_rank']"
   ]
  },
  {
   "cell_type": "code",
   "execution_count": 143,
   "id": "60f09eaf-e033-4242-bcab-8645182a7d61",
   "metadata": {},
   "outputs": [
    {
     "data": {
      "text/plain": [
       "n_shots  single_shot_loss  iprompt_conditioning_strategy\n",
       "1        1                                                  0.975\n",
       "5        0                                                  0.500\n",
       "         1                                                  0.900\n",
       "                           unconditional                    0.600\n",
       "                           x_only                           0.700\n",
       "                           y_only                           0.725\n",
       "Name: r@128, dtype: float64"
      ]
     },
     "execution_count": 143,
     "metadata": {},
     "output_type": "execute_result"
    }
   ],
   "source": [
    "top_prompts[TASK_IS_MATH].groupby(['n_shots', 'single_shot_loss', 'iprompt_conditioning_strategy']).mean()['r@128']"
   ]
  },
  {
   "cell_type": "code",
   "execution_count": 145,
   "id": "5d53a7bc-7c3e-496d-b14a-6bf7fc19016e",
   "metadata": {},
   "outputs": [
    {
     "data": {
      "text/plain": [
       "n_shots  single_shot_loss  iprompt_conditioning_strategy\n",
       "1        1                                                  0.550\n",
       "5        0                                                  0.550\n",
       "         1                                                  0.600\n",
       "                           unconditional                    0.050\n",
       "                           x_only                           0.450\n",
       "                           y_only                           0.475\n",
       "Name: r@128, dtype: float64"
      ]
     },
     "execution_count": 145,
     "metadata": {},
     "output_type": "execute_result"
    }
   ],
   "source": [
    "top_prompts[TASK_IS_ANLI].groupby(['n_shots', 'single_shot_loss', 'iprompt_conditioning_strategy']).mean()['r@128']"
   ]
  },
  {
   "cell_type": "code",
   "execution_count": 146,
   "id": "d22c283e-dbc6-4db0-a63d-012e8e5b2b4c",
   "metadata": {},
   "outputs": [
    {
     "data": {
      "text/plain": [
       "n_shots  single_shot_loss  iprompt_conditioning_strategy\n",
       "1        1                                                  0.975\n",
       "5        0                                                  0.500\n",
       "         1                                                  0.900\n",
       "                           unconditional                    0.600\n",
       "                           x_only                           0.700\n",
       "                           y_only                           0.725\n",
       "Name: r@128, dtype: float64"
      ]
     },
     "execution_count": 146,
     "metadata": {},
     "output_type": "execute_result"
    }
   ],
   "source": [
    "top_prompts[TASK_IS_MATH].groupby(['n_shots', 'single_shot_loss', 'iprompt_conditioning_strategy']).mean()['r@128']"
   ]
  },
  {
   "cell_type": "code",
   "execution_count": 137,
   "id": "457bfecd-d11e-491b-afa8-a426297bef12",
   "metadata": {},
   "outputs": [
    {
     "data": {
      "text/plain": [
       "n_shots  single_shot_loss  iprompt_conditioning_strategy\n",
       "1        1                                                  0.328980\n",
       "5        0                                                  0.305123\n",
       "         1                                                  0.276434\n",
       "                           unconditional                    0.003238\n",
       "                           x_only                           0.163259\n",
       "                           y_only                           0.189492\n",
       "Name: reciprocal_rank, dtype: float64"
      ]
     },
     "execution_count": 137,
     "metadata": {},
     "output_type": "execute_result"
    }
   ],
   "source": [
    "top_prompts[TASK_IS_ANLI].groupby(['n_shots', 'single_shot_loss', 'iprompt_conditioning_strategy']).mean()['reciprocal_rank']"
   ]
  },
  {
   "cell_type": "code",
   "execution_count": 129,
   "id": "69b1552a-34e4-4386-a3f7-e5bb7f0f3788",
   "metadata": {},
   "outputs": [
    {
     "data": {
      "text/plain": [
       "n_shots  single_shot_loss  iprompt_conditioning_strategy\n",
       "1        1                                                  0.442559\n",
       "5        0                                                  0.182723\n",
       "         1                                                  0.226346\n",
       "                           unconditional                    0.073851\n",
       "                           x_only                           0.172780\n",
       "                           y_only                           0.163544\n",
       "Name: reciprocal_rank, dtype: float64"
      ]
     },
     "execution_count": 129,
     "metadata": {},
     "output_type": "execute_result"
    }
   ],
   "source": [
    "top_prompts.groupby(['n_shots', 'single_shot_loss', 'iprompt_conditioning_strategy']).mean()['reciprocal_rank']"
   ]
  },
  {
   "cell_type": "code",
   "execution_count": 68,
   "id": "89b03646-1e0d-4de2-9b08-2f59c2abc8ba",
   "metadata": {},
   "outputs": [
    {
     "data": {
      "text/plain": [
       "0.0"
      ]
     },
     "execution_count": 68,
     "metadata": {},
     "output_type": "execute_result"
    }
   ],
   "source": [
    "d1['prefix_train_acc']"
   ]
  },
  {
   "cell_type": "code",
   "execution_count": 67,
   "id": "bf664927-123e-4e77-a246-3f422917bd0a",
   "metadata": {},
   "outputs": [
    {
     "data": {
      "text/plain": [
       "{'seed': [1, 6],\n",
       " 'save_dir': ['/home/jxm3/research/prompting/interpretable-autoprompting/results_icml/ablation2',\n",
       "  '/home/jxm3/research/prompting/interpretable-autoprompting/results_icml/ablation3'],\n",
       " 'iprompt_generation_checkpoint': [None, 'EleutherAI/gpt-j-6B'],\n",
       " 'train_start_time': [1674124353.4011478, 1674202498.5770762],\n",
       " 'prefix_ids': [(19430, 257, 2163, 284, 751, 734),\n",
       "  (705, 7061, 10, 15414, 22510, 16)],\n",
       " 'prefixes': [' Write a function to add two', \" '''+inputnum1\"],\n",
       " 'prefix_train_loss': [7.275566101074219, 9.009683609008789],\n",
       " 'prefix_n_queries': [25, 3],\n",
       " 'train_end_time': [1674125195.2376258, 1674203377.112308],\n",
       " 'train_time_elapsed': [841.8364779949188, 878.5352318286896],\n",
       " 'pickle_filename': ['/home/jxm3/research/prompting/interpretable-autoprompting/results_icml/ablation2/Jan_19_05_32_yrafjcztehvc/results.pkl',\n",
       "  '/home/jxm3/research/prompting/interpretable-autoprompting/results_icml/ablation3/Jan_20_03_14_ckjgfykqjqpb/results.pkl']}"
      ]
     },
     "execution_count": 67,
     "metadata": {},
     "output_type": "execute_result"
    }
   ],
   "source": [
    "d1 = dict(top_prompts[\n",
    "      (top_prompts['iprompt_conditioning_strategy'] == \"\") \n",
    "    & (top_prompts['single_shot_loss'] == 1)\n",
    "].iloc[0])\n",
    "d2 = {'task_name': 'add_two',  'seed': 6,  'checkpoint': 'EleutherAI/gpt-j-6B',  'iprompt_generation_checkpoint': 'EleutherAI/gpt-j-6B',  'model_cls': 'iprompt',  'batch_size': 16,  'n_epochs': 100,  'max_n_steps': 10000000000,  'max_n_datapoints': 5000,  'train_split_frac': 1.0,  'max_dset_size': 5000,  'early_stopping_steps': 50,  'max_digit': 10,  'template_num_init_string': 0,  'template_num_task_phrasing': 0,  'save_dir': '/home/jxm3/research/prompting/interpretable-autoprompting/results_icml/ablation3',  'epoch_save_interval': 1,  'lr': 0.0001,  'gamma': 0.0,  'n_shots': 5,  'autoprompt_init_strategy': 'the',  'max_length': 64,  'single_shot_loss': 1,  'mask_possible_answers': 0,  'hotflip_num_candidates': 10,  'accum_grad_over_epoch': 0,  'num_learned_tokens': 6,  'use_preprefix': 0,  'iprompt_preprefix_str': '',  'iprompt_pop_size': 4,  'iprompt_num_mutations': 2,  'iprompt_generation_repetition_penalty': 2.0,  'iprompt_generation_temp': 1.0,  'iprompt_generation_top_p': 1.0,  'iprompt_conditioning_strategy': '',  'iprompt_num_random_generations': 4,  'llm_float16': 1,  'use_generic_query': 0,  'train_start_time': 1674202498.5770762,  'prefix_ids': (705, 7061, 10, 15414, 22510, 16),  'prefixes': \" '''+inputnum1\",  'prefix_train_acc': 0.0,  'prefix_train_loss': 9.009683609008789,  'prefix_n_queries': 3,  'topk_pop_sample': 8,  'pop_size': 4,  'num_mutations_per_ex': 2,  'num_random_generations': 4,  'generation_temp': 1.0,  'generation_top_p': 1.0,  'generation_repetition_penalty': 2.0,  'generation_bad_words_ids': '198',  'pre_data_prompt_str': 'Data:\\n\\n',  'post_data_prompt_str': '\\n\\nPrompt:',  'prefixes__check_answer_func': True,  'train_end_time': 1674203377.112308,  'train_time_elapsed': 878.5352318286896,  'pickle_filename': '/home/jxm3/research/prompting/interpretable-autoprompting/results_icml/ablation3/Jan_20_03_14_ckjgfykqjqpb/results.pkl',  'final_answer_pos_initial_token': 0,  'reciprocal_rank': 1.0,  'iprompt_do_final_reranking': 1.0,  'iprompt_criterion': 'loss'}\n",
    "\n",
    "d3 = {k: [v, d2[k]] for k,v in d1.items() if v != d2[k]}\n",
    "d3"
   ]
  },
  {
   "cell_type": "code",
   "execution_count": 199,
   "id": "26a392ce-33fa-4597-b023-760b1a676cb3",
   "metadata": {},
   "outputs": [
    {
     "data": {
      "text/html": [
       "<div>\n",
       "<style scoped>\n",
       "    .dataframe tbody tr th:only-of-type {\n",
       "        vertical-align: middle;\n",
       "    }\n",
       "\n",
       "    .dataframe tbody tr th {\n",
       "        vertical-align: top;\n",
       "    }\n",
       "\n",
       "    .dataframe thead th {\n",
       "        text-align: right;\n",
       "    }\n",
       "</style>\n",
       "<table border=\"1\" class=\"dataframe\">\n",
       "  <thead>\n",
       "    <tr style=\"text-align: right;\">\n",
       "      <th></th>\n",
       "      <th>task_name</th>\n",
       "      <th>reciprocal_rank</th>\n",
       "    </tr>\n",
       "  </thead>\n",
       "  <tbody>\n",
       "    <tr>\n",
       "      <th>16</th>\n",
       "      <td>task1191_food_veg_nonveg</td>\n",
       "      <td>0.002245</td>\n",
       "    </tr>\n",
       "    <tr>\n",
       "      <th>17</th>\n",
       "      <td>task1336_peixian_equity_evaluation_corpus_gend...</td>\n",
       "      <td>0.005047</td>\n",
       "    </tr>\n",
       "    <tr>\n",
       "      <th>15</th>\n",
       "      <td>task1149_item_check_edible</td>\n",
       "      <td>0.006944</td>\n",
       "    </tr>\n",
       "    <tr>\n",
       "      <th>11</th>\n",
       "      <td>task092_check_prime_classification</td>\n",
       "      <td>0.010181</td>\n",
       "    </tr>\n",
       "    <tr>\n",
       "      <th>1</th>\n",
       "      <td>divide_two</td>\n",
       "      <td>0.024289</td>\n",
       "    </tr>\n",
       "    <tr>\n",
       "      <th>10</th>\n",
       "      <td>task088_identify_typo_verification</td>\n",
       "      <td>0.024428</td>\n",
       "    </tr>\n",
       "    <tr>\n",
       "      <th>4</th>\n",
       "      <td>fibonacci_one</td>\n",
       "      <td>0.032168</td>\n",
       "    </tr>\n",
       "    <tr>\n",
       "      <th>3</th>\n",
       "      <td>exp_one</td>\n",
       "      <td>0.041617</td>\n",
       "    </tr>\n",
       "    <tr>\n",
       "      <th>5</th>\n",
       "      <td>first_two</td>\n",
       "      <td>0.127542</td>\n",
       "    </tr>\n",
       "    <tr>\n",
       "      <th>6</th>\n",
       "      <td>max_two</td>\n",
       "      <td>0.127545</td>\n",
       "    </tr>\n",
       "    <tr>\n",
       "      <th>19</th>\n",
       "      <td>task183_rhyme_generation</td>\n",
       "      <td>0.141953</td>\n",
       "    </tr>\n",
       "    <tr>\n",
       "      <th>8</th>\n",
       "      <td>square_one</td>\n",
       "      <td>0.158544</td>\n",
       "    </tr>\n",
       "    <tr>\n",
       "      <th>7</th>\n",
       "      <td>multiply_two</td>\n",
       "      <td>0.192958</td>\n",
       "    </tr>\n",
       "    <tr>\n",
       "      <th>12</th>\n",
       "      <td>task107_splash_question_to_sql</td>\n",
       "      <td>0.235368</td>\n",
       "    </tr>\n",
       "    <tr>\n",
       "      <th>2</th>\n",
       "      <td>double_one</td>\n",
       "      <td>0.299901</td>\n",
       "    </tr>\n",
       "    <tr>\n",
       "      <th>18</th>\n",
       "      <td>task1509_evalution_antonyms</td>\n",
       "      <td>0.364293</td>\n",
       "    </tr>\n",
       "    <tr>\n",
       "      <th>0</th>\n",
       "      <td>add_two</td>\n",
       "      <td>0.502310</td>\n",
       "    </tr>\n",
       "    <tr>\n",
       "      <th>9</th>\n",
       "      <td>subtract_two</td>\n",
       "      <td>0.588257</td>\n",
       "    </tr>\n",
       "    <tr>\n",
       "      <th>13</th>\n",
       "      <td>task1146_country_capital</td>\n",
       "      <td>0.649586</td>\n",
       "    </tr>\n",
       "    <tr>\n",
       "      <th>14</th>\n",
       "      <td>task1147_country_currency</td>\n",
       "      <td>0.670833</td>\n",
       "    </tr>\n",
       "  </tbody>\n",
       "</table>\n",
       "</div>"
      ],
      "text/plain": [
       "                                            task_name  reciprocal_rank\n",
       "16                           task1191_food_veg_nonveg         0.002245\n",
       "17  task1336_peixian_equity_evaluation_corpus_gend...         0.005047\n",
       "15                         task1149_item_check_edible         0.006944\n",
       "11                 task092_check_prime_classification         0.010181\n",
       "1                                          divide_two         0.024289\n",
       "10                 task088_identify_typo_verification         0.024428\n",
       "4                                       fibonacci_one         0.032168\n",
       "3                                             exp_one         0.041617\n",
       "5                                           first_two         0.127542\n",
       "6                                             max_two         0.127545\n",
       "19                           task183_rhyme_generation         0.141953\n",
       "8                                          square_one         0.158544\n",
       "7                                        multiply_two         0.192958\n",
       "12                     task107_splash_question_to_sql         0.235368\n",
       "2                                          double_one         0.299901\n",
       "18                        task1509_evalution_antonyms         0.364293\n",
       "0                                             add_two         0.502310\n",
       "9                                        subtract_two         0.588257\n",
       "13                           task1146_country_capital         0.649586\n",
       "14                          task1147_country_currency         0.670833"
      ]
     },
     "execution_count": 199,
     "metadata": {},
     "output_type": "execute_result"
    }
   ],
   "source": [
    "top_prompts.groupby('task_name').mean().reset_index().sort_values(by='reciprocal_rank')[['task_name', 'reciprocal_rank']]"
   ]
  },
  {
   "cell_type": "code",
   "execution_count": null,
   "id": "229cd8af-f069-4ae0-901e-2836be128b0b",
   "metadata": {},
   "outputs": [],
   "source": [
    "top_prompts_df[top_prompts_df['reciprocal_rank'] < 0.1][['prefixes','reciprocal_rank','task_name']]"
   ]
  },
  {
   "cell_type": "markdown",
   "id": "9465bb2d-2c76-4048-92a0-2523249e6847",
   "metadata": {},
   "source": [
    "## plot losses as lines."
   ]
  },
  {
   "cell_type": "code",
   "execution_count": 149,
   "id": "e72ba43e-fa07-4676-a224-ae1ea3b001e4",
   "metadata": {},
   "outputs": [
    {
     "data": {
      "text/plain": [
       "(480, 480)"
      ]
     },
     "execution_count": 149,
     "metadata": {},
     "output_type": "execute_result"
    }
   ],
   "source": [
    "len(all_losses), len(top_prompts)"
   ]
  },
  {
   "cell_type": "code",
   "execution_count": 182,
   "id": "ed016d3c-1ed5-4b34-a55e-a8bb1bd38633",
   "metadata": {},
   "outputs": [],
   "source": [
    "import numpy as np\n",
    "max_loss_len = max([len(L) for L in all_losses])\n",
    "\n",
    "all_losses_padded = []\n",
    "for L in all_losses:\n",
    "    last_val = L[-1]\n",
    "    all_losses_padded.append(\n",
    "        L + [last_val] * (max_loss_len - len(L))\n",
    "    )\n",
    "all_losses_padded = np.array(all_losses_padded)"
   ]
  },
  {
   "cell_type": "code",
   "execution_count": 183,
   "id": "5f69879a-eec4-4015-afa6-72c4149ed7e6",
   "metadata": {},
   "outputs": [
    {
     "data": {
      "text/plain": [
       "77"
      ]
     },
     "execution_count": 183,
     "metadata": {},
     "output_type": "execute_result"
    }
   ],
   "source": [
    "(top_prompts['reciprocal_rank'] > 0.5).sum()"
   ]
  },
  {
   "cell_type": "code",
   "execution_count": 184,
   "id": "066a0a79-c59f-4d33-940e-ca2d413bfa58",
   "metadata": {},
   "outputs": [
    {
     "data": {
      "text/plain": [
       "350"
      ]
     },
     "execution_count": 184,
     "metadata": {},
     "output_type": "execute_result"
    }
   ],
   "source": [
    "len(all_losses_padded[GOOD_RUNS].mean(axis=0))"
   ]
  },
  {
   "cell_type": "code",
   "execution_count": 185,
   "id": "aebc36bb-ddce-4209-af38-03aa129c5bf7",
   "metadata": {},
   "outputs": [
    {
     "data": {
      "text/plain": [
       "0.16041666666666668"
      ]
     },
     "execution_count": 185,
     "metadata": {},
     "output_type": "execute_result"
    }
   ],
   "source": [
    "GOOD_RUNS.mean()"
   ]
  },
  {
   "cell_type": "code",
   "execution_count": 188,
   "id": "863b1486-075d-46e6-834b-4ce2d9d7ba5a",
   "metadata": {},
   "outputs": [
    {
     "data": {
      "text/html": [
       "<svg  width=\"330\" height=\"55\"><rect x=\"0\" y=\"0\" width=\"55\" height=\"55\" style=\"fill:#a1c9f4;stroke-width:2;stroke:rgb(255,255,255)\"/><rect x=\"55\" y=\"0\" width=\"55\" height=\"55\" style=\"fill:#ffb482;stroke-width:2;stroke:rgb(255,255,255)\"/><rect x=\"110\" y=\"0\" width=\"55\" height=\"55\" style=\"fill:#8de5a1;stroke-width:2;stroke:rgb(255,255,255)\"/><rect x=\"165\" y=\"0\" width=\"55\" height=\"55\" style=\"fill:#ff9f9b;stroke-width:2;stroke:rgb(255,255,255)\"/><rect x=\"220\" y=\"0\" width=\"55\" height=\"55\" style=\"fill:#d0bbff;stroke-width:2;stroke:rgb(255,255,255)\"/><rect x=\"275\" y=\"0\" width=\"55\" height=\"55\" style=\"fill:#debb9b;stroke-width:2;stroke:rgb(255,255,255)\"/></svg>"
      ],
      "text/plain": [
       "[(0.6313725490196078, 0.788235294117647, 0.9568627450980393),\n",
       " (1.0, 0.7058823529411765, 0.5098039215686274),\n",
       " (0.5529411764705883, 0.8980392156862745, 0.6313725490196078),\n",
       " (1.0, 0.6235294117647059, 0.6078431372549019),\n",
       " (0.8156862745098039, 0.7333333333333333, 1.0),\n",
       " (0.8705882352941177, 0.7333333333333333, 0.6078431372549019)]"
      ]
     },
     "execution_count": 188,
     "metadata": {},
     "output_type": "execute_result"
    }
   ],
   "source": []
  },
  {
   "cell_type": "code",
   "execution_count": 205,
   "id": "18c5b42a-8775-4a74-ae25-5407b5389660",
   "metadata": {},
   "outputs": [
    {
     "data": {
      "text/plain": [
       "<matplotlib.legend.Legend at 0x7fbd27532e80>"
      ]
     },
     "execution_count": 205,
     "metadata": {},
     "output_type": "execute_result"
    },
    {
     "data": {
      "image/png": "[encoded data removed]",
      "text/plain": [
       "<Figure size 432x288 with 1 Axes>"
      ]
     },
     "metadata": {
      "needs_background": "light"
     },
     "output_type": "display_data"
    }
   ],
   "source": [
    "import matplotlib.pyplot as plt\n",
    "\n",
    "COLORS = sns.color_palette(\"pastel\", 6)\n",
    "\n",
    "#############################################\n",
    "\n",
    "DEFAULT = (\n",
    "    (top_prompts['n_shots'] == 5) & (top_prompts['iprompt_conditioning_strategy'] == \"\") & (top_prompts[\"single_shot_loss\"] == 1)\n",
    ")\n",
    "NSHOTS_1 = (\n",
    "    top_prompts['n_shots'] == 1\n",
    ")\n",
    "COND_UNCONDITIONAL = (\n",
    "    top_prompts['iprompt_conditioning_strategy'] == 'unconditional'\n",
    ")\n",
    "COND_XONLY = (\n",
    "    top_prompts['iprompt_conditioning_strategy'] == 'x_only'\n",
    ")\n",
    "COND_YONLY = (\n",
    "    top_prompts['iprompt_conditioning_strategy'] == 'y_only'\n",
    ")\n",
    "\n",
    "BATCH_SIZE = top_prompts['batch_size'].unique()[0]\n",
    "X_AXIS = np.arange(all_losses_padded.shape[1]) * BATCH_SIZE\n",
    "\n",
    "#############################################\n",
    "\n",
    "for MASK, LABEL, COLOR in zip(\n",
    "        [DEFAULT, NSHOTS_1, COND_UNCONDITIONAL, COND_XONLY, COND_YONLY], \n",
    "        ['iPrompt', 'n_shots=1', 'unconditional', 'x_only', 'y_only'],\n",
    "        COLORS\n",
    "    ):\n",
    "    plt.plot(X_AXIS, all_losses_padded[MASK & TASK_IS_MATH & (top_prompts['reciprocal_rank'] < 0.2)].mean(axis=0), color=COLOR, label=LABEL)\n",
    "\n",
    "#############################################\n",
    "\n",
    "plt.title('iPrompt Loss')\n",
    "plt.xlabel('Number of samples')\n",
    "plt.ylabel('NLL')\n",
    "plt.legend()"
   ]
  },
  {
   "cell_type": "code",
   "execution_count": 221,
   "id": "a7967c75-1ccf-4ea2-bdd7-05e3340f92c6",
   "metadata": {},
   "outputs": [
    {
     "data": {
      "text/plain": [
       "Zero-shot generation        80\n",
       "No single-shot loss         80\n",
       "Default                     80\n",
       "Unconditional generation    80\n",
       "x-conditioned generation    80\n",
       "y-conditioned generation    80\n",
       "Name: exp, dtype: int64"
      ]
     },
     "execution_count": 221,
     "metadata": {},
     "output_type": "execute_result"
    }
   ],
   "source": [
    "def label_exp(r): \n",
    "    if (r['n_shots'] == 5) & (r['iprompt_conditioning_strategy'] == \"\") & (r[\"single_shot_loss\"] == 1):\n",
    "        return 'Default'\n",
    "    elif r['n_shots'] == 1:\n",
    "        return 'Zero-shot generation'\n",
    "    elif r['iprompt_conditioning_strategy'] == 'unconditional':\n",
    "        return 'Unconditional generation'\n",
    "    elif r['single_shot_loss'] == 0:\n",
    "        return 'No single-shot loss'\n",
    "    elif r['iprompt_conditioning_strategy'] == 'x_only':\n",
    "        return 'x-conditioned generation'\n",
    "    elif r['iprompt_conditioning_strategy'] == 'y_only':\n",
    "        return 'y-conditioned generation'\n",
    "    else:\n",
    "        print(r)\n",
    "        raise ValueError('unknown exp for row')\n",
    "    \n",
    "# r['exp'] = r.apply(label_exp, axis=1)\n",
    "top_prompts['exp'] = top_prompts.apply(label_exp, axis=1)\n",
    "top_prompts['exp'].value_counts()"
   ]
  },
  {
   "cell_type": "code",
   "execution_count": 212,
   "id": "5a322145-1c95-41c2-9e7c-3e1d2945bd03",
   "metadata": {},
   "outputs": [
    {
     "data": {
      "text/plain": [
       "<AxesSubplot:xlabel='reciprocal_rank', ylabel='task_name'>"
      ]
     },
     "execution_count": 212,
     "metadata": {},
     "output_type": "execute_result"
    },
    {
     "data": {
      "image/png": "[encoded data removed]",
      "text/plain": [
       "<Figure size 432x288 with 1 Axes>"
      ]
     },
     "metadata": {
      "needs_background": "light"
     },
     "output_type": "display_data"
    }
   ],
   "source": [
    "sns.boxplot(data=top_prompts, x=\"reciprocal_rank\", y=\"task_name\")"
   ]
  },
  {
   "cell_type": "code",
   "execution_count": 223,
   "id": "1bf342e1-a71d-466a-a247-61a8ca0f5f54",
   "metadata": {},
   "outputs": [
    {
     "data": {
      "text/plain": [
       "<AxesSubplot:xlabel='prefix_train_acc', ylabel='exp'>"
      ]
     },
     "execution_count": 223,
     "metadata": {},
     "output_type": "execute_result"
    },
    {
     "data": {
      "image/png": "[encoded data removed]",
      "text/plain": [
       "<Figure size 432x288 with 1 Axes>"
      ]
     },
     "metadata": {
      "needs_background": "light"
     },
     "output_type": "display_data"
    }
   ],
   "source": [
    "sns.boxplot(data=r, x=\"prefix_train_acc\", y=\"exp\")"
   ]
  },
  {
   "cell_type": "code",
   "execution_count": null,
   "id": "f346e3fb-52a1-4c27-aee0-058f4b831c9b",
   "metadata": {},
   "outputs": [],
   "source": []
  }
 ],
 "metadata": {
  "kernelspec": {
   "display_name": "Python 3 (ipykernel)",
   "language": "python",
   "name": "python3"
  },
  "language_info": {
   "codemirror_mode": {
    "name": "ipython",
    "version": 3
   },
   "file_extension": ".py",
   "mimetype": "text/x-python",
   "name": "python",
   "nbconvert_exporter": "python",
   "pygments_lexer": "ipython3",
   "version": "3.9.7"
  }
 },
 "nbformat": 4,
 "nbformat_minor": 5
}
