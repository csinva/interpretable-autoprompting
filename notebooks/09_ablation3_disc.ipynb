{
 "cells": [
  {
   "cell_type": "code",
   "execution_count": 1,
   "id": "9f0fa546-842f-4173-9af9-d2e878557f5b",
   "metadata": {},
   "outputs": [],
   "source": [
    "%load_ext autoreload\n",
    "%autoreload 2\n",
    "\n",
    "import pandas as pd\n",
    "pd.set_option('display.max_columns', None)"
   ]
  },
  {
   "cell_type": "code",
   "execution_count": 2,
   "id": "9bdf7058-0718-4802-94f1-389392559e08",
   "metadata": {},
   "outputs": [
    {
     "name": "stderr",
     "output_type": "stream",
     "text": [
      "100%|███████████████████████████████████████████████████████████████████████████████████████████████████████| 942/942 [01:02<00:00, 15.10it/s]\n"
     ]
    }
   ],
   "source": [
    "import analyze_utils\n",
    "\n",
    "save_dir = '/home/jxm3/research/prompting/interpretable-autoprompting/results_icml/ablation3'\n",
    "\n",
    "r, all_losses = analyze_utils.load_results_and_cache_autoprompt_json(save_dir, include_losses=True, save_file='r.pkl')"
   ]
  },
  {
   "cell_type": "code",
   "execution_count": 22,
   "id": "c6391544-d80c-484e-af24-da5eaadb0b4d",
   "metadata": {},
   "outputs": [],
   "source": [
    "top_prompts = (\n",
    "    r.sort_values(by='prefix_train_loss', ascending=False)\n",
    "     .groupby(['task_name', 'seed', 'checkpoint', 'iprompt_generation_checkpoint'])\n",
    ").first().reset_index()"
   ]
  },
  {
   "cell_type": "code",
   "execution_count": 34,
   "id": "9b40a6b2-059a-457b-a835-4327bab54f3c",
   "metadata": {},
   "outputs": [
    {
     "data": {
      "text/plain": [
       "{'task_name': 'add_two',\n",
       " 'seed': 6,\n",
       " 'checkpoint': 'EleutherAI/gpt-j-6B',\n",
       " 'iprompt_generation_checkpoint': 'EleutherAI/gpt-j-6B',\n",
       " 'model_cls': 'iprompt',\n",
       " 'batch_size': 16,\n",
       " 'n_epochs': 100,\n",
       " 'max_n_steps': 10000000000,\n",
       " 'max_n_datapoints': 5000,\n",
       " 'train_split_frac': 1.0,\n",
       " 'max_dset_size': 5000,\n",
       " 'early_stopping_steps': 50,\n",
       " 'max_digit': 10,\n",
       " 'template_num_init_string': 0,\n",
       " 'template_num_task_phrasing': 0,\n",
       " 'save_dir': '/home/jxm3/research/prompting/interpretable-autoprompting/results_icml/ablation3',\n",
       " 'epoch_save_interval': 1,\n",
       " 'lr': 0.0001,\n",
       " 'gamma': 0.0,\n",
       " 'n_shots': 5,\n",
       " 'autoprompt_init_strategy': 'the',\n",
       " 'max_length': 64,\n",
       " 'single_shot_loss': 1,\n",
       " 'mask_possible_answers': 0,\n",
       " 'hotflip_num_candidates': 10,\n",
       " 'accum_grad_over_epoch': 0,\n",
       " 'num_learned_tokens': 6,\n",
       " 'use_preprefix': 0,\n",
       " 'iprompt_preprefix_str': '',\n",
       " 'iprompt_pop_size': 4,\n",
       " 'iprompt_num_mutations': 2,\n",
       " 'iprompt_generation_repetition_penalty': 2.0,\n",
       " 'iprompt_generation_temp': 1.0,\n",
       " 'iprompt_generation_top_p': 1.0,\n",
       " 'iprompt_conditioning_strategy': '',\n",
       " 'iprompt_num_random_generations': 4,\n",
       " 'llm_float16': 1,\n",
       " 'use_generic_query': 0,\n",
       " 'train_start_time': 1674202498.5770762,\n",
       " 'prefix_ids': (705, 7061, 10, 15414, 22510, 16),\n",
       " 'prefixes': \" '''+inputnum1\",\n",
       " 'prefix_train_acc': 0.0,\n",
       " 'prefix_train_loss': 9.009683609008789,\n",
       " 'prefix_n_queries': 3,\n",
       " 'topk_pop_sample': 8,\n",
       " 'pop_size': 4,\n",
       " 'num_mutations_per_ex': 2,\n",
       " 'num_random_generations': 4,\n",
       " 'generation_temp': 1.0,\n",
       " 'generation_top_p': 1.0,\n",
       " 'generation_repetition_penalty': 2.0,\n",
       " 'generation_bad_words_ids': '198',\n",
       " 'pre_data_prompt_str': 'Data:\\n\\n',\n",
       " 'post_data_prompt_str': '\\n\\nPrompt:',\n",
       " 'prefixes__check_answer_func': True,\n",
       " 'train_end_time': 1674203377.112308,\n",
       " 'train_time_elapsed': 878.5352318286896,\n",
       " 'pickle_filename': '/home/jxm3/research/prompting/interpretable-autoprompting/results_icml/ablation3/Jan_20_03_14_ckjgfykqjqpb/results.pkl',\n",
       " 'final_answer_pos_initial_token': 0,\n",
       " 'reciprocal_rank': 1.0,\n",
       " 'iprompt_do_final_reranking': 1.0,\n",
       " 'iprompt_criterion': 'loss'}"
      ]
     },
     "execution_count": 34,
     "metadata": {},
     "output_type": "execute_result"
    }
   ],
   "source": [
    "GPTJ = 'EleutherAI/gpt-j-6B'\n",
    "dict(top_prompts[\n",
    "      (top_prompts['checkpoint'] == GPTJ)\n",
    "    & (top_prompts['iprompt_generation_checkpoint'] == GPTJ)\n",
    "].iloc[0])"
   ]
  },
  {
   "cell_type": "code",
   "execution_count": 4,
   "id": "c3570b83-7514-4ac4-952d-00ed23715637",
   "metadata": {},
   "outputs": [
    {
     "data": {
      "text/plain": [
       "checkpoint               iprompt_generation_checkpoint\n",
       "EleutherAI/gpt-j-6B      EleutherAI/gpt-j-6B              0.241185\n",
       "                         EleutherAI/gpt-neo-1.3B          0.159009\n",
       "                         EleutherAI/gpt-neo-125M          0.085832\n",
       "                         EleutherAI/gpt-neo-2.7B          0.151711\n",
       "EleutherAI/gpt-neo-1.3B  EleutherAI/gpt-j-6B              0.096227\n",
       "                         EleutherAI/gpt-neo-1.3B          0.035432\n",
       "                         EleutherAI/gpt-neo-125M          0.011833\n",
       "                         EleutherAI/gpt-neo-2.7B          0.109982\n",
       "EleutherAI/gpt-neo-125M  EleutherAI/gpt-j-6B              0.067081\n",
       "                         EleutherAI/gpt-neo-1.3B          0.090965\n",
       "                         EleutherAI/gpt-neo-125M          0.067320\n",
       "                         EleutherAI/gpt-neo-2.7B          0.074115\n",
       "EleutherAI/gpt-neo-2.7B  EleutherAI/gpt-j-6B              0.170332\n",
       "                         EleutherAI/gpt-neo-1.3B          0.098457\n",
       "                         EleutherAI/gpt-neo-125M          0.033881\n",
       "                         EleutherAI/gpt-neo-2.7B          0.131886\n",
       "Name: reciprocal_rank, dtype: float64"
      ]
     },
     "execution_count": 4,
     "metadata": {},
     "output_type": "execute_result"
    }
   ],
   "source": [
    "top_prompts.groupby(['checkpoint', 'iprompt_generation_checkpoint']).mean()['reciprocal_rank']"
   ]
  },
  {
   "cell_type": "code",
   "execution_count": 7,
   "id": "fb517b76-dc92-44ee-b931-6b652ce95cf1",
   "metadata": {},
   "outputs": [
    {
     "data": {
      "text/html": [
       "<div>\n",
       "<style scoped>\n",
       "    .dataframe tbody tr th:only-of-type {\n",
       "        vertical-align: middle;\n",
       "    }\n",
       "\n",
       "    .dataframe tbody tr th {\n",
       "        vertical-align: top;\n",
       "    }\n",
       "\n",
       "    .dataframe thead th {\n",
       "        text-align: right;\n",
       "    }\n",
       "</style>\n",
       "<table border=\"1\" class=\"dataframe\">\n",
       "  <thead>\n",
       "    <tr style=\"text-align: right;\">\n",
       "      <th>iprompt_generation_checkpoint</th>\n",
       "      <th>EleutherAI/gpt-neo-125M</th>\n",
       "      <th>EleutherAI/gpt-neo-1.3B</th>\n",
       "      <th>EleutherAI/gpt-neo-2.7B</th>\n",
       "      <th>EleutherAI/gpt-j-6B</th>\n",
       "    </tr>\n",
       "    <tr>\n",
       "      <th>checkpoint</th>\n",
       "      <th></th>\n",
       "      <th></th>\n",
       "      <th></th>\n",
       "      <th></th>\n",
       "    </tr>\n",
       "  </thead>\n",
       "  <tbody>\n",
       "    <tr>\n",
       "      <th>EleutherAI/gpt-neo-125M</th>\n",
       "      <td>0.067320</td>\n",
       "      <td>0.090965</td>\n",
       "      <td>0.074115</td>\n",
       "      <td>0.067081</td>\n",
       "    </tr>\n",
       "    <tr>\n",
       "      <th>EleutherAI/gpt-neo-1.3B</th>\n",
       "      <td>0.011833</td>\n",
       "      <td>0.035432</td>\n",
       "      <td>0.109982</td>\n",
       "      <td>0.096227</td>\n",
       "    </tr>\n",
       "    <tr>\n",
       "      <th>EleutherAI/gpt-neo-2.7B</th>\n",
       "      <td>0.033881</td>\n",
       "      <td>0.098457</td>\n",
       "      <td>0.131886</td>\n",
       "      <td>0.170332</td>\n",
       "    </tr>\n",
       "    <tr>\n",
       "      <th>EleutherAI/gpt-j-6B</th>\n",
       "      <td>0.085832</td>\n",
       "      <td>0.159009</td>\n",
       "      <td>0.151711</td>\n",
       "      <td>0.241185</td>\n",
       "    </tr>\n",
       "  </tbody>\n",
       "</table>\n",
       "</div>"
      ],
      "text/plain": [
       "iprompt_generation_checkpoint  EleutherAI/gpt-neo-125M  \\\n",
       "checkpoint                                               \n",
       "EleutherAI/gpt-neo-125M                       0.067320   \n",
       "EleutherAI/gpt-neo-1.3B                       0.011833   \n",
       "EleutherAI/gpt-neo-2.7B                       0.033881   \n",
       "EleutherAI/gpt-j-6B                           0.085832   \n",
       "\n",
       "iprompt_generation_checkpoint  EleutherAI/gpt-neo-1.3B  \\\n",
       "checkpoint                                               \n",
       "EleutherAI/gpt-neo-125M                       0.090965   \n",
       "EleutherAI/gpt-neo-1.3B                       0.035432   \n",
       "EleutherAI/gpt-neo-2.7B                       0.098457   \n",
       "EleutherAI/gpt-j-6B                           0.159009   \n",
       "\n",
       "iprompt_generation_checkpoint  EleutherAI/gpt-neo-2.7B  EleutherAI/gpt-j-6B  \n",
       "checkpoint                                                                   \n",
       "EleutherAI/gpt-neo-125M                       0.074115             0.067081  \n",
       "EleutherAI/gpt-neo-1.3B                       0.109982             0.096227  \n",
       "EleutherAI/gpt-neo-2.7B                       0.131886             0.170332  \n",
       "EleutherAI/gpt-j-6B                           0.151711             0.241185  "
      ]
     },
     "execution_count": 7,
     "metadata": {},
     "output_type": "execute_result"
    }
   ],
   "source": [
    "top_prompts_heatmap = (\n",
    "    top_prompts\n",
    "        .groupby(['checkpoint', 'iprompt_generation_checkpoint'])\n",
    "        .mean()\n",
    "        .reset_index()\n",
    "        .pivot(index='checkpoint', columns='iprompt_generation_checkpoint', values='reciprocal_rank')\n",
    ")\n",
    "\n",
    "\n",
    "AXIS_ORDER = [\n",
    "       'EleutherAI/gpt-neo-125M', 'EleutherAI/gpt-neo-1.3B',\n",
    "       'EleutherAI/gpt-neo-2.7B', 'EleutherAI/gpt-j-6B'\n",
    "]\n",
    "# sort columns (x)\n",
    "top_prompts_heatmap = top_prompts_heatmap[AXIS_ORDER]\n",
    "# sort rows (y)?\n",
    "top_prompts_heatmap = top_prompts_heatmap.sort_index(key=lambda index_list: [AXIS_ORDER.index(y) for y in index_list])\n",
    "top_prompts_heatmap"
   ]
  },
  {
   "cell_type": "code",
   "execution_count": 36,
   "id": "cb24fca3-cbaa-4df9-a17a-14e75d36672e",
   "metadata": {},
   "outputs": [
    {
     "data": {
      "text/plain": [
       "Text(32.99999999999999, 0.5, 'Reranking Model Params')"
      ]
     },
     "execution_count": 36,
     "metadata": {},
     "output_type": "execute_result"
    },
    {
     "data": {
      "image/png": "[encoded data removed]",
      "text/plain": [
       "<Figure size 432x288 with 2 Axes>"
      ]
     },
     "metadata": {
      "needs_background": "light"
     },
     "output_type": "display_data"
    }
   ],
   "source": [
    "import seaborn as sns\n",
    "\n",
    "SHORT_LABELS = ['125M', '1.3B', '2.7B', '6B']\n",
    "ax = sns.heatmap(top_prompts_heatmap, cmap='Blues')\n",
    "ax.set_xticklabels(SHORT_LABELS)\n",
    "ax.set_yticklabels(SHORT_LABELS)\n",
    "ax.set_title('MRR')\n",
    "ax.set_xlabel('Generation Model Params', fontsize='large')\n",
    "ax.set_ylabel('Reranking Model Params', fontsize='large')"
   ]
  },
  {
   "cell_type": "code",
   "execution_count": 44,
   "id": "fb01920d-d5ff-4318-997c-ccee414d3bb6",
   "metadata": {},
   "outputs": [
    {
     "data": {
      "text/plain": [
       "<AxesSubplot:xlabel='prefix_train_acc', ylabel='reciprocal_rank'>"
      ]
     },
     "execution_count": 44,
     "metadata": {},
     "output_type": "execute_result"
    },
    {
     "data": {
      "image/png": "[encoded data removed]",
      "text/plain": [
       "<Figure size 432x288 with 1 Axes>"
      ]
     },
     "metadata": {
      "needs_background": "light"
     },
     "output_type": "display_data"
    }
   ],
   "source": [
    "sns.scatterplot(data=top_prompts, x='prefix_train_acc', y='reciprocal_rank')"
   ]
  },
  {
   "cell_type": "code",
   "execution_count": null,
   "id": "45bdadb4-e02a-481a-a646-d399ef41bd93",
   "metadata": {},
   "outputs": [],
   "source": []
  }
 ],
 "metadata": {
  "kernelspec": {
   "display_name": "Python 3 (ipykernel)",
   "language": "python",
   "name": "python3"
  },
  "language_info": {
   "codemirror_mode": {
    "name": "ipython",
    "version": 3
   },
   "file_extension": ".py",
   "mimetype": "text/x-python",
   "name": "python",
   "nbconvert_exporter": "python",
   "pygments_lexer": "ipython3",
   "version": "3.9.7"
  }
 },
 "nbformat": 4,
 "nbformat_minor": 5
}
