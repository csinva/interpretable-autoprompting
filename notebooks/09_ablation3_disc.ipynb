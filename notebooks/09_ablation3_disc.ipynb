{
 "cells": [
  {
   "cell_type": "code",
   "execution_count": 1,
   "id": "9f0fa546-842f-4173-9af9-d2e878557f5b",
   "metadata": {},
   "outputs": [],
   "source": [
    "%load_ext autoreload\n",
    "%autoreload 2\n",
    "\n",
    "import pandas as pd\n",
    "pd.set_option('display.max_columns', None)"
   ]
  },
  {
   "cell_type": "code",
   "execution_count": 24,
   "id": "9bdf7058-0718-4802-94f1-389392559e08",
   "metadata": {},
   "outputs": [
    {
     "name": "stdout",
     "output_type": "stream",
     "text": [
      "getting dir_names...\n"
     ]
    },
    {
     "name": "stderr",
     "output_type": "stream",
     "text": [
      "100%|████████████████████████████████████████████████████████████████████████████████████████████████████████| 942/942 [00:40<00:00, 23.01it/s]\n"
     ]
    }
   ],
   "source": [
    "import analyze_utils\n",
    "\n",
    "save_dir = '/home/jxm3/research/prompting/interpretable-autoprompting/results_icml/ablation3'\n",
    "\n",
    "r, all_losses = analyze_utils.load_results_and_cache_autoprompt_json(\n",
    "    save_dir, include_losses=True, do_reranking=True, save_file='r.pkl')"
   ]
  },
  {
   "cell_type": "code",
   "execution_count": 25,
   "id": "c6391544-d80c-484e-af24-da5eaadb0b4d",
   "metadata": {},
   "outputs": [],
   "source": [
    "top_prompts = (\n",
    "    r# .sort_values(by='prefix_train_loss', ascending=False)\n",
    "     .groupby(['task_name', 'seed', 'checkpoint', 'iprompt_generation_checkpoint'])\n",
    ").first().reset_index()"
   ]
  },
  {
   "cell_type": "code",
   "execution_count": 26,
   "id": "9b40a6b2-059a-457b-a835-4327bab54f3c",
   "metadata": {},
   "outputs": [
    {
     "data": {
      "text/plain": [
       "{'task_name': 'add_two',\n",
       " 'seed': 6,\n",
       " 'checkpoint': 'EleutherAI/gpt-j-6B',\n",
       " 'iprompt_generation_checkpoint': 'EleutherAI/gpt-j-6B',\n",
       " 'model_cls': 'iprompt',\n",
       " 'batch_size': 16,\n",
       " 'n_epochs': 100,\n",
       " 'max_n_steps': 10000000000,\n",
       " 'max_n_datapoints': 5000,\n",
       " 'train_split_frac': 1.0,\n",
       " 'max_dset_size': 5000,\n",
       " 'early_stopping_steps': 50,\n",
       " 'max_digit': 10,\n",
       " 'template_num_init_string': 0,\n",
       " 'template_num_task_phrasing': 0,\n",
       " 'save_dir': '/home/jxm3/research/prompting/interpretable-autoprompting/results_icml/ablation3',\n",
       " 'epoch_save_interval': 1,\n",
       " 'lr': 0.0001,\n",
       " 'gamma': 0.0,\n",
       " 'n_shots': 5,\n",
       " 'autoprompt_init_strategy': 'the',\n",
       " 'max_length': 64,\n",
       " 'single_shot_loss': 1,\n",
       " 'mask_possible_answers': 0,\n",
       " 'hotflip_num_candidates': 10,\n",
       " 'accum_grad_over_epoch': 0,\n",
       " 'num_learned_tokens': 6,\n",
       " 'use_preprefix': 0,\n",
       " 'iprompt_preprefix_str': '',\n",
       " 'iprompt_pop_size': 4,\n",
       " 'iprompt_num_mutations': 2,\n",
       " 'iprompt_generation_repetition_penalty': 2.0,\n",
       " 'iprompt_generation_temp': 1.0,\n",
       " 'iprompt_generation_top_p': 1.0,\n",
       " 'iprompt_conditioning_strategy': '',\n",
       " 'iprompt_num_random_generations': 4,\n",
       " 'llm_float16': 1,\n",
       " 'use_generic_query': 0,\n",
       " 'train_start_time': 1674202498.5770762,\n",
       " 'prefix_ids': (220, 3060, 777, 734, 37014, 1978),\n",
       " 'prefixes': '  Add these two integers together',\n",
       " 'prefix_train_acc': 0.1875,\n",
       " 'prefix_train_loss': 1.137293815612793,\n",
       " 'prefix_n_queries': 1,\n",
       " 'topk_pop_sample': 8,\n",
       " 'pop_size': 4,\n",
       " 'num_mutations_per_ex': 2,\n",
       " 'num_random_generations': 4,\n",
       " 'generation_temp': 1.0,\n",
       " 'generation_top_p': 1.0,\n",
       " 'generation_repetition_penalty': 2.0,\n",
       " 'generation_bad_words_ids': '198',\n",
       " 'pre_data_prompt_str': 'Data:\\n\\n',\n",
       " 'post_data_prompt_str': '\\n\\nPrompt:',\n",
       " 'prefixes__check_answer_func': True,\n",
       " 'train_end_time': 1674203377.112308,\n",
       " 'train_time_elapsed': 878.5352318286896,\n",
       " 'iprompt_do_final_reranking': 1,\n",
       " 'iprompt_criterion': 'loss',\n",
       " 'pickle_filename': '/home/jxm3/research/prompting/interpretable-autoprompting/results_icml/ablation3/Jan_20_03_14_ckjgfykqjqpb/results_reranked.pkl',\n",
       " 'final_answer_pos_initial_token': 0,\n",
       " 'reciprocal_rank': 1.0}"
      ]
     },
     "execution_count": 26,
     "metadata": {},
     "output_type": "execute_result"
    }
   ],
   "source": [
    "GPTJ = 'EleutherAI/gpt-j-6B'\n",
    "dict(top_prompts[\n",
    "      (top_prompts['checkpoint'] == GPTJ)\n",
    "    & (top_prompts['iprompt_generation_checkpoint'] == GPTJ)\n",
    "].iloc[0])"
   ]
  },
  {
   "cell_type": "code",
   "execution_count": 27,
   "id": "279a75a8-00c6-487b-9360-e57aa010747a",
   "metadata": {},
   "outputs": [
    {
     "data": {
      "text/html": [
       "<div>\n",
       "<style scoped>\n",
       "    .dataframe tbody tr th:only-of-type {\n",
       "        vertical-align: middle;\n",
       "    }\n",
       "\n",
       "    .dataframe tbody tr th {\n",
       "        vertical-align: top;\n",
       "    }\n",
       "\n",
       "    .dataframe thead th {\n",
       "        text-align: right;\n",
       "    }\n",
       "</style>\n",
       "<table border=\"1\" class=\"dataframe\">\n",
       "  <thead>\n",
       "    <tr style=\"text-align: right;\">\n",
       "      <th></th>\n",
       "      <th>reciprocal_rank</th>\n",
       "      <th>prefixes</th>\n",
       "      <th>iprompt_generation_checkpoint</th>\n",
       "    </tr>\n",
       "  </thead>\n",
       "  <tbody>\n",
       "    <tr>\n",
       "      <th>0</th>\n",
       "      <td>1.000000e+00</td>\n",
       "      <td>1 = Add up two numbers</td>\n",
       "      <td>EleutherAI/gpt-neo-1.3B</td>\n",
       "    </tr>\n",
       "    <tr>\n",
       "      <th>1</th>\n",
       "      <td>1.000000e+00</td>\n",
       "      <td>If we add up the values</td>\n",
       "      <td>EleutherAI/gpt-neo-125M</td>\n",
       "    </tr>\n",
       "    <tr>\n",
       "      <th>2</th>\n",
       "      <td>1.000000e+00</td>\n",
       "      <td>Add two numbers together. Answer</td>\n",
       "      <td>EleutherAI/gpt-neo-2.7B</td>\n",
       "    </tr>\n",
       "    <tr>\n",
       "      <th>3</th>\n",
       "      <td>3.703704e-02</td>\n",
       "      <td>This should output \"The number</td>\n",
       "      <td>EleutherAI/gpt-j-6B</td>\n",
       "    </tr>\n",
       "    <tr>\n",
       "      <th>4</th>\n",
       "      <td>1.000000e+00</td>\n",
       "      <td>4 + 3 = 7 |</td>\n",
       "      <td>EleutherAI/gpt-neo-1.3B</td>\n",
       "    </tr>\n",
       "    <tr>\n",
       "      <th>...</th>\n",
       "      <td>...</td>\n",
       "      <td>...</td>\n",
       "      <td>...</td>\n",
       "    </tr>\n",
       "    <tr>\n",
       "      <th>937</th>\n",
       "      <td>1.000000e-10</td>\n",
       "      <td>Why did God make us to</td>\n",
       "      <td>EleutherAI/gpt-neo-2.7B</td>\n",
       "    </tr>\n",
       "    <tr>\n",
       "      <th>938</th>\n",
       "      <td>1.000000e-10</td>\n",
       "      <td>where do you want to go</td>\n",
       "      <td>EleutherAI/gpt-j-6B</td>\n",
       "    </tr>\n",
       "    <tr>\n",
       "      <th>939</th>\n",
       "      <td>1.000000e-10</td>\n",
       "      <td>Write each of the following sentences</td>\n",
       "      <td>EleutherAI/gpt-neo-1.3B</td>\n",
       "    </tr>\n",
       "    <tr>\n",
       "      <th>940</th>\n",
       "      <td>1.000000e-10</td>\n",
       "      <td>(repeat) [DOT</td>\n",
       "      <td>EleutherAI/gpt-neo-125M</td>\n",
       "    </tr>\n",
       "    <tr>\n",
       "      <th>941</th>\n",
       "      <td>1.000000e-10</td>\n",
       "      <td>Select the word 'go'</td>\n",
       "      <td>EleutherAI/gpt-neo-2.7B</td>\n",
       "    </tr>\n",
       "  </tbody>\n",
       "</table>\n",
       "<p>942 rows × 3 columns</p>\n",
       "</div>"
      ],
      "text/plain": [
       "     reciprocal_rank                                prefixes  \\\n",
       "0       1.000000e+00                  1 = Add up two numbers   \n",
       "1       1.000000e+00                 If we add up the values   \n",
       "2       1.000000e+00        Add two numbers together. Answer   \n",
       "3       3.703704e-02          This should output \"The number   \n",
       "4       1.000000e+00                             4 + 3 = 7 |   \n",
       "..               ...                                     ...   \n",
       "937     1.000000e-10                  Why did God make us to   \n",
       "938     1.000000e-10                 where do you want to go   \n",
       "939     1.000000e-10   Write each of the following sentences   \n",
       "940     1.000000e-10                           (repeat) [DOT   \n",
       "941     1.000000e-10                    Select the word 'go'   \n",
       "\n",
       "    iprompt_generation_checkpoint  \n",
       "0         EleutherAI/gpt-neo-1.3B  \n",
       "1         EleutherAI/gpt-neo-125M  \n",
       "2         EleutherAI/gpt-neo-2.7B  \n",
       "3             EleutherAI/gpt-j-6B  \n",
       "4         EleutherAI/gpt-neo-1.3B  \n",
       "..                            ...  \n",
       "937       EleutherAI/gpt-neo-2.7B  \n",
       "938           EleutherAI/gpt-j-6B  \n",
       "939       EleutherAI/gpt-neo-1.3B  \n",
       "940       EleutherAI/gpt-neo-125M  \n",
       "941       EleutherAI/gpt-neo-2.7B  \n",
       "\n",
       "[942 rows x 3 columns]"
      ]
     },
     "execution_count": 27,
     "metadata": {},
     "output_type": "execute_result"
    }
   ],
   "source": [
    "top_prompts[['reciprocal_rank', 'prefixes', 'iprompt_generation_checkpoint']]"
   ]
  },
  {
   "cell_type": "code",
   "execution_count": 28,
   "id": "c3570b83-7514-4ac4-952d-00ed23715637",
   "metadata": {},
   "outputs": [
    {
     "data": {
      "text/plain": [
       "checkpoint               iprompt_generation_checkpoint\n",
       "EleutherAI/gpt-j-6B      EleutherAI/gpt-j-6B              0.418695\n",
       "                         EleutherAI/gpt-neo-1.3B          0.398930\n",
       "                         EleutherAI/gpt-neo-125M          0.229976\n",
       "                         EleutherAI/gpt-neo-2.7B          0.443250\n",
       "EleutherAI/gpt-neo-1.3B  EleutherAI/gpt-j-6B              0.210583\n",
       "                         EleutherAI/gpt-neo-1.3B          0.146011\n",
       "                         EleutherAI/gpt-neo-125M          0.068131\n",
       "                         EleutherAI/gpt-neo-2.7B          0.185427\n",
       "EleutherAI/gpt-neo-125M  EleutherAI/gpt-j-6B              0.118559\n",
       "                         EleutherAI/gpt-neo-1.3B          0.072295\n",
       "                         EleutherAI/gpt-neo-125M          0.072397\n",
       "                         EleutherAI/gpt-neo-2.7B          0.128244\n",
       "EleutherAI/gpt-neo-2.7B  EleutherAI/gpt-j-6B              0.245705\n",
       "                         EleutherAI/gpt-neo-1.3B          0.238823\n",
       "                         EleutherAI/gpt-neo-125M          0.114722\n",
       "                         EleutherAI/gpt-neo-2.7B          0.309964\n",
       "Name: reciprocal_rank, dtype: float64"
      ]
     },
     "execution_count": 28,
     "metadata": {},
     "output_type": "execute_result"
    }
   ],
   "source": [
    "top_prompts.groupby(['checkpoint', 'iprompt_generation_checkpoint']).mean()['reciprocal_rank']"
   ]
  },
  {
   "cell_type": "code",
   "execution_count": 32,
   "id": "fb517b76-dc92-44ee-b931-6b652ce95cf1",
   "metadata": {},
   "outputs": [
    {
     "data": {
      "text/html": [
       "<div>\n",
       "<style scoped>\n",
       "    .dataframe tbody tr th:only-of-type {\n",
       "        vertical-align: middle;\n",
       "    }\n",
       "\n",
       "    .dataframe tbody tr th {\n",
       "        vertical-align: top;\n",
       "    }\n",
       "\n",
       "    .dataframe thead th {\n",
       "        text-align: right;\n",
       "    }\n",
       "</style>\n",
       "<table border=\"1\" class=\"dataframe\">\n",
       "  <thead>\n",
       "    <tr style=\"text-align: right;\">\n",
       "      <th>iprompt_generation_checkpoint</th>\n",
       "      <th>EleutherAI/gpt-neo-125M</th>\n",
       "      <th>EleutherAI/gpt-neo-1.3B</th>\n",
       "      <th>EleutherAI/gpt-neo-2.7B</th>\n",
       "      <th>EleutherAI/gpt-j-6B</th>\n",
       "    </tr>\n",
       "    <tr>\n",
       "      <th>checkpoint</th>\n",
       "      <th></th>\n",
       "      <th></th>\n",
       "      <th></th>\n",
       "      <th></th>\n",
       "    </tr>\n",
       "  </thead>\n",
       "  <tbody>\n",
       "    <tr>\n",
       "      <th>EleutherAI/gpt-neo-125M</th>\n",
       "      <td>0.072397</td>\n",
       "      <td>0.072295</td>\n",
       "      <td>0.128244</td>\n",
       "      <td>0.118559</td>\n",
       "    </tr>\n",
       "    <tr>\n",
       "      <th>EleutherAI/gpt-neo-1.3B</th>\n",
       "      <td>0.068131</td>\n",
       "      <td>0.146011</td>\n",
       "      <td>0.185427</td>\n",
       "      <td>0.210583</td>\n",
       "    </tr>\n",
       "    <tr>\n",
       "      <th>EleutherAI/gpt-neo-2.7B</th>\n",
       "      <td>0.114722</td>\n",
       "      <td>0.238823</td>\n",
       "      <td>0.309964</td>\n",
       "      <td>0.245705</td>\n",
       "    </tr>\n",
       "    <tr>\n",
       "      <th>EleutherAI/gpt-j-6B</th>\n",
       "      <td>0.229976</td>\n",
       "      <td>0.398930</td>\n",
       "      <td>0.443250</td>\n",
       "      <td>0.418695</td>\n",
       "    </tr>\n",
       "  </tbody>\n",
       "</table>\n",
       "</div>"
      ],
      "text/plain": [
       "iprompt_generation_checkpoint  EleutherAI/gpt-neo-125M  \\\n",
       "checkpoint                                               \n",
       "EleutherAI/gpt-neo-125M                       0.072397   \n",
       "EleutherAI/gpt-neo-1.3B                       0.068131   \n",
       "EleutherAI/gpt-neo-2.7B                       0.114722   \n",
       "EleutherAI/gpt-j-6B                           0.229976   \n",
       "\n",
       "iprompt_generation_checkpoint  EleutherAI/gpt-neo-1.3B  \\\n",
       "checkpoint                                               \n",
       "EleutherAI/gpt-neo-125M                       0.072295   \n",
       "EleutherAI/gpt-neo-1.3B                       0.146011   \n",
       "EleutherAI/gpt-neo-2.7B                       0.238823   \n",
       "EleutherAI/gpt-j-6B                           0.398930   \n",
       "\n",
       "iprompt_generation_checkpoint  EleutherAI/gpt-neo-2.7B  EleutherAI/gpt-j-6B  \n",
       "checkpoint                                                                   \n",
       "EleutherAI/gpt-neo-125M                       0.128244             0.118559  \n",
       "EleutherAI/gpt-neo-1.3B                       0.185427             0.210583  \n",
       "EleutherAI/gpt-neo-2.7B                       0.309964             0.245705  \n",
       "EleutherAI/gpt-j-6B                           0.443250             0.418695  "
      ]
     },
     "execution_count": 32,
     "metadata": {},
     "output_type": "execute_result"
    }
   ],
   "source": [
    "top_prompts_heatmap = (\n",
    "    top_prompts\n",
    "        .groupby(['checkpoint', 'iprompt_generation_checkpoint'])\n",
    "        .mean()\n",
    "        .reset_index()\n",
    "        .pivot(index='checkpoint', columns='iprompt_generation_checkpoint', values='reciprocal_rank')\n",
    ")\n",
    "\n",
    "\n",
    "AXIS_ORDER = [\n",
    "       'EleutherAI/gpt-neo-125M', 'EleutherAI/gpt-neo-1.3B',\n",
    "       'EleutherAI/gpt-neo-2.7B', 'EleutherAI/gpt-j-6B'\n",
    "]\n",
    "# sort columns (x)\n",
    "top_prompts_heatmap = top_prompts_heatmap[AXIS_ORDER]\n",
    "# sort rows (y)?\n",
    "top_prompts_heatmap = top_prompts_heatmap.sort_index(key=lambda index_list: [AXIS_ORDER.index(y) for y in index_list])\n",
    "top_prompts_heatmap"
   ]
  },
  {
   "cell_type": "code",
   "execution_count": 36,
   "id": "cb24fca3-cbaa-4df9-a17a-14e75d36672e",
   "metadata": {},
   "outputs": [
    {
     "data": {
      "image/png": "[encoded data removed]",
      "text/plain": [
       "<Figure size 432x288 with 2 Axes>"
      ]
     },
     "metadata": {
      "needs_background": "light"
     },
     "output_type": "display_data"
    }
   ],
   "source": [
    "import matplotlib.pyplot as plt\n",
    "import seaborn as sns\n",
    "\n",
    "SHORT_LABELS = ['125M', '1.3B', '2.7B', '6B']\n",
    "ax = sns.heatmap(top_prompts_heatmap, cmap='Blues')\n",
    "ax.set_xticklabels(SHORT_LABELS)\n",
    "ax.set_yticklabels(SHORT_LABELS)\n",
    "ax.set_title('MRR')\n",
    "ax.set_xlabel('Generation Model Params', fontsize='large')\n",
    "ax.set_ylabel('Reranking Model Params', fontsize='large')\n",
    "\n",
    "pdf_filename = 'ablation_prompts_disc.pdf'\n",
    "plt.tight_layout()\n",
    "plt.savefig(pdf_filename, dpi=300)"
   ]
  },
  {
   "cell_type": "code",
   "execution_count": 31,
   "id": "fb01920d-d5ff-4318-997c-ccee414d3bb6",
   "metadata": {},
   "outputs": [
    {
     "data": {
      "text/plain": [
       "<AxesSubplot:xlabel='prefix_train_acc', ylabel='reciprocal_rank'>"
      ]
     },
     "execution_count": 31,
     "metadata": {},
     "output_type": "execute_result"
    },
    {
     "data": {
      "image/png": "[encoded data removed]",
      "text/plain": [
       "<Figure size 432x288 with 1 Axes>"
      ]
     },
     "metadata": {
      "needs_background": "light"
     },
     "output_type": "display_data"
    }
   ],
   "source": [
    "sns.scatterplot(data=top_prompts, x='prefix_train_acc', y='reciprocal_rank')"
   ]
  },
  {
   "cell_type": "code",
   "execution_count": null,
   "id": "45bdadb4-e02a-481a-a646-d399ef41bd93",
   "metadata": {},
   "outputs": [],
   "source": []
  }
 ],
 "metadata": {
  "kernelspec": {
   "display_name": "Python 3 (ipykernel)",
   "language": "python",
   "name": "python3"
  },
  "language_info": {
   "codemirror_mode": {
    "name": "ipython",
    "version": 3
   },
   "file_extension": ".py",
   "mimetype": "text/x-python",
   "name": "python",
   "nbconvert_exporter": "python",
   "pygments_lexer": "ipython3",
   "version": "3.9.7"
  }
 },
 "nbformat": 4,
 "nbformat_minor": 5
}
