{
 "cells": [
  {
   "cell_type": "code",
   "execution_count": 1,
   "id": "9f0fa546-842f-4173-9af9-d2e878557f5b",
   "metadata": {},
   "outputs": [],
   "source": [
    "%load_ext autoreload\n",
    "%autoreload 2\n",
    "\n",
    "import pandas as pd\n",
    "pd.set_option('display.max_columns', None)"
   ]
  },
  {
   "cell_type": "code",
   "execution_count": 2,
   "id": "9bdf7058-0718-4802-94f1-389392559e08",
   "metadata": {},
   "outputs": [
    {
     "name": "stdout",
     "output_type": "stream",
     "text": [
      "calling\n"
     ]
    },
    {
     "name": "stderr",
     "output_type": "stream",
     "text": [
      "100%|█████████████████████████████████████████████████████████████████████████████████████████████████████| 72/72 [00:01<00:00, 70.92it/s]\n"
     ]
    }
   ],
   "source": [
    "import analyze_utils\n",
    "\n",
    "save_dir = '/home/jxm3/research/prompting/interpretable-autoprompting/results_icml/ablation_math_across_difficulty_levels_rerun'\n",
    "\n",
    "r = analyze_utils.load_results_and_cache_autoprompt_json(save_dir, save_file='r.pkl')"
   ]
  },
  {
   "cell_type": "code",
   "execution_count": 5,
   "id": "c6391544-d80c-484e-af24-da5eaadb0b4d",
   "metadata": {},
   "outputs": [
    {
     "data": {
      "text/html": [
       "<div>\n",
       "<style scoped>\n",
       "    .dataframe tbody tr th:only-of-type {\n",
       "        vertical-align: middle;\n",
       "    }\n",
       "\n",
       "    .dataframe tbody tr th {\n",
       "        vertical-align: top;\n",
       "    }\n",
       "\n",
       "    .dataframe thead th {\n",
       "        text-align: right;\n",
       "    }\n",
       "</style>\n",
       "<table border=\"1\" class=\"dataframe\">\n",
       "  <thead>\n",
       "    <tr style=\"text-align: right;\">\n",
       "      <th></th>\n",
       "      <th>task_name</th>\n",
       "      <th>seed</th>\n",
       "      <th>max_digit</th>\n",
       "      <th>prefixes</th>\n",
       "      <th>reciprocal_rank</th>\n",
       "    </tr>\n",
       "  </thead>\n",
       "  <tbody>\n",
       "    <tr>\n",
       "      <th>0</th>\n",
       "      <td>add_two</td>\n",
       "      <td>1</td>\n",
       "      <td>10</td>\n",
       "      <td>Write a function called \"sum</td>\n",
       "      <td>1.000000</td>\n",
       "    </tr>\n",
       "    <tr>\n",
       "      <th>1</th>\n",
       "      <td>add_two</td>\n",
       "      <td>1</td>\n",
       "      <td>40</td>\n",
       "      <td>Your name plus an integer?</td>\n",
       "      <td>0.111111</td>\n",
       "    </tr>\n",
       "    <tr>\n",
       "      <th>2</th>\n",
       "      <td>add_two</td>\n",
       "      <td>1</td>\n",
       "      <td>80</td>\n",
       "      <td>_Input three_ `-</td>\n",
       "      <td>0.200000</td>\n",
       "    </tr>\n",
       "    <tr>\n",
       "      <th>3</th>\n",
       "      <td>add_two</td>\n",
       "      <td>1</td>\n",
       "      <td>160</td>\n",
       "      <td>Your name plus an integer?</td>\n",
       "      <td>0.166667</td>\n",
       "    </tr>\n",
       "    <tr>\n",
       "      <th>4</th>\n",
       "      <td>add_two</td>\n",
       "      <td>2</td>\n",
       "      <td>10</td>\n",
       "      <td>Write a function to add pairs</td>\n",
       "      <td>1.000000</td>\n",
       "    </tr>\n",
       "    <tr>\n",
       "      <th>...</th>\n",
       "      <td>...</td>\n",
       "      <td>...</td>\n",
       "      <td>...</td>\n",
       "      <td>...</td>\n",
       "      <td>...</td>\n",
       "    </tr>\n",
       "    <tr>\n",
       "      <th>67</th>\n",
       "      <td>subtract_two</td>\n",
       "      <td>2</td>\n",
       "      <td>40</td>\n",
       "      <td>\"Write a function that takes</td>\n",
       "      <td>0.017544</td>\n",
       "    </tr>\n",
       "    <tr>\n",
       "      <th>68</th>\n",
       "      <td>subtract_two</td>\n",
       "      <td>2</td>\n",
       "      <td>80</td>\n",
       "      <td>Given a number, find its</td>\n",
       "      <td>0.100000</td>\n",
       "    </tr>\n",
       "    <tr>\n",
       "      <th>69</th>\n",
       "      <td>subtract_two</td>\n",
       "      <td>2</td>\n",
       "      <td>160</td>\n",
       "      <td>Given some int values m1</td>\n",
       "      <td>0.142857</td>\n",
       "    </tr>\n",
       "    <tr>\n",
       "      <th>70</th>\n",
       "      <td>subtract_two</td>\n",
       "      <td>3</td>\n",
       "      <td>10</td>\n",
       "      <td>Given an array of positive</td>\n",
       "      <td>0.018519</td>\n",
       "    </tr>\n",
       "    <tr>\n",
       "      <th>71</th>\n",
       "      <td>subtract_two</td>\n",
       "      <td>3</td>\n",
       "      <td>80</td>\n",
       "      <td>| Given 6 different integers</td>\n",
       "      <td>0.029412</td>\n",
       "    </tr>\n",
       "  </tbody>\n",
       "</table>\n",
       "<p>72 rows × 5 columns</p>\n",
       "</div>"
      ],
      "text/plain": [
       "       task_name  seed  max_digit                        prefixes  \\\n",
       "0        add_two     1         10    Write a function called \"sum   \n",
       "1        add_two     1         40      Your name plus an integer?   \n",
       "2        add_two     1         80                _Input three_ `-   \n",
       "3        add_two     1        160      Your name plus an integer?   \n",
       "4        add_two     2         10   Write a function to add pairs   \n",
       "..           ...   ...        ...                             ...   \n",
       "67  subtract_two     2         40    \"Write a function that takes   \n",
       "68  subtract_two     2         80        Given a number, find its   \n",
       "69  subtract_two     2        160        Given some int values m1   \n",
       "70  subtract_two     3         10      Given an array of positive   \n",
       "71  subtract_two     3         80    | Given 6 different integers   \n",
       "\n",
       "    reciprocal_rank  \n",
       "0          1.000000  \n",
       "1          0.111111  \n",
       "2          0.200000  \n",
       "3          0.166667  \n",
       "4          1.000000  \n",
       "..              ...  \n",
       "67         0.017544  \n",
       "68         0.100000  \n",
       "69         0.142857  \n",
       "70         0.018519  \n",
       "71         0.029412  \n",
       "\n",
       "[72 rows x 5 columns]"
      ]
     },
     "execution_count": 5,
     "metadata": {},
     "output_type": "execute_result"
    }
   ],
   "source": [
    "top_prompts = (\n",
    "    r.groupby(['task_name', 'seed', 'max_digit'])\n",
    ").first().reset_index()\n",
    "top_prompts[['task_name', 'seed', 'max_digit', 'prefixes', 'reciprocal_rank']]"
   ]
  },
  {
   "cell_type": "code",
   "execution_count": 8,
   "id": "e8594644-3c8b-4cef-b4af-5958549cea16",
   "metadata": {},
   "outputs": [
    {
     "data": {
      "text/plain": [
       "0.12581689764458714"
      ]
     },
     "execution_count": 8,
     "metadata": {},
     "output_type": "execute_result"
    }
   ],
   "source": [
    "top_prompts['reciprocal_rank'].mean()"
   ]
  },
  {
   "cell_type": "code",
   "execution_count": 7,
   "id": "60f09eaf-e033-4242-bcab-8645182a7d61",
   "metadata": {},
   "outputs": [
    {
     "data": {
      "text/plain": [
       "<AxesSubplot:ylabel='max_digit'>"
      ]
     },
     "execution_count": 7,
     "metadata": {},
     "output_type": "execute_result"
    },
    {
     "data": {
      "image/png": "[encoded data removed]",
      "text/plain": [
       "<Figure size 432x288 with 1 Axes>"
      ]
     },
     "metadata": {
      "needs_background": "light"
     },
     "output_type": "display_data"
    }
   ],
   "source": [
    "top_prompts.groupby('max_digit').mean()['reciprocal_rank'].plot(kind='barh')"
   ]
  },
  {
   "cell_type": "code",
   "execution_count": 4,
   "id": "4d2140e3-914c-43e2-9490-f4285c1a7712",
   "metadata": {},
   "outputs": [],
   "source": [
    "assert r['checkpoint'].unique()[0] == \"EleutherAI/gpt-j-6B\""
   ]
  },
  {
   "cell_type": "code",
   "execution_count": 5,
   "id": "b01a0ac1-c5d7-492f-a2c7-bed8e56bade6",
   "metadata": {},
   "outputs": [
    {
     "name": "stderr",
     "output_type": "stream",
     "text": [
      "2023-01-17 15:40:20.579743: I tensorflow/core/platform/cpu_feature_guard.cc:193] This TensorFlow binary is optimized with oneAPI Deep Neural Network Library (oneDNN) to use the following CPU instructions in performance-critical operations:  AVX2 AVX512F AVX512_VNNI FMA\n",
      "To enable them in other operations, rebuild TensorFlow with the appropriate compiler flags.\n",
      "2023-01-17 15:40:20.761782: I tensorflow/core/util/util.cc:169] oneDNN custom operations are on. You may see slightly different numerical results due to floating-point round-off errors from different computation orders. To turn them off, set the environment variable `TF_ENABLE_ONEDNN_OPTS=0`.\n",
      "2023-01-17 15:40:20.798810: E tensorflow/stream_executor/cuda/cuda_blas.cc:2981] Unable to register cuBLAS factory: Attempting to register factory for plugin cuBLAS when one has already been registered\n",
      "2023-01-17 15:40:21.879204: W tensorflow/stream_executor/platform/default/dso_loader.cc:64] Could not load dynamic library 'libnvinfer.so.7'; dlerror: libnvinfer.so.7: cannot open shared object file: No such file or directory\n",
      "2023-01-17 15:40:21.879296: W tensorflow/stream_executor/platform/default/dso_loader.cc:64] Could not load dynamic library 'libnvinfer_plugin.so.7'; dlerror: libnvinfer_plugin.so.7: cannot open shared object file: No such file or directory\n",
      "2023-01-17 15:40:21.879303: W tensorflow/compiler/tf2tensorrt/utils/py_utils.cc:38] TF-TRT Warning: Cannot dlopen some TensorRT libraries. If you would like to use Nvidia GPU with TensorRT, please make sure the missing libraries mentioned above are installed properly.\n"
     ]
    }
   ],
   "source": [
    "from iprompt import prompt_classification\n",
    "\n",
    "model = prompt_classification.create_model(r['checkpoint'].unique()[0])"
   ]
  },
  {
   "cell_type": "code",
   "execution_count": 6,
   "id": "f5568418-477e-472c-9ff4-52d6fcdd96ed",
   "metadata": {},
   "outputs": [
    {
     "name": "stdout",
     "output_type": "stream",
     "text": [
      "calculating accs...\n"
     ]
    },
    {
     "data": {
      "application/vnd.jupyter.widget-view+json": {
       "model_id": "d7909c30d2d54f289aee830ebedf2f3f",
       "version_major": 2,
       "version_minor": 0
      },
      "text/plain": [
       "  0%|          | 0/150 [00:00<?, ?it/s]"
      ]
     },
     "metadata": {},
     "output_type": "display_data"
    }
   ],
   "source": [
    "## Compute accuracy given correct prompt and save for each task.\n",
    "import argparse\n",
    "from tqdm.notebook import tqdm\n",
    "from iprompt.data import get_data\n",
    "\n",
    "\n",
    "data = []\n",
    "print('calculating accs...')\n",
    "n_shots = 1\n",
    "batch_size = 16\n",
    "\n",
    "\"\"\"\n",
    "task_name: str = 'add_two',\n",
    " n_shots: int = 1,\n",
    " train_split_frac: float = None,\n",
    " max_dset_size: int = 10000,\n",
    " template_num_task_phrasing: int = 0,\n",
    " max_digit: int = 10,\n",
    " \"\"\"\n",
    "\n",
    "for _, output in tqdm(top_prompts.iterrows(), total=len(top_prompts)):\n",
    "    args = argparse.Namespace(**output)\n",
    "    (dset, dset_test), check_answer_func, descr = get_data(\n",
    "        args.task_name, n_shots=n_shots, train_split_frac=args.train_split_frac,\n",
    "        max_dset_size=args.max_dset_size, template_num_task_phrasing=0,\n",
    "        max_digit=args.max_digit,\n",
    "    )\n",
    "    # if task_name == 'task107_splash_question_to_sql':\n",
    "    #     batch_size = max(1, batch_size//4)\n",
    "    ####   Manual prompt  ####\n",
    "    manual_loss, manual_acc = prompt_classification.test_model_on_task_with_prefix(\n",
    "        dset=dset, model=model, prefix=descr, multi_token=False, verbose=False,\n",
    "        batch_size=batch_size,\n",
    "    )\n",
    "    ####   iPrompt prompt   ####\n",
    "    iprompt_loss, iprompt_acc = prompt_classification.test_model_on_task_with_prefix(\n",
    "        dset=dset, model=model, prefix=output['prefixes'], multi_token=False, verbose=False,\n",
    "        batch_size=batch_size,\n",
    "    )\n",
    "    ####\n",
    "    output['manual_acc'] = manual_acc\n",
    "    output['iprompt_acc'] = iprompt_acc\n",
    "    data.append(output)"
   ]
  },
  {
   "cell_type": "code",
   "execution_count": 21,
   "id": "81ca79f8-e45a-4d1b-8af4-3e54fcbcd2ee",
   "metadata": {},
   "outputs": [
    {
     "data": {
      "text/plain": [
       "' Given n positive integers that add'"
      ]
     },
     "execution_count": 21,
     "metadata": {},
     "output_type": "execute_result"
    }
   ],
   "source": [
    "output['prefixes']"
   ]
  },
  {
   "cell_type": "code",
   "execution_count": 8,
   "id": "18781d1c-8c3c-4819-a5c2-2cf524a20808",
   "metadata": {},
   "outputs": [],
   "source": [
    "import os\n",
    "\n",
    "top_prompts_df = pd.DataFrame(data)\n",
    "top_prompts_df.to_pickle(os.path.join(save_dir, 'top_prompts.pkl'))"
   ]
  },
  {
   "cell_type": "code",
   "execution_count": 18,
   "id": "7493d2e3-7d6f-40e2-835d-5c752e95075c",
   "metadata": {},
   "outputs": [],
   "source": [
    "top_prompts_df['prompt_ratio'] = top_prompts_df['manual_acc'] / top_prompts_df['iprompt_acc']"
   ]
  },
  {
   "cell_type": "code",
   "execution_count": 40,
   "id": "fc3f1168-91ea-4e27-a7c6-a3c2a8ab344f",
   "metadata": {},
   "outputs": [
    {
     "data": {
      "image/png": "[encoded data removed]",
      "text/plain": [
       "<Figure size 432x288 with 1 Axes>"
      ]
     },
     "metadata": {
      "needs_background": "light"
     },
     "output_type": "display_data"
    }
   ],
   "source": [
    "import matplotlib.pyplot as plt\n",
    "import seaborn as sns\n",
    "\n",
    "r_grouped_by_task = (\n",
    "    top_prompts_df\n",
    "     .groupby(['max_digit', 'task_name']).mean()\n",
    "     .reset_index()\n",
    ")\n",
    "\n",
    "ax = sns.lineplot(\n",
    "    data=r_grouped_by_task, x='max_digit', y='reciprocal_rank', hue='task_name',\n",
    ")\n",
    "sns.move_legend(ax, \"upper left\", bbox_to_anchor=(1, 1)) # legend outside of plot\n",
    "# ax.set_yscale('log')"
   ]
  },
  {
   "cell_type": "code",
   "execution_count": 38,
   "id": "229cd8af-f069-4ae0-901e-2836be128b0b",
   "metadata": {},
   "outputs": [
    {
     "data": {
      "text/html": [
       "<div>\n",
       "<style scoped>\n",
       "    .dataframe tbody tr th:only-of-type {\n",
       "        vertical-align: middle;\n",
       "    }\n",
       "\n",
       "    .dataframe tbody tr th {\n",
       "        vertical-align: top;\n",
       "    }\n",
       "\n",
       "    .dataframe thead th {\n",
       "        text-align: right;\n",
       "    }\n",
       "</style>\n",
       "<table border=\"1\" class=\"dataframe\">\n",
       "  <thead>\n",
       "    <tr style=\"text-align: right;\">\n",
       "      <th></th>\n",
       "      <th>prefixes</th>\n",
       "      <th>reciprocal_rank</th>\n",
       "      <th>task_name</th>\n",
       "    </tr>\n",
       "  </thead>\n",
       "  <tbody>\n",
       "    <tr>\n",
       "      <th>0</th>\n",
       "      <td>Input two positive integer values</td>\n",
       "      <td>0.066667</td>\n",
       "      <td>add_two</td>\n",
       "    </tr>\n",
       "    <tr>\n",
       "      <th>9</th>\n",
       "      <td>Input three natural-number pairs</td>\n",
       "      <td>0.071429</td>\n",
       "      <td>add_two</td>\n",
       "    </tr>\n",
       "    <tr>\n",
       "      <th>16</th>\n",
       "      <td>1  /, 2 %</td>\n",
       "      <td>0.011905</td>\n",
       "      <td>divide_two</td>\n",
       "    </tr>\n",
       "    <tr>\n",
       "      <th>17</th>\n",
       "      <td>Input two integers m (the</td>\n",
       "      <td>0.024390</td>\n",
       "      <td>divide_two</td>\n",
       "    </tr>\n",
       "    <tr>\n",
       "      <th>19</th>\n",
       "      <td>Given a fraction F (a</td>\n",
       "      <td>0.037037</td>\n",
       "      <td>divide_two</td>\n",
       "    </tr>\n",
       "    <tr>\n",
       "      <th>...</th>\n",
       "      <td>...</td>\n",
       "      <td>...</td>\n",
       "      <td>...</td>\n",
       "    </tr>\n",
       "    <tr>\n",
       "      <th>144</th>\n",
       "      <td>Given 3 digits x, y</td>\n",
       "      <td>0.083333</td>\n",
       "      <td>subtract_two</td>\n",
       "    </tr>\n",
       "    <tr>\n",
       "      <th>145</th>\n",
       "      <td>Write a function named sum</td>\n",
       "      <td>0.066667</td>\n",
       "      <td>subtract_two</td>\n",
       "    </tr>\n",
       "    <tr>\n",
       "      <th>146</th>\n",
       "      <td>1 Given 2 Prompt 3 &lt;</td>\n",
       "      <td>0.045455</td>\n",
       "      <td>subtract_two</td>\n",
       "    </tr>\n",
       "    <tr>\n",
       "      <th>148</th>\n",
       "      <td>Given 3 positive integers a,</td>\n",
       "      <td>0.030303</td>\n",
       "      <td>subtract_two</td>\n",
       "    </tr>\n",
       "    <tr>\n",
       "      <th>149</th>\n",
       "      <td>Given n positive integers that add</td>\n",
       "      <td>0.041667</td>\n",
       "      <td>subtract_two</td>\n",
       "    </tr>\n",
       "  </tbody>\n",
       "</table>\n",
       "<p>99 rows × 3 columns</p>\n",
       "</div>"
      ],
      "text/plain": [
       "                                prefixes  reciprocal_rank     task_name\n",
       "0      Input two positive integer values         0.066667       add_two\n",
       "9       Input three natural-number pairs         0.071429       add_two\n",
       "16                             1  /, 2 %         0.011905    divide_two\n",
       "17             Input two integers m (the         0.024390    divide_two\n",
       "19                 Given a fraction F (a         0.037037    divide_two\n",
       "..                                   ...              ...           ...\n",
       "144                  Given 3 digits x, y         0.083333  subtract_two\n",
       "145           Write a function named sum         0.066667  subtract_two\n",
       "146                 1 Given 2 Prompt 3 <         0.045455  subtract_two\n",
       "148         Given 3 positive integers a,         0.030303  subtract_two\n",
       "149   Given n positive integers that add         0.041667  subtract_two\n",
       "\n",
       "[99 rows x 3 columns]"
      ]
     },
     "execution_count": 38,
     "metadata": {},
     "output_type": "execute_result"
    }
   ],
   "source": [
    "top_prompts_df[top_prompts_df['reciprocal_rank'] < 0.1][['prefixes','reciprocal_rank','task_name']]"
   ]
  },
  {
   "cell_type": "code",
   "execution_count": null,
   "id": "78207c13-1261-44ee-9396-389865be93b0",
   "metadata": {},
   "outputs": [],
   "source": []
  }
 ],
 "metadata": {
  "kernelspec": {
   "display_name": "Python 3 (ipykernel)",
   "language": "python",
   "name": "python3"
  },
  "language_info": {
   "codemirror_mode": {
    "name": "ipython",
    "version": 3
   },
   "file_extension": ".py",
   "mimetype": "text/x-python",
   "name": "python",
   "nbconvert_exporter": "python",
   "pygments_lexer": "ipython3",
   "version": "3.9.7"
  }
 },
 "nbformat": 4,
 "nbformat_minor": 5
}
