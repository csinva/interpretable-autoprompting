{
 "cells": [
  {
   "cell_type": "code",
   "execution_count": 1,
   "id": "9f0fa546-842f-4173-9af9-d2e878557f5b",
   "metadata": {},
   "outputs": [],
   "source": [
    "%load_ext autoreload\n",
    "%autoreload 2\n",
    "\n",
    "import pandas as pd\n",
    "pd.set_option('display.max_columns', None)"
   ]
  },
  {
   "cell_type": "code",
   "execution_count": 2,
   "id": "9bdf7058-0718-4802-94f1-389392559e08",
   "metadata": {},
   "outputs": [
    {
     "name": "stdout",
     "output_type": "stream",
     "text": [
      "calling\n"
     ]
    },
    {
     "name": "stderr",
     "output_type": "stream",
     "text": [
      " 96%|███████████████████████████████████████████████████████████████████████████████████████████████████    | 280/291 [00:16<00:00, 14.97it/s]"
     ]
    },
    {
     "name": "stdout",
     "output_type": "stream",
     "text": [
      "skipping /home/jxm3/research/prompting/interpretable-autoprompting/results_icml/ablation3/Jan_19_21_21_obexvmxwjhwt/results.pkl (run still in progress?)\n",
      "skipping /home/jxm3/research/prompting/interpretable-autoprompting/results_icml/ablation3/Jan_19_21_23_wkefrefdezcv/results.pkl (run still in progress?)\n"
     ]
    },
    {
     "name": "stderr",
     "output_type": "stream",
     "text": [
      "100%|███████████████████████████████████████████████████████████████████████████████████████████████████████| 291/291 [00:17<00:00, 16.62it/s]\n"
     ]
    }
   ],
   "source": [
    "import analyze_utils\n",
    "\n",
    "save_dir = '/home/jxm3/research/prompting/interpretable-autoprompting/results_icml/ablation3'\n",
    "\n",
    "r, all_losses = analyze_utils.load_results_and_cache_autoprompt_json(save_dir, include_losses=True, save_file='r.pkl')"
   ]
  },
  {
   "cell_type": "code",
   "execution_count": 3,
   "id": "c6391544-d80c-484e-af24-da5eaadb0b4d",
   "metadata": {},
   "outputs": [],
   "source": [
    "top_prompts = (\n",
    "    r.groupby(['task_name', 'seed', 'checkpoint', 'iprompt_generation_checkpoint'])\n",
    ").first().reset_index()"
   ]
  },
  {
   "cell_type": "code",
   "execution_count": 4,
   "id": "ccfd004e-1fb7-4a53-aaa1-b53cec879cfb",
   "metadata": {},
   "outputs": [
    {
     "data": {
      "text/plain": [
       "289"
      ]
     },
     "execution_count": 4,
     "metadata": {},
     "output_type": "execute_result"
    }
   ],
   "source": [
    "len(top_prompts)"
   ]
  },
  {
   "cell_type": "code",
   "execution_count": 5,
   "id": "8978942e-4bcc-4102-952d-a9b6bb5989b3",
   "metadata": {},
   "outputs": [
    {
     "data": {
      "text/plain": [
       "['accum_grad_over_epoch', 'prefix_train_acc']"
      ]
     },
     "execution_count": 5,
     "metadata": {},
     "output_type": "execute_result"
    }
   ],
   "source": [
    "[c for c in top_prompts.columns if 'acc' in c]"
   ]
  },
  {
   "cell_type": "code",
   "execution_count": 6,
   "id": "c3570b83-7514-4ac4-952d-00ed23715637",
   "metadata": {},
   "outputs": [
    {
     "data": {
      "text/plain": [
       "checkpoint               iprompt_generation_checkpoint\n",
       "EleutherAI/gpt-j-6B      EleutherAI/gpt-j-6B              0.229066\n",
       "                         EleutherAI/gpt-neo-1.3B          0.216912\n",
       "                         EleutherAI/gpt-neo-125M          0.175103\n",
       "                         EleutherAI/gpt-neo-2.7B          0.185739\n",
       "EleutherAI/gpt-neo-1.3B  EleutherAI/gpt-j-6B              0.156077\n",
       "                         EleutherAI/gpt-neo-1.3B          0.029094\n",
       "                         EleutherAI/gpt-neo-125M          0.006296\n",
       "                         EleutherAI/gpt-neo-2.7B          0.112416\n",
       "EleutherAI/gpt-neo-125M  EleutherAI/gpt-j-6B              0.035069\n",
       "                         EleutherAI/gpt-neo-1.3B          0.097305\n",
       "                         EleutherAI/gpt-neo-125M          0.030126\n",
       "                         EleutherAI/gpt-neo-2.7B          0.082821\n",
       "EleutherAI/gpt-neo-2.7B  EleutherAI/gpt-j-6B              0.323577\n",
       "                         EleutherAI/gpt-neo-1.3B          0.089812\n",
       "                         EleutherAI/gpt-neo-125M          0.016815\n",
       "                         EleutherAI/gpt-neo-2.7B          0.137018\n",
       "Name: reciprocal_rank, dtype: float64"
      ]
     },
     "execution_count": 6,
     "metadata": {},
     "output_type": "execute_result"
    }
   ],
   "source": [
    "top_prompts.groupby(['checkpoint', 'iprompt_generation_checkpoint']).mean()['reciprocal_rank']"
   ]
  },
  {
   "cell_type": "code",
   "execution_count": 7,
   "id": "fb517b76-dc92-44ee-b931-6b652ce95cf1",
   "metadata": {},
   "outputs": [
    {
     "data": {
      "text/html": [
       "<div>\n",
       "<style scoped>\n",
       "    .dataframe tbody tr th:only-of-type {\n",
       "        vertical-align: middle;\n",
       "    }\n",
       "\n",
       "    .dataframe tbody tr th {\n",
       "        vertical-align: top;\n",
       "    }\n",
       "\n",
       "    .dataframe thead th {\n",
       "        text-align: right;\n",
       "    }\n",
       "</style>\n",
       "<table border=\"1\" class=\"dataframe\">\n",
       "  <thead>\n",
       "    <tr style=\"text-align: right;\">\n",
       "      <th>iprompt_generation_checkpoint</th>\n",
       "      <th>EleutherAI/gpt-neo-125M</th>\n",
       "      <th>EleutherAI/gpt-neo-1.3B</th>\n",
       "      <th>EleutherAI/gpt-neo-2.7B</th>\n",
       "      <th>EleutherAI/gpt-j-6B</th>\n",
       "    </tr>\n",
       "    <tr>\n",
       "      <th>checkpoint</th>\n",
       "      <th></th>\n",
       "      <th></th>\n",
       "      <th></th>\n",
       "      <th></th>\n",
       "    </tr>\n",
       "  </thead>\n",
       "  <tbody>\n",
       "    <tr>\n",
       "      <th>EleutherAI/gpt-neo-125M</th>\n",
       "      <td>0.030126</td>\n",
       "      <td>0.097305</td>\n",
       "      <td>0.082821</td>\n",
       "      <td>0.035069</td>\n",
       "    </tr>\n",
       "    <tr>\n",
       "      <th>EleutherAI/gpt-neo-1.3B</th>\n",
       "      <td>0.006296</td>\n",
       "      <td>0.029094</td>\n",
       "      <td>0.112416</td>\n",
       "      <td>0.156077</td>\n",
       "    </tr>\n",
       "    <tr>\n",
       "      <th>EleutherAI/gpt-neo-2.7B</th>\n",
       "      <td>0.016815</td>\n",
       "      <td>0.089812</td>\n",
       "      <td>0.137018</td>\n",
       "      <td>0.323577</td>\n",
       "    </tr>\n",
       "    <tr>\n",
       "      <th>EleutherAI/gpt-j-6B</th>\n",
       "      <td>0.175103</td>\n",
       "      <td>0.216912</td>\n",
       "      <td>0.185739</td>\n",
       "      <td>0.229066</td>\n",
       "    </tr>\n",
       "  </tbody>\n",
       "</table>\n",
       "</div>"
      ],
      "text/plain": [
       "iprompt_generation_checkpoint  EleutherAI/gpt-neo-125M  \\\n",
       "checkpoint                                               \n",
       "EleutherAI/gpt-neo-125M                       0.030126   \n",
       "EleutherAI/gpt-neo-1.3B                       0.006296   \n",
       "EleutherAI/gpt-neo-2.7B                       0.016815   \n",
       "EleutherAI/gpt-j-6B                           0.175103   \n",
       "\n",
       "iprompt_generation_checkpoint  EleutherAI/gpt-neo-1.3B  \\\n",
       "checkpoint                                               \n",
       "EleutherAI/gpt-neo-125M                       0.097305   \n",
       "EleutherAI/gpt-neo-1.3B                       0.029094   \n",
       "EleutherAI/gpt-neo-2.7B                       0.089812   \n",
       "EleutherAI/gpt-j-6B                           0.216912   \n",
       "\n",
       "iprompt_generation_checkpoint  EleutherAI/gpt-neo-2.7B  EleutherAI/gpt-j-6B  \n",
       "checkpoint                                                                   \n",
       "EleutherAI/gpt-neo-125M                       0.082821             0.035069  \n",
       "EleutherAI/gpt-neo-1.3B                       0.112416             0.156077  \n",
       "EleutherAI/gpt-neo-2.7B                       0.137018             0.323577  \n",
       "EleutherAI/gpt-j-6B                           0.185739             0.229066  "
      ]
     },
     "execution_count": 7,
     "metadata": {},
     "output_type": "execute_result"
    }
   ],
   "source": [
    "top_prompts_heatmap = (\n",
    "    top_prompts\n",
    "        .groupby(['checkpoint', 'iprompt_generation_checkpoint'])\n",
    "        .mean()\n",
    "        .reset_index()\n",
    "        .pivot(index='checkpoint', columns='iprompt_generation_checkpoint', values='reciprocal_rank')\n",
    ")\n",
    "\n",
    "\n",
    "AXIS_ORDER = [\n",
    "       'EleutherAI/gpt-neo-125M', 'EleutherAI/gpt-neo-1.3B',\n",
    "       'EleutherAI/gpt-neo-2.7B', 'EleutherAI/gpt-j-6B'\n",
    "]\n",
    "# sort columns (x)\n",
    "top_prompts_heatmap = top_prompts_heatmap[AXIS_ORDER]\n",
    "# sort rows (y)?\n",
    "top_prompts_heatmap = top_prompts_heatmap.sort_index(key=lambda index_list: [AXIS_ORDER.index(y) for y in index_list])\n",
    "top_prompts_heatmap"
   ]
  },
  {
   "cell_type": "code",
   "execution_count": 8,
   "id": "cb24fca3-cbaa-4df9-a17a-14e75d36672e",
   "metadata": {},
   "outputs": [
    {
     "data": {
      "text/plain": [
       "[Text(0.5, 15.0, 'Generation'), Text(32.99999999999999, 0.5, 'Reranking')]"
      ]
     },
     "execution_count": 8,
     "metadata": {},
     "output_type": "execute_result"
    },
    {
     "data": {
      "image/png": "[encoded data removed]",
      "text/plain": [
       "<Figure size 432x288 with 2 Axes>"
      ]
     },
     "metadata": {
      "needs_background": "light"
     },
     "output_type": "display_data"
    }
   ],
   "source": [
    "import seaborn as sns\n",
    "\n",
    "ax = sns.heatmap(top_prompts_heatmap)\n",
    "ax.set(xlabel='Generation', ylabel='Reranking')"
   ]
  },
  {
   "cell_type": "code",
   "execution_count": null,
   "id": "93f93f7e-8109-4db8-adc7-7ef5eaab1ebf",
   "metadata": {},
   "outputs": [],
   "source": []
  }
 ],
 "metadata": {
  "kernelspec": {
   "display_name": "Python 3 (ipykernel)",
   "language": "python",
   "name": "python3"
  },
  "language_info": {
   "codemirror_mode": {
    "name": "ipython",
    "version": 3
   },
   "file_extension": ".py",
   "mimetype": "text/x-python",
   "name": "python",
   "nbconvert_exporter": "python",
   "pygments_lexer": "ipython3",
   "version": "3.9.7"
  }
 },
 "nbformat": 4,
 "nbformat_minor": 5
}
