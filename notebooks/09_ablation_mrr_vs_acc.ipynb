{
 "cells": [
  {
   "cell_type": "code",
   "execution_count": 1,
   "id": "a9de87c7-ec19-4947-8d47-ab3409192fd3",
   "metadata": {},
   "outputs": [],
   "source": [
    "%load_ext autoreload\n",
    "%autoreload 2\n",
    "\n",
    "import pandas as pd\n",
    "pd.set_option('display.max_columns', None)"
   ]
  },
  {
   "cell_type": "code",
   "execution_count": 2,
   "id": "8a583d7d-23e8-4525-aedf-32ca9153dc16",
   "metadata": {},
   "outputs": [],
   "source": [
    "import pandas as pd\n",
    "\n",
    "df = pd.read_pickle('/home/jxm3/research/prompting/interpretable-autoprompting/results_icml/df_prompts_and_reciprocal_rank.pkl')"
   ]
  },
  {
   "cell_type": "code",
   "execution_count": 3,
   "id": "6cc760d6-ebcb-42ab-99fe-8c84df43dbde",
   "metadata": {},
   "outputs": [
    {
     "data": {
      "text/plain": [
       "task1146_country_capital     57\n",
       "add_two                      48\n",
       "task1147_country_currency    46\n",
       "translation_en-es            44\n",
       "divide_two                   44\n",
       "                             ..\n",
       "d3_1                         18\n",
       "d3_7                         18\n",
       "d3_47                        17\n",
       "d3_44                        17\n",
       "d3_50                        15\n",
       "Name: task_name, Length: 98, dtype: int64"
      ]
     },
     "execution_count": 3,
     "metadata": {},
     "output_type": "execute_result"
    }
   ],
   "source": [
    "df['task_name'].value_counts()"
   ]
  },
  {
   "cell_type": "code",
   "execution_count": 4,
   "id": "bd9a59f3-9ac4-4ef3-b431-4dfaa626f88b",
   "metadata": {},
   "outputs": [
    {
     "data": {
      "text/plain": [
       "suff          1360\n",
       "autoprompt     692\n",
       "iprompt        659\n",
       "Name: model_cls, dtype: int64"
      ]
     },
     "execution_count": 4,
     "metadata": {},
     "output_type": "execute_result"
    }
   ],
   "source": [
    "df['model_cls'].value_counts()"
   ]
  },
  {
   "cell_type": "code",
   "execution_count": 5,
   "id": "f71bd4c5-d95c-42d0-8b11-bf2fd9c0abe8",
   "metadata": {},
   "outputs": [
    {
     "data": {
      "text/plain": [
       "EleutherAI/gpt-j-6B        1327\n",
       "facebook/galactica-6.7b     794\n",
       "google/flan-t5-xl           590\n",
       "Name: checkpoint, dtype: int64"
      ]
     },
     "execution_count": 5,
     "metadata": {},
     "output_type": "execute_result"
    }
   ],
   "source": [
    "df['checkpoint'].value_counts()"
   ]
  },
  {
   "cell_type": "code",
   "execution_count": 6,
   "id": "b506e975-1f52-42bc-a88a-7c129c24e59b",
   "metadata": {},
   "outputs": [
    {
     "data": {
      "text/plain": [
       "60"
      ]
     },
     "execution_count": 6,
     "metadata": {},
     "output_type": "execute_result"
    }
   ],
   "source": [
    "MATH_TASK_NAMES = {\n",
    "    'add_two', 'multiply_two', 'subtract_two', 'max_two', \n",
    "    'first_two', 'square_one', 'double_one', 'exp_one',  \n",
    "    'fibonacci_one', 'divide_two'\n",
    "}\n",
    "ANLI_TASK_NAMES = {'task088_identify_typo_verification',\n",
    " 'task092_check_prime_classification',\n",
    " 'task107_splash_question_to_sql',\n",
    " 'task1146_country_capital',\n",
    " 'task1147_country_currency',\n",
    " 'task1149_item_check_edible',\n",
    " 'task1191_food_veg_nonveg',\n",
    " 'task1336_peixian_equity_evaluation_corpus_gender_classifier',\n",
    " 'task1509_evalution_antonyms',\n",
    " 'task183_rhyme_generation'}\n",
    "\n",
    "gpt_df = df[\n",
    "       (df['task_name'].map(lambda t: (t in MATH_TASK_NAMES) or (t in ANLI_TASK_NAMES)))\n",
    "    &  (df['checkpoint'] == 'EleutherAI/gpt-j-6B')\n",
    "    &  (df['model_cls'] == 'iprompt')\n",
    "]\n",
    "len(gpt_df)"
   ]
  },
  {
   "cell_type": "markdown",
   "id": "d2f19ebd-3910-43eb-8565-ca405c9f69ce",
   "metadata": {},
   "source": [
    "## getting accuraciesfrom iprompt import prompt_classification\n",
    "\n",
    "model = prompt_classification.create_model(r['checkpoint'].unique()[0])"
   ]
  },
  {
   "cell_type": "code",
   "execution_count": 7,
   "id": "60cc5d12-1bd0-4234-b728-dc7631c78f76",
   "metadata": {},
   "outputs": [
    {
     "name": "stderr",
     "output_type": "stream",
     "text": [
      "2023-01-25 17:57:07.242076: I tensorflow/core/platform/cpu_feature_guard.cc:193] This TensorFlow binary is optimized with oneAPI Deep Neural Network Library (oneDNN) to use the following CPU instructions in performance-critical operations:  AVX2 AVX512F AVX512_VNNI FMA\n",
      "To enable them in other operations, rebuild TensorFlow with the appropriate compiler flags.\n",
      "2023-01-25 17:57:07.441491: I tensorflow/core/util/util.cc:169] oneDNN custom operations are on. You may see slightly different numerical results due to floating-point round-off errors from different computation orders. To turn them off, set the environment variable `TF_ENABLE_ONEDNN_OPTS=0`.\n",
      "2023-01-25 17:57:07.482293: E tensorflow/stream_executor/cuda/cuda_blas.cc:2981] Unable to register cuBLAS factory: Attempting to register factory for plugin cuBLAS when one has already been registered\n",
      "2023-01-25 17:57:08.574423: W tensorflow/stream_executor/platform/default/dso_loader.cc:64] Could not load dynamic library 'libnvinfer.so.7'; dlerror: libnvinfer.so.7: cannot open shared object file: No such file or directory\n",
      "2023-01-25 17:57:08.574515: W tensorflow/stream_executor/platform/default/dso_loader.cc:64] Could not load dynamic library 'libnvinfer_plugin.so.7'; dlerror: libnvinfer_plugin.so.7: cannot open shared object file: No such file or directory\n",
      "2023-01-25 17:57:08.574524: W tensorflow/compiler/tf2tensorrt/utils/py_utils.cc:38] TF-TRT Warning: Cannot dlopen some TensorRT libraries. If you would like to use Nvidia GPU with TensorRT, please make sure the missing libraries mentioned above are installed properly.\n"
     ]
    }
   ],
   "source": [
    "from iprompt import prompt_classification\n",
    "\n",
    "model = prompt_classification.create_model(gpt_df['checkpoint'].unique()[0])"
   ]
  },
  {
   "cell_type": "code",
   "execution_count": 8,
   "id": "c8180dcc-f099-4cc3-9737-3e53331f7ec1",
   "metadata": {},
   "outputs": [
    {
     "name": "stdout",
     "output_type": "stream",
     "text": [
      "calculating accs...\n"
     ]
    },
    {
     "data": {
      "application/vnd.jupyter.widget-view+json": {
       "model_id": "37083ef4fde54781aea5ac42187e61ed",
       "version_major": 2,
       "version_minor": 0
      },
      "text/plain": [
       "  0%|          | 0/60 [00:00<?, ?it/s]"
      ]
     },
     "metadata": {},
     "output_type": "display_data"
    },
    {
     "name": "stdout",
     "output_type": "stream",
     "text": [
      "task1146_country_capital dset of len 231 (max_digit=10)\n"
     ]
    },
    {
     "ename": "ValueError",
     "evalue": "not enough values to unpack (expected 3, got 2)",
     "output_type": "error",
     "traceback": [
      "\u001b[0;31m---------------------------------------------------------------------------\u001b[0m",
      "\u001b[0;31mValueError\u001b[0m                                Traceback (most recent call last)",
      "Input \u001b[0;32mIn [8]\u001b[0m, in \u001b[0;36m<cell line: 22>\u001b[0;34m()\u001b[0m\n\u001b[1;32m     28\u001b[0m \u001b[38;5;28mprint\u001b[39m(output[\u001b[38;5;124m'\u001b[39m\u001b[38;5;124mtask_name\u001b[39m\u001b[38;5;124m'\u001b[39m], \u001b[38;5;124mf\u001b[39m\u001b[38;5;124m'\u001b[39m\u001b[38;5;124mdset of len \u001b[39m\u001b[38;5;132;01m{\u001b[39;00m\u001b[38;5;28mlen\u001b[39m(dset)\u001b[38;5;132;01m}\u001b[39;00m\u001b[38;5;124m (max_digit=\u001b[39m\u001b[38;5;132;01m{\u001b[39;00m\u001b[38;5;241m10\u001b[39m\u001b[38;5;132;01m}\u001b[39;00m\u001b[38;5;124m)\u001b[39m\u001b[38;5;124m'\u001b[39m)\n\u001b[1;32m     29\u001b[0m \u001b[38;5;66;03m# if task_name == 'task107_splash_question_to_sql':\u001b[39;00m\n\u001b[1;32m     30\u001b[0m \u001b[38;5;66;03m#     batch_size = max(1, batch_size//4)\u001b[39;00m\n\u001b[1;32m     31\u001b[0m \u001b[38;5;66;03m####   No prompt  ####\u001b[39;00m\n\u001b[0;32m---> 32\u001b[0m noprompt_likelihood, noprompt_loss, noprompt_acc \u001b[38;5;241m=\u001b[39m prompt_classification\u001b[38;5;241m.\u001b[39mtest_model_on_task_with_prefix(\n\u001b[1;32m     33\u001b[0m     dset\u001b[38;5;241m=\u001b[39mdset, model\u001b[38;5;241m=\u001b[39mmodel, prefix\u001b[38;5;241m=\u001b[39m\u001b[38;5;124m\"\u001b[39m\u001b[38;5;124m\"\u001b[39m, multi_token\u001b[38;5;241m=\u001b[39mUSE_MULTI_TOKEN, verbose\u001b[38;5;241m=\u001b[39m\u001b[38;5;28;01mFalse\u001b[39;00m,\n\u001b[1;32m     34\u001b[0m     batch_size\u001b[38;5;241m=\u001b[39mbatch_size, restrict_to_valid_answers\u001b[38;5;241m=\u001b[39mRESTRICT_TO_VALID_ANSWERS,\n\u001b[1;32m     35\u001b[0m )\n\u001b[1;32m     36\u001b[0m \u001b[38;5;66;03m####   Manual prompt  ####\u001b[39;00m\n\u001b[1;32m     37\u001b[0m manual_likelihood, manual_loss, manual_acc \u001b[38;5;241m=\u001b[39m prompt_classification\u001b[38;5;241m.\u001b[39mtest_model_on_task_with_prefix(\n\u001b[1;32m     38\u001b[0m     dset\u001b[38;5;241m=\u001b[39mdset, model\u001b[38;5;241m=\u001b[39mmodel, prefix\u001b[38;5;241m=\u001b[39mdescr, multi_token\u001b[38;5;241m=\u001b[39mUSE_MULTI_TOKEN, verbose\u001b[38;5;241m=\u001b[39m\u001b[38;5;28;01mFalse\u001b[39;00m,\n\u001b[1;32m     39\u001b[0m     batch_size\u001b[38;5;241m=\u001b[39mbatch_size, restrict_to_valid_answers\u001b[38;5;241m=\u001b[39mRESTRICT_TO_VALID_ANSWERS,\n\u001b[1;32m     40\u001b[0m )\n",
      "\u001b[0;31mValueError\u001b[0m: not enough values to unpack (expected 3, got 2)"
     ]
    }
   ],
   "source": [
    "## Compute accuracy given correct prompt and save for each task.\n",
    "from tqdm.notebook import tqdm\n",
    "from iprompt.data import get_data\n",
    "\n",
    "data = []\n",
    "print('calculating accs...')\n",
    "n_shots = 1\n",
    "batch_size = 32\n",
    "\n",
    "\"\"\"\n",
    "task_name: str = 'add_two',\n",
    " n_shots: int = 1,\n",
    " train_split_frac: float = None,\n",
    " max_dset_size: int = 10000,\n",
    " template_num_task_phrasing: int = 0,\n",
    " max_digit: int = 10,\n",
    " \"\"\"\n",
    "\n",
    "USE_MULTI_TOKEN = False\n",
    "RESTRICT_TO_VALID_ANSWERS = False\n",
    "\n",
    "for _, output in tqdm(gpt_df.iterrows(), total=len(gpt_df)):\n",
    "    (dset, dset_test), check_answer_func, descr = get_data(\n",
    "        output['task_name'], n_shots=1, train_split_frac=1.0,\n",
    "        max_dset_size=1000, template_num_task_phrasing=0,\n",
    "        max_digit=10,\n",
    "    )\n",
    "    print(output['task_name'], f'dset of len {len(dset)} (max_digit={10})')\n",
    "    # if task_name == 'task107_splash_question_to_sql':\n",
    "    #     batch_size = max(1, batch_size//4)\n",
    "    ####   No prompt  ####\n",
    "    noprompt_likelihood, noprompt_loss, noprompt_acc = prompt_classification.test_model_on_task_with_prefix(\n",
    "        dset=dset, model=model, prefix=\"\", multi_token=USE_MULTI_TOKEN, verbose=False,\n",
    "        batch_size=batch_size, restrict_to_valid_answers=RESTRICT_TO_VALID_ANSWERS,\n",
    "    )\n",
    "    ####   Manual prompt  ####\n",
    "    manual_likelihood, manual_loss, manual_acc = prompt_classification.test_model_on_task_with_prefix(\n",
    "        dset=dset, model=model, prefix=descr, multi_token=USE_MULTI_TOKEN, verbose=False,\n",
    "        batch_size=batch_size, restrict_to_valid_answers=RESTRICT_TO_VALID_ANSWERS,\n",
    "    )\n",
    "    ####   iPrompt prompt   ####\n",
    "    iprompt_likelihood, iprompt_loss, iprompt_acc = prompt_classification.test_model_on_task_with_prefix(\n",
    "        dset=dset, model=model, prefix=output['prefixes'], multi_token=USE_MULTI_TOKEN, verbose=False,\n",
    "        batch_size=batch_size, restrict_to_valid_answers=RESTRICT_TO_VALID_ANSWERS,\n",
    "    )\n",
    "    print(f'>\\tnoprompt acc: {noprompt_acc} // \\t manual acc: {manual_acc} // \\t iprompt acc: {iprompt_acc} // manual likelihood {manual_likelihood}')\n",
    "    ####\n",
    "    output['noprompt_likelihood'] = noprompt_likelihood\n",
    "    output['noprompt_loss'] = noprompt_loss\n",
    "    output['noprompt_acc'] = noprompt_acc\n",
    "    #     \n",
    "    output['manual_likelihood'] = manual_likelihood\n",
    "    output['manual_loss'] = manual_loss\n",
    "    output['manual_acc'] = manual_acc\n",
    "    #\n",
    "    output['iprompt_likelihood'] = iprompt_likelihood\n",
    "    output['iprompt_loss'] = iprompt_loss\n",
    "    output['iprompt_acc'] = iprompt_acc\n",
    "    data.append(output)"
   ]
  },
  {
   "cell_type": "code",
   "execution_count": 13,
   "id": "ba0202d1-d98a-431b-bffc-d32328abcd3f",
   "metadata": {},
   "outputs": [
    {
     "data": {
      "image/png": "[encoded data removed]",
      "text/plain": [
       "<Figure size 432x288 with 1 Axes>"
      ]
     },
     "metadata": {},
     "output_type": "display_data"
    }
   ],
   "source": [
    "import pandas as pd\n",
    "import seaborn as sns\n",
    "\n",
    "path = '/home/jxm3/research/prompting/interpretable-autoprompting/results_icml/df_prompts_and_reciprocal_rank_default_with_accs.pkl'\n",
    "default_top_prompts = pd.read_pickle(path)\n",
    "# default_top_prompts = pd.DataFrame(data)\n",
    "# default_top_prompts.to_pickle(path)\n",
    "\n",
    "sns.set(style=\"white\", font_scale=1.5)\n",
    "\n",
    "import numpy as np\n",
    "import seaborn as sns\n",
    "import matplotlib.pyplot as plt\n",
    "\n",
    "df = default_top_prompts.groupby('task_name').mean().reset_index()\n",
    "df['manual_log_likelihood'] = np.log(df['manual_likelihood'].to_numpy())\n",
    "df['is_math'] = df['task_name'].map(lambda tn: tn in MATH_TASK_NAMES)\n",
    "COLORS = sns.color_palette()\n",
    "\n",
    "df = df[df['task_name'] != 'divide_two']\n",
    "df['nmanual_loss'] = df['manual_loss'] * -1\n",
    "\n",
    "df['task_group'] = df['is_math'].map(lambda im: ['ANLI', 'Math'][im])\n",
    "\n",
    "ax = sns.scatterplot(data=df, y='reciprocal_rank', x='iprompt_acc', hue='task_group', palette=[COLORS[0], COLORS[5]], s=200, style='task_group')\n",
    "ax.set_ylabel('Prompt Recovery (MRR)')\n",
    "ax.set_xlabel('Task Difficulty (Accuracy with correct prompt)')\n",
    "\n",
    "# Remove legend title\n",
    "ax.legend_.set_title(None)\n",
    "\n",
    "# ax.set_yscale('log')\n",
    "for i in range(len(df)):\n",
    "    txt, y, x = (\n",
    "        df.iloc[i][\"task_name\"],\n",
    "        df.iloc[i][\"manual_likelihood\"],\n",
    "        df.iloc[i][\"reciprocal_rank\"]\n",
    "    )\n",
    "    color = COLORS[0] if (txt in MATH_TASK_NAMES) else COLORS[6]\n",
    "    # txt = \"xx\"\n",
    "    # ax.annotate(txt, (x, y), fontsize=8, weight=\"normal\", alpha=0.9, color=color, family=\"monospace\")\n",
    "\n",
    "\n",
    "# Save\n",
    "pdf_filename = 'ablation_acc_vs_mrr.pdf'\n",
    "plt.legend(loc='lower right')\n",
    "plt.tight_layout()\n",
    "plt.savefig(pdf_filename, dpi=300)"
   ]
  },
  {
   "cell_type": "code",
   "execution_count": null,
   "id": "85e31456-1298-4049-a46f-07aed2ac4a70",
   "metadata": {},
   "outputs": [],
   "source": []
  },
  {
   "cell_type": "code",
   "execution_count": null,
   "id": "1e4a6551-0d9f-4182-ad5c-af54a0e7643d",
   "metadata": {},
   "outputs": [],
   "source": []
  }
 ],
 "metadata": {
  "kernelspec": {
   "display_name": "Python 3 (ipykernel)",
   "language": "python",
   "name": "python3"
  },
  "language_info": {
   "codemirror_mode": {
    "name": "ipython",
    "version": 3
   },
   "file_extension": ".py",
   "mimetype": "text/x-python",
   "name": "python",
   "nbconvert_exporter": "python",
   "pygments_lexer": "ipython3",
   "version": "3.9.7"
  }
 },
 "nbformat": 4,
 "nbformat_minor": 5
}
