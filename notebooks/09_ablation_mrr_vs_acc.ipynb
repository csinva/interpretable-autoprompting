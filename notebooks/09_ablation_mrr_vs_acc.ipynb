{
 "cells": [
  {
   "cell_type": "code",
   "execution_count": 20,
   "id": "a9de87c7-ec19-4947-8d47-ab3409192fd3",
   "metadata": {},
   "outputs": [
    {
     "name": "stdout",
     "output_type": "stream",
     "text": [
      "The autoreload extension is already loaded. To reload it, use:\n",
      "  %reload_ext autoreload\n"
     ]
    }
   ],
   "source": [
    "%load_ext autoreload\n",
    "%autoreload 2\n",
    "\n",
    "import pandas as pd\n",
    "pd.set_option('display.max_columns', None)"
   ]
  },
  {
   "cell_type": "code",
   "execution_count": 2,
   "id": "8a583d7d-23e8-4525-aedf-32ca9153dc16",
   "metadata": {},
   "outputs": [],
   "source": [
    "import pandas as pd\n",
    "\n",
    "df = pd.read_pickle('/home/jxm3/research/prompting/interpretable-autoprompting/results_icml/df_prompts_and_reciprocal_rank.pkl')"
   ]
  },
  {
   "cell_type": "code",
   "execution_count": 3,
   "id": "6cc760d6-ebcb-42ab-99fe-8c84df43dbde",
   "metadata": {},
   "outputs": [
    {
     "data": {
      "text/plain": [
       "task1146_country_capital     57\n",
       "add_two                      48\n",
       "task1147_country_currency    46\n",
       "translation_en-es            44\n",
       "divide_two                   44\n",
       "                             ..\n",
       "d3_1                         18\n",
       "d3_7                         18\n",
       "d3_47                        17\n",
       "d3_44                        17\n",
       "d3_50                        15\n",
       "Name: task_name, Length: 98, dtype: int64"
      ]
     },
     "execution_count": 3,
     "metadata": {},
     "output_type": "execute_result"
    }
   ],
   "source": [
    "df['task_name'].value_counts()"
   ]
  },
  {
   "cell_type": "code",
   "execution_count": 4,
   "id": "bd9a59f3-9ac4-4ef3-b431-4dfaa626f88b",
   "metadata": {},
   "outputs": [
    {
     "data": {
      "text/plain": [
       "suff          1360\n",
       "autoprompt     692\n",
       "iprompt        659\n",
       "Name: model_cls, dtype: int64"
      ]
     },
     "execution_count": 4,
     "metadata": {},
     "output_type": "execute_result"
    }
   ],
   "source": [
    "df['model_cls'].value_counts()"
   ]
  },
  {
   "cell_type": "code",
   "execution_count": 5,
   "id": "f71bd4c5-d95c-42d0-8b11-bf2fd9c0abe8",
   "metadata": {},
   "outputs": [
    {
     "data": {
      "text/plain": [
       "EleutherAI/gpt-j-6B        1327\n",
       "facebook/galactica-6.7b     794\n",
       "google/flan-t5-xl           590\n",
       "Name: checkpoint, dtype: int64"
      ]
     },
     "execution_count": 5,
     "metadata": {},
     "output_type": "execute_result"
    }
   ],
   "source": [
    "df['checkpoint'].value_counts()"
   ]
  },
  {
   "cell_type": "code",
   "execution_count": 6,
   "id": "b506e975-1f52-42bc-a88a-7c129c24e59b",
   "metadata": {},
   "outputs": [
    {
     "data": {
      "text/plain": [
       "60"
      ]
     },
     "execution_count": 6,
     "metadata": {},
     "output_type": "execute_result"
    }
   ],
   "source": [
    "MATH_TASK_NAMES = {\n",
    "    'add_two', 'multiply_two', 'subtract_two', 'max_two', \n",
    "    'first_two', 'square_one', 'double_one', 'exp_one',  \n",
    "    'fibonacci_one', 'divide_two'\n",
    "}\n",
    "ANLI_TASK_NAMES = {'task088_identify_typo_verification',\n",
    " 'task092_check_prime_classification',\n",
    " 'task107_splash_question_to_sql',\n",
    " 'task1146_country_capital',\n",
    " 'task1147_country_currency',\n",
    " 'task1149_item_check_edible',\n",
    " 'task1191_food_veg_nonveg',\n",
    " 'task1336_peixian_equity_evaluation_corpus_gender_classifier',\n",
    " 'task1509_evalution_antonyms',\n",
    " 'task183_rhyme_generation'}\n",
    "\n",
    "gpt_df = df[\n",
    "       (df['task_name'].map(lambda t: (t in MATH_TASK_NAMES) or (t in ANLI_TASK_NAMES)))\n",
    "    &  (df['checkpoint'] == 'EleutherAI/gpt-j-6B')\n",
    "    &  (df['model_cls'] == 'iprompt')\n",
    "]\n",
    "len(gpt_df)"
   ]
  },
  {
   "cell_type": "markdown",
   "id": "d2f19ebd-3910-43eb-8565-ca405c9f69ce",
   "metadata": {},
   "source": [
    "## getting accuraciesfrom iprompt import prompt_classification\n",
    "\n",
    "model = prompt_classification.create_model(r['checkpoint'].unique()[0])"
   ]
  },
  {
   "cell_type": "code",
   "execution_count": 8,
   "id": "60cc5d12-1bd0-4234-b728-dc7631c78f76",
   "metadata": {},
   "outputs": [],
   "source": [
    "from iprompt import prompt_classification\n",
    "\n",
    "model = prompt_classification.create_model(gpt_df['checkpoint'].unique()[0])"
   ]
  },
  {
   "cell_type": "code",
   "execution_count": 75,
   "id": "c8180dcc-f099-4cc3-9737-3e53331f7ec1",
   "metadata": {},
   "outputs": [
    {
     "name": "stdout",
     "output_type": "stream",
     "text": [
      "calculating accs...\n"
     ]
    },
    {
     "data": {
      "application/vnd.jupyter.widget-view+json": {
       "model_id": "03172e5e82544a1b9d38bbc76a393426",
       "version_major": 2,
       "version_minor": 0
      },
      "text/plain": [
       "  0%|          | 0/60 [00:00<?, ?it/s]"
      ]
     },
     "metadata": {},
     "output_type": "display_data"
    },
    {
     "name": "stdout",
     "output_type": "stream",
     "text": [
      "task1146_country_capital dset of len 231 (max_digit=10)\n",
      ">\tnoprompt acc: 4.329004329004329 // \t manual acc: 70.99567099567099 // \t iprompt acc: 56.277056277056275 // manual likelihood 0.5582367888776771\n",
      "add_two dset of len 100 (max_digit=10)\n",
      ">\tnoprompt acc: 13.0 // \t manual acc: 73.0 // \t iprompt acc: 71.0 // manual likelihood 0.35510615587234495\n",
      "task1147_country_currency dset of len 232 (max_digit=10)\n",
      ">\tnoprompt acc: 27.586206896551722 // \t manual acc: 23.275862068965516 // \t iprompt acc: 40.08620689655172 // manual likelihood 0.07636292689833148\n",
      "multiply_two dset of len 100 (max_digit=10)\n",
      ">\tnoprompt acc: 20.0 // \t manual acc: 65.0 // \t iprompt acc: 61.0 // manual likelihood 0.3190463310480118\n",
      "task1509_evalution_antonyms dset of len 551 (max_digit=10)\n",
      ">\tnoprompt acc: 3.266787658802178 // \t manual acc: 24.319419237749546 // \t iprompt acc: 16.515426497277677 // manual likelihood 0.13738053961371338\n",
      "subtract_two dset of len 100 (max_digit=10)\n",
      ">\tnoprompt acc: 12.0 // \t manual acc: 47.0 // \t iprompt acc: 32.0 // manual likelihood 0.2865638196468353\n",
      "task1149_item_check_edible dset of len 119 (max_digit=10)\n",
      ">\tnoprompt acc: 0.0 // \t manual acc: 5.042016806722689 // \t iprompt acc: 0.0 // manual likelihood 0.12349872829533425\n",
      "max_two dset of len 100 (max_digit=10)\n",
      ">\tnoprompt acc: 56.0 // \t manual acc: 55.0 // \t iprompt acc: 7.0 // manual likelihood 0.31310865163803103\n",
      "task183_rhyme_generation dset of len 999 (max_digit=10)\n",
      ">\tnoprompt acc: 0.0 // \t manual acc: 0.3003003003003003 // \t iprompt acc: 0.1001001001001001 // manual likelihood 0.0019756561961841654\n",
      "first_two dset of len 100 (max_digit=10)\n",
      ">\tnoprompt acc: 88.0 // \t manual acc: 91.0 // \t iprompt acc: 1.0 // manual likelihood 0.38917514324188235\n",
      "task1191_food_veg_nonveg dset of len 101 (max_digit=10)\n",
      ">\tnoprompt acc: 0.0 // \t manual acc: 0.0 // \t iprompt acc: 0.0 // manual likelihood 0.04541490278621711\n",
      "task092_check_prime_classification dset of len 1000 (max_digit=10)\n",
      ">\tnoprompt acc: 0.0 // \t manual acc: 49.9 // \t iprompt acc: 49.3 // manual likelihood 0.3842613549232483\n",
      "square_one dset of len 10 (max_digit=10)\n",
      ">\tnoprompt acc: 20.0 // \t manual acc: 80.0 // \t iprompt acc: 100.0 // manual likelihood 0.39852313995361327\n",
      "task088_identify_typo_verification dset of len 1000 (max_digit=10)\n",
      ">\tnoprompt acc: 5.1 // \t manual acc: 2.1 // \t iprompt acc: 14.3 // manual likelihood 0.03103522688150406\n",
      "double_one dset of len 10 (max_digit=10)\n",
      ">\tnoprompt acc: 10.0 // \t manual acc: 100.0 // \t iprompt acc: 100.0 // manual likelihood 0.5549002170562745\n",
      "exp_one dset of len 10 (max_digit=10)\n",
      ">\tnoprompt acc: 0.0 // \t manual acc: 10.0 // \t iprompt acc: 0.0 // manual likelihood 0.06669379472732544\n",
      "task1336_peixian_equity_evaluation_corpus_gender_classifier dset of len 1000 (max_digit=10)\n",
      ">\tnoprompt acc: 0.0 // \t manual acc: 0.0 // \t iprompt acc: 18.7 // manual likelihood 0.01608677263557911\n",
      "task107_splash_question_to_sql dset of len 1000 (max_digit=10)\n",
      ">\tnoprompt acc: 0.1 // \t manual acc: 63.9 // \t iprompt acc: 0.1 // manual likelihood 0.1563995896577835\n",
      "fibonacci_one dset of len 10 (max_digit=10)\n",
      ">\tnoprompt acc: 30.0 // \t manual acc: 30.0 // \t iprompt acc: 30.0 // manual likelihood 0.15959339141845702\n",
      "divide_two dset of len 100 (max_digit=10)\n",
      ">\tnoprompt acc: 88.0 // \t manual acc: 10.0 // \t iprompt acc: 21.0 // manual likelihood 0.10637493550777435\n",
      "add_two dset of len 100 (max_digit=10)\n",
      ">\tnoprompt acc: 13.0 // \t manual acc: 73.0 // \t iprompt acc: 89.0 // manual likelihood 0.35510615587234495\n",
      "multiply_two dset of len 100 (max_digit=10)\n",
      ">\tnoprompt acc: 20.0 // \t manual acc: 65.0 // \t iprompt acc: 40.0 // manual likelihood 0.3190463310480118\n",
      "subtract_two dset of len 100 (max_digit=10)\n",
      ">\tnoprompt acc: 12.0 // \t manual acc: 47.0 // \t iprompt acc: 39.0 // manual likelihood 0.2865638196468353\n",
      "task1146_country_capital dset of len 231 (max_digit=10)\n",
      ">\tnoprompt acc: 4.329004329004329 // \t manual acc: 70.99567099567099 // \t iprompt acc: 66.23376623376623 // manual likelihood 0.5582367888776771\n",
      "max_two dset of len 100 (max_digit=10)\n",
      ">\tnoprompt acc: 56.0 // \t manual acc: 55.0 // \t iprompt acc: 77.0 // manual likelihood 0.31310865163803103\n",
      "first_two dset of len 100 (max_digit=10)\n",
      ">\tnoprompt acc: 88.0 // \t manual acc: 91.0 // \t iprompt acc: 39.0 // manual likelihood 0.38917514324188235\n",
      "task1147_country_currency dset of len 232 (max_digit=10)\n",
      ">\tnoprompt acc: 27.586206896551722 // \t manual acc: 23.275862068965516 // \t iprompt acc: 18.53448275862069 // manual likelihood 0.07636292689833148\n",
      "square_one dset of len 10 (max_digit=10)\n",
      ">\tnoprompt acc: 20.0 // \t manual acc: 80.0 // \t iprompt acc: 90.0 // manual likelihood 0.39852313995361327\n",
      "task1509_evalution_antonyms dset of len 551 (max_digit=10)\n",
      ">\tnoprompt acc: 3.266787658802178 // \t manual acc: 24.319419237749546 // \t iprompt acc: 4.3557168784029034 // manual likelihood 0.13738053961371338\n",
      "task1149_item_check_edible dset of len 119 (max_digit=10)\n",
      ">\tnoprompt acc: 0.0 // \t manual acc: 5.042016806722689 // \t iprompt acc: 1.680672268907563 // manual likelihood 0.12349872829533425\n",
      "double_one dset of len 10 (max_digit=10)\n",
      ">\tnoprompt acc: 10.0 // \t manual acc: 100.0 // \t iprompt acc: 100.0 // manual likelihood 0.5549002170562745\n",
      "task183_rhyme_generation dset of len 999 (max_digit=10)\n",
      ">\tnoprompt acc: 0.0 // \t manual acc: 0.3003003003003003 // \t iprompt acc: 0.0 // manual likelihood 0.0019756561961841654\n",
      "exp_one dset of len 10 (max_digit=10)\n",
      ">\tnoprompt acc: 0.0 // \t manual acc: 10.0 // \t iprompt acc: 10.0 // manual likelihood 0.06669379472732544\n",
      "task1191_food_veg_nonveg dset of len 101 (max_digit=10)\n",
      ">\tnoprompt acc: 0.0 // \t manual acc: 0.0 // \t iprompt acc: 0.0 // manual likelihood 0.04541490278621711\n",
      "task092_check_prime_classification dset of len 1000 (max_digit=10)\n",
      ">\tnoprompt acc: 0.0 // \t manual acc: 49.9 // \t iprompt acc: 49.9 // manual likelihood 0.3842613549232483\n",
      "fibonacci_one dset of len 10 (max_digit=10)\n",
      ">\tnoprompt acc: 30.0 // \t manual acc: 30.0 // \t iprompt acc: 20.0 // manual likelihood 0.15959339141845702\n",
      "task088_identify_typo_verification dset of len 1000 (max_digit=10)\n",
      ">\tnoprompt acc: 5.1 // \t manual acc: 2.1 // \t iprompt acc: 5.1 // manual likelihood 0.03103522688150406\n",
      "divide_two dset of len 100 (max_digit=10)\n",
      ">\tnoprompt acc: 88.0 // \t manual acc: 10.0 // \t iprompt acc: 35.0 // manual likelihood 0.10637493550777435\n",
      "task1336_peixian_equity_evaluation_corpus_gender_classifier dset of len 1000 (max_digit=10)\n",
      ">\tnoprompt acc: 0.0 // \t manual acc: 0.0 // \t iprompt acc: 0.0 // manual likelihood 0.01608677263557911\n",
      "add_two dset of len 100 (max_digit=10)\n",
      ">\tnoprompt acc: 13.0 // \t manual acc: 73.0 // \t iprompt acc: 78.0 // manual likelihood 0.35510615587234495\n",
      "task107_splash_question_to_sql dset of len 1000 (max_digit=10)\n",
      ">\tnoprompt acc: 0.1 // \t manual acc: 63.9 // \t iprompt acc: 18.4 // manual likelihood 0.1563995896577835\n",
      "multiply_two dset of len 100 (max_digit=10)\n",
      ">\tnoprompt acc: 20.0 // \t manual acc: 65.0 // \t iprompt acc: 57.0 // manual likelihood 0.3190463310480118\n",
      "subtract_two dset of len 100 (max_digit=10)\n",
      ">\tnoprompt acc: 12.0 // \t manual acc: 47.0 // \t iprompt acc: 17.0 // manual likelihood 0.2865638196468353\n",
      "max_two dset of len 100 (max_digit=10)\n",
      ">\tnoprompt acc: 56.0 // \t manual acc: 55.0 // \t iprompt acc: 56.0 // manual likelihood 0.31310865163803103\n",
      "first_two dset of len 100 (max_digit=10)\n",
      ">\tnoprompt acc: 88.0 // \t manual acc: 91.0 // \t iprompt acc: 90.0 // manual likelihood 0.38917514324188235\n",
      "square_one dset of len 10 (max_digit=10)\n",
      ">\tnoprompt acc: 20.0 // \t manual acc: 80.0 // \t iprompt acc: 80.0 // manual likelihood 0.39852313995361327\n",
      "double_one dset of len 10 (max_digit=10)\n",
      ">\tnoprompt acc: 10.0 // \t manual acc: 100.0 // \t iprompt acc: 90.0 // manual likelihood 0.5549002170562745\n",
      "task1146_country_capital dset of len 231 (max_digit=10)\n",
      ">\tnoprompt acc: 4.329004329004329 // \t manual acc: 70.99567099567099 // \t iprompt acc: 13.41991341991342 // manual likelihood 0.5582367888776771\n",
      "exp_one dset of len 10 (max_digit=10)\n",
      ">\tnoprompt acc: 0.0 // \t manual acc: 10.0 // \t iprompt acc: 10.0 // manual likelihood 0.06669379472732544\n",
      "task1147_country_currency dset of len 232 (max_digit=10)\n",
      ">\tnoprompt acc: 27.586206896551722 // \t manual acc: 23.275862068965516 // \t iprompt acc: 4.310344827586207 // manual likelihood 0.07636292689833148\n",
      "fibonacci_one dset of len 10 (max_digit=10)\n",
      ">\tnoprompt acc: 30.0 // \t manual acc: 30.0 // \t iprompt acc: 40.0 // manual likelihood 0.15959339141845702\n",
      "task1509_evalution_antonyms dset of len 551 (max_digit=10)\n",
      ">\tnoprompt acc: 3.266787658802178 // \t manual acc: 24.319419237749546 // \t iprompt acc: 7.985480943738657 // manual likelihood 0.13738053961371338\n",
      "task1149_item_check_edible dset of len 119 (max_digit=10)\n",
      ">\tnoprompt acc: 0.0 // \t manual acc: 5.042016806722689 // \t iprompt acc: 2.5210084033613445 // manual likelihood 0.12349872829533425\n",
      "divide_two dset of len 100 (max_digit=10)\n",
      ">\tnoprompt acc: 88.0 // \t manual acc: 10.0 // \t iprompt acc: 27.0 // manual likelihood 0.10637493550777435\n",
      "task183_rhyme_generation dset of len 999 (max_digit=10)\n",
      ">\tnoprompt acc: 0.0 // \t manual acc: 0.3003003003003003 // \t iprompt acc: 0.0 // manual likelihood 0.0019756561961841654\n",
      "task1191_food_veg_nonveg dset of len 101 (max_digit=10)\n",
      ">\tnoprompt acc: 0.0 // \t manual acc: 0.0 // \t iprompt acc: 0.0 // manual likelihood 0.04541490278621711\n",
      "task092_check_prime_classification dset of len 1000 (max_digit=10)\n",
      ">\tnoprompt acc: 0.0 // \t manual acc: 49.9 // \t iprompt acc: 49.9 // manual likelihood 0.3842613549232483\n",
      "task088_identify_typo_verification dset of len 1000 (max_digit=10)\n",
      ">\tnoprompt acc: 5.1 // \t manual acc: 2.1 // \t iprompt acc: 9.1 // manual likelihood 0.03103522688150406\n",
      "task1336_peixian_equity_evaluation_corpus_gender_classifier dset of len 1000 (max_digit=10)\n",
      ">\tnoprompt acc: 0.0 // \t manual acc: 0.0 // \t iprompt acc: 15.6 // manual likelihood 0.01608677263557911\n",
      "task107_splash_question_to_sql dset of len 1000 (max_digit=10)\n",
      ">\tnoprompt acc: 0.1 // \t manual acc: 63.9 // \t iprompt acc: 45.2 // manual likelihood 0.1563995896577835\n"
     ]
    }
   ],
   "source": [
    "## Compute accuracy given correct prompt and save for each task.\n",
    "from tqdm.notebook import tqdm\n",
    "from iprompt.data import get_data\n",
    "\n",
    "data = []\n",
    "print('calculating accs...')\n",
    "n_shots = 1\n",
    "batch_size = 32\n",
    "\n",
    "\"\"\"\n",
    "task_name: str = 'add_two',\n",
    " n_shots: int = 1,\n",
    " train_split_frac: float = None,\n",
    " max_dset_size: int = 10000,\n",
    " template_num_task_phrasing: int = 0,\n",
    " max_digit: int = 10,\n",
    " \"\"\"\n",
    "\n",
    "USE_MULTI_TOKEN = False\n",
    "RESTRICT_TO_VALID_ANSWERS = False\n",
    "\n",
    "for _, output in tqdm(gpt_df.iterrows(), total=len(gpt_df)):\n",
    "    (dset, dset_test), check_answer_func, descr = get_data(\n",
    "        output['task_name'], n_shots=1, train_split_frac=1.0,\n",
    "        max_dset_size=1000, template_num_task_phrasing=0,\n",
    "        max_digit=10,\n",
    "    )\n",
    "    print(output['task_name'], f'dset of len {len(dset)} (max_digit={10})')\n",
    "    # if task_name == 'task107_splash_question_to_sql':\n",
    "    #     batch_size = max(1, batch_size//4)\n",
    "    ####   No prompt  ####\n",
    "    noprompt_likelihood, noprompt_loss, noprompt_acc = prompt_classification.test_model_on_task_with_prefix(\n",
    "        dset=dset, model=model, prefix=\"\", multi_token=USE_MULTI_TOKEN, verbose=False,\n",
    "        batch_size=batch_size, restrict_to_valid_answers=RESTRICT_TO_VALID_ANSWERS,\n",
    "    )\n",
    "    ####   Manual prompt  ####\n",
    "    manual_likelihood, manual_loss, manual_acc = prompt_classification.test_model_on_task_with_prefix(\n",
    "        dset=dset, model=model, prefix=descr, multi_token=USE_MULTI_TOKEN, verbose=False,\n",
    "        batch_size=batch_size, restrict_to_valid_answers=RESTRICT_TO_VALID_ANSWERS,\n",
    "    )\n",
    "    ####   iPrompt prompt   ####\n",
    "    iprompt_likelihood, iprompt_loss, iprompt_acc = prompt_classification.test_model_on_task_with_prefix(\n",
    "        dset=dset, model=model, prefix=output['prefixes'], multi_token=USE_MULTI_TOKEN, verbose=False,\n",
    "        batch_size=batch_size, restrict_to_valid_answers=RESTRICT_TO_VALID_ANSWERS,\n",
    "    )\n",
    "    print(f'>\\tnoprompt acc: {noprompt_acc} // \\t manual acc: {manual_acc} // \\t iprompt acc: {iprompt_acc} // manual likelihood {manual_likelihood}')\n",
    "    ####\n",
    "    output['noprompt_likelihood'] = noprompt_likelihood\n",
    "    output['noprompt_loss'] = noprompt_loss\n",
    "    output['noprompt_acc'] = noprompt_acc\n",
    "    #     \n",
    "    output['manual_likelihood'] = manual_likelihood\n",
    "    output['manual_loss'] = manual_loss\n",
    "    output['manual_acc'] = manual_acc\n",
    "    #\n",
    "    output['iprompt_likelihood'] = iprompt_likelihood\n",
    "    output['iprompt_loss'] = iprompt_loss\n",
    "    output['iprompt_acc'] = iprompt_acc\n",
    "    data.append(output)"
   ]
  },
  {
   "cell_type": "code",
   "execution_count": 91,
   "id": "ba0202d1-d98a-431b-bffc-d32328abcd3f",
   "metadata": {},
   "outputs": [
    {
     "data": {
      "image/png": "[encoded data removed]",
      "text/plain": [
       "<Figure size 432x288 with 1 Axes>"
      ]
     },
     "metadata": {
      "needs_background": "light"
     },
     "output_type": "display_data"
    }
   ],
   "source": [
    "default_top_prompts = pd.DataFrame(data)\n",
    "default_top_prompts.to_pickle('/home/jxm3/research/prompting/interpretable-autoprompting/results_icml/df_prompts_and_reciprocal_rank_default_with_accs.pkl')\n",
    "\n",
    "import numpy as np\n",
    "import seaborn as sns\n",
    "import matplotlib.pyplot as plt\n",
    "\n",
    "df = default_top_prompts.groupby('task_name').mean().reset_index()\n",
    "df['manual_log_likelihood'] = np.log(df['manual_likelihood'].to_numpy())\n",
    "df['is_math'] = df['task_name'].map(lambda tn: tn in MATH_TASK_NAMES)\n",
    "COLORS = sns.color_palette()\n",
    "\n",
    "df = df[df['task_name'] != 'divide_two']\n",
    "df['nmanual_loss'] = df['manual_loss'] * -1\n",
    "\n",
    "df['task_group'] = df['is_math'].map(lambda im: ['ANLI', 'Math'][im])\n",
    "\n",
    "ax = sns.scatterplot(data=df, y='reciprocal_rank', x='iprompt_acc', hue='task_group', palette=[COLORS[0], COLORS[5]], s=80, style='task_group')\n",
    "ax.set_ylabel('MRR')\n",
    "ax.set_xlabel('Task accuracy given prompt (%)')\n",
    "\n",
    "# Remove legend title\n",
    "ax.legend_.set_title(None)\n",
    "\n",
    "# ax.set_yscale('log')\n",
    "for i in range(len(df)):\n",
    "    txt, y, x = (\n",
    "        df.iloc[i][\"task_name\"],\n",
    "        df.iloc[i][\"manual_likelihood\"],\n",
    "        df.iloc[i][\"reciprocal_rank\"]\n",
    "    )\n",
    "    color = COLORS[0] if (txt in MATH_TASK_NAMES) else COLORS[6]\n",
    "    # txt = \"xx\"\n",
    "    # ax.annotate(txt, (x, y), fontsize=8, weight=\"normal\", alpha=0.9, color=color, family=\"monospace\")\n",
    "\n",
    "\n",
    "# Save\n",
    "pdf_filename = 'ablation_acc_vs_mrr.pdf'\n",
    "plt.tight_layout()\n",
    "plt.savefig(pdf_filename, dpi=300)"
   ]
  },
  {
   "cell_type": "code",
   "execution_count": null,
   "id": "85e31456-1298-4049-a46f-07aed2ac4a70",
   "metadata": {},
   "outputs": [],
   "source": []
  },
  {
   "cell_type": "code",
   "execution_count": null,
   "id": "1e4a6551-0d9f-4182-ad5c-af54a0e7643d",
   "metadata": {},
   "outputs": [],
   "source": []
  }
 ],
 "metadata": {
  "kernelspec": {
   "display_name": "Python 3 (ipykernel)",
   "language": "python",
   "name": "python3"
  },
  "language_info": {
   "codemirror_mode": {
    "name": "ipython",
    "version": 3
   },
   "file_extension": ".py",
   "mimetype": "text/x-python",
   "name": "python",
   "nbconvert_exporter": "python",
   "pygments_lexer": "ipython3",
   "version": "3.9.7"
  }
 },
 "nbformat": 4,
 "nbformat_minor": 5
}
